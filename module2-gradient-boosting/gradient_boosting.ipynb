{
 "cells": [
  {
   "cell_type": "code",
   "execution_count": 1,
   "metadata": {
    "scrolled": false
   },
   "outputs": [
    {
     "name": "stdout",
     "output_type": "stream",
     "text": [
      "competition_data/comp_threaded.csv (194, 32)\n",
      "competition_data/comp_adaptor.csv (25, 20)\n",
      "competition_data/tube_end_form.csv (27, 2)\n",
      "competition_data/comp_straight.csv (361, 12)\n",
      "competition_data/comp_tee.csv (4, 14)\n",
      "competition_data/comp_boss.csv (147, 15)\n",
      "competition_data/components.csv (2048, 3)\n",
      "competition_data/comp_float.csv (16, 7)\n",
      "competition_data/bill_of_materials.csv (21198, 17)\n",
      "competition_data/comp_elbow.csv (178, 16)\n",
      "competition_data/type_connection.csv (14, 2)\n",
      "competition_data/train_set.csv (30213, 8)\n",
      "competition_data/comp_sleeve.csv (50, 10)\n",
      "competition_data/test_set.csv (30235, 8)\n",
      "competition_data/tube.csv (21198, 16)\n",
      "competition_data/comp_hfl.csv (6, 9)\n",
      "competition_data/type_end_form.csv (8, 2)\n",
      "competition_data/comp_other.csv (1001, 3)\n",
      "competition_data/type_component.csv (29, 2)\n",
      "competition_data/specs.csv (21198, 11)\n",
      "competition_data/comp_nut.csv (65, 11)\n"
     ]
    }
   ],
   "source": [
    "from glob import glob\n",
    "import pandas as pd\n",
    "\n",
    "for path in glob('competition_data/*.csv'):\n",
    "    df = pd.read_csv(path)\n",
    "    print(path, df.shape)"
   ]
  },
  {
   "cell_type": "code",
   "execution_count": 57,
   "metadata": {},
   "outputs": [],
   "source": [
    "import os\n",
    "os.environ['KMP_DUPLICATE_LIB_OK']='True'"
   ]
  },
  {
   "cell_type": "code",
   "execution_count": 58,
   "metadata": {},
   "outputs": [],
   "source": [
    "train = pd.read_csv('competition_data/train_set.csv')\n",
    "test = pd.read_csv('competition_data/test_set.csv')\n",
    "tube = pd.read_csv('competition_data/tube.csv')\n",
    "mats = pd.read_csv('competition_data/bill_of_materials.csv')\n",
    "comps = pd.read_csv('competition_data/components.csv')\n",
    "specs = pd.read_csv('competition_data/specs.csv')\n",
    "end_form = pd.read_csv('competition_data/tube_end_form.csv')"
   ]
  },
  {
   "cell_type": "code",
   "execution_count": 59,
   "metadata": {},
   "outputs": [],
   "source": [
    "# merging tube df with end_form df\n",
    "tube = tube.merge(end_form,how='left',left_on='end_a',right_on='end_form_id').merge(end_form,how='left',left_on='end_x',right_on='end_form_id')"
   ]
  },
  {
   "cell_type": "code",
   "execution_count": 60,
   "metadata": {},
   "outputs": [],
   "source": [
    "# drop duplicate ids\n",
    "tube = tube.drop(['end_form_id_x','end_form_id_y'],axis=1)\n",
    "# rename forming columns to match end_a and end_x\n",
    "tube = tube.rename({'forming_x':'forming_a','forming_y':'forming_x'},axis=1)"
   ]
  },
  {
   "cell_type": "markdown",
   "metadata": {},
   "source": [
    "#### merging comps onto mats.\n",
    "We are only going to use the first component"
   ]
  },
  {
   "cell_type": "code",
   "execution_count": 61,
   "metadata": {},
   "outputs": [],
   "source": [
    "# merging comps on mats but only on the first component\n",
    "mats = mats.merge(comps,left_on='component_id_1',right_on='component_id',how='left')"
   ]
  },
  {
   "cell_type": "code",
   "execution_count": 62,
   "metadata": {},
   "outputs": [],
   "source": [
    "# dropping redundant columns\n",
    "mats = mats.drop(['component_id','component_type_id'],axis=1)"
   ]
  },
  {
   "cell_type": "code",
   "execution_count": 63,
   "metadata": {
    "scrolled": true
   },
   "outputs": [],
   "source": [
    "train = train.merge(tube, left_on='tube_assembly_id',right_on='tube_assembly_id',how='left')\n",
    "test = test.merge(tube, left_on='tube_assembly_id',right_on='tube_assembly_id',how='left')"
   ]
  },
  {
   "cell_type": "code",
   "execution_count": 64,
   "metadata": {},
   "outputs": [],
   "source": [
    "train = train.merge(mats,left_on='tube_assembly_id',right_on='tube_assembly_id',how='left')\n",
    "test = test.merge(mats,left_on='tube_assembly_id',right_on='tube_assembly_id',how='left')"
   ]
  },
  {
   "cell_type": "markdown",
   "metadata": {},
   "source": [
    "## Feature Engineering"
   ]
  },
  {
   "cell_type": "code",
   "execution_count": 65,
   "metadata": {},
   "outputs": [],
   "source": [
    "import seaborn as sns\n",
    "import numpy as np"
   ]
  },
  {
   "cell_type": "code",
   "execution_count": 66,
   "metadata": {},
   "outputs": [],
   "source": [
    "# transform skewed cols\n",
    "def transform_skewed_cols(df, skew_level=4):\n",
    "    skew_cols = list(train.skew()[train.skew() > skew_level].index)\n",
    "    for col in skew_cols:\n",
    "        df[col] = np.log1p(df[col])\n",
    "    return df"
   ]
  },
  {
   "cell_type": "code",
   "execution_count": 67,
   "metadata": {
    "scrolled": true
   },
   "outputs": [
    {
     "name": "stderr",
     "output_type": "stream",
     "text": [
      "/usr/local/anaconda3/lib/python3.7/site-packages/ipykernel_launcher.py:5: RuntimeWarning: invalid value encountered in log1p\n",
      "  \"\"\"\n"
     ]
    }
   ],
   "source": [
    "train = transform_skewed_cols(train)\n",
    "test = transform_skewed_cols(test)"
   ]
  },
  {
   "cell_type": "code",
   "execution_count": 68,
   "metadata": {},
   "outputs": [],
   "source": [
    "# remove quote date and replace by year and month cols\n",
    "def convert_add_dates(df):\n",
    "    df['quote_date'] = pd.to_datetime(df['quote_date'],infer_datetime_format=True)\n",
    "    df['month'] = df['quote_date'].dt.month\n",
    "    df['year'] = df['quote_date'].dt.year\n",
    "    df = df.drop('quote_date',axis=1)\n",
    "    return df"
   ]
  },
  {
   "cell_type": "code",
   "execution_count": 69,
   "metadata": {
    "scrolled": false
   },
   "outputs": [],
   "source": [
    "test = convert_add_dates(test)\n",
    "train = convert_add_dates(train)"
   ]
  },
  {
   "cell_type": "markdown",
   "metadata": {},
   "source": [
    "### SVM for missing material Id"
   ]
  },
  {
   "cell_type": "code",
   "execution_count": 70,
   "metadata": {},
   "outputs": [],
   "source": [
    "from sklearn.ensemble import RandomForestClassifier\n",
    "from sklearn.model_selection import train_test_split\n",
    "import category_encoders as ce"
   ]
  },
  {
   "cell_type": "code",
   "execution_count": 71,
   "metadata": {
    "scrolled": true
   },
   "outputs": [],
   "source": [
    "train_nas = train[train['material_id'].isna()]\n",
    "test_nas = test[test['material_id'].isna()]\n",
    "train_not_null = train[~train['material_id'].isna()]\n",
    "test_not_null = test[~test['material_id'].isna()]"
   ]
  },
  {
   "cell_type": "code",
   "execution_count": 72,
   "metadata": {
    "scrolled": true
   },
   "outputs": [
    {
     "name": "stderr",
     "output_type": "stream",
     "text": [
      "/usr/local/anaconda3/lib/python3.7/site-packages/pandas/core/frame.py:4034: SettingWithCopyWarning: \n",
      "A value is trying to be set on a copy of a slice from a DataFrame\n",
      "\n",
      "See the caveats in the documentation: http://pandas.pydata.org/pandas-docs/stable/indexing.html#indexing-view-versus-copy\n",
      "  downcast=downcast, **kwargs)\n"
     ]
    }
   ],
   "source": [
    "train_not_null.fillna(0,inplace=True)\n",
    "test_not_null.fillna(0,inplace=True)"
   ]
  },
  {
   "cell_type": "code",
   "execution_count": 73,
   "metadata": {},
   "outputs": [],
   "source": [
    "target = 'material_id'\n",
    "features = list(train.columns)\n",
    "features.remove('material_id')\n",
    "features.remove('cost')"
   ]
  },
  {
   "cell_type": "code",
   "execution_count": 74,
   "metadata": {},
   "outputs": [],
   "source": [
    "X = train_not_null[features]\n",
    "y = train_not_null[target]\n",
    "X_test = test_not_null[features]\n",
    "y_test = test_not_null[target]"
   ]
  },
  {
   "cell_type": "code",
   "execution_count": 75,
   "metadata": {},
   "outputs": [],
   "source": [
    "encode_cols = list(X.describe(exclude='number').columns)\n",
    "encoder = ce.OrdinalEncoder(cols=encode_cols)"
   ]
  },
  {
   "cell_type": "code",
   "execution_count": 76,
   "metadata": {
    "scrolled": true
   },
   "outputs": [],
   "source": [
    "X_encode = encoder.fit_transform(X)\n",
    "X_test_encode = encoder.transform(X_test)"
   ]
  },
  {
   "cell_type": "code",
   "execution_count": 77,
   "metadata": {
    "scrolled": true
   },
   "outputs": [],
   "source": [
    "model = RandomForestClassifier(n_estimators=100,max_depth=20,n_jobs=-1)"
   ]
  },
  {
   "cell_type": "code",
   "execution_count": 78,
   "metadata": {
    "scrolled": true
   },
   "outputs": [
    {
     "data": {
      "text/plain": [
       "RandomForestClassifier(bootstrap=True, class_weight=None, criterion='gini',\n",
       "            max_depth=20, max_features='auto', max_leaf_nodes=None,\n",
       "            min_impurity_decrease=0.0, min_impurity_split=None,\n",
       "            min_samples_leaf=1, min_samples_split=2,\n",
       "            min_weight_fraction_leaf=0.0, n_estimators=100, n_jobs=-1,\n",
       "            oob_score=False, random_state=None, verbose=0,\n",
       "            warm_start=False)"
      ]
     },
     "execution_count": 78,
     "metadata": {},
     "output_type": "execute_result"
    }
   ],
   "source": [
    "model.fit(X_encode,y)"
   ]
  },
  {
   "cell_type": "code",
   "execution_count": 79,
   "metadata": {},
   "outputs": [
    {
     "data": {
      "text/plain": [
       "0.9925960512273212"
      ]
     },
     "execution_count": 79,
     "metadata": {},
     "output_type": "execute_result"
    }
   ],
   "source": [
    "model.score(X_encode,y)"
   ]
  },
  {
   "cell_type": "code",
   "execution_count": 80,
   "metadata": {},
   "outputs": [
    {
     "data": {
      "text/plain": [
       "0.7937951947749009"
      ]
     },
     "execution_count": 80,
     "metadata": {},
     "output_type": "execute_result"
    }
   ],
   "source": [
    "model.score(X_test_encode, y_test)"
   ]
  },
  {
   "cell_type": "code",
   "execution_count": 81,
   "metadata": {},
   "outputs": [],
   "source": [
    "# lets input the missing values on our null set"
   ]
  },
  {
   "cell_type": "code",
   "execution_count": 82,
   "metadata": {},
   "outputs": [],
   "source": [
    "train_nas = train_nas[features].fillna(0)\n",
    "test_nas = test_nas[features].fillna(0)"
   ]
  },
  {
   "cell_type": "code",
   "execution_count": 83,
   "metadata": {
    "scrolled": true
   },
   "outputs": [],
   "source": [
    "test_preds = model.predict(encoder.transform(test_nas))\n",
    "train_preds = model.predict(encoder.transform(train_nas))"
   ]
  },
  {
   "cell_type": "code",
   "execution_count": 84,
   "metadata": {},
   "outputs": [],
   "source": [
    "test_nas['material_id'] = test_preds\n",
    "train_nas['material_id'] = train_preds"
   ]
  },
  {
   "cell_type": "code",
   "execution_count": 85,
   "metadata": {
    "scrolled": true
   },
   "outputs": [
    {
     "name": "stderr",
     "output_type": "stream",
     "text": [
      "/usr/local/anaconda3/lib/python3.7/site-packages/ipykernel_launcher.py:2: FutureWarning: Sorting because non-concatenation axis is not aligned. A future version\n",
      "of pandas will change to not sort by default.\n",
      "\n",
      "To accept the future behavior, pass 'sort=False'.\n",
      "\n",
      "To retain the current behavior and silence the warning, pass 'sort=True'.\n",
      "\n",
      "  \n",
      "/usr/local/anaconda3/lib/python3.7/site-packages/ipykernel_launcher.py:3: FutureWarning: Sorting because non-concatenation axis is not aligned. A future version\n",
      "of pandas will change to not sort by default.\n",
      "\n",
      "To accept the future behavior, pass 'sort=False'.\n",
      "\n",
      "To retain the current behavior and silence the warning, pass 'sort=True'.\n",
      "\n",
      "  This is separate from the ipykernel package so we can avoid doing imports until\n"
     ]
    }
   ],
   "source": [
    "#putting predictions back into test and train\n",
    "test = pd.concat([test_nas,test.loc[~test['material_id'].isna()]])\n",
    "train = pd.concat([train_nas,train.loc[~train['material_id'].isna()]])"
   ]
  },
  {
   "cell_type": "markdown",
   "metadata": {},
   "source": [
    "## Xgboost"
   ]
  },
  {
   "cell_type": "code",
   "execution_count": 86,
   "metadata": {},
   "outputs": [],
   "source": [
    "import xgboost as xgb\n",
    "from sklearn.pipeline import make_pipeline"
   ]
  },
  {
   "cell_type": "code",
   "execution_count": 87,
   "metadata": {},
   "outputs": [],
   "source": [
    "test = test.fillna(0)\n",
    "train = train.fillna(0)"
   ]
  },
  {
   "cell_type": "code",
   "execution_count": 88,
   "metadata": {},
   "outputs": [],
   "source": [
    "# train test splitting based on tube id"
   ]
  },
  {
   "cell_type": "code",
   "execution_count": 89,
   "metadata": {},
   "outputs": [],
   "source": [
    "unique_tubes = train['tube_assembly_id'].unique()"
   ]
  },
  {
   "cell_type": "code",
   "execution_count": 90,
   "metadata": {},
   "outputs": [],
   "source": [
    "train_tubes, val_tubes = train_test_split(unique_tubes)"
   ]
  },
  {
   "cell_type": "code",
   "execution_count": 91,
   "metadata": {
    "scrolled": true
   },
   "outputs": [
    {
     "data": {
      "text/plain": [
       "set()"
      ]
     },
     "execution_count": 91,
     "metadata": {},
     "output_type": "execute_result"
    }
   ],
   "source": [
    "set(train_tubes) & set(val_tubes)"
   ]
  },
  {
   "cell_type": "code",
   "execution_count": 92,
   "metadata": {},
   "outputs": [],
   "source": [
    "X_train = train.loc[train['tube_assembly_id'].isin(train_tubes)]\n",
    "X_val = train.loc[train['tube_assembly_id'].isin(val_tubes)]"
   ]
  },
  {
   "cell_type": "code",
   "execution_count": 93,
   "metadata": {
    "scrolled": true
   },
   "outputs": [],
   "source": [
    "# drop tube_id\n",
    "X_train = X_train.drop('tube_assembly_id',axis=1)\n",
    "X_val = X_val.drop('tube_assembly_id',axis=1)\n",
    "test = test.drop('tube_assembly_id',axis=1)"
   ]
  },
  {
   "cell_type": "markdown",
   "metadata": {},
   "source": [
    "#### define ordinal and one hot columns"
   ]
  },
  {
   "cell_type": "code",
   "execution_count": 94,
   "metadata": {
    "scrolled": true
   },
   "outputs": [],
   "source": [
    "card = X_train.describe(exclude='number').T.sort_values(by='unique')\n",
    "numerics = X_train.describe()\n",
    "numerics = list(numerics.columns)\n",
    "numerics.remove('cost')"
   ]
  },
  {
   "cell_type": "code",
   "execution_count": 95,
   "metadata": {},
   "outputs": [],
   "source": [
    "hot_encode_cols = list(card.loc[card['unique'] < 150].index)\n",
    "ordinal_encode_cols = list(card.loc[card['unique'] >= 150].index)"
   ]
  },
  {
   "cell_type": "markdown",
   "metadata": {},
   "source": [
    "#### pipeline"
   ]
  },
  {
   "cell_type": "code",
   "execution_count": 96,
   "metadata": {},
   "outputs": [],
   "source": [
    "pipeline =  make_pipeline(ce.OrdinalEncoder(cols=ordinal_encode_cols),\n",
    "                   ce.OneHotEncoder(cols=hot_encode_cols,use_cat_names=True))"
   ]
  },
  {
   "cell_type": "markdown",
   "metadata": {},
   "source": [
    "#### feature defining"
   ]
  },
  {
   "cell_type": "code",
   "execution_count": 97,
   "metadata": {
    "scrolled": true
   },
   "outputs": [],
   "source": [
    "target = 'cost'\n",
    "features = numerics + hot_encode_cols + ordinal_encode_cols"
   ]
  },
  {
   "cell_type": "code",
   "execution_count": 98,
   "metadata": {},
   "outputs": [],
   "source": [
    "X_train_encode = pipeline.fit_transform(X_train[features])"
   ]
  },
  {
   "cell_type": "code",
   "execution_count": 99,
   "metadata": {},
   "outputs": [],
   "source": [
    "model = xgb.XGBRegressor(n_estimators=100, n_jobs=-1,max_depth=20)"
   ]
  },
  {
   "cell_type": "code",
   "execution_count": 106,
   "metadata": {
    "scrolled": true
   },
   "outputs": [],
   "source": [
    "X_val_encode = pipeline.transform(X_val[features])"
   ]
  },
  {
   "cell_type": "code",
   "execution_count": 109,
   "metadata": {},
   "outputs": [],
   "source": [
    "eval_set = [(X_train_encode, X_train[target]), \n",
    "            (X_val_encode, X_val[target])]"
   ]
  },
  {
   "cell_type": "code",
   "execution_count": 110,
   "metadata": {
    "scrolled": true
   },
   "outputs": [
    {
     "name": "stdout",
     "output_type": "stream",
     "text": [
      "[0]\tvalidation_0-rmse:1.70087\tvalidation_1-rmse:1.69425\n",
      "Multiple eval metrics have been passed: 'validation_1-rmse' will be used for early stopping.\n",
      "\n",
      "Will train until validation_1-rmse hasn't improved in 10 rounds.\n",
      "[1]\tvalidation_0-rmse:1.53777\tvalidation_1-rmse:1.53845\n",
      "[2]\tvalidation_0-rmse:1.39101\tvalidation_1-rmse:1.39818\n",
      "[3]\tvalidation_0-rmse:1.25892\tvalidation_1-rmse:1.2739\n",
      "[4]\tvalidation_0-rmse:1.14016\tvalidation_1-rmse:1.16592\n",
      "[5]\tvalidation_0-rmse:1.03296\tvalidation_1-rmse:1.06674\n",
      "[6]\tvalidation_0-rmse:0.93639\tvalidation_1-rmse:0.981015\n",
      "[7]\tvalidation_0-rmse:0.849353\tvalidation_1-rmse:0.903975\n",
      "[8]\tvalidation_0-rmse:0.770925\tvalidation_1-rmse:0.835305\n",
      "[9]\tvalidation_0-rmse:0.700135\tvalidation_1-rmse:0.774581\n",
      "[10]\tvalidation_0-rmse:0.636478\tvalidation_1-rmse:0.722979\n",
      "[11]\tvalidation_0-rmse:0.578815\tvalidation_1-rmse:0.676585\n",
      "[12]\tvalidation_0-rmse:0.526898\tvalidation_1-rmse:0.63464\n",
      "[13]\tvalidation_0-rmse:0.480107\tvalidation_1-rmse:0.600204\n",
      "[14]\tvalidation_0-rmse:0.437705\tvalidation_1-rmse:0.571221\n",
      "[15]\tvalidation_0-rmse:0.399366\tvalidation_1-rmse:0.546111\n",
      "[16]\tvalidation_0-rmse:0.36501\tvalidation_1-rmse:0.525364\n",
      "[17]\tvalidation_0-rmse:0.333737\tvalidation_1-rmse:0.507461\n",
      "[18]\tvalidation_0-rmse:0.305551\tvalidation_1-rmse:0.492381\n",
      "[19]\tvalidation_0-rmse:0.280054\tvalidation_1-rmse:0.479551\n",
      "[20]\tvalidation_0-rmse:0.257082\tvalidation_1-rmse:0.468154\n",
      "[21]\tvalidation_0-rmse:0.236309\tvalidation_1-rmse:0.458852\n",
      "[22]\tvalidation_0-rmse:0.217534\tvalidation_1-rmse:0.450186\n",
      "[23]\tvalidation_0-rmse:0.200649\tvalidation_1-rmse:0.442034\n",
      "[24]\tvalidation_0-rmse:0.185293\tvalidation_1-rmse:0.435109\n",
      "[25]\tvalidation_0-rmse:0.171288\tvalidation_1-rmse:0.428816\n",
      "[26]\tvalidation_0-rmse:0.15863\tvalidation_1-rmse:0.423901\n",
      "[27]\tvalidation_0-rmse:0.146848\tvalidation_1-rmse:0.419793\n",
      "[28]\tvalidation_0-rmse:0.136305\tvalidation_1-rmse:0.416523\n",
      "[29]\tvalidation_0-rmse:0.126783\tvalidation_1-rmse:0.413243\n",
      "[30]\tvalidation_0-rmse:0.117846\tvalidation_1-rmse:0.410741\n",
      "[31]\tvalidation_0-rmse:0.11003\tvalidation_1-rmse:0.408305\n",
      "[32]\tvalidation_0-rmse:0.102581\tvalidation_1-rmse:0.406689\n",
      "[33]\tvalidation_0-rmse:0.096331\tvalidation_1-rmse:0.405296\n",
      "[34]\tvalidation_0-rmse:0.090457\tvalidation_1-rmse:0.403923\n",
      "[35]\tvalidation_0-rmse:0.084842\tvalidation_1-rmse:0.402704\n",
      "[36]\tvalidation_0-rmse:0.080072\tvalidation_1-rmse:0.401201\n",
      "[37]\tvalidation_0-rmse:0.075845\tvalidation_1-rmse:0.400039\n",
      "[38]\tvalidation_0-rmse:0.071942\tvalidation_1-rmse:0.399195\n",
      "[39]\tvalidation_0-rmse:0.068664\tvalidation_1-rmse:0.398419\n",
      "[40]\tvalidation_0-rmse:0.065592\tvalidation_1-rmse:0.397781\n",
      "[41]\tvalidation_0-rmse:0.062268\tvalidation_1-rmse:0.39709\n",
      "[42]\tvalidation_0-rmse:0.059329\tvalidation_1-rmse:0.396505\n",
      "[43]\tvalidation_0-rmse:0.057236\tvalidation_1-rmse:0.396027\n",
      "[44]\tvalidation_0-rmse:0.05472\tvalidation_1-rmse:0.395525\n",
      "[45]\tvalidation_0-rmse:0.052482\tvalidation_1-rmse:0.395162\n",
      "[46]\tvalidation_0-rmse:0.050466\tvalidation_1-rmse:0.394874\n",
      "[47]\tvalidation_0-rmse:0.048787\tvalidation_1-rmse:0.394497\n",
      "[48]\tvalidation_0-rmse:0.046879\tvalidation_1-rmse:0.394181\n",
      "[49]\tvalidation_0-rmse:0.044859\tvalidation_1-rmse:0.393982\n",
      "[50]\tvalidation_0-rmse:0.043444\tvalidation_1-rmse:0.393778\n",
      "[51]\tvalidation_0-rmse:0.042118\tvalidation_1-rmse:0.393556\n",
      "[52]\tvalidation_0-rmse:0.040277\tvalidation_1-rmse:0.393265\n",
      "[53]\tvalidation_0-rmse:0.038549\tvalidation_1-rmse:0.393041\n",
      "[54]\tvalidation_0-rmse:0.037006\tvalidation_1-rmse:0.392863\n",
      "[55]\tvalidation_0-rmse:0.036095\tvalidation_1-rmse:0.392718\n",
      "[56]\tvalidation_0-rmse:0.034499\tvalidation_1-rmse:0.392564\n",
      "[57]\tvalidation_0-rmse:0.033511\tvalidation_1-rmse:0.3924\n",
      "[58]\tvalidation_0-rmse:0.032787\tvalidation_1-rmse:0.392292\n",
      "[59]\tvalidation_0-rmse:0.031742\tvalidation_1-rmse:0.392165\n",
      "[60]\tvalidation_0-rmse:0.030962\tvalidation_1-rmse:0.392053\n",
      "[61]\tvalidation_0-rmse:0.029814\tvalidation_1-rmse:0.39194\n",
      "[62]\tvalidation_0-rmse:0.028906\tvalidation_1-rmse:0.391874\n",
      "[63]\tvalidation_0-rmse:0.028251\tvalidation_1-rmse:0.391797\n",
      "[64]\tvalidation_0-rmse:0.027825\tvalidation_1-rmse:0.391686\n",
      "[65]\tvalidation_0-rmse:0.0272\tvalidation_1-rmse:0.391641\n",
      "[66]\tvalidation_0-rmse:0.026742\tvalidation_1-rmse:0.391556\n",
      "[67]\tvalidation_0-rmse:0.025799\tvalidation_1-rmse:0.391493\n",
      "[68]\tvalidation_0-rmse:0.025587\tvalidation_1-rmse:0.391437\n",
      "[69]\tvalidation_0-rmse:0.025196\tvalidation_1-rmse:0.391388\n",
      "[70]\tvalidation_0-rmse:0.02432\tvalidation_1-rmse:0.391355\n",
      "[71]\tvalidation_0-rmse:0.024056\tvalidation_1-rmse:0.391337\n",
      "[72]\tvalidation_0-rmse:0.023892\tvalidation_1-rmse:0.391308\n",
      "[73]\tvalidation_0-rmse:0.023433\tvalidation_1-rmse:0.391261\n",
      "[74]\tvalidation_0-rmse:0.023213\tvalidation_1-rmse:0.391188\n",
      "[75]\tvalidation_0-rmse:0.023002\tvalidation_1-rmse:0.391186\n",
      "[76]\tvalidation_0-rmse:0.022585\tvalidation_1-rmse:0.391133\n",
      "[77]\tvalidation_0-rmse:0.021595\tvalidation_1-rmse:0.391097\n",
      "[78]\tvalidation_0-rmse:0.020771\tvalidation_1-rmse:0.391039\n",
      "[79]\tvalidation_0-rmse:0.019995\tvalidation_1-rmse:0.390992\n",
      "[80]\tvalidation_0-rmse:0.019342\tvalidation_1-rmse:0.390941\n",
      "[81]\tvalidation_0-rmse:0.019195\tvalidation_1-rmse:0.39086\n",
      "[82]\tvalidation_0-rmse:0.01881\tvalidation_1-rmse:0.390802\n",
      "[83]\tvalidation_0-rmse:0.018649\tvalidation_1-rmse:0.390722\n",
      "[84]\tvalidation_0-rmse:0.018252\tvalidation_1-rmse:0.390709\n",
      "[85]\tvalidation_0-rmse:0.018105\tvalidation_1-rmse:0.390657\n",
      "[86]\tvalidation_0-rmse:0.017705\tvalidation_1-rmse:0.390607\n",
      "[87]\tvalidation_0-rmse:0.0176\tvalidation_1-rmse:0.390576\n",
      "[88]\tvalidation_0-rmse:0.017523\tvalidation_1-rmse:0.390534\n",
      "[89]\tvalidation_0-rmse:0.017293\tvalidation_1-rmse:0.390527\n",
      "[90]\tvalidation_0-rmse:0.017062\tvalidation_1-rmse:0.390513\n",
      "[91]\tvalidation_0-rmse:0.016536\tvalidation_1-rmse:0.390523\n",
      "[92]\tvalidation_0-rmse:0.016452\tvalidation_1-rmse:0.39052\n",
      "[93]\tvalidation_0-rmse:0.016274\tvalidation_1-rmse:0.390503\n",
      "[94]\tvalidation_0-rmse:0.016101\tvalidation_1-rmse:0.390498\n",
      "[95]\tvalidation_0-rmse:0.015948\tvalidation_1-rmse:0.390487\n",
      "[96]\tvalidation_0-rmse:0.015828\tvalidation_1-rmse:0.390471\n",
      "[97]\tvalidation_0-rmse:0.015455\tvalidation_1-rmse:0.390452\n",
      "[98]\tvalidation_0-rmse:0.015101\tvalidation_1-rmse:0.390435\n",
      "[99]\tvalidation_0-rmse:0.015067\tvalidation_1-rmse:0.390415\n"
     ]
    },
    {
     "data": {
      "text/plain": [
       "XGBRegressor(base_score=0.5, booster='gbtree', colsample_bylevel=1,\n",
       "       colsample_bytree=1, gamma=0, learning_rate=0.1, max_delta_step=0,\n",
       "       max_depth=20, min_child_weight=1, missing=None, n_estimators=100,\n",
       "       n_jobs=-1, nthread=None, objective='reg:linear', random_state=0,\n",
       "       reg_alpha=0, reg_lambda=1, scale_pos_weight=1, seed=None,\n",
       "       silent=True, subsample=1)"
      ]
     },
     "execution_count": 110,
     "metadata": {},
     "output_type": "execute_result"
    }
   ],
   "source": [
    "model.fit(X_train_encode, X_train[target],eval_set=eval_set, eval_metric='rmse', \n",
    "          early_stopping_rounds=10)"
   ]
  },
  {
   "cell_type": "code",
   "execution_count": null,
   "metadata": {},
   "outputs": [],
   "source": []
  }
 ],
 "metadata": {
  "kernelspec": {
   "display_name": "Python 3",
   "language": "python",
   "name": "python3"
  },
  "language_info": {
   "codemirror_mode": {
    "name": "ipython",
    "version": 3
   },
   "file_extension": ".py",
   "mimetype": "text/x-python",
   "name": "python",
   "nbconvert_exporter": "python",
   "pygments_lexer": "ipython3",
   "version": "3.7.3"
  },
  "varInspector": {
   "cols": {
    "lenName": 16,
    "lenType": 16,
    "lenVar": 40
   },
   "kernels_config": {
    "python": {
     "delete_cmd_postfix": "",
     "delete_cmd_prefix": "del ",
     "library": "var_list.py",
     "varRefreshCmd": "print(var_dic_list())"
    },
    "r": {
     "delete_cmd_postfix": ") ",
     "delete_cmd_prefix": "rm(",
     "library": "var_list.r",
     "varRefreshCmd": "cat(var_dic_list()) "
    }
   },
   "types_to_exclude": [
    "module",
    "function",
    "builtin_function_or_method",
    "instance",
    "_Feature"
   ],
   "window_display": false
  }
 },
 "nbformat": 4,
 "nbformat_minor": 2
}
