{
 "cells": [
  {
   "cell_type": "code",
   "execution_count": 1,
   "metadata": {
    "scrolled": false
   },
   "outputs": [],
   "source": [
    "from glob import glob\n",
    "import pandas as pd\n",
    "\n",
    "for path in glob('competition_data/*.csv'):\n",
    "    df = pd.read_csv(path)"
   ]
  },
  {
   "cell_type": "code",
   "execution_count": 2,
   "metadata": {},
   "outputs": [],
   "source": [
    "import os\n",
    "os.environ['KMP_DUPLICATE_LIB_OK']='True'"
   ]
  },
  {
   "cell_type": "code",
   "execution_count": 3,
   "metadata": {},
   "outputs": [],
   "source": [
    "train = pd.read_csv('competition_data/train_set.csv')\n",
    "test = pd.read_csv('competition_data/test_set.csv')\n",
    "tube = pd.read_csv('competition_data/tube.csv')\n",
    "mats = pd.read_csv('competition_data/bill_of_materials.csv')\n",
    "comps = pd.read_csv('competition_data/components.csv')\n",
    "specs = pd.read_csv('competition_data/specs.csv')\n",
    "end_form = pd.read_csv('competition_data/tube_end_form.csv')"
   ]
  },
  {
   "cell_type": "code",
   "execution_count": 4,
   "metadata": {},
   "outputs": [],
   "source": [
    "# merging tube df with end_form df\n",
    "tube = tube.merge(end_form,how='left',left_on='end_a',right_on='end_form_id').merge(end_form,how='left',left_on='end_x',right_on='end_form_id')"
   ]
  },
  {
   "cell_type": "code",
   "execution_count": 5,
   "metadata": {},
   "outputs": [],
   "source": [
    "# drop duplicate ids\n",
    "tube = tube.drop(['end_form_id_x','end_form_id_y'],axis=1)\n",
    "# rename forming columns to match end_a and end_x\n",
    "tube = tube.rename({'forming_x':'forming_a','forming_y':'forming_x'},axis=1)"
   ]
  },
  {
   "cell_type": "markdown",
   "metadata": {},
   "source": [
    "#### merging comps onto mats.\n",
    "We are only going to use the first component"
   ]
  },
  {
   "cell_type": "code",
   "execution_count": 6,
   "metadata": {},
   "outputs": [],
   "source": [
    "# merging comps on mats but only on the first component\n",
    "mats = mats.merge(comps,left_on='component_id_1',right_on='component_id',how='left')"
   ]
  },
  {
   "cell_type": "code",
   "execution_count": 7,
   "metadata": {},
   "outputs": [],
   "source": [
    "# dropping redundant columns\n",
    "mats = mats.drop(['component_id','component_type_id'],axis=1)"
   ]
  },
  {
   "cell_type": "code",
   "execution_count": 8,
   "metadata": {
    "scrolled": true
   },
   "outputs": [],
   "source": [
    "train = train.merge(tube, left_on='tube_assembly_id',right_on='tube_assembly_id',how='left')\n",
    "test = test.merge(tube, left_on='tube_assembly_id',right_on='tube_assembly_id',how='left')"
   ]
  },
  {
   "cell_type": "code",
   "execution_count": 9,
   "metadata": {},
   "outputs": [],
   "source": [
    "train = train.merge(mats,left_on='tube_assembly_id',right_on='tube_assembly_id',how='left')\n",
    "test = test.merge(mats,left_on='tube_assembly_id',right_on='tube_assembly_id',how='left')"
   ]
  },
  {
   "cell_type": "markdown",
   "metadata": {},
   "source": [
    "## Feature Engineering"
   ]
  },
  {
   "cell_type": "code",
   "execution_count": 10,
   "metadata": {},
   "outputs": [],
   "source": [
    "import seaborn as sns\n",
    "import numpy as np"
   ]
  },
  {
   "cell_type": "code",
   "execution_count": 11,
   "metadata": {},
   "outputs": [],
   "source": [
    "# transform skewed cols\n",
    "def transform_skewed_cols(df, skew_level=4):\n",
    "    skew_cols = list(train.skew()[train.skew() > skew_level].index)\n",
    "    for col in skew_cols:\n",
    "        df[col] = np.log1p(df[col])\n",
    "    return df"
   ]
  },
  {
   "cell_type": "code",
   "execution_count": 12,
   "metadata": {
    "scrolled": true
   },
   "outputs": [
    {
     "name": "stderr",
     "output_type": "stream",
     "text": [
      "/usr/local/anaconda3/lib/python3.7/site-packages/ipykernel_launcher.py:5: RuntimeWarning: invalid value encountered in log1p\n",
      "  \"\"\"\n"
     ]
    }
   ],
   "source": [
    "train = transform_skewed_cols(train)\n",
    "test = transform_skewed_cols(test)"
   ]
  },
  {
   "cell_type": "code",
   "execution_count": 13,
   "metadata": {},
   "outputs": [],
   "source": [
    "# remove quote date and replace by year and month cols\n",
    "def convert_add_dates(df):\n",
    "    df['quote_date'] = pd.to_datetime(df['quote_date'],infer_datetime_format=True)\n",
    "    df['month'] = df['quote_date'].dt.month\n",
    "    df['year'] = df['quote_date'].dt.year\n",
    "    df = df.drop('quote_date',axis=1)\n",
    "    return df"
   ]
  },
  {
   "cell_type": "code",
   "execution_count": 14,
   "metadata": {
    "scrolled": false
   },
   "outputs": [],
   "source": [
    "test = convert_add_dates(test)\n",
    "train = convert_add_dates(train)"
   ]
  },
  {
   "cell_type": "markdown",
   "metadata": {},
   "source": [
    "### SVM for missing material Id"
   ]
  },
  {
   "cell_type": "code",
   "execution_count": 15,
   "metadata": {},
   "outputs": [],
   "source": [
    "from sklearn.ensemble import RandomForestClassifier\n",
    "from sklearn.model_selection import train_test_split\n",
    "import category_encoders as ce"
   ]
  },
  {
   "cell_type": "code",
   "execution_count": 16,
   "metadata": {
    "scrolled": true
   },
   "outputs": [],
   "source": [
    "train_nas = train[train['material_id'].isna()]\n",
    "test_nas = test[test['material_id'].isna()]\n",
    "train_not_null = train[~train['material_id'].isna()]\n",
    "test_not_null = test[~test['material_id'].isna()]"
   ]
  },
  {
   "cell_type": "code",
   "execution_count": 17,
   "metadata": {
    "scrolled": true
   },
   "outputs": [
    {
     "name": "stderr",
     "output_type": "stream",
     "text": [
      "/usr/local/anaconda3/lib/python3.7/site-packages/pandas/core/frame.py:4034: SettingWithCopyWarning: \n",
      "A value is trying to be set on a copy of a slice from a DataFrame\n",
      "\n",
      "See the caveats in the documentation: http://pandas.pydata.org/pandas-docs/stable/indexing.html#indexing-view-versus-copy\n",
      "  downcast=downcast, **kwargs)\n"
     ]
    }
   ],
   "source": [
    "train_not_null.fillna(0,inplace=True)\n",
    "test_not_null.fillna(0,inplace=True)"
   ]
  },
  {
   "cell_type": "code",
   "execution_count": 18,
   "metadata": {},
   "outputs": [],
   "source": [
    "target = 'material_id'\n",
    "features = list(train.columns)\n",
    "features.remove('material_id')\n",
    "features.remove('cost')"
   ]
  },
  {
   "cell_type": "code",
   "execution_count": 19,
   "metadata": {},
   "outputs": [],
   "source": [
    "X = train_not_null[features]\n",
    "y = train_not_null[target]\n",
    "X_test = test_not_null[features]\n",
    "y_test = test_not_null[target]"
   ]
  },
  {
   "cell_type": "code",
   "execution_count": 20,
   "metadata": {},
   "outputs": [],
   "source": [
    "encode_cols = list(X.describe(exclude='number').columns)\n",
    "encoder = ce.OrdinalEncoder(cols=encode_cols)"
   ]
  },
  {
   "cell_type": "code",
   "execution_count": 21,
   "metadata": {
    "scrolled": true
   },
   "outputs": [],
   "source": [
    "X_encode = encoder.fit_transform(X)\n",
    "X_test_encode = encoder.transform(X_test)"
   ]
  },
  {
   "cell_type": "code",
   "execution_count": 22,
   "metadata": {
    "scrolled": true
   },
   "outputs": [],
   "source": [
    "model = RandomForestClassifier(n_estimators=100,max_depth=20,n_jobs=-1)"
   ]
  },
  {
   "cell_type": "code",
   "execution_count": 23,
   "metadata": {
    "scrolled": true
   },
   "outputs": [
    {
     "data": {
      "text/plain": [
       "RandomForestClassifier(bootstrap=True, class_weight=None, criterion='gini',\n",
       "            max_depth=20, max_features='auto', max_leaf_nodes=None,\n",
       "            min_impurity_decrease=0.0, min_impurity_split=None,\n",
       "            min_samples_leaf=1, min_samples_split=2,\n",
       "            min_weight_fraction_leaf=0.0, n_estimators=100, n_jobs=-1,\n",
       "            oob_score=False, random_state=None, verbose=0,\n",
       "            warm_start=False)"
      ]
     },
     "execution_count": 23,
     "metadata": {},
     "output_type": "execute_result"
    }
   ],
   "source": [
    "model.fit(X_encode,y)"
   ]
  },
  {
   "cell_type": "code",
   "execution_count": 24,
   "metadata": {},
   "outputs": [
    {
     "data": {
      "text/plain": [
       "0.9913954108858057"
      ]
     },
     "execution_count": 24,
     "metadata": {},
     "output_type": "execute_result"
    }
   ],
   "source": [
    "model.score(X_encode,y)"
   ]
  },
  {
   "cell_type": "code",
   "execution_count": 25,
   "metadata": {},
   "outputs": [
    {
     "data": {
      "text/plain": [
       "0.7991602519244226"
      ]
     },
     "execution_count": 25,
     "metadata": {},
     "output_type": "execute_result"
    }
   ],
   "source": [
    "model.score(X_test_encode, y_test)"
   ]
  },
  {
   "cell_type": "code",
   "execution_count": 26,
   "metadata": {},
   "outputs": [],
   "source": [
    "# lets input the missing values on our null set"
   ]
  },
  {
   "cell_type": "code",
   "execution_count": 27,
   "metadata": {},
   "outputs": [],
   "source": [
    "train_nas = train_nas[features].fillna(0)\n",
    "test_nas = test_nas[features].fillna(0)"
   ]
  },
  {
   "cell_type": "code",
   "execution_count": 28,
   "metadata": {
    "scrolled": true
   },
   "outputs": [],
   "source": [
    "test_preds = model.predict(encoder.transform(test_nas))\n",
    "train_preds = model.predict(encoder.transform(train_nas))"
   ]
  },
  {
   "cell_type": "code",
   "execution_count": 29,
   "metadata": {},
   "outputs": [],
   "source": [
    "test_nas['material_id'] = test_preds\n",
    "train_nas['material_id'] = train_preds"
   ]
  },
  {
   "cell_type": "code",
   "execution_count": 30,
   "metadata": {
    "scrolled": true
   },
   "outputs": [
    {
     "name": "stderr",
     "output_type": "stream",
     "text": [
      "/usr/local/anaconda3/lib/python3.7/site-packages/ipykernel_launcher.py:2: FutureWarning: Sorting because non-concatenation axis is not aligned. A future version\n",
      "of pandas will change to not sort by default.\n",
      "\n",
      "To accept the future behavior, pass 'sort=False'.\n",
      "\n",
      "To retain the current behavior and silence the warning, pass 'sort=True'.\n",
      "\n",
      "  \n",
      "/usr/local/anaconda3/lib/python3.7/site-packages/ipykernel_launcher.py:3: FutureWarning: Sorting because non-concatenation axis is not aligned. A future version\n",
      "of pandas will change to not sort by default.\n",
      "\n",
      "To accept the future behavior, pass 'sort=False'.\n",
      "\n",
      "To retain the current behavior and silence the warning, pass 'sort=True'.\n",
      "\n",
      "  This is separate from the ipykernel package so we can avoid doing imports until\n"
     ]
    }
   ],
   "source": [
    "#putting predictions back into test and train\n",
    "test = pd.concat([test_nas,test.loc[~test['material_id'].isna()]])\n",
    "train = pd.concat([train_nas,train.loc[~train['material_id'].isna()]])"
   ]
  },
  {
   "cell_type": "markdown",
   "metadata": {},
   "source": [
    "## Xgboost"
   ]
  },
  {
   "cell_type": "code",
   "execution_count": 31,
   "metadata": {},
   "outputs": [],
   "source": [
    "import xgboost as xgb\n",
    "from sklearn.pipeline import make_pipeline"
   ]
  },
  {
   "cell_type": "code",
   "execution_count": 32,
   "metadata": {},
   "outputs": [],
   "source": [
    "test = test.fillna(0)\n",
    "train = train.fillna(0)"
   ]
  },
  {
   "cell_type": "code",
   "execution_count": 33,
   "metadata": {},
   "outputs": [],
   "source": [
    "# train test splitting based on tube id"
   ]
  },
  {
   "cell_type": "code",
   "execution_count": 34,
   "metadata": {},
   "outputs": [],
   "source": [
    "unique_tubes = train['tube_assembly_id'].unique()"
   ]
  },
  {
   "cell_type": "code",
   "execution_count": 35,
   "metadata": {},
   "outputs": [],
   "source": [
    "train_tubes, val_tubes = train_test_split(unique_tubes)"
   ]
  },
  {
   "cell_type": "code",
   "execution_count": 36,
   "metadata": {
    "scrolled": true
   },
   "outputs": [
    {
     "data": {
      "text/plain": [
       "set()"
      ]
     },
     "execution_count": 36,
     "metadata": {},
     "output_type": "execute_result"
    }
   ],
   "source": [
    "set(train_tubes) & set(val_tubes)"
   ]
  },
  {
   "cell_type": "code",
   "execution_count": 37,
   "metadata": {},
   "outputs": [],
   "source": [
    "X_train = train.loc[train['tube_assembly_id'].isin(train_tubes)]\n",
    "X_val = train.loc[train['tube_assembly_id'].isin(val_tubes)]"
   ]
  },
  {
   "cell_type": "code",
   "execution_count": 38,
   "metadata": {
    "scrolled": true
   },
   "outputs": [],
   "source": [
    "# drop tube_id\n",
    "X_train = X_train.drop('tube_assembly_id',axis=1)\n",
    "X_val = X_val.drop('tube_assembly_id',axis=1)\n",
    "test = test.drop('tube_assembly_id',axis=1)"
   ]
  },
  {
   "cell_type": "markdown",
   "metadata": {},
   "source": [
    "#### define ordinal and one hot columns"
   ]
  },
  {
   "cell_type": "code",
   "execution_count": 39,
   "metadata": {
    "scrolled": true
   },
   "outputs": [],
   "source": [
    "card = X_train.describe(exclude='number').T.sort_values(by='unique')\n",
    "numerics = X_train.describe()\n",
    "numerics = list(numerics.columns)\n",
    "numerics.remove('cost')"
   ]
  },
  {
   "cell_type": "code",
   "execution_count": 40,
   "metadata": {},
   "outputs": [],
   "source": [
    "hot_encode_cols = list(card.loc[card['unique'] < 150].index)\n",
    "ordinal_encode_cols = list(card.loc[card['unique'] >= 150].index)"
   ]
  },
  {
   "cell_type": "markdown",
   "metadata": {},
   "source": [
    "#### pipeline"
   ]
  },
  {
   "cell_type": "code",
   "execution_count": 41,
   "metadata": {},
   "outputs": [],
   "source": [
    "pipeline =  make_pipeline(ce.OrdinalEncoder(cols=ordinal_encode_cols),\n",
    "                   ce.OneHotEncoder(cols=hot_encode_cols,use_cat_names=True))"
   ]
  },
  {
   "cell_type": "markdown",
   "metadata": {},
   "source": [
    "#### feature defining"
   ]
  },
  {
   "cell_type": "code",
   "execution_count": 42,
   "metadata": {
    "scrolled": true
   },
   "outputs": [],
   "source": [
    "target = 'cost'\n",
    "features = numerics + hot_encode_cols + ordinal_encode_cols"
   ]
  },
  {
   "cell_type": "code",
   "execution_count": 43,
   "metadata": {},
   "outputs": [],
   "source": [
    "X_train_encode = pipeline.fit_transform(X_train[features])"
   ]
  },
  {
   "cell_type": "code",
   "execution_count": 44,
   "metadata": {},
   "outputs": [],
   "source": [
    "model = xgb.XGBRegressor(n_estimators=100, n_jobs=-1,max_depth=20)"
   ]
  },
  {
   "cell_type": "code",
   "execution_count": 45,
   "metadata": {
    "scrolled": true
   },
   "outputs": [],
   "source": [
    "X_val_encode = pipeline.transform(X_val[features])"
   ]
  },
  {
   "cell_type": "code",
   "execution_count": 46,
   "metadata": {},
   "outputs": [],
   "source": [
    "eval_set = [(X_train_encode, X_train[target]), \n",
    "            (X_val_encode, X_val[target])]"
   ]
  },
  {
   "cell_type": "code",
   "execution_count": 47,
   "metadata": {
    "scrolled": true
   },
   "outputs": [
    {
     "name": "stdout",
     "output_type": "stream",
     "text": [
      "[0]\tvalidation_0-rmse:1.70027\tvalidation_1-rmse:1.70129\n",
      "Multiple eval metrics have been passed: 'validation_1-rmse' will be used for early stopping.\n",
      "\n",
      "Will train until validation_1-rmse hasn't improved in 10 rounds.\n",
      "[1]\tvalidation_0-rmse:1.53753\tvalidation_1-rmse:1.54943\n",
      "[2]\tvalidation_0-rmse:1.39103\tvalidation_1-rmse:1.41404\n",
      "[3]\tvalidation_0-rmse:1.25891\tvalidation_1-rmse:1.29304\n",
      "[4]\tvalidation_0-rmse:1.14006\tvalidation_1-rmse:1.1866\n",
      "[5]\tvalidation_0-rmse:1.03293\tvalidation_1-rmse:1.09186\n",
      "[6]\tvalidation_0-rmse:0.93648\tvalidation_1-rmse:1.00867\n",
      "[7]\tvalidation_0-rmse:0.849627\tvalidation_1-rmse:0.934685\n",
      "[8]\tvalidation_0-rmse:0.771346\tvalidation_1-rmse:0.870211\n",
      "[9]\tvalidation_0-rmse:0.700783\tvalidation_1-rmse:0.813627\n",
      "[10]\tvalidation_0-rmse:0.637145\tvalidation_1-rmse:0.763997\n",
      "[11]\tvalidation_0-rmse:0.579861\tvalidation_1-rmse:0.720449\n",
      "[12]\tvalidation_0-rmse:0.528146\tvalidation_1-rmse:0.683231\n",
      "[13]\tvalidation_0-rmse:0.481435\tvalidation_1-rmse:0.651005\n",
      "[14]\tvalidation_0-rmse:0.439267\tvalidation_1-rmse:0.623738\n",
      "[15]\tvalidation_0-rmse:0.400743\tvalidation_1-rmse:0.597734\n",
      "[16]\tvalidation_0-rmse:0.365979\tvalidation_1-rmse:0.575195\n",
      "[17]\tvalidation_0-rmse:0.334584\tvalidation_1-rmse:0.555725\n",
      "[18]\tvalidation_0-rmse:0.30625\tvalidation_1-rmse:0.538739\n",
      "[19]\tvalidation_0-rmse:0.280728\tvalidation_1-rmse:0.525384\n",
      "[20]\tvalidation_0-rmse:0.257615\tvalidation_1-rmse:0.514083\n",
      "[21]\tvalidation_0-rmse:0.236653\tvalidation_1-rmse:0.5035\n",
      "[22]\tvalidation_0-rmse:0.21782\tvalidation_1-rmse:0.495009\n",
      "[23]\tvalidation_0-rmse:0.200593\tvalidation_1-rmse:0.487668\n",
      "[24]\tvalidation_0-rmse:0.184841\tvalidation_1-rmse:0.48061\n",
      "[25]\tvalidation_0-rmse:0.170667\tvalidation_1-rmse:0.475221\n",
      "[26]\tvalidation_0-rmse:0.158046\tvalidation_1-rmse:0.47075\n",
      "[27]\tvalidation_0-rmse:0.146403\tvalidation_1-rmse:0.466774\n",
      "[28]\tvalidation_0-rmse:0.135728\tvalidation_1-rmse:0.463504\n",
      "[29]\tvalidation_0-rmse:0.125947\tvalidation_1-rmse:0.460471\n",
      "[30]\tvalidation_0-rmse:0.117386\tvalidation_1-rmse:0.458224\n",
      "[31]\tvalidation_0-rmse:0.109576\tvalidation_1-rmse:0.456323\n",
      "[32]\tvalidation_0-rmse:0.1024\tvalidation_1-rmse:0.454557\n",
      "[33]\tvalidation_0-rmse:0.095968\tvalidation_1-rmse:0.452473\n",
      "[34]\tvalidation_0-rmse:0.090324\tvalidation_1-rmse:0.450632\n",
      "[35]\tvalidation_0-rmse:0.085129\tvalidation_1-rmse:0.448845\n",
      "[36]\tvalidation_0-rmse:0.080451\tvalidation_1-rmse:0.447289\n",
      "[37]\tvalidation_0-rmse:0.076312\tvalidation_1-rmse:0.44612\n",
      "[38]\tvalidation_0-rmse:0.072696\tvalidation_1-rmse:0.44501\n",
      "[39]\tvalidation_0-rmse:0.069339\tvalidation_1-rmse:0.444114\n",
      "[40]\tvalidation_0-rmse:0.066205\tvalidation_1-rmse:0.443336\n",
      "[41]\tvalidation_0-rmse:0.062952\tvalidation_1-rmse:0.442542\n",
      "[42]\tvalidation_0-rmse:0.060248\tvalidation_1-rmse:0.441935\n",
      "[43]\tvalidation_0-rmse:0.057726\tvalidation_1-rmse:0.441404\n",
      "[44]\tvalidation_0-rmse:0.05523\tvalidation_1-rmse:0.440861\n",
      "[45]\tvalidation_0-rmse:0.052979\tvalidation_1-rmse:0.440403\n",
      "[46]\tvalidation_0-rmse:0.051413\tvalidation_1-rmse:0.440014\n",
      "[47]\tvalidation_0-rmse:0.049491\tvalidation_1-rmse:0.439719\n",
      "[48]\tvalidation_0-rmse:0.04739\tvalidation_1-rmse:0.439444\n",
      "[49]\tvalidation_0-rmse:0.046102\tvalidation_1-rmse:0.4392\n",
      "[50]\tvalidation_0-rmse:0.044688\tvalidation_1-rmse:0.438923\n",
      "[51]\tvalidation_0-rmse:0.042888\tvalidation_1-rmse:0.438662\n",
      "[52]\tvalidation_0-rmse:0.04148\tvalidation_1-rmse:0.438384\n",
      "[53]\tvalidation_0-rmse:0.039749\tvalidation_1-rmse:0.43815\n",
      "[54]\tvalidation_0-rmse:0.038225\tvalidation_1-rmse:0.438021\n",
      "[55]\tvalidation_0-rmse:0.037473\tvalidation_1-rmse:0.437877\n",
      "[56]\tvalidation_0-rmse:0.035969\tvalidation_1-rmse:0.437759\n",
      "[57]\tvalidation_0-rmse:0.034644\tvalidation_1-rmse:0.437615\n",
      "[58]\tvalidation_0-rmse:0.033792\tvalidation_1-rmse:0.437585\n",
      "[59]\tvalidation_0-rmse:0.033258\tvalidation_1-rmse:0.437496\n",
      "[60]\tvalidation_0-rmse:0.032796\tvalidation_1-rmse:0.437425\n",
      "[61]\tvalidation_0-rmse:0.032228\tvalidation_1-rmse:0.437345\n",
      "[62]\tvalidation_0-rmse:0.03171\tvalidation_1-rmse:0.437248\n",
      "[63]\tvalidation_0-rmse:0.031325\tvalidation_1-rmse:0.43718\n",
      "[64]\tvalidation_0-rmse:0.03097\tvalidation_1-rmse:0.437138\n",
      "[65]\tvalidation_0-rmse:0.030079\tvalidation_1-rmse:0.437072\n",
      "[66]\tvalidation_0-rmse:0.029321\tvalidation_1-rmse:0.43699\n",
      "[67]\tvalidation_0-rmse:0.028644\tvalidation_1-rmse:0.436946\n",
      "[68]\tvalidation_0-rmse:0.028394\tvalidation_1-rmse:0.436909\n",
      "[69]\tvalidation_0-rmse:0.027584\tvalidation_1-rmse:0.436831\n",
      "[70]\tvalidation_0-rmse:0.027112\tvalidation_1-rmse:0.436771\n",
      "[71]\tvalidation_0-rmse:0.026754\tvalidation_1-rmse:0.436768\n",
      "[72]\tvalidation_0-rmse:0.026607\tvalidation_1-rmse:0.436723\n",
      "[73]\tvalidation_0-rmse:0.026013\tvalidation_1-rmse:0.436697\n",
      "[74]\tvalidation_0-rmse:0.025309\tvalidation_1-rmse:0.436629\n",
      "[75]\tvalidation_0-rmse:0.024936\tvalidation_1-rmse:0.436586\n",
      "[76]\tvalidation_0-rmse:0.024653\tvalidation_1-rmse:0.436522\n",
      "[77]\tvalidation_0-rmse:0.024216\tvalidation_1-rmse:0.436483\n",
      "[78]\tvalidation_0-rmse:0.023723\tvalidation_1-rmse:0.436469\n",
      "[79]\tvalidation_0-rmse:0.023498\tvalidation_1-rmse:0.436424\n",
      "[80]\tvalidation_0-rmse:0.023111\tvalidation_1-rmse:0.436395\n",
      "[81]\tvalidation_0-rmse:0.022951\tvalidation_1-rmse:0.436368\n",
      "[82]\tvalidation_0-rmse:0.02208\tvalidation_1-rmse:0.436352\n",
      "[83]\tvalidation_0-rmse:0.021837\tvalidation_1-rmse:0.43633\n",
      "[84]\tvalidation_0-rmse:0.021526\tvalidation_1-rmse:0.436331\n",
      "[85]\tvalidation_0-rmse:0.021099\tvalidation_1-rmse:0.43633\n",
      "[86]\tvalidation_0-rmse:0.020884\tvalidation_1-rmse:0.436301\n",
      "[87]\tvalidation_0-rmse:0.020319\tvalidation_1-rmse:0.43628\n",
      "[88]\tvalidation_0-rmse:0.020263\tvalidation_1-rmse:0.436266\n",
      "[89]\tvalidation_0-rmse:0.020217\tvalidation_1-rmse:0.436262\n",
      "[90]\tvalidation_0-rmse:0.019585\tvalidation_1-rmse:0.436267\n",
      "[91]\tvalidation_0-rmse:0.018985\tvalidation_1-rmse:0.436254\n",
      "[92]\tvalidation_0-rmse:0.018534\tvalidation_1-rmse:0.436252\n",
      "[93]\tvalidation_0-rmse:0.018099\tvalidation_1-rmse:0.436247\n",
      "[94]\tvalidation_0-rmse:0.017753\tvalidation_1-rmse:0.436232\n",
      "[95]\tvalidation_0-rmse:0.017317\tvalidation_1-rmse:0.436211\n",
      "[96]\tvalidation_0-rmse:0.017119\tvalidation_1-rmse:0.436205\n",
      "[97]\tvalidation_0-rmse:0.016914\tvalidation_1-rmse:0.436216\n",
      "[98]\tvalidation_0-rmse:0.016818\tvalidation_1-rmse:0.436187\n",
      "[99]\tvalidation_0-rmse:0.016498\tvalidation_1-rmse:0.436187\n"
     ]
    },
    {
     "data": {
      "text/plain": [
       "XGBRegressor(base_score=0.5, booster='gbtree', colsample_bylevel=1,\n",
       "       colsample_bytree=1, gamma=0, learning_rate=0.1, max_delta_step=0,\n",
       "       max_depth=20, min_child_weight=1, missing=None, n_estimators=100,\n",
       "       n_jobs=-1, nthread=None, objective='reg:linear', random_state=0,\n",
       "       reg_alpha=0, reg_lambda=1, scale_pos_weight=1, seed=None,\n",
       "       silent=True, subsample=1)"
      ]
     },
     "execution_count": 47,
     "metadata": {},
     "output_type": "execute_result"
    }
   ],
   "source": [
    "model.fit(X_train_encode, X_train[target],eval_set=eval_set, eval_metric='rmse', \n",
    "          early_stopping_rounds=10)"
   ]
  },
  {
   "cell_type": "markdown",
   "metadata": {},
   "source": [
    "### Check feature importance"
   ]
  },
  {
   "cell_type": "code",
   "execution_count": 49,
   "metadata": {},
   "outputs": [
    {
     "name": "stdout",
     "output_type": "stream",
     "text": [
      "Collecting eli5\n",
      "  Using cached https://files.pythonhosted.org/packages/ee/2b/246db9e1c2d6f38e999daf0c4d5e54f36fbd0b937ffb13a34d32c2139403/eli5-0.8.2-py2.py3-none-any.whl\n",
      "Requirement already satisfied: scikit-learn>=0.18 in /usr/local/anaconda3/lib/python3.7/site-packages (from eli5) (0.20.3)\n",
      "Requirement already satisfied: six in /usr/local/anaconda3/lib/python3.7/site-packages (from eli5) (1.12.0)\n",
      "Requirement already satisfied: numpy>=1.9.0 in /usr/local/anaconda3/lib/python3.7/site-packages (from eli5) (1.16.2)\n",
      "Requirement already satisfied: attrs>16.0.0 in /usr/local/anaconda3/lib/python3.7/site-packages (from eli5) (19.1.0)\n",
      "Requirement already satisfied: scipy in /usr/local/anaconda3/lib/python3.7/site-packages (from eli5) (1.2.1)\n",
      "Collecting typing (from eli5)\n",
      "  Using cached https://files.pythonhosted.org/packages/4a/bd/eee1157fc2d8514970b345d69cb9975dcd1e42cd7e61146ed841f6e68309/typing-3.6.6-py3-none-any.whl\n",
      "Requirement already satisfied: jinja2 in /usr/local/anaconda3/lib/python3.7/site-packages (from eli5) (2.10)\n",
      "Collecting tabulate>=0.7.7 (from eli5)\n",
      "Requirement already satisfied: graphviz in /usr/local/anaconda3/lib/python3.7/site-packages (from eli5) (0.10.1)\n",
      "Requirement already satisfied: MarkupSafe>=0.23 in /usr/local/anaconda3/lib/python3.7/site-packages (from jinja2->eli5) (1.1.1)\n",
      "Installing collected packages: typing, tabulate, eli5\n",
      "Successfully installed eli5-0.8.2 tabulate-0.8.3 typing-3.6.6\n"
     ]
    }
   ],
   "source": [
    "!pip install eli5"
   ]
  },
  {
   "cell_type": "code",
   "execution_count": 57,
   "metadata": {},
   "outputs": [],
   "source": [
    "from eli5.sklearn import PermutationImportance\n",
    "import eli5"
   ]
  },
  {
   "cell_type": "code",
   "execution_count": 51,
   "metadata": {},
   "outputs": [],
   "source": [
    "permuter = PermutationImportance(model, scoring='neg_mean_squared_error',random_state=42)"
   ]
  },
  {
   "cell_type": "code",
   "execution_count": 55,
   "metadata": {
    "scrolled": true
   },
   "outputs": [
    {
     "data": {
      "text/plain": [
       "7611     0.000000\n",
       "8180     0.000000\n",
       "8181     0.000000\n",
       "8182     0.000000\n",
       "8183     0.000000\n",
       "8184     0.000000\n",
       "8185     0.000000\n",
       "8186     0.000000\n",
       "8187     0.000000\n",
       "9134     0.000000\n",
       "9135     0.000000\n",
       "9136     0.000000\n",
       "9137     0.000000\n",
       "9138     0.000000\n",
       "9139     0.000000\n",
       "9140     0.000000\n",
       "9141     0.000000\n",
       "9148     0.000000\n",
       "9149     0.000000\n",
       "9350     0.000000\n",
       "9408     0.000000\n",
       "9409     0.000000\n",
       "9833     0.000000\n",
       "9834     0.000000\n",
       "9835     0.000000\n",
       "11170    0.000000\n",
       "11171    0.000000\n",
       "11172    0.000000\n",
       "11173    0.000000\n",
       "11174    0.000000\n",
       "           ...   \n",
       "30031    1.664754\n",
       "30032    1.419579\n",
       "30033    1.340514\n",
       "30034    1.302674\n",
       "30035    1.279728\n",
       "30052    5.378739\n",
       "30053    4.899534\n",
       "30054    4.670192\n",
       "30055    4.532210\n",
       "30089    0.876367\n",
       "30101    1.603419\n",
       "30103    4.392673\n",
       "30104    3.813525\n",
       "30105    3.508968\n",
       "30106    3.311621\n",
       "30107    3.170227\n",
       "30108    1.518769\n",
       "30164    2.022148\n",
       "30168    3.745831\n",
       "30186    2.767238\n",
       "30190    1.283589\n",
       "30191    3.177444\n",
       "30202    3.123592\n",
       "30203    2.577422\n",
       "30204    2.005062\n",
       "30205    1.707018\n",
       "30206    1.473277\n",
       "30207    1.398504\n",
       "30209    1.964544\n",
       "30212    4.000375\n",
       "Name: cost, Length: 7636, dtype: float64"
      ]
     },
     "execution_count": 55,
     "metadata": {},
     "output_type": "execute_result"
    }
   ],
   "source": [
    "X_val[target]"
   ]
  },
  {
   "cell_type": "code",
   "execution_count": 56,
   "metadata": {},
   "outputs": [
    {
     "data": {
      "text/plain": [
       "PermutationImportance(cv='prefit',\n",
       "           estimator=XGBRegressor(base_score=0.5, booster='gbtree', colsample_bylevel=1,\n",
       "       colsample_bytree=1, gamma=0, learning_rate=0.1, max_delta_step=0,\n",
       "       max_depth=20, min_child_weight=1, missing=None, n_estimators=100,\n",
       "       n_jobs=-1, nthread=None, objective='reg:linear', random_state=0,\n",
       "       reg_alpha=0, reg_lambda=1, scale_pos_weight=1, seed=None,\n",
       "       silent=True, subsample=1),\n",
       "           n_iter=5, random_state=42, refit=True,\n",
       "           scoring='neg_mean_squared_error')"
      ]
     },
     "execution_count": 56,
     "metadata": {},
     "output_type": "execute_result"
    }
   ],
   "source": [
    "permuter.fit(X_val_encode,X_val[target])"
   ]
  },
  {
   "cell_type": "code",
   "execution_count": 63,
   "metadata": {},
   "outputs": [],
   "source": [
    "names = list(X_val_encode.columns)"
   ]
  },
  {
   "cell_type": "code",
   "execution_count": 65,
   "metadata": {
    "scrolled": true
   },
   "outputs": [
    {
     "data": {
      "text/html": [
       "\n",
       "    <style>\n",
       "    table.eli5-weights tr:hover {\n",
       "        filter: brightness(85%);\n",
       "    }\n",
       "</style>\n",
       "\n",
       "\n",
       "\n",
       "    \n",
       "\n",
       "    \n",
       "\n",
       "    \n",
       "\n",
       "    \n",
       "\n",
       "    \n",
       "\n",
       "    \n",
       "\n",
       "\n",
       "    \n",
       "\n",
       "    \n",
       "\n",
       "    \n",
       "\n",
       "    \n",
       "\n",
       "    \n",
       "\n",
       "    \n",
       "\n",
       "\n",
       "    \n",
       "\n",
       "    \n",
       "\n",
       "    \n",
       "\n",
       "    \n",
       "\n",
       "    \n",
       "        <table class=\"eli5-weights eli5-feature-importances\" style=\"border-collapse: collapse; border: none; margin-top: 0em; table-layout: auto;\">\n",
       "    <thead>\n",
       "    <tr style=\"border: none;\">\n",
       "        <th style=\"padding: 0 1em 0 0.5em; text-align: right; border: none;\">Weight</th>\n",
       "        <th style=\"padding: 0 0.5em 0 0.5em; text-align: left; border: none;\">Feature</th>\n",
       "    </tr>\n",
       "    </thead>\n",
       "    <tbody>\n",
       "    \n",
       "        <tr style=\"background-color: hsl(120, 100.00%, 80.00%); border: none;\">\n",
       "            <td style=\"padding: 0 1em 0 0.5em; text-align: right; border: none;\">\n",
       "                0.7623\n",
       "                \n",
       "                    &plusmn; 0.0134\n",
       "                \n",
       "            </td>\n",
       "            <td style=\"padding: 0 0.5em 0 0.5em; text-align: left; border: none;\">\n",
       "                quantity\n",
       "            </td>\n",
       "        </tr>\n",
       "    \n",
       "        <tr style=\"background-color: hsl(120, 100.00%, 91.20%); border: none;\">\n",
       "            <td style=\"padding: 0 1em 0 0.5em; text-align: right; border: none;\">\n",
       "                0.2360\n",
       "                \n",
       "                    &plusmn; 0.0143\n",
       "                \n",
       "            </td>\n",
       "            <td style=\"padding: 0 0.5em 0 0.5em; text-align: left; border: none;\">\n",
       "                min_order_quantity\n",
       "            </td>\n",
       "        </tr>\n",
       "    \n",
       "        <tr style=\"background-color: hsl(120, 100.00%, 95.40%); border: none;\">\n",
       "            <td style=\"padding: 0 1em 0 0.5em; text-align: right; border: none;\">\n",
       "                0.0935\n",
       "                \n",
       "                    &plusmn; 0.0080\n",
       "                \n",
       "            </td>\n",
       "            <td style=\"padding: 0 0.5em 0 0.5em; text-align: left; border: none;\">\n",
       "                annual_usage\n",
       "            </td>\n",
       "        </tr>\n",
       "    \n",
       "        <tr style=\"background-color: hsl(120, 100.00%, 96.76%); border: none;\">\n",
       "            <td style=\"padding: 0 1em 0 0.5em; text-align: right; border: none;\">\n",
       "                0.0566\n",
       "                \n",
       "                    &plusmn; 0.0158\n",
       "                \n",
       "            </td>\n",
       "            <td style=\"padding: 0 0.5em 0 0.5em; text-align: left; border: none;\">\n",
       "                diameter\n",
       "            </td>\n",
       "        </tr>\n",
       "    \n",
       "        <tr style=\"background-color: hsl(120, 100.00%, 97.39%); border: none;\">\n",
       "            <td style=\"padding: 0 1em 0 0.5em; text-align: right; border: none;\">\n",
       "                0.0415\n",
       "                \n",
       "                    &plusmn; 0.0049\n",
       "                \n",
       "            </td>\n",
       "            <td style=\"padding: 0 0.5em 0 0.5em; text-align: left; border: none;\">\n",
       "                length\n",
       "            </td>\n",
       "        </tr>\n",
       "    \n",
       "        <tr style=\"background-color: hsl(120, 100.00%, 97.66%); border: none;\">\n",
       "            <td style=\"padding: 0 1em 0 0.5em; text-align: right; border: none;\">\n",
       "                0.0355\n",
       "                \n",
       "                    &plusmn; 0.0040\n",
       "                \n",
       "            </td>\n",
       "            <td style=\"padding: 0 0.5em 0 0.5em; text-align: left; border: none;\">\n",
       "                year\n",
       "            </td>\n",
       "        </tr>\n",
       "    \n",
       "        <tr style=\"background-color: hsl(120, 100.00%, 97.99%); border: none;\">\n",
       "            <td style=\"padding: 0 1em 0 0.5em; text-align: right; border: none;\">\n",
       "                0.0286\n",
       "                \n",
       "                    &plusmn; 0.0155\n",
       "                \n",
       "            </td>\n",
       "            <td style=\"padding: 0 0.5em 0 0.5em; text-align: left; border: none;\">\n",
       "                component_id_1\n",
       "            </td>\n",
       "        </tr>\n",
       "    \n",
       "        <tr style=\"background-color: hsl(120, 100.00%, 98.17%); border: none;\">\n",
       "            <td style=\"padding: 0 1em 0 0.5em; text-align: right; border: none;\">\n",
       "                0.0250\n",
       "                \n",
       "                    &plusmn; 0.0031\n",
       "                \n",
       "            </td>\n",
       "            <td style=\"padding: 0 0.5em 0 0.5em; text-align: left; border: none;\">\n",
       "                supplier_S-0054\n",
       "            </td>\n",
       "        </tr>\n",
       "    \n",
       "        <tr style=\"background-color: hsl(120, 100.00%, 98.32%); border: none;\">\n",
       "            <td style=\"padding: 0 1em 0 0.5em; text-align: right; border: none;\">\n",
       "                0.0221\n",
       "                \n",
       "                    &plusmn; 0.0037\n",
       "                \n",
       "            </td>\n",
       "            <td style=\"padding: 0 0.5em 0 0.5em; text-align: left; border: none;\">\n",
       "                supplier_S-0041\n",
       "            </td>\n",
       "        </tr>\n",
       "    \n",
       "        <tr style=\"background-color: hsl(120, 100.00%, 99.02%); border: none;\">\n",
       "            <td style=\"padding: 0 1em 0 0.5em; text-align: right; border: none;\">\n",
       "                0.0103\n",
       "                \n",
       "                    &plusmn; 0.0013\n",
       "                \n",
       "            </td>\n",
       "            <td style=\"padding: 0 0.5em 0 0.5em; text-align: left; border: none;\">\n",
       "                bend_radius\n",
       "            </td>\n",
       "        </tr>\n",
       "    \n",
       "        <tr style=\"background-color: hsl(120, 100.00%, 99.12%); border: none;\">\n",
       "            <td style=\"padding: 0 1em 0 0.5em; text-align: right; border: none;\">\n",
       "                0.0088\n",
       "                \n",
       "                    &plusmn; 0.0013\n",
       "                \n",
       "            </td>\n",
       "            <td style=\"padding: 0 0.5em 0 0.5em; text-align: left; border: none;\">\n",
       "                component_id_3\n",
       "            </td>\n",
       "        </tr>\n",
       "    \n",
       "        <tr style=\"background-color: hsl(120, 100.00%, 99.18%); border: none;\">\n",
       "            <td style=\"padding: 0 1em 0 0.5em; text-align: right; border: none;\">\n",
       "                0.0080\n",
       "                \n",
       "                    &plusmn; 0.0015\n",
       "                \n",
       "            </td>\n",
       "            <td style=\"padding: 0 0.5em 0 0.5em; text-align: left; border: none;\">\n",
       "                wall\n",
       "            </td>\n",
       "        </tr>\n",
       "    \n",
       "        <tr style=\"background-color: hsl(120, 100.00%, 99.19%); border: none;\">\n",
       "            <td style=\"padding: 0 1em 0 0.5em; text-align: right; border: none;\">\n",
       "                0.0078\n",
       "                \n",
       "                    &plusmn; 0.0018\n",
       "                \n",
       "            </td>\n",
       "            <td style=\"padding: 0 0.5em 0 0.5em; text-align: left; border: none;\">\n",
       "                supplier_S-0026\n",
       "            </td>\n",
       "        </tr>\n",
       "    \n",
       "        <tr style=\"background-color: hsl(120, 100.00%, 99.24%); border: none;\">\n",
       "            <td style=\"padding: 0 1em 0 0.5em; text-align: right; border: none;\">\n",
       "                0.0071\n",
       "                \n",
       "                    &plusmn; 0.0011\n",
       "                \n",
       "            </td>\n",
       "            <td style=\"padding: 0 0.5em 0 0.5em; text-align: left; border: none;\">\n",
       "                num_bends\n",
       "            </td>\n",
       "        </tr>\n",
       "    \n",
       "        <tr style=\"background-color: hsl(120, 100.00%, 99.34%); border: none;\">\n",
       "            <td style=\"padding: 0 1em 0 0.5em; text-align: right; border: none;\">\n",
       "                0.0059\n",
       "                \n",
       "                    &plusmn; 0.0018\n",
       "                \n",
       "            </td>\n",
       "            <td style=\"padding: 0 0.5em 0 0.5em; text-align: left; border: none;\">\n",
       "                quantity_1\n",
       "            </td>\n",
       "        </tr>\n",
       "    \n",
       "        <tr style=\"background-color: hsl(120, 100.00%, 99.43%); border: none;\">\n",
       "            <td style=\"padding: 0 1em 0 0.5em; text-align: right; border: none;\">\n",
       "                0.0047\n",
       "                \n",
       "                    &plusmn; 0.0032\n",
       "                \n",
       "            </td>\n",
       "            <td style=\"padding: 0 0.5em 0 0.5em; text-align: left; border: none;\">\n",
       "                component_id_2\n",
       "            </td>\n",
       "        </tr>\n",
       "    \n",
       "        <tr style=\"background-color: hsl(120, 100.00%, 99.44%); border: none;\">\n",
       "            <td style=\"padding: 0 1em 0 0.5em; text-align: right; border: none;\">\n",
       "                0.0046\n",
       "                \n",
       "                    &plusmn; 0.0008\n",
       "                \n",
       "            </td>\n",
       "            <td style=\"padding: 0 0.5em 0 0.5em; text-align: left; border: none;\">\n",
       "                forming_x_No\n",
       "            </td>\n",
       "        </tr>\n",
       "    \n",
       "        <tr style=\"background-color: hsl(120, 100.00%, 99.46%); border: none;\">\n",
       "            <td style=\"padding: 0 1em 0 0.5em; text-align: right; border: none;\">\n",
       "                0.0043\n",
       "                \n",
       "                    &plusmn; 0.0016\n",
       "                \n",
       "            </td>\n",
       "            <td style=\"padding: 0 0.5em 0 0.5em; text-align: left; border: none;\">\n",
       "                month\n",
       "            </td>\n",
       "        </tr>\n",
       "    \n",
       "        <tr style=\"background-color: hsl(120, 100.00%, 99.52%); border: none;\">\n",
       "            <td style=\"padding: 0 1em 0 0.5em; text-align: right; border: none;\">\n",
       "                0.0037\n",
       "                \n",
       "                    &plusmn; 0.0017\n",
       "                \n",
       "            </td>\n",
       "            <td style=\"padding: 0 0.5em 0 0.5em; text-align: left; border: none;\">\n",
       "                bracket_pricing_Yes\n",
       "            </td>\n",
       "        </tr>\n",
       "    \n",
       "        <tr style=\"background-color: hsl(120, 100.00%, 99.53%); border: none;\">\n",
       "            <td style=\"padding: 0 1em 0 0.5em; text-align: right; border: none;\">\n",
       "                0.0036\n",
       "                \n",
       "                    &plusmn; 0.0004\n",
       "                \n",
       "            </td>\n",
       "            <td style=\"padding: 0 0.5em 0 0.5em; text-align: left; border: none;\">\n",
       "                supplier_S-0072\n",
       "            </td>\n",
       "        </tr>\n",
       "    \n",
       "    \n",
       "        \n",
       "            <tr style=\"background-color: hsl(120, 100.00%, 99.53%); border: none;\">\n",
       "                <td colspan=\"2\" style=\"padding: 0 0.5em 0 0.5em; text-align: center; border: none; white-space: nowrap;\">\n",
       "                    <i>&hellip; 401 more &hellip;</i>\n",
       "                </td>\n",
       "            </tr>\n",
       "        \n",
       "    \n",
       "    </tbody>\n",
       "</table>\n",
       "    \n",
       "\n",
       "    \n",
       "\n",
       "\n",
       "    \n",
       "\n",
       "    \n",
       "\n",
       "    \n",
       "\n",
       "    \n",
       "\n",
       "    \n",
       "\n",
       "    \n",
       "\n",
       "\n",
       "\n"
      ],
      "text/plain": [
       "<IPython.core.display.HTML object>"
      ]
     },
     "execution_count": 65,
     "metadata": {},
     "output_type": "execute_result"
    }
   ],
   "source": [
    "eli5.show_weights(permuter,feature_names=names)"
   ]
  },
  {
   "cell_type": "code",
   "execution_count": 67,
   "metadata": {},
   "outputs": [
    {
     "data": {
      "text/plain": [
       "array([False, False, False, False, False, False, False, False, False,\n",
       "       False, False, False,  True, False, False, False, False, False,\n",
       "        True, False, False, False, False, False,  True, False, False,\n",
       "       False, False, False,  True, False, False, False, False, False,\n",
       "       False, False, False, False, False,  True, False,  True, False,\n",
       "       False, False, False, False, False, False, False, False, False,\n",
       "       False, False, False, False, False, False, False,  True,  True,\n",
       "       False, False, False, False, False, False, False, False, False,\n",
       "       False,  True, False, False, False, False, False, False, False,\n",
       "       False, False, False, False, False, False, False, False, False,\n",
       "       False, False, False,  True,  True, False, False, False, False,\n",
       "       False, False, False, False, False, False, False, False,  True,\n",
       "       False, False, False, False, False, False, False, False, False,\n",
       "       False, False, False, False, False, False, False, False, False,\n",
       "       False, False, False, False, False, False, False, False,  True,\n",
       "       False, False, False, False, False, False,  True, False, False,\n",
       "       False, False, False, False, False,  True, False, False, False,\n",
       "       False, False, False, False, False, False, False, False, False,\n",
       "       False, False, False, False, False,  True, False, False, False,\n",
       "       False, False, False, False, False, False, False, False, False,\n",
       "       False, False, False, False,  True, False, False, False, False,\n",
       "       False, False, False, False, False, False, False, False, False,\n",
       "       False, False, False,  True, False, False, False, False, False,\n",
       "        True, False, False, False, False, False, False, False, False,\n",
       "       False, False, False, False, False, False, False, False, False,\n",
       "       False, False, False, False, False, False, False,  True, False,\n",
       "       False, False, False, False,  True, False, False, False, False,\n",
       "       False, False, False, False, False, False, False, False, False,\n",
       "       False, False, False, False, False, False, False, False, False,\n",
       "       False, False, False, False, False, False, False, False, False,\n",
       "       False, False, False,  True, False,  True, False, False, False,\n",
       "        True, False,  True, False, False,  True, False,  True,  True,\n",
       "        True,  True, False, False,  True, False,  True, False,  True,\n",
       "        True, False, False, False,  True, False,  True, False, False,\n",
       "       False, False, False, False, False, False, False,  True, False,\n",
       "        True, False, False, False, False, False, False, False, False,\n",
       "       False, False, False, False, False, False, False, False, False,\n",
       "       False, False, False,  True, False, False, False, False, False,\n",
       "       False, False, False, False, False, False, False, False,  True,\n",
       "       False, False, False, False, False, False, False, False, False,\n",
       "       False, False, False, False, False, False, False, False, False,\n",
       "       False, False,  True, False, False, False, False, False, False,\n",
       "       False, False, False, False, False, False, False, False, False,\n",
       "       False, False, False,  True, False, False, False, False, False,\n",
       "       False, False, False, False, False, False, False, False, False,\n",
       "       False, False, False, False, False, False, False, False, False,\n",
       "       False, False, False, False, False, False, False])"
      ]
     },
     "execution_count": 67,
     "metadata": {},
     "output_type": "execute_result"
    }
   ],
   "source": [
    "permuter.feature_importances_ < 0"
   ]
  },
  {
   "cell_type": "code",
   "execution_count": 69,
   "metadata": {},
   "outputs": [
    {
     "name": "stdout",
     "output_type": "stream",
     "text": [
      "Collecting pdpbox\n",
      "Requirement already satisfied: psutil in /usr/local/anaconda3/lib/python3.7/site-packages (from pdpbox) (5.6.1)\n",
      "Requirement already satisfied: pandas in /usr/local/anaconda3/lib/python3.7/site-packages (from pdpbox) (0.24.2)\n",
      "Collecting joblib (from pdpbox)\n",
      "  Using cached https://files.pythonhosted.org/packages/cd/c1/50a758e8247561e58cb87305b1e90b171b8c767b15b12a1734001f41d356/joblib-0.13.2-py2.py3-none-any.whl\n",
      "Requirement already satisfied: matplotlib>=2.1.2 in /usr/local/anaconda3/lib/python3.7/site-packages (from pdpbox) (3.0.3)\n",
      "Requirement already satisfied: numpy in /usr/local/anaconda3/lib/python3.7/site-packages (from pdpbox) (1.16.2)\n",
      "Requirement already satisfied: scipy in /usr/local/anaconda3/lib/python3.7/site-packages (from pdpbox) (1.2.1)\n",
      "Requirement already satisfied: scikit-learn in /usr/local/anaconda3/lib/python3.7/site-packages (from pdpbox) (0.20.3)\n",
      "Requirement already satisfied: python-dateutil>=2.5.0 in /usr/local/anaconda3/lib/python3.7/site-packages (from pandas->pdpbox) (2.8.0)\n",
      "Requirement already satisfied: pytz>=2011k in /usr/local/anaconda3/lib/python3.7/site-packages (from pandas->pdpbox) (2018.9)\n",
      "Requirement already satisfied: cycler>=0.10 in /usr/local/anaconda3/lib/python3.7/site-packages (from matplotlib>=2.1.2->pdpbox) (0.10.0)\n",
      "Requirement already satisfied: kiwisolver>=1.0.1 in /usr/local/anaconda3/lib/python3.7/site-packages (from matplotlib>=2.1.2->pdpbox) (1.0.1)\n",
      "Requirement already satisfied: pyparsing!=2.0.4,!=2.1.2,!=2.1.6,>=2.0.1 in /usr/local/anaconda3/lib/python3.7/site-packages (from matplotlib>=2.1.2->pdpbox) (2.3.1)\n",
      "Requirement already satisfied: six>=1.5 in /usr/local/anaconda3/lib/python3.7/site-packages (from python-dateutil>=2.5.0->pandas->pdpbox) (1.12.0)\n",
      "Requirement already satisfied: setuptools in /usr/local/anaconda3/lib/python3.7/site-packages (from kiwisolver>=1.0.1->matplotlib>=2.1.2->pdpbox) (40.8.0)\n",
      "Installing collected packages: joblib, pdpbox\n",
      "Successfully installed joblib-0.13.2 pdpbox-0.2.0\n"
     ]
    }
   ],
   "source": [
    "!pip install pdpbox\n",
    "import pdpbox"
   ]
  },
  {
   "cell_type": "code",
   "execution_count": 70,
   "metadata": {},
   "outputs": [],
   "source": [
    "from pdpbox.pdp import pdp_isolate, pdp_plot"
   ]
  },
  {
   "cell_type": "code",
   "execution_count": 71,
   "metadata": {},
   "outputs": [],
   "source": [
    "iso = 'quantity'"
   ]
  },
  {
   "cell_type": "code",
   "execution_count": 73,
   "metadata": {},
   "outputs": [],
   "source": [
    "isolate = pdp_isolate(model,dataset=X_val_encode,model_features=X_val_encode.columns,feature=iso)"
   ]
  },
  {
   "cell_type": "code",
   "execution_count": 74,
   "metadata": {},
   "outputs": [
    {
     "data": {
      "text/plain": [
       "(<Figure size 1080x684 with 2 Axes>,\n",
       " {'title_ax': <matplotlib.axes._subplots.AxesSubplot at 0x1a35bdd7f0>,\n",
       "  'pdp_ax': <matplotlib.axes._subplots.AxesSubplot at 0x1a2c23d828>})"
      ]
     },
     "execution_count": 74,
     "metadata": {},
     "output_type": "execute_result"
    },
    {
     "data": {
      "image/png": "[encoded data removed]",
      "text/plain": [
       "<Figure size 1080x684 with 2 Axes>"
      ]
     },
     "metadata": {
      "needs_background": "light"
     },
     "output_type": "display_data"
    }
   ],
   "source": [
    "pdp_plot(isolate,iso)"
   ]
  },
  {
   "cell_type": "markdown",
   "metadata": {},
   "source": [
    "## Cross validation"
   ]
  },
  {
   "cell_type": "code",
   "execution_count": 76,
   "metadata": {},
   "outputs": [],
   "source": [
    "from sklearn.model_selection import cross_val_score"
   ]
  },
  {
   "cell_type": "code",
   "execution_count": 77,
   "metadata": {},
   "outputs": [
    {
     "data": {
      "text/plain": [
       "Pipeline(memory=None,\n",
       "     steps=[('ordinalencoder', OrdinalEncoder(cols=['component_id_3', 'component_id_2', 'component_id_1'],\n",
       "        drop_invariant=False, handle_unknown='impute', impute_missing=True,\n",
       "        mapping=[{'col': 'component_id_3', 'mapping': [(0, 1), ('C-1648', 2), ('C-1647', 3), ('C-1909', 4), ('C-0052', 5),...andle_unknown='impute', impute_missing=True,\n",
       "       return_df=True, use_cat_names=True, verbose=0))])"
      ]
     },
     "execution_count": 77,
     "metadata": {},
     "output_type": "execute_result"
    }
   ],
   "source": [
    "pipeline"
   ]
  },
  {
   "cell_type": "code",
   "execution_count": 78,
   "metadata": {},
   "outputs": [],
   "source": [
    "pipeline =  make_pipeline(ce.OrdinalEncoder(cols=ordinal_encode_cols),\n",
    "                   ce.OneHotEncoder(cols=hot_encode_cols,use_cat_names=True),\n",
    "                         xgb.XGBRegressor())"
   ]
  },
  {
   "cell_type": "code",
   "execution_count": 93,
   "metadata": {
    "scrolled": true
   },
   "outputs": [
    {
     "data": {
      "text/plain": [
       "7611     0.000000\n",
       "8180     0.000000\n",
       "8181     0.000000\n",
       "8182     0.000000\n",
       "8183     0.000000\n",
       "8184     0.000000\n",
       "8185     0.000000\n",
       "8186     0.000000\n",
       "8187     0.000000\n",
       "9134     0.000000\n",
       "9135     0.000000\n",
       "9136     0.000000\n",
       "9137     0.000000\n",
       "9138     0.000000\n",
       "9139     0.000000\n",
       "9140     0.000000\n",
       "9141     0.000000\n",
       "9148     0.000000\n",
       "9149     0.000000\n",
       "9350     0.000000\n",
       "9408     0.000000\n",
       "9409     0.000000\n",
       "9833     0.000000\n",
       "9834     0.000000\n",
       "9835     0.000000\n",
       "11170    0.000000\n",
       "11171    0.000000\n",
       "11172    0.000000\n",
       "11173    0.000000\n",
       "11174    0.000000\n",
       "           ...   \n",
       "30031    1.664754\n",
       "30032    1.419579\n",
       "30033    1.340514\n",
       "30034    1.302674\n",
       "30035    1.279728\n",
       "30052    5.378739\n",
       "30053    4.899534\n",
       "30054    4.670192\n",
       "30055    4.532210\n",
       "30089    0.876367\n",
       "30101    1.603419\n",
       "30103    4.392673\n",
       "30104    3.813525\n",
       "30105    3.508968\n",
       "30106    3.311621\n",
       "30107    3.170227\n",
       "30108    1.518769\n",
       "30164    2.022148\n",
       "30168    3.745831\n",
       "30186    2.767238\n",
       "30190    1.283589\n",
       "30191    3.177444\n",
       "30202    3.123592\n",
       "30203    2.577422\n",
       "30204    2.005062\n",
       "30205    1.707018\n",
       "30206    1.473277\n",
       "30207    1.398504\n",
       "30209    1.964544\n",
       "30212    4.000375\n",
       "Name: cost, Length: 7636, dtype: float64"
      ]
     },
     "execution_count": 93,
     "metadata": {},
     "output_type": "execute_result"
    }
   ],
   "source": [
    "X_val['cost']"
   ]
  },
  {
   "cell_type": "code",
   "execution_count": 87,
   "metadata": {
    "scrolled": true
   },
   "outputs": [
    {
     "data": {
      "text/html": [
       "<div>\n",
       "<style scoped>\n",
       "    .dataframe tbody tr th:only-of-type {\n",
       "        vertical-align: middle;\n",
       "    }\n",
       "\n",
       "    .dataframe tbody tr th {\n",
       "        vertical-align: top;\n",
       "    }\n",
       "\n",
       "    .dataframe thead th {\n",
       "        text-align: right;\n",
       "    }\n",
       "</style>\n",
       "<table border=\"1\" class=\"dataframe\">\n",
       "  <thead>\n",
       "    <tr style=\"text-align: right;\">\n",
       "      <th></th>\n",
       "      <th>bracket_pricing</th>\n",
       "      <th>component_id_1</th>\n",
       "      <th>component_id_2</th>\n",
       "      <th>component_id_3</th>\n",
       "      <th>component_id_4</th>\n",
       "      <th>component_id_5</th>\n",
       "      <th>component_id_6</th>\n",
       "      <th>component_id_7</th>\n",
       "      <th>component_id_8</th>\n",
       "      <th>end_a</th>\n",
       "      <th>end_a_1x</th>\n",
       "      <th>end_a_2x</th>\n",
       "      <th>end_x</th>\n",
       "      <th>end_x_1x</th>\n",
       "      <th>end_x_2x</th>\n",
       "      <th>forming_a</th>\n",
       "      <th>forming_x</th>\n",
       "      <th>material_id</th>\n",
       "      <th>name</th>\n",
       "      <th>supplier</th>\n",
       "    </tr>\n",
       "  </thead>\n",
       "  <tbody>\n",
       "    <tr>\n",
       "      <th>count</th>\n",
       "      <td>7636</td>\n",
       "      <td>7636</td>\n",
       "      <td>7636</td>\n",
       "      <td>7636</td>\n",
       "      <td>7636</td>\n",
       "      <td>7636</td>\n",
       "      <td>7636</td>\n",
       "      <td>7636</td>\n",
       "      <td>7636</td>\n",
       "      <td>7636</td>\n",
       "      <td>7636</td>\n",
       "      <td>7636</td>\n",
       "      <td>7636</td>\n",
       "      <td>7636</td>\n",
       "      <td>7636</td>\n",
       "      <td>7636</td>\n",
       "      <td>7636</td>\n",
       "      <td>7636</td>\n",
       "      <td>7636</td>\n",
       "      <td>7636</td>\n",
       "    </tr>\n",
       "    <tr>\n",
       "      <th>unique</th>\n",
       "      <td>2</td>\n",
       "      <td>271</td>\n",
       "      <td>194</td>\n",
       "      <td>140</td>\n",
       "      <td>43</td>\n",
       "      <td>10</td>\n",
       "      <td>3</td>\n",
       "      <td>2</td>\n",
       "      <td>1</td>\n",
       "      <td>21</td>\n",
       "      <td>2</td>\n",
       "      <td>2</td>\n",
       "      <td>24</td>\n",
       "      <td>2</td>\n",
       "      <td>2</td>\n",
       "      <td>3</td>\n",
       "      <td>3</td>\n",
       "      <td>16</td>\n",
       "      <td>63</td>\n",
       "      <td>34</td>\n",
       "    </tr>\n",
       "    <tr>\n",
       "      <th>top</th>\n",
       "      <td>Yes</td>\n",
       "      <td>C-1621</td>\n",
       "      <td>0</td>\n",
       "      <td>0</td>\n",
       "      <td>0</td>\n",
       "      <td>0</td>\n",
       "      <td>0</td>\n",
       "      <td>0</td>\n",
       "      <td>0</td>\n",
       "      <td>EF-003</td>\n",
       "      <td>N</td>\n",
       "      <td>N</td>\n",
       "      <td>EF-003</td>\n",
       "      <td>N</td>\n",
       "      <td>N</td>\n",
       "      <td>No</td>\n",
       "      <td>No</td>\n",
       "      <td>SP-0029</td>\n",
       "      <td>NUT-SWIVEL</td>\n",
       "      <td>S-0066</td>\n",
       "    </tr>\n",
       "    <tr>\n",
       "      <th>freq</th>\n",
       "      <td>6652</td>\n",
       "      <td>1029</td>\n",
       "      <td>2317</td>\n",
       "      <td>5818</td>\n",
       "      <td>7446</td>\n",
       "      <td>7623</td>\n",
       "      <td>7632</td>\n",
       "      <td>7633</td>\n",
       "      <td>7636</td>\n",
       "      <td>4506</td>\n",
       "      <td>7442</td>\n",
       "      <td>7043</td>\n",
       "      <td>4445</td>\n",
       "      <td>7514</td>\n",
       "      <td>7149</td>\n",
       "      <td>4726</td>\n",
       "      <td>4616</td>\n",
       "      <td>4178</td>\n",
       "      <td>3690</td>\n",
       "      <td>5312</td>\n",
       "    </tr>\n",
       "  </tbody>\n",
       "</table>\n",
       "</div>"
      ],
      "text/plain": [
       "       bracket_pricing component_id_1  component_id_2  component_id_3  \\\n",
       "count             7636           7636            7636            7636   \n",
       "unique               2            271             194             140   \n",
       "top                Yes         C-1621               0               0   \n",
       "freq              6652           1029            2317            5818   \n",
       "\n",
       "        component_id_4  component_id_5  component_id_6  component_id_7  \\\n",
       "count             7636            7636            7636            7636   \n",
       "unique              43              10               3               2   \n",
       "top                  0               0               0               0   \n",
       "freq              7446            7623            7632            7633   \n",
       "\n",
       "        component_id_8   end_a end_a_1x end_a_2x   end_x end_x_1x end_x_2x  \\\n",
       "count             7636    7636     7636     7636    7636     7636     7636   \n",
       "unique               1      21        2        2      24        2        2   \n",
       "top                  0  EF-003        N        N  EF-003        N        N   \n",
       "freq              7636    4506     7442     7043    4445     7514     7149   \n",
       "\n",
       "       forming_a forming_x material_id        name supplier  \n",
       "count       7636      7636        7636        7636     7636  \n",
       "unique         3         3          16          63       34  \n",
       "top           No        No     SP-0029  NUT-SWIVEL   S-0066  \n",
       "freq        4726      4616        4178        3690     5312  "
      ]
     },
     "execution_count": 87,
     "metadata": {},
     "output_type": "execute_result"
    }
   ],
   "source": [
    "X_val.describe(exclude='number')"
   ]
  },
  {
   "cell_type": "code",
   "execution_count": 95,
   "metadata": {},
   "outputs": [
    {
     "name": "stderr",
     "output_type": "stream",
     "text": [
      "[Parallel(n_jobs=-1)]: Using backend LokyBackend with 12 concurrent workers.\n",
      "[Parallel(n_jobs=-1)]: Done   3 out of   3 | elapsed:    2.6s remaining:    0.0s\n",
      "[Parallel(n_jobs=-1)]: Done   3 out of   3 | elapsed:    2.6s finished\n"
     ]
    }
   ],
   "source": [
    "k_folds = 3\n",
    "groups = X_val['component_id_1']\n",
    "scores = cross_val_score(pipeline,X=X_val[features],y=X_val[target],cv=k_folds,\n",
    "                n_jobs=-1,verbose=10,scoring='neg_mean_squared_error',\n",
    "               groups=groups)"
   ]
  },
  {
   "cell_type": "code",
   "execution_count": 96,
   "metadata": {},
   "outputs": [
    {
     "name": "stdout",
     "output_type": "stream",
     "text": [
      "RMSLE for 3 folds: [0.51511055 0.43469925 0.44743515]\n"
     ]
    }
   ],
   "source": [
    "print(f'RMSLE for {k_folds} folds:', np.sqrt(-scores))"
   ]
  },
  {
   "cell_type": "markdown",
   "metadata": {},
   "source": [
    "## Hyperparameters"
   ]
  },
  {
   "cell_type": "code",
   "execution_count": 99,
   "metadata": {
    "scrolled": true
   },
   "outputs": [
    {
     "data": {
      "text/plain": [
       "3738     0.000000\n",
       "3739     0.000000\n",
       "3740     0.000000\n",
       "5942     0.000000\n",
       "7047     0.000000\n",
       "7048     0.000000\n",
       "7049     0.000000\n",
       "7050     0.000000\n",
       "7051     0.000000\n",
       "7052     0.000000\n",
       "7053     0.000000\n",
       "7054     0.000000\n",
       "7055     0.000000\n",
       "7056     0.000000\n",
       "7057     0.000000\n",
       "7058     0.000000\n",
       "7059     0.000000\n",
       "7060     0.000000\n",
       "7081     0.000000\n",
       "7082     0.000000\n",
       "7083     0.000000\n",
       "7084     0.000000\n",
       "7085     0.000000\n",
       "7086     0.000000\n",
       "7087     0.000000\n",
       "7088     0.000000\n",
       "7089     0.000000\n",
       "7090     0.000000\n",
       "7091     0.000000\n",
       "7092     0.000000\n",
       "           ...   \n",
       "30172    3.438609\n",
       "30173    2.893214\n",
       "30174    2.372937\n",
       "30175    0.534528\n",
       "30176    1.368514\n",
       "30177    2.108193\n",
       "30178    2.944874\n",
       "30179    2.664408\n",
       "30180    2.487707\n",
       "30181    2.364343\n",
       "30182    2.172321\n",
       "30183    2.191468\n",
       "30184    2.831553\n",
       "30185    2.234670\n",
       "30187    1.724032\n",
       "30188    1.928804\n",
       "30189    2.849263\n",
       "30192    2.200444\n",
       "30193    2.060086\n",
       "30194    1.983478\n",
       "30195    1.900511\n",
       "30196    1.875240\n",
       "30197    1.840963\n",
       "30198    1.940060\n",
       "30199    4.263768\n",
       "30200    4.295208\n",
       "30201    3.387290\n",
       "30208    1.938059\n",
       "30210    1.802721\n",
       "30211    2.955647\n",
       "Name: cost, Length: 22577, dtype: float64"
      ]
     },
     "execution_count": 99,
     "metadata": {},
     "output_type": "execute_result"
    }
   ],
   "source": [
    "X_train['cost']"
   ]
  },
  {
   "cell_type": "code",
   "execution_count": 103,
   "metadata": {},
   "outputs": [],
   "source": [
    "groups = X_train['component_id_1']"
   ]
  },
  {
   "cell_type": "code",
   "execution_count": 104,
   "metadata": {},
   "outputs": [
    {
     "name": "stdout",
     "output_type": "stream",
     "text": [
      "Fitting 2 folds for each of 5 candidates, totalling 10 fits\n"
     ]
    },
    {
     "name": "stderr",
     "output_type": "stream",
     "text": [
      "[Parallel(n_jobs=-1)]: Using backend LokyBackend with 12 concurrent workers.\n",
      "[Parallel(n_jobs=-1)]: Done   3 out of  10 | elapsed:    6.2s remaining:   14.5s\n",
      "[Parallel(n_jobs=-1)]: Done   5 out of  10 | elapsed:    8.8s remaining:    8.8s\n",
      "[Parallel(n_jobs=-1)]: Done   7 out of  10 | elapsed:    9.3s remaining:    4.0s\n",
      "[Parallel(n_jobs=-1)]: Done  10 out of  10 | elapsed:   13.7s finished\n"
     ]
    },
    {
     "data": {
      "text/plain": [
       "RandomizedSearchCV(cv=2, error_score='raise-deprecating',\n",
       "          estimator=Pipeline(memory=None,\n",
       "     steps=[('ordinalencoder', OrdinalEncoder(cols=None, drop_invariant=False, handle_unknown='impute',\n",
       "        impute_missing=True, mapping=None, return_df=True, verbose=0)), ('xgbregressor', XGBRegressor(base_score=0.5, booster='gbtree', colsample_bylevel=1,\n",
       "       colsample_bytree=1, gamma=0, learning...\n",
       "       reg_alpha=0, reg_lambda=1, scale_pos_weight=1, seed=None,\n",
       "       silent=True, subsample=1))]),\n",
       "          fit_params=None, iid='warn', n_iter=5, n_jobs=-1,\n",
       "          param_distributions={'xgbregressor__n_estimators': <scipy.stats._distn_infrastructure.rv_frozen object at 0x1a3694dcc0>, 'xgbregressor__max_depth': <scipy.stats._distn_infrastructure.rv_frozen object at 0x1a3694d208>},\n",
       "          pre_dispatch='2*n_jobs', random_state=None, refit=True,\n",
       "          return_train_score=True, scoring='neg_mean_squared_error',\n",
       "          verbose=10)"
      ]
     },
     "execution_count": 104,
     "metadata": {},
     "output_type": "execute_result"
    }
   ],
   "source": [
    "from scipy.stats import randint, uniform\n",
    "from sklearn.model_selection import RandomizedSearchCV\n",
    "\n",
    "pipeline = make_pipeline(\n",
    "    ce.OrdinalEncoder(),\n",
    "    xgb.XGBRegressor(random_state=42)\n",
    ")\n",
    "\n",
    "param_distributions = {\n",
    "    'xgbregressor__n_estimators': randint(500, 1000),\n",
    "    'xgbregressor__max_depth': randint(3, 7)\n",
    "}\n",
    "\n",
    "search = RandomizedSearchCV(\n",
    "    pipeline,\n",
    "    param_distributions=param_distributions,\n",
    "    n_iter=5,\n",
    "    cv=2,\n",
    "    scoring='neg_mean_squared_error',\n",
    "    verbose=10,\n",
    "    return_train_score=True,\n",
    "    n_jobs=-1\n",
    ")\n",
    "\n",
    "search.fit(X_train[features], X_train['cost'], groups=groups)"
   ]
  },
  {
   "cell_type": "code",
   "execution_count": 105,
   "metadata": {},
   "outputs": [
    {
     "name": "stdout",
     "output_type": "stream",
     "text": [
      "Best hyperparameters {'xgbregressor__max_depth': 6, 'xgbregressor__n_estimators': 789}\n",
      "Cross-validation RMSLE 0.4851038480964899\n"
     ]
    }
   ],
   "source": [
    "print('Best hyperparameters', search.best_params_)\n",
    "print('Cross-validation RMSLE', np.sqrt(-search.best_score_))"
   ]
  },
  {
   "cell_type": "code",
   "execution_count": null,
   "metadata": {},
   "outputs": [],
   "source": []
  }
 ],
 "metadata": {
  "kernelspec": {
   "display_name": "Python 3",
   "language": "python",
   "name": "python3"
  },
  "language_info": {
   "codemirror_mode": {
    "name": "ipython",
    "version": 3
   },
   "file_extension": ".py",
   "mimetype": "text/x-python",
   "name": "python",
   "nbconvert_exporter": "python",
   "pygments_lexer": "ipython3",
   "version": "3.7.3"
  },
  "varInspector": {
   "cols": {
    "lenName": 16,
    "lenType": 16,
    "lenVar": 40
   },
   "kernels_config": {
    "python": {
     "delete_cmd_postfix": "",
     "delete_cmd_prefix": "del ",
     "library": "var_list.py",
     "varRefreshCmd": "print(var_dic_list())"
    },
    "r": {
     "delete_cmd_postfix": ") ",
     "delete_cmd_prefix": "rm(",
     "library": "var_list.r",
     "varRefreshCmd": "cat(var_dic_list()) "
    }
   },
   "types_to_exclude": [
    "module",
    "function",
    "builtin_function_or_method",
    "instance",
    "_Feature"
   ],
   "window_display": false
  }
 },
 "nbformat": 4,
 "nbformat_minor": 2
}
