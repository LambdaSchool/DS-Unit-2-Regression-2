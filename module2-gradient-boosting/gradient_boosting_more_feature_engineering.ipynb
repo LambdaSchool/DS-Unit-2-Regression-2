{
 "cells": [
  {
   "cell_type": "markdown",
   "metadata": {},
   "source": [
    "_Lambda School Data Science — Regression 2_ \n",
    "\n",
    "This sprint, your project is Caterpillar Tube Pricing: Predict the prices suppliers will quote for industrial tube assemblies.\n",
    "\n",
    "# Gradient Boosting, More Feature Engineering\n",
    "\n",
    "\n",
    "#### Objectives\n",
    "- Do feature engineering with relational data\n",
    "- Use xgboost for gradient boosting"
   ]
  },
  {
   "cell_type": "markdown",
   "metadata": {},
   "source": [
    "#### Python libraries for Gradient Boosting\n",
    "- [scikit-learn Gradient Tree Boosting](https://scikit-learn.org/stable/modules/ensemble.html#gradient-boosting) — slower than other libraries, but [the new version may be better](https://twitter.com/amuellerml/status/1129443826945396737)\n",
    "  - Anaconda: already installed\n",
    "  - Google Colab: already installed\n",
    "- [xgboost](https://xgboost.readthedocs.io/en/latest/) — can accept missing values and enforce [monotonic constraints](https://xiaoxiaowang87.github.io/monotonicity_constraint/)\n",
    "  - Anaconda, Mac/Linux: `conda install -c conda-forge xgboost`\n",
    "  - Windows: `conda install -c anaconda py-xgboost`\n",
    "  - Google Colab: already installed\n",
    "- [LightGBM](https://lightgbm.readthedocs.io/en/latest/) — can accept missing values and enforce [monotonic constraints](https://blog.datadive.net/monotonicity-constraints-in-machine-learning/)\n",
    "  - Anaconda: `conda install -c conda-forge lightgbm`\n",
    "  - Google Colab: already installed\n",
    "- [CatBoost](https://catboost.ai/) — can accept missing values and use [categorical features](https://catboost.ai/docs/concepts/algorithm-main-stages_cat-to-numberic.html) without preprocessing\n",
    "  - Anaconda: `conda install -c conda-forge catboost`\n",
    "  - Google Colab: `pip install catboost`"
   ]
  },
  {
   "cell_type": "markdown",
   "metadata": {},
   "source": [
    "### Get data\n",
    "\n",
    "\n",
    "#### Option 1. Kaggle web UI\n",
    " \n",
    "Sign in to Kaggle and go to the [Caterpillar Tube Pricing](https://www.kaggle.com/c/caterpillar-tube-pricing) competition. Go to the Data page. After you have accepted the rules of the competition, use the download buttons to download the data.\n",
    "\n",
    "\n",
    "#### Option 2. Kaggle API\n",
    "\n",
    "Follow these [instructions](https://github.com/Kaggle/kaggle-api).\n",
    "\n",
    "#### Option 3. Google Drive\n",
    "\n",
    "Download [zip file](https://drive.google.com/uc?export=download&id=1oGky3xR6133pub7S4zIEFbF4x1I87jvC) from Google Drive."
   ]
  },
  {
   "cell_type": "code",
   "execution_count": null,
   "metadata": {},
   "outputs": [],
   "source": [
    "# from google.colab import files\n",
    "# files.upload()"
   ]
  },
  {
   "cell_type": "code",
   "execution_count": null,
   "metadata": {},
   "outputs": [],
   "source": [
    "# !unzip caterpillar-tube-pricing.zip"
   ]
  },
  {
   "cell_type": "code",
   "execution_count": null,
   "metadata": {},
   "outputs": [],
   "source": [
    "# !unzip data.zip"
   ]
  },
  {
   "cell_type": "markdown",
   "metadata": {},
   "source": [
    "## Do feature engineering with relational data\n",
    "\n",
    "Here are some questions — not answers!\n",
    "\n",
    "### `bill_of_materials`\n",
    "\n",
    "is formatted like this:"
   ]
  },
  {
   "cell_type": "code",
   "execution_count": 3,
   "metadata": {},
   "outputs": [
    {
     "data": {
      "text/html": [
       "<div>\n",
       "<style scoped>\n",
       "    .dataframe tbody tr th:only-of-type {\n",
       "        vertical-align: middle;\n",
       "    }\n",
       "\n",
       "    .dataframe tbody tr th {\n",
       "        vertical-align: top;\n",
       "    }\n",
       "\n",
       "    .dataframe thead th {\n",
       "        text-align: right;\n",
       "    }\n",
       "</style>\n",
       "<table border=\"1\" class=\"dataframe\">\n",
       "  <thead>\n",
       "    <tr style=\"text-align: right;\">\n",
       "      <th></th>\n",
       "      <th>tube_assembly_id</th>\n",
       "      <th>component_id_1</th>\n",
       "      <th>quantity_1</th>\n",
       "      <th>component_id_2</th>\n",
       "      <th>quantity_2</th>\n",
       "      <th>component_id_3</th>\n",
       "      <th>quantity_3</th>\n",
       "      <th>component_id_4</th>\n",
       "      <th>quantity_4</th>\n",
       "      <th>component_id_5</th>\n",
       "      <th>quantity_5</th>\n",
       "      <th>component_id_6</th>\n",
       "      <th>quantity_6</th>\n",
       "      <th>component_id_7</th>\n",
       "      <th>quantity_7</th>\n",
       "      <th>component_id_8</th>\n",
       "      <th>quantity_8</th>\n",
       "    </tr>\n",
       "  </thead>\n",
       "  <tbody>\n",
       "    <tr>\n",
       "      <th>0</th>\n",
       "      <td>TA-00001</td>\n",
       "      <td>C-1622</td>\n",
       "      <td>2.0</td>\n",
       "      <td>C-1629</td>\n",
       "      <td>2.0</td>\n",
       "      <td>NaN</td>\n",
       "      <td>NaN</td>\n",
       "      <td>NaN</td>\n",
       "      <td>NaN</td>\n",
       "      <td>NaN</td>\n",
       "      <td>NaN</td>\n",
       "      <td>NaN</td>\n",
       "      <td>NaN</td>\n",
       "      <td>NaN</td>\n",
       "      <td>NaN</td>\n",
       "      <td>NaN</td>\n",
       "      <td>NaN</td>\n",
       "    </tr>\n",
       "    <tr>\n",
       "      <th>1</th>\n",
       "      <td>TA-00002</td>\n",
       "      <td>C-1312</td>\n",
       "      <td>2.0</td>\n",
       "      <td>NaN</td>\n",
       "      <td>NaN</td>\n",
       "      <td>NaN</td>\n",
       "      <td>NaN</td>\n",
       "      <td>NaN</td>\n",
       "      <td>NaN</td>\n",
       "      <td>NaN</td>\n",
       "      <td>NaN</td>\n",
       "      <td>NaN</td>\n",
       "      <td>NaN</td>\n",
       "      <td>NaN</td>\n",
       "      <td>NaN</td>\n",
       "      <td>NaN</td>\n",
       "      <td>NaN</td>\n",
       "    </tr>\n",
       "    <tr>\n",
       "      <th>2</th>\n",
       "      <td>TA-00003</td>\n",
       "      <td>C-1312</td>\n",
       "      <td>2.0</td>\n",
       "      <td>NaN</td>\n",
       "      <td>NaN</td>\n",
       "      <td>NaN</td>\n",
       "      <td>NaN</td>\n",
       "      <td>NaN</td>\n",
       "      <td>NaN</td>\n",
       "      <td>NaN</td>\n",
       "      <td>NaN</td>\n",
       "      <td>NaN</td>\n",
       "      <td>NaN</td>\n",
       "      <td>NaN</td>\n",
       "      <td>NaN</td>\n",
       "      <td>NaN</td>\n",
       "      <td>NaN</td>\n",
       "    </tr>\n",
       "    <tr>\n",
       "      <th>3</th>\n",
       "      <td>TA-00004</td>\n",
       "      <td>C-1312</td>\n",
       "      <td>2.0</td>\n",
       "      <td>NaN</td>\n",
       "      <td>NaN</td>\n",
       "      <td>NaN</td>\n",
       "      <td>NaN</td>\n",
       "      <td>NaN</td>\n",
       "      <td>NaN</td>\n",
       "      <td>NaN</td>\n",
       "      <td>NaN</td>\n",
       "      <td>NaN</td>\n",
       "      <td>NaN</td>\n",
       "      <td>NaN</td>\n",
       "      <td>NaN</td>\n",
       "      <td>NaN</td>\n",
       "      <td>NaN</td>\n",
       "    </tr>\n",
       "    <tr>\n",
       "      <th>4</th>\n",
       "      <td>TA-00005</td>\n",
       "      <td>C-1624</td>\n",
       "      <td>1.0</td>\n",
       "      <td>C-1631</td>\n",
       "      <td>1.0</td>\n",
       "      <td>C-1641</td>\n",
       "      <td>1.0</td>\n",
       "      <td>NaN</td>\n",
       "      <td>NaN</td>\n",
       "      <td>NaN</td>\n",
       "      <td>NaN</td>\n",
       "      <td>NaN</td>\n",
       "      <td>NaN</td>\n",
       "      <td>NaN</td>\n",
       "      <td>NaN</td>\n",
       "      <td>NaN</td>\n",
       "      <td>NaN</td>\n",
       "    </tr>\n",
       "  </tbody>\n",
       "</table>\n",
       "</div>"
      ],
      "text/plain": [
       "  tube_assembly_id component_id_1  quantity_1 component_id_2  quantity_2  \\\n",
       "0         TA-00001         C-1622         2.0         C-1629         2.0   \n",
       "1         TA-00002         C-1312         2.0            NaN         NaN   \n",
       "2         TA-00003         C-1312         2.0            NaN         NaN   \n",
       "3         TA-00004         C-1312         2.0            NaN         NaN   \n",
       "4         TA-00005         C-1624         1.0         C-1631         1.0   \n",
       "\n",
       "  component_id_3  quantity_3 component_id_4  quantity_4 component_id_5  \\\n",
       "0            NaN         NaN            NaN         NaN            NaN   \n",
       "1            NaN         NaN            NaN         NaN            NaN   \n",
       "2            NaN         NaN            NaN         NaN            NaN   \n",
       "3            NaN         NaN            NaN         NaN            NaN   \n",
       "4         C-1641         1.0            NaN         NaN            NaN   \n",
       "\n",
       "   quantity_5 component_id_6  quantity_6 component_id_7  quantity_7  \\\n",
       "0         NaN            NaN         NaN            NaN         NaN   \n",
       "1         NaN            NaN         NaN            NaN         NaN   \n",
       "2         NaN            NaN         NaN            NaN         NaN   \n",
       "3         NaN            NaN         NaN            NaN         NaN   \n",
       "4         NaN            NaN         NaN            NaN         NaN   \n",
       "\n",
       "  component_id_8  quantity_8  \n",
       "0            NaN         NaN  \n",
       "1            NaN         NaN  \n",
       "2            NaN         NaN  \n",
       "3            NaN         NaN  \n",
       "4            NaN         NaN  "
      ]
     },
     "execution_count": 3,
     "metadata": {},
     "output_type": "execute_result"
    }
   ],
   "source": [
    "import pandas as pd\n",
    "materials = pd.read_csv('competition_data/bill_of_materials.csv')\n",
    "materials.head()"
   ]
  },
  {
   "cell_type": "code",
   "execution_count": 4,
   "metadata": {},
   "outputs": [
    {
     "data": {
      "text/plain": [
       "tube_assembly_id    0.000000\n",
       "component_id_1      0.096660\n",
       "quantity_1          0.096660\n",
       "component_id_2      0.302481\n",
       "quantity_2          0.302481\n",
       "component_id_3      0.773988\n",
       "quantity_3          0.773658\n",
       "component_id_4      0.971365\n",
       "quantity_4          0.971318\n",
       "component_id_5      0.995660\n",
       "quantity_5          0.995660\n",
       "component_id_6      0.998773\n",
       "quantity_6          0.998773\n",
       "component_id_7      0.999670\n",
       "quantity_7          0.999670\n",
       "component_id_8      0.999953\n",
       "quantity_8          0.999953\n",
       "dtype: float64"
      ]
     },
     "execution_count": 4,
     "metadata": {},
     "output_type": "execute_result"
    }
   ],
   "source": [
    "materials.isnull().sum() / len(materials)"
   ]
  },
  {
   "cell_type": "markdown",
   "metadata": {},
   "source": [
    "#### Would this be a better representation?\n",
    "\n",
    "Could pandas melt, crosstab, and other functions help reshape the data like this?"
   ]
  },
  {
   "cell_type": "markdown",
   "metadata": {},
   "source": [
    "| Crosstab | C-1622 | C-1629 | C-1312 | C-1624 | C-1631 | C-1641 | Distinct | Total |\n",
    "|:--------:|:------:|--------|--------|--------|--------|--------|----------|-------|\n",
    "| TA-00001 | 2      | 2      | 0      | 0      | 0      | 0      | 2        | 4     |\n",
    "| TA-00002 | 0      | 0      | 2      | 0      | 0      | 0      | 1        | 2     |\n",
    "| TA-00003 | 0      | 0      | 2      | 0      | 0      | 0      | 1        | 2     |\n",
    "| TA-00004 | 0      | 0      | 2      | 0      | 0      | 0      | 1        | 2     |\n",
    "| TA-00005 | 0      | 0      | 0      | 1      | 1      | 1      | 3        | 3     |"
   ]
  },
  {
   "cell_type": "code",
   "execution_count": null,
   "metadata": {},
   "outputs": [],
   "source": []
  },
  {
   "cell_type": "markdown",
   "metadata": {},
   "source": [
    "### `components`\n",
    "\n",
    "Contains three representations of each component, in order of decreasing cardinality / granularity:\n",
    "\n",
    "- `component_id`\n",
    "- `name`\n",
    "- `component_type_id`\n",
    "\n",
    "What are the pros & cons of these different representations?"
   ]
  },
  {
   "cell_type": "code",
   "execution_count": 5,
   "metadata": {},
   "outputs": [
    {
     "data": {
      "text/html": [
       "<div>\n",
       "<style scoped>\n",
       "    .dataframe tbody tr th:only-of-type {\n",
       "        vertical-align: middle;\n",
       "    }\n",
       "\n",
       "    .dataframe tbody tr th {\n",
       "        vertical-align: top;\n",
       "    }\n",
       "\n",
       "    .dataframe thead th {\n",
       "        text-align: right;\n",
       "    }\n",
       "</style>\n",
       "<table border=\"1\" class=\"dataframe\">\n",
       "  <thead>\n",
       "    <tr style=\"text-align: right;\">\n",
       "      <th></th>\n",
       "      <th>component_id</th>\n",
       "      <th>name</th>\n",
       "      <th>component_type_id</th>\n",
       "    </tr>\n",
       "  </thead>\n",
       "  <tbody>\n",
       "    <tr>\n",
       "      <th>count</th>\n",
       "      <td>2048</td>\n",
       "      <td>2047</td>\n",
       "      <td>2048</td>\n",
       "    </tr>\n",
       "    <tr>\n",
       "      <th>unique</th>\n",
       "      <td>2048</td>\n",
       "      <td>297</td>\n",
       "      <td>29</td>\n",
       "    </tr>\n",
       "    <tr>\n",
       "      <th>top</th>\n",
       "      <td>C-0895</td>\n",
       "      <td>FLANGE</td>\n",
       "      <td>OTHER</td>\n",
       "    </tr>\n",
       "    <tr>\n",
       "      <th>freq</th>\n",
       "      <td>1</td>\n",
       "      <td>350</td>\n",
       "      <td>1006</td>\n",
       "    </tr>\n",
       "  </tbody>\n",
       "</table>\n",
       "</div>"
      ],
      "text/plain": [
       "       component_id    name component_type_id\n",
       "count          2048    2047              2048\n",
       "unique         2048     297                29\n",
       "top          C-0895  FLANGE             OTHER\n",
       "freq              1     350              1006"
      ]
     },
     "execution_count": 5,
     "metadata": {},
     "output_type": "execute_result"
    }
   ],
   "source": [
    "components = pd.read_csv('competition_data/components.csv')\n",
    "components.describe()"
   ]
  },
  {
   "cell_type": "markdown",
   "metadata": {},
   "source": [
    "## Example solution for last assignment 🚜"
   ]
  },
  {
   "cell_type": "code",
   "execution_count": 6,
   "metadata": {},
   "outputs": [],
   "source": [
    "# !pip install category_encoders"
   ]
  },
  {
   "cell_type": "code",
   "execution_count": 7,
   "metadata": {},
   "outputs": [
    {
     "name": "stdout",
     "output_type": "stream",
     "text": [
      "Validation Error 0.2946234726396677\n"
     ]
    }
   ],
   "source": [
    "import category_encoders as ce\n",
    "import pandas as pd\n",
    "import numpy as np\n",
    "from sklearn.ensemble import RandomForestRegressor\n",
    "from sklearn.metrics import mean_squared_error, mean_squared_log_error\n",
    "from sklearn.model_selection import train_test_split\n",
    "from sklearn.pipeline import make_pipeline\n",
    "\n",
    "def rmse(y_true, y_pred):\n",
    "    return np.sqrt(mean_squared_error(y_true, y_pred))\n",
    "\n",
    "def rmsle(y_true, y_pred):\n",
    "    return np.sqrt(mean_squared_log_error(y_true, y_pred))\n",
    "\n",
    "def wrangle(X):\n",
    "    X = X.copy()\n",
    "    \n",
    "    # Engineer date features\n",
    "    X['quote_date'] = pd.to_datetime(X['quote_date'], infer_datetime_format=True)\n",
    "    X['quote_date_year'] = X['quote_date'].dt.year\n",
    "    X['quote_date_month'] = X['quote_date'].dt.month\n",
    "    X = X.drop(columns='quote_date')\n",
    "    \n",
    "    # Merge tube data\n",
    "    tube = pd.read_csv('competition_data/tube.csv')\n",
    "    X = X.merge(tube, how='left')\n",
    "    \n",
    "    # Engineer features from bill_of_materials\n",
    "    materials = pd.read_csv('competition_data/bill_of_materials.csv')\n",
    "    \n",
    "    materials['components_total'] = (materials['quantity_1'].fillna(0) + \n",
    "                                     materials['quantity_2'].fillna(0) + \n",
    "                                     materials['quantity_3'].fillna(0) + \n",
    "                                     materials['quantity_4'].fillna(0) + \n",
    "                                     materials['quantity_5'].fillna(0) + \n",
    "                                     materials['quantity_6'].fillna(0) + \n",
    "                                     materials['quantity_7'].fillna(0) + \n",
    "                                     materials['quantity_8'].fillna(0))\n",
    "\n",
    "    materials['components_distinct'] = (materials['component_id_1'].notnull().astype(int) + \n",
    "                                        materials['component_id_2'].notnull().astype(int) + \n",
    "                                        materials['component_id_3'].notnull().astype(int) + \n",
    "                                        materials['component_id_4'].notnull().astype(int) + \n",
    "                                        materials['component_id_5'].notnull().astype(int) + \n",
    "                                        materials['component_id_6'].notnull().astype(int) + \n",
    "                                        materials['component_id_7'].notnull().astype(int) + \n",
    "                                        materials['component_id_8'].notnull().astype(int))\n",
    "    \n",
    "    # Merge selected features from bill_of_materials\n",
    "    # Just use the first component_id, ignore the others for now!\n",
    "    features = ['tube_assembly_id', 'component_id_1', 'components_total', 'components_distinct']\n",
    "    X = X.merge(materials[features], how='left')\n",
    "    \n",
    "    # Get component_type_id (has lower cardinality than component_id)\n",
    "    components = pd.read_csv('competition_data/components.csv')\n",
    "    components = components.rename(columns={'component_id': 'component_id_1'})\n",
    "    features = ['component_id_1', 'component_type_id']\n",
    "    X = X.merge(components[features], how='left')\n",
    "    \n",
    "    # Count the number of specs for the tube assembly\n",
    "    specs = pd.read_csv('competition_data/specs.csv')\n",
    "    specs['specs_total'] = specs.drop(columns=['tube_assembly_id']).count(axis=1)\n",
    "    features = ['tube_assembly_id', 'specs_total', 'spec1']\n",
    "    X = X.merge(specs[features], how='left')\n",
    "    \n",
    "    # Drop tube_assembly_id because our goal is to predict unknown assemblies\n",
    "    X = X.drop(columns='tube_assembly_id')\n",
    "    \n",
    "    return X\n",
    "\n",
    "\n",
    "# Read data\n",
    "trainval = pd.read_csv('competition_data/train_set.csv')\n",
    "test = pd.read_csv('competition_data/test_set.csv')\n",
    "\n",
    "# Split into train & validation sets\n",
    "# All rows for a given tube_assembly_id should go in either train or validation\n",
    "trainval_tube_assemblies = trainval['tube_assembly_id'].unique()\n",
    "train_tube_assemblies, val_tube_assemblies = train_test_split(\n",
    "    trainval_tube_assemblies, random_state=42)\n",
    "train = trainval[trainval.tube_assembly_id.isin(train_tube_assemblies)]\n",
    "val = trainval[trainval.tube_assembly_id.isin(val_tube_assemblies)]\n",
    "\n",
    "# Wrangle train, validation, and test sets\n",
    "train = wrangle(train)\n",
    "val = wrangle(val)\n",
    "test = wrangle(test)\n",
    "\n",
    "# Arrange X matrix and y vector (log-transformed)\n",
    "target = 'cost'\n",
    "X_train = train.drop(columns=target)\n",
    "X_val = val.drop(columns=target)\n",
    "X_test = test.drop(columns='id')\n",
    "y_train = train[target]\n",
    "y_val = val[target]\n",
    "y_train_log = np.log1p(y_train)\n",
    "y_val_log = np.log1p(y_val)\n",
    "\n",
    "# Make pipeline\n",
    "pipeline = make_pipeline(\n",
    "    ce.OrdinalEncoder(), \n",
    "    RandomForestRegressor(n_estimators=1000, random_state=42, n_jobs=-1)\n",
    ")\n",
    "\n",
    "# Fit\n",
    "pipeline.fit(X_train, y_train_log)\n",
    "\n",
    "# Validate\n",
    "y_pred_log = pipeline.predict(X_val)\n",
    "print('Validation Error', rmse(y_val_log, y_pred_log))\n",
    "\n",
    "# Predict\n",
    "def generate_submission(estimator, X_test, filename):\n",
    "    y_pred_log = estimator.predict(X_test)\n",
    "    y_pred = np.expm1(y_pred_log)  # Convert from log-dollars to dollars\n",
    "    submission = pd.read_csv('sample_submission.csv')\n",
    "    submission['cost'] = y_pred\n",
    "    submission.to_csv(filename, index=False)\n",
    "    \n",
    "generate_submission(pipeline, X_test, 'submission-02.csv')"
   ]
  },
  {
   "cell_type": "code",
   "execution_count": 8,
   "metadata": {},
   "outputs": [
    {
     "name": "stdout",
     "output_type": "stream",
     "text": [
      "Pipeline(memory=None,\n",
      "     steps=[('ordinalencoder', OrdinalEncoder(cols=['supplier', 'bracket_pricing', 'material_id', 'end_a_1x', 'end_a_2x', 'end_x_1x', 'end_x_2x', 'end_a', 'end_x', 'component_id_1', 'component_type_id', 'spec1'],\n",
      "        drop_invariant=False, handle_missing='value',\n",
      "        handle_unknown='value',\n",
      "      ...imators=1000, n_jobs=-1,\n",
      "           oob_score=False, random_state=42, verbose=0, warm_start=False))])\n"
     ]
    }
   ],
   "source": [
    "print(pipeline)"
   ]
  },
  {
   "cell_type": "code",
   "execution_count": 18,
   "metadata": {},
   "outputs": [
    {
     "data": {
      "image/png": "[encoded data removed]",
      "text/plain": [
       "<Figure size 720x720 with 1 Axes>"
      ]
     },
     "metadata": {
      "needs_background": "light"
     },
     "output_type": "display_data"
    }
   ],
   "source": [
    "%matplotlib inline\n",
    "import matplotlib.pyplot as plt\n",
    "plt.figure(figsize=(10,10))\n",
    "rf = pipeline.named_steps['randomforestregressor']\n",
    "importances = pd.Series(rf.feature_importances_, X_train.columns)\n",
    "importances.sort_values().plot.barh(color='grey');"
   ]
  },
  {
   "cell_type": "markdown",
   "metadata": {},
   "source": [
    "## Use xgboost for gradient boosting\n",
    "\n",
    "#### [XGBoost Python API Reference: Scikit-Learn API](https://xgboost.readthedocs.io/en/latest/python/python_api.html#module-xgboost.sklearn)"
   ]
  },
  {
   "cell_type": "code",
   "execution_count": 3,
   "metadata": {},
   "outputs": [
    {
     "name": "stdout",
     "output_type": "stream",
     "text": [
      "Collecting xgboost\n",
      "  Using cached https://files.pythonhosted.org/packages/96/84/4e2cae6247f397f83d8adc5c2a2a0c5d7d790a14a4c7400ff6574586f589/xgboost-0.90.tar.gz\n",
      "Requirement already satisfied: numpy in /Users/dwightchurchill/anaconda3/lib/python3.7/site-packages (from xgboost) (1.16.2)\n",
      "Requirement already satisfied: scipy in /Users/dwightchurchill/anaconda3/lib/python3.7/site-packages (from xgboost) (1.2.1)\n",
      "Building wheels for collected packages: xgboost\n",
      "  Building wheel for xgboost (setup.py) ... \u001b[?25ldone\n",
      "\u001b[?25h  Stored in directory: /Users/dwightchurchill/Library/Caches/pip/wheels/e9/48/4d/de4187b5270dff71d3697c5a7857a1e2d9a0c63a28b3462eeb\n",
      "Successfully built xgboost\n",
      "\u001b[31mError checking for conflicts.\n",
      "Traceback (most recent call last):\n",
      "  File \"/Users/dwightchurchill/anaconda3/lib/python3.7/site-packages/pip/_vendor/pkg_resources/__init__.py\", line 2897, in _dep_map\n",
      "    return self.__dep_map\n",
      "  File \"/Users/dwightchurchill/anaconda3/lib/python3.7/site-packages/pip/_vendor/pkg_resources/__init__.py\", line 2691, in __getattr__\n",
      "    raise AttributeError(attr)\n",
      "AttributeError: _DistInfoDistribution__dep_map\n",
      "\n",
      "During handling of the above exception, another exception occurred:\n",
      "\n",
      "Traceback (most recent call last):\n",
      "  File \"/Users/dwightchurchill/anaconda3/lib/python3.7/site-packages/pip/_vendor/pkg_resources/__init__.py\", line 2888, in _parsed_pkg_info\n",
      "    return self._pkg_info\n",
      "  File \"/Users/dwightchurchill/anaconda3/lib/python3.7/site-packages/pip/_vendor/pkg_resources/__init__.py\", line 2691, in __getattr__\n",
      "    raise AttributeError(attr)\n",
      "AttributeError: _pkg_info\n",
      "\n",
      "During handling of the above exception, another exception occurred:\n",
      "\n",
      "Traceback (most recent call last):\n",
      "  File \"/Users/dwightchurchill/anaconda3/lib/python3.7/site-packages/pip/_internal/commands/install.py\", line 503, in _warn_about_conflicts\n",
      "    package_set, _dep_info = check_install_conflicts(to_install)\n",
      "  File \"/Users/dwightchurchill/anaconda3/lib/python3.7/site-packages/pip/_internal/operations/check.py\", line 108, in check_install_conflicts\n",
      "    package_set, _ = create_package_set_from_installed()\n",
      "  File \"/Users/dwightchurchill/anaconda3/lib/python3.7/site-packages/pip/_internal/operations/check.py\", line 47, in create_package_set_from_installed\n",
      "    package_set[name] = PackageDetails(dist.version, dist.requires())\n",
      "  File \"/Users/dwightchurchill/anaconda3/lib/python3.7/site-packages/pip/_vendor/pkg_resources/__init__.py\", line 2635, in requires\n",
      "    dm = self._dep_map\n",
      "  File \"/Users/dwightchurchill/anaconda3/lib/python3.7/site-packages/pip/_vendor/pkg_resources/__init__.py\", line 2899, in _dep_map\n",
      "    self.__dep_map = self._compute_dependencies()\n",
      "  File \"/Users/dwightchurchill/anaconda3/lib/python3.7/site-packages/pip/_vendor/pkg_resources/__init__.py\", line 2908, in _compute_dependencies\n",
      "    for req in self._parsed_pkg_info.get_all('Requires-Dist') or []:\n",
      "  File \"/Users/dwightchurchill/anaconda3/lib/python3.7/site-packages/pip/_vendor/pkg_resources/__init__.py\", line 2890, in _parsed_pkg_info\n",
      "    metadata = self.get_metadata(self.PKG_INFO)\n",
      "  File \"/Users/dwightchurchill/anaconda3/lib/python3.7/site-packages/pip/_vendor/pkg_resources/__init__.py\", line 1410, in get_metadata\n",
      "    value = self._get(self._fn(self.egg_info, name))\n",
      "  File \"/Users/dwightchurchill/anaconda3/lib/python3.7/site-packages/pip/_vendor/pkg_resources/__init__.py\", line 1522, in _get\n",
      "    with open(path, 'rb') as stream:\n",
      "FileNotFoundError: [Errno 2] No such file or directory: '/Users/dwightchurchill/anaconda3/lib/python3.7/site-packages/pandas-0.24.2.dist-info/METADATA'\u001b[0m\n",
      "Installing collected packages: xgboost\n",
      "Successfully installed xgboost-0.90\n"
     ]
    }
   ],
   "source": [
    "# !pip install xgboost"
   ]
  },
  {
   "cell_type": "code",
   "execution_count": 4,
   "metadata": {},
   "outputs": [
    {
     "ename": "ModuleNotFoundError",
     "evalue": "No module named 'gxboost'",
     "output_type": "error",
     "traceback": [
      "\u001b[0;31m---------------------------------------------------------------------------\u001b[0m",
      "\u001b[0;31mModuleNotFoundError\u001b[0m                       Traceback (most recent call last)",
      "\u001b[0;32m<timed exec>\u001b[0m in \u001b[0;36m<module>\u001b[0;34m\u001b[0m\n",
      "\u001b[0;31mModuleNotFoundError\u001b[0m: No module named 'gxboost'"
     ]
    }
   ],
   "source": [
    "%%time \n",
    "\n",
    "from gxboost import XGBRegressor\n",
    "pipeline = make_pipeline(ce.OrdinalEncoder(), XGBRegressor(n_jobs=-1))\n",
    "pipeline.fit(X_train, y_train_log)\n",
    "y_pred_log = pipeline.predict(X_val)\n",
    "print('Validation Error', rmse(y_val_log, y_pred_log))"
   ]
  },
  {
   "cell_type": "markdown",
   "metadata": {},
   "source": [
    "#### Jason Brownlee, [Avoid Overfitting By Early Stopping With XGBoost In Python](https://machinelearningmastery.com/avoid-overfitting-by-early-stopping-with-xgboost-in-python/)"
   ]
  },
  {
   "cell_type": "code",
   "execution_count": null,
   "metadata": {},
   "outputs": [],
   "source": [
    "import category_encoders as ce\n",
    "from "
   ]
  },
  {
   "cell_type": "markdown",
   "metadata": {},
   "source": [
    "### Understand the difference between boosting & bagging\n",
    "\n",
    "Boosting (used by Gradient Boosting) is different than Bagging (used by Random Forests). \n",
    "\n",
    "[_An Introduction to Statistical Learning_](http://www-bcf.usc.edu/~gareth/ISL/ISLR%20Seventh%20Printing.pdf) Chapter 8.2.3, Boosting:\n",
    "\n",
    ">Recall that bagging involves creating multiple copies of the original training data set using the bootstrap, fitting a separate decision tree to each copy, and then combining all of the trees in order to create a single predictive model.\n",
    "\n",
    ">**Boosting works in a similar way, except that the trees are grown _sequentially_: each tree is grown using information from previously grown trees.**\n",
    "\n",
    ">Unlike fitting a single large decision tree to the data, which amounts to _fitting the data hard_ and potentially overfitting, the boosting approach instead _learns slowly._ Given the current model, we fit a decision tree to the residuals from the model.\n",
    "\n",
    ">We then add this new decision tree into the fitted function in order to update the residuals. Each of these trees can be rather small, with just a few terminal nodes. **By fitting small trees to the residuals, we slowly improve fˆ in areas where it does not perform well.**\n",
    "\n",
    ">Note that in boosting, unlike in bagging, the construction of each tree depends strongly on the trees that have already been grown."
   ]
  },
  {
   "cell_type": "code",
   "execution_count": null,
   "metadata": {},
   "outputs": [],
   "source": []
  },
  {
   "cell_type": "markdown",
   "metadata": {},
   "source": [
    "# Assignment\n",
    "- Continue to participate in the [Kaggle Caterpillar competition](https://www.kaggle.com/c/caterpillar-tube-pricing).\n",
    "- Do more feature engineering. \n",
    "- Use xgboost for gradient boosting.\n",
    "- Submit new predictions.\n",
    "- Commit your notebook to your fork of the GitHub repo.\n",
    "\n",
    "## Stretch Goals\n",
    "- Improve your scores on Kaggle.\n",
    "- Make visualizations and share on Slack.\n",
    "- Look at [Kaggle Kernels](https://www.kaggle.com/c/caterpillar-tube-pricing/kernels) for ideas about feature engineerng and visualization.\n",
    "- Read more about gradient boosting:\n",
    "  - [A Gentle Introduction to the Gradient Boosting Algorithm for Machine Learning](https://machinelearningmastery.com/gentle-introduction-gradient-boosting-algorithm-machine-learning/)\n",
    "  - [A Kaggle Master Explains Gradient Boosting](http://blog.kaggle.com/2017/01/23/a-kaggle-master-explains-gradient-boosting/)\n",
    "  - [_An Introduction to Statistical Learning_](http://www-bcf.usc.edu/~gareth/ISL/ISLR%20Seventh%20Printing.pdf) Chapter 8\n",
    "  - [Gradient Boosting Explained](http://arogozhnikov.github.io/2016/06/24/gradient_boosting_explained.html)"
   ]
  }
 ],
 "metadata": {
  "kernelspec": {
   "display_name": "Python 3",
   "language": "python",
   "name": "python3"
  },
  "language_info": {
   "codemirror_mode": {
    "name": "ipython",
    "version": 3
   },
   "file_extension": ".py",
   "mimetype": "text/x-python",
   "name": "python",
   "nbconvert_exporter": "python",
   "pygments_lexer": "ipython3",
   "version": "3.7.3"
  }
 },
 "nbformat": 4,
 "nbformat_minor": 2
}
