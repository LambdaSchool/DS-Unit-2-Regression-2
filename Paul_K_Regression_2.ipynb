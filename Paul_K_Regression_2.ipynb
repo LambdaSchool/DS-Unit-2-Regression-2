{
 "cells": [
  {
   "cell_type": "markdown",
   "metadata": {
    "pycharm": {
     "name": "#%% md\n"
    }
   },
   "source": [
    "## Predicting Cost of Caterpillar<sup>TM</sup> Tube Assemblies.\n",
    " "
   ]
  },
  {
   "cell_type": "code",
   "execution_count": 33,
   "metadata": {
    "collapsed": false,
    "pycharm": {
     "is_executing": false,
     "name": "#%%\n"
    }
   },
   "outputs": [],
   "source": [
    "# Imports\n",
    "\n",
    "import re\n",
    "import numpy as np\n",
    "import pandas as pd\n",
    "import matplotlib.pyplot as plt\n",
    "import seaborn as sns\n",
    "from glob import glob\n",
    "from category_encoders import OrdinalEncoder\n",
    "from sklearn.ensemble import RandomForestRegressor\n",
    "from sklearn.metrics import mean_squared_log_error, mean_squared_error\n",
    "from sklearn.model_selection import train_test_split\n",
    "from sklearn.pipeline import make_pipeline\n"
   ]
  },
  {
   "cell_type": "code",
   "execution_count": 34,
   "metadata": {
    "collapsed": false,
    "pycharm": {
     "is_executing": false,
     "name": "#%%\n"
    }
   },
   "outputs": [],
   "source": [
    "%matplotlib inline\n",
    "pd.set_option('display.max_columns', 100)\n"
   ]
  },
  {
   "cell_type": "markdown",
   "metadata": {
    "pycharm": {
     "name": "#%% md\n"
    }
   },
   "source": [
    "Begin examining, cleaning and organizing data.\n"
   ]
  },
  {
   "cell_type": "code",
   "execution_count": 35,
   "metadata": {
    "collapsed": false,
    "pycharm": {
     "is_executing": false,
     "name": "#%%\n"
    }
   },
   "outputs": [],
   "source": [
    "# Get data into dataframes.\n",
    "trainval = pd.read_csv('data/competition_data/train_set.csv')\n",
    "test = pd.read_csv('data/competition_data/test_set.csv')\n"
   ]
  },
  {
   "cell_type": "code",
   "execution_count": 36,
   "metadata": {
    "collapsed": false,
    "pycharm": {
     "is_executing": false,
     "name": "#%%\n"
    }
   },
   "outputs": [
    {
     "data": {
      "text/html": [
       "<div>\n",
       "<style scoped>\n",
       "    .dataframe tbody tr th:only-of-type {\n",
       "        vertical-align: middle;\n",
       "    }\n",
       "\n",
       "    .dataframe tbody tr th {\n",
       "        vertical-align: top;\n",
       "    }\n",
       "\n",
       "    .dataframe thead th {\n",
       "        text-align: right;\n",
       "    }\n",
       "</style>\n",
       "<table border=\"1\" class=\"dataframe\">\n",
       "  <thead>\n",
       "    <tr style=\"text-align: right;\">\n",
       "      <th></th>\n",
       "      <th>tube_assembly_id</th>\n",
       "      <th>supplier</th>\n",
       "      <th>quote_date</th>\n",
       "      <th>annual_usage</th>\n",
       "      <th>min_order_quantity</th>\n",
       "      <th>bracket_pricing</th>\n",
       "      <th>quantity</th>\n",
       "      <th>cost</th>\n",
       "    </tr>\n",
       "  </thead>\n",
       "  <tbody>\n",
       "    <tr>\n",
       "      <th>0</th>\n",
       "      <td>TA-00002</td>\n",
       "      <td>S-0066</td>\n",
       "      <td>2013-07-07</td>\n",
       "      <td>0</td>\n",
       "      <td>0</td>\n",
       "      <td>Yes</td>\n",
       "      <td>1</td>\n",
       "      <td>21.905933</td>\n",
       "    </tr>\n",
       "    <tr>\n",
       "      <th>1</th>\n",
       "      <td>TA-00002</td>\n",
       "      <td>S-0066</td>\n",
       "      <td>2013-07-07</td>\n",
       "      <td>0</td>\n",
       "      <td>0</td>\n",
       "      <td>Yes</td>\n",
       "      <td>2</td>\n",
       "      <td>12.341214</td>\n",
       "    </tr>\n",
       "    <tr>\n",
       "      <th>2</th>\n",
       "      <td>TA-00002</td>\n",
       "      <td>S-0066</td>\n",
       "      <td>2013-07-07</td>\n",
       "      <td>0</td>\n",
       "      <td>0</td>\n",
       "      <td>Yes</td>\n",
       "      <td>5</td>\n",
       "      <td>6.601826</td>\n",
       "    </tr>\n",
       "    <tr>\n",
       "      <th>3</th>\n",
       "      <td>TA-00002</td>\n",
       "      <td>S-0066</td>\n",
       "      <td>2013-07-07</td>\n",
       "      <td>0</td>\n",
       "      <td>0</td>\n",
       "      <td>Yes</td>\n",
       "      <td>10</td>\n",
       "      <td>4.687770</td>\n",
       "    </tr>\n",
       "    <tr>\n",
       "      <th>4</th>\n",
       "      <td>TA-00002</td>\n",
       "      <td>S-0066</td>\n",
       "      <td>2013-07-07</td>\n",
       "      <td>0</td>\n",
       "      <td>0</td>\n",
       "      <td>Yes</td>\n",
       "      <td>25</td>\n",
       "      <td>3.541561</td>\n",
       "    </tr>\n",
       "  </tbody>\n",
       "</table>\n",
       "</div>"
      ],
      "text/plain": [
       "  tube_assembly_id supplier  quote_date  annual_usage  min_order_quantity  \\\n",
       "0         TA-00002   S-0066  2013-07-07             0                   0   \n",
       "1         TA-00002   S-0066  2013-07-07             0                   0   \n",
       "2         TA-00002   S-0066  2013-07-07             0                   0   \n",
       "3         TA-00002   S-0066  2013-07-07             0                   0   \n",
       "4         TA-00002   S-0066  2013-07-07             0                   0   \n",
       "\n",
       "  bracket_pricing  quantity       cost  \n",
       "0             Yes         1  21.905933  \n",
       "1             Yes         2  12.341214  \n",
       "2             Yes         5   6.601826  \n",
       "3             Yes        10   4.687770  \n",
       "4             Yes        25   3.541561  "
      ]
     },
     "execution_count": 36,
     "metadata": {},
     "output_type": "execute_result"
    }
   ],
   "source": [
    "# See what we're working with.\n",
    "trainval.head()\n"
   ]
  },
  {
   "cell_type": "code",
   "execution_count": 37,
   "metadata": {
    "collapsed": false,
    "pycharm": {
     "is_executing": false,
     "name": "#%%\n"
    }
   },
   "outputs": [
    {
     "data": {
      "text/html": [
       "<div>\n",
       "<style scoped>\n",
       "    .dataframe tbody tr th:only-of-type {\n",
       "        vertical-align: middle;\n",
       "    }\n",
       "\n",
       "    .dataframe tbody tr th {\n",
       "        vertical-align: top;\n",
       "    }\n",
       "\n",
       "    .dataframe thead th {\n",
       "        text-align: right;\n",
       "    }\n",
       "</style>\n",
       "<table border=\"1\" class=\"dataframe\">\n",
       "  <thead>\n",
       "    <tr style=\"text-align: right;\">\n",
       "      <th></th>\n",
       "      <th>id</th>\n",
       "      <th>tube_assembly_id</th>\n",
       "      <th>supplier</th>\n",
       "      <th>quote_date</th>\n",
       "      <th>annual_usage</th>\n",
       "      <th>min_order_quantity</th>\n",
       "      <th>bracket_pricing</th>\n",
       "      <th>quantity</th>\n",
       "    </tr>\n",
       "  </thead>\n",
       "  <tbody>\n",
       "    <tr>\n",
       "      <th>0</th>\n",
       "      <td>1</td>\n",
       "      <td>TA-00001</td>\n",
       "      <td>S-0066</td>\n",
       "      <td>2013-06-23</td>\n",
       "      <td>0</td>\n",
       "      <td>0</td>\n",
       "      <td>Yes</td>\n",
       "      <td>1</td>\n",
       "    </tr>\n",
       "    <tr>\n",
       "      <th>1</th>\n",
       "      <td>2</td>\n",
       "      <td>TA-00001</td>\n",
       "      <td>S-0066</td>\n",
       "      <td>2013-06-23</td>\n",
       "      <td>0</td>\n",
       "      <td>0</td>\n",
       "      <td>Yes</td>\n",
       "      <td>2</td>\n",
       "    </tr>\n",
       "    <tr>\n",
       "      <th>2</th>\n",
       "      <td>3</td>\n",
       "      <td>TA-00001</td>\n",
       "      <td>S-0066</td>\n",
       "      <td>2013-06-23</td>\n",
       "      <td>0</td>\n",
       "      <td>0</td>\n",
       "      <td>Yes</td>\n",
       "      <td>5</td>\n",
       "    </tr>\n",
       "    <tr>\n",
       "      <th>3</th>\n",
       "      <td>4</td>\n",
       "      <td>TA-00001</td>\n",
       "      <td>S-0066</td>\n",
       "      <td>2013-06-23</td>\n",
       "      <td>0</td>\n",
       "      <td>0</td>\n",
       "      <td>Yes</td>\n",
       "      <td>10</td>\n",
       "    </tr>\n",
       "    <tr>\n",
       "      <th>4</th>\n",
       "      <td>5</td>\n",
       "      <td>TA-00001</td>\n",
       "      <td>S-0066</td>\n",
       "      <td>2013-06-23</td>\n",
       "      <td>0</td>\n",
       "      <td>0</td>\n",
       "      <td>Yes</td>\n",
       "      <td>25</td>\n",
       "    </tr>\n",
       "  </tbody>\n",
       "</table>\n",
       "</div>"
      ],
      "text/plain": [
       "   id tube_assembly_id supplier  quote_date  annual_usage  min_order_quantity  \\\n",
       "0   1         TA-00001   S-0066  2013-06-23             0                   0   \n",
       "1   2         TA-00001   S-0066  2013-06-23             0                   0   \n",
       "2   3         TA-00001   S-0066  2013-06-23             0                   0   \n",
       "3   4         TA-00001   S-0066  2013-06-23             0                   0   \n",
       "4   5         TA-00001   S-0066  2013-06-23             0                   0   \n",
       "\n",
       "  bracket_pricing  quantity  \n",
       "0             Yes         1  \n",
       "1             Yes         2  \n",
       "2             Yes         5  \n",
       "3             Yes        10  \n",
       "4             Yes        25  "
      ]
     },
     "execution_count": 37,
     "metadata": {},
     "output_type": "execute_result"
    }
   ],
   "source": [
    "test.head()\n"
   ]
  },
  {
   "cell_type": "code",
   "execution_count": 38,
   "metadata": {
    "collapsed": false,
    "pycharm": {
     "is_executing": false,
     "name": "#%%\n"
    }
   },
   "outputs": [
    {
     "data": {
      "text/plain": [
       "count                   30213\n",
       "unique                   1781\n",
       "top       2013-10-01 00:00:00\n",
       "freq                     2877\n",
       "first     1982-09-22 00:00:00\n",
       "last      2017-01-01 00:00:00\n",
       "Name: quote_date, dtype: object"
      ]
     },
     "execution_count": 38,
     "metadata": {},
     "output_type": "execute_result"
    }
   ],
   "source": [
    "# Ensure dates are datetimes.\n",
    "trainval['quote_date'] = pd.to_datetime(trainval['quote_date'], infer_datetime_format=True)\n",
    "test['quote_date'] = pd.to_datetime(test['quote_date'], infer_datetime_format=True)\n",
    "\n",
    "# Is our data chronological?\n",
    "trainval['quote_date'].describe()\n"
   ]
  },
  {
   "cell_type": "code",
   "execution_count": 39,
   "metadata": {
    "collapsed": false,
    "pycharm": {
     "is_executing": false,
     "name": "#%%\n"
    }
   },
   "outputs": [
    {
     "data": {
      "text/plain": [
       "count                   30235\n",
       "unique                   1778\n",
       "top       2013-09-01 00:00:00\n",
       "freq                     2992\n",
       "first     1985-11-16 00:00:00\n",
       "last      2017-01-01 00:00:00\n",
       "Name: quote_date, dtype: object"
      ]
     },
     "execution_count": 39,
     "metadata": {},
     "output_type": "execute_result"
    }
   ],
   "source": [
    "test['quote_date'].describe()\n"
   ]
  },
  {
   "cell_type": "code",
   "execution_count": 40,
   "metadata": {
    "collapsed": false,
    "pycharm": {
     "is_executing": false,
     "name": "#%%\n"
    }
   },
   "outputs": [
    {
     "data": {
      "text/plain": [
       "set()"
      ]
     },
     "execution_count": 40,
     "metadata": {},
     "output_type": "execute_result"
    }
   ],
   "source": [
    "# Dates are concurrent. The sets must be separated in another way.\n",
    "set(trainval['tube_assembly_id'].unique()) & set(test['tube_assembly_id'].unique())\n"
   ]
  },
  {
   "cell_type": "code",
   "execution_count": 41,
   "metadata": {
    "collapsed": false,
    "pycharm": {
     "is_executing": false,
     "name": "#%%\n"
    }
   },
   "outputs": [
    {
     "data": {
      "text/plain": [
       "((22628, 8), (7585, 8))"
      ]
     },
     "execution_count": 41,
     "metadata": {},
     "output_type": "execute_result"
    }
   ],
   "source": [
    "# Assembly id is not shared, split training data into train and validate by assembly id.\n",
    "trainval_assemblies = trainval['tube_assembly_id'].unique()\n",
    "test_assemblies = test['tube_assembly_id'].unique()\n",
    "\n",
    "train_tubes, val_tubes = train_test_split(trainval_assemblies, random_state=42)\n",
    "\n",
    "train = trainval[trainval['tube_assembly_id'].isin(train_tubes)]\n",
    "val = trainval[trainval['tube_assembly_id'].isin(val_tubes)]\n",
    "train.shape, val.shape\n"
   ]
  },
  {
   "cell_type": "markdown",
   "metadata": {
    "pycharm": {
     "name": "#%% md\n"
    }
   },
   "source": [
    "Get a dummy baseline prediction for later comparison.\n"
   ]
  },
  {
   "cell_type": "code",
   "execution_count": 42,
   "metadata": {
    "collapsed": false,
    "pycharm": {
     "is_executing": false,
     "name": "#%%\n"
    }
   },
   "outputs": [],
   "source": [
    "# Our error metric will be Root Mean Squared Log Error\n",
    "def rmsle(y_true, y_pred):\n",
    "    return np.sqrt(mean_squared_log_error(y_true, y_pred))\n"
   ]
  },
  {
   "cell_type": "code",
   "execution_count": 43,
   "metadata": {
    "collapsed": false,
    "pycharm": {
     "is_executing": false,
     "name": "#%%\n"
    }
   },
   "outputs": [
    {
     "name": "stdout",
     "output_type": "stream",
     "text": [
      "Validation RMSLE, Mean Baseline: 0.9418101276064408\n"
     ]
    }
   ],
   "source": [
    "# Use the cost mean to make our cost prediction.\n",
    "target = 'cost'\n",
    "y_train = train[target]\n",
    "y_val = val[target]\n",
    "\n",
    "y_pred = np.full_like(y_val, fill_value=y_train.mean())\n",
    "print(f'Validation RMSLE, Mean Baseline: {rmsle(y_val, y_pred)}')\n"
   ]
  },
  {
   "cell_type": "markdown",
   "metadata": {
    "pycharm": {
     "name": "#%% md\n"
    }
   },
   "source": [
    "Off by 94%. Improvements can be made. Start with a very simple model.\n"
   ]
  },
  {
   "cell_type": "code",
   "execution_count": 44,
   "metadata": {
    "collapsed": false,
    "pycharm": {
     "is_executing": false,
     "name": "#%%\n"
    }
   },
   "outputs": [
    {
     "name": "stdout",
     "output_type": "stream",
     "text": [
      "Validation R^2 score: 0.08879518736792147\n",
      "Validation RMSLE, with one feature: quantity\n",
      ": 0.6908805822519186\n"
     ]
    }
   ],
   "source": [
    "features = ['quantity']\n",
    "X_train = train[features]\n",
    "X_val = val[features]\n",
    "\n",
    "model = RandomForestRegressor(n_estimators=100,\n",
    "                              n_jobs=3,\n",
    "                              random_state=42)\n",
    "model.fit(X_train, y_train)\n",
    "r2 = model.score(X_val, y_val)\n",
    "print(f'Validation R^2 score: {r2}')\n",
    "\n",
    "y_pred = model.predict(X_val)\n",
    "print(f'Validation RMSLE, with one feature: {features[0]}\\n: {rmsle(y_val, y_pred)}')\n"
   ]
  },
  {
   "cell_type": "markdown",
   "metadata": {
    "pycharm": {
     "name": "#%% md\n"
    }
   },
   "source": [
    "Quite a bit better than before, but much more room to improve. \n"
   ]
  },
  {
   "cell_type": "code",
   "execution_count": 45,
   "metadata": {
    "collapsed": false,
    "pycharm": {
     "is_executing": false,
     "name": "#%%\n"
    }
   },
   "outputs": [
    {
     "data": {
      "image/png": "[encoded data removed]",
      "text/plain": [
       "<Figure size 432x288 with 1 Axes>"
      ]
     },
     "metadata": {
      "needs_background": "light"
     },
     "output_type": "display_data"
    }
   ],
   "source": [
    "# Check out the distribution of the target, cost.\n",
    "sns.distplot(y_train);\n"
   ]
  },
  {
   "cell_type": "code",
   "execution_count": 46,
   "metadata": {
    "collapsed": false,
    "pycharm": {
     "is_executing": false,
     "name": "#%%\n"
    }
   },
   "outputs": [
    {
     "data": {
      "image/png": "[encoded data removed]",
      "text/plain": [
       "<Figure size 432x288 with 1 Axes>"
      ]
     },
     "metadata": {
      "needs_background": "light"
     },
     "output_type": "display_data"
    }
   ],
   "source": [
    "# We can get these into a smaller space by taking the log of each target value.\n",
    "y_train_log = np.log1p(y_train)\n",
    "sns.distplot(y_train_log);\n"
   ]
  },
  {
   "cell_type": "code",
   "execution_count": 47,
   "metadata": {
    "collapsed": false,
    "pycharm": {
     "is_executing": false,
     "name": "#%%\n"
    }
   },
   "outputs": [
    {
     "name": "stdout",
     "output_type": "stream",
     "text": [
      "RMSLE with scaled targets: 0.622925465880199\n"
     ]
    }
   ],
   "source": [
    "# Now predict with a model fit on scaled targets.\n",
    "model.fit(X_train, y_train_log)\n",
    "y_pred_log = model.predict(X_val)\n",
    "y_pred = np.expm1(y_pred_log)\n",
    "print(f'RMSLE with scaled targets: {rmsle(y_val, y_pred)}')\n"
   ]
  },
  {
   "cell_type": "markdown",
   "metadata": {
    "pycharm": {
     "name": "#%% md\n"
    }
   },
   "source": [
    "A 7% improvement over the non-scaled targets.\n"
   ]
  },
  {
   "cell_type": "code",
   "execution_count": 48,
   "metadata": {
    "collapsed": false,
    "pycharm": {
     "is_executing": false,
     "name": "#%%\n"
    }
   },
   "outputs": [
    {
     "data": {
      "image/png": "[encoded data removed]",
      "text/plain": [
       "<Figure size 432x288 with 1 Axes>"
      ]
     },
     "metadata": {
      "needs_background": "light"
     },
     "output_type": "display_data"
    }
   ],
   "source": [
    "y_val_log = np.log1p(y_val)\n",
    "sns.distplot(y_val_log, label='True')\n",
    "sns.distplot(y_pred_log, label='Predicted')\n",
    "plt.title('Starting to fit the data somewhat.')\n",
    "plt.legend();\n"
   ]
  },
  {
   "cell_type": "markdown",
   "metadata": {
    "pycharm": {
     "name": "#%% md\n"
    }
   },
   "source": [
    "Engineer some features from the data we have so far.\n"
   ]
  },
  {
   "cell_type": "code",
   "execution_count": 49,
   "metadata": {
    "collapsed": false,
    "pycharm": {
     "is_executing": false,
     "name": "#%%\n"
    }
   },
   "outputs": [],
   "source": [
    "def clean(data):\n",
    "    df = data.copy()\n",
    "    \n",
    "    df['quote_date'] = pd.to_datetime(df['quote_date'], infer_datetime_format=True)\n",
    "    df['quote_year'] = df['quote_date'].dt.year\n",
    "    df['quote_month'] = df['quote_date'].dt.month\n",
    "    df = df.drop(columns='quote_date')\n",
    "    \n",
    "    # df = df.drop(columns='tube_assembly_id')\n",
    "    return df\n"
   ]
  },
  {
   "cell_type": "code",
   "execution_count": 50,
   "metadata": {
    "collapsed": false,
    "pycharm": {
     "is_executing": false,
     "name": "#%%\n"
    }
   },
   "outputs": [],
   "source": [
    "train_clean = clean(train)\n",
    "val_clean = clean(val)\n"
   ]
  },
  {
   "cell_type": "code",
   "execution_count": 51,
   "metadata": {
    "collapsed": false,
    "pycharm": {
     "is_executing": false,
     "name": "#%%\n"
    }
   },
   "outputs": [],
   "source": [
    "def rmse(y_true, y_pred):\n",
    "    return np.sqrt(mean_squared_error(y_true, y_pred))\n"
   ]
  },
  {
   "cell_type": "code",
   "execution_count": 52,
   "metadata": {
    "collapsed": false,
    "pycharm": {
     "is_executing": false,
     "name": "#%%\n"
    }
   },
   "outputs": [],
   "source": [
    "# Use new features and assess any improvement.\n",
    "features = train_clean.columns.drop('cost')\n",
    "X_train = train_clean[features]\n",
    "X_val = val_clean[features]\n"
   ]
  },
  {
   "cell_type": "code",
   "execution_count": 53,
   "metadata": {
    "collapsed": false,
    "pycharm": {
     "is_executing": false,
     "name": "#%%\n"
    }
   },
   "outputs": [
    {
     "name": "stdout",
     "output_type": "stream",
     "text": [
      "RMSE for model with new features: 0.43919385455635707\n",
      "RMSLE: 0.43919385455635707\n"
     ]
    }
   ],
   "source": [
    "pipeline = make_pipeline(OrdinalEncoder(),\n",
    "                         RandomForestRegressor(n_estimators=100,\n",
    "                                               n_jobs=3,\n",
    "                                               random_state=42))\n",
    "pipeline.fit(X_train, y_train_log)\n",
    "y_pred_log = pipeline.predict(X_val)\n",
    "y_pred = np.expm1(y_pred_log)\n",
    "print(f'RMSE for model with new features: {rmse(y_val_log, y_pred_log)}')\n",
    "print(f'RMSLE: {rmsle(y_val, y_pred)}')\n"
   ]
  },
  {
   "cell_type": "markdown",
   "metadata": {
    "pycharm": {
     "name": "#%% md\n"
    }
   },
   "source": [
    "Nice!\n"
   ]
  },
  {
   "cell_type": "code",
   "execution_count": 54,
   "metadata": {
    "collapsed": false,
    "pycharm": {
     "is_executing": false,
     "name": "#%%\n"
    }
   },
   "outputs": [
    {
     "data": {
      "text/plain": [
       "<matplotlib.axes._subplots.AxesSubplot at 0x16484ecd0b8>"
      ]
     },
     "execution_count": 54,
     "metadata": {},
     "output_type": "execute_result"
    },
    {
     "data": {
      "image/png": "[encoded data removed]",
      "text/plain": [
       "<Figure size 432x288 with 1 Axes>"
      ]
     },
     "metadata": {
      "needs_background": "light"
     },
     "output_type": "display_data"
    }
   ],
   "source": [
    "# What features are most important for making predictions?\n",
    "rf = pipeline.named_steps['randomforestregressor']\n",
    "importances = pd.Series(rf.feature_importances_, X_train.columns)\n",
    "importances.sort_values().plot.barh()\n"
   ]
  },
  {
   "cell_type": "code",
   "execution_count": 55,
   "metadata": {
    "collapsed": false,
    "pycharm": {
     "is_executing": false,
     "name": "#%%\n"
    }
   },
   "outputs": [
    {
     "data": {
      "image/png": "[encoded data removed]",
      "text/plain": [
       "<Figure size 432x288 with 1 Axes>"
      ]
     },
     "metadata": {
      "needs_background": "light"
     },
     "output_type": "display_data"
    }
   ],
   "source": [
    "# Have we improved fit any more?\n",
    "sns.distplot(y_val_log, label='True')\n",
    "sns.distplot(y_pred_log, label='Predicted')\n",
    "plt.title('Fit to data with all features.')\n",
    "plt.legend();\n"
   ]
  },
  {
   "cell_type": "markdown",
   "metadata": {
    "pycharm": {
     "is_executing": false,
     "name": "#%% md\n"
    }
   },
   "source": [
    "Add more features by combining relational data.\n"
   ]
  },
  {
   "cell_type": "code",
   "execution_count": 56,
   "metadata": {
    "collapsed": false,
    "pycharm": {
     "is_executing": false,
     "name": "#%%\n"
    }
   },
   "outputs": [],
   "source": [
    "data = {}\n",
    "for path in glob('data/competition_data/*.csv'):\n",
    "    df = pd.read_csv(path)\n",
    "    file = re.search(r'(?<=\\\\)(.+)(?=[.])', path)\n",
    "    data[file.group(1)] = df\n"
   ]
  },
  {
   "cell_type": "code",
   "execution_count": 57,
   "metadata": {
    "collapsed": false,
    "pycharm": {
     "is_executing": false,
     "name": "#%%\n"
    }
   },
   "outputs": [
    {
     "name": "stdout",
     "output_type": "stream",
     "text": [
      "bill_of_materials\n",
      "  tube_assembly_id component_id_1  quantity_1 component_id_2  quantity_2  \\\n",
      "0         TA-00001         C-1622         2.0         C-1629         2.0   \n",
      "1         TA-00002         C-1312         2.0            NaN         NaN   \n",
      "2         TA-00003         C-1312         2.0            NaN         NaN   \n",
      "3         TA-00004         C-1312         2.0            NaN         NaN   \n",
      "4         TA-00005         C-1624         1.0         C-1631         1.0   \n",
      "\n",
      "  component_id_3  quantity_3 component_id_4  quantity_4 component_id_5  \\\n",
      "0            NaN         NaN            NaN         NaN            NaN   \n",
      "1            NaN         NaN            NaN         NaN            NaN   \n",
      "2            NaN         NaN            NaN         NaN            NaN   \n",
      "3            NaN         NaN            NaN         NaN            NaN   \n",
      "4         C-1641         1.0            NaN         NaN            NaN   \n",
      "\n",
      "   quantity_5 component_id_6  quantity_6 component_id_7  quantity_7  \\\n",
      "0         NaN            NaN         NaN            NaN         NaN   \n",
      "1         NaN            NaN         NaN            NaN         NaN   \n",
      "2         NaN            NaN         NaN            NaN         NaN   \n",
      "3         NaN            NaN         NaN            NaN         NaN   \n",
      "4         NaN            NaN         NaN            NaN         NaN   \n",
      "\n",
      "  component_id_8  quantity_8  \n",
      "0            NaN         NaN  \n",
      "1            NaN         NaN  \n",
      "2            NaN         NaN  \n",
      "3            NaN         NaN  \n",
      "4            NaN         NaN  \n",
      "\n",
      "components\n",
      "  component_id           name component_type_id\n",
      "0         9999          OTHER             OTHER\n",
      "1       C-0001         SLEEVE            CP-024\n",
      "2       C-0002         SLEEVE            CP-024\n",
      "3       C-0003  SLEEVE-FLARED            CP-024\n",
      "4       C-0004            NUT            CP-026\n",
      "\n",
      "comp_adaptor\n",
      "  component_id component_type_id  adaptor_angle  overall_length end_form_id_1  \\\n",
      "0       C-0005            CP-028            NaN            58.4         A-001   \n",
      "1       C-0006            CP-028            NaN            34.8         A-001   \n",
      "2       C-1435            CP-028            NaN            20.3         A-007   \n",
      "3       C-1546            CP-028            NaN            26.4         A-007   \n",
      "4       C-1583            CP-028            NaN            44.5         A-001   \n",
      "\n",
      "  connection_type_id_1  length_1  thread_size_1  thread_pitch_1  \\\n",
      "0                B-001       NaN          1.312            12.0   \n",
      "1                B-001       NaN          0.437            20.0   \n",
      "2                B-004       NaN            NaN             NaN   \n",
      "3                B-004       NaN          0.125            27.0   \n",
      "4                B-005       NaN          1.312            12.0   \n",
      "\n",
      "   nominal_size_1 end_form_id_2 connection_type_id_2  length_2  thread_size_2  \\\n",
      "0             NaN         A-001                B-004       NaN          1.000   \n",
      "1             NaN         A-001                B-005       NaN          0.750   \n",
      "2           15.88         A-001                B-007       NaN          0.875   \n",
      "3             NaN         A-001                B-004       NaN          0.125   \n",
      "4             NaN         A-007                B-005       NaN          1.062   \n",
      "\n",
      "   thread_pitch_2  nominal_size_2  hex_size unique_feature orientation  weight  \n",
      "0            11.5             NaN     34.93             No          No   0.206  \n",
      "1            16.0             NaN     22.20             No          No   0.083  \n",
      "2            18.0             NaN     22.22             No          No   0.023  \n",
      "3            27.0             NaN     15.88             No          No   0.026  \n",
      "4            12.0             NaN     38.10             No          No   0.256  \n",
      "\n",
      "comp_boss\n",
      "  component_id component_type_id  type connection_type_id outside_shape  \\\n",
      "0       C-0008            CP-018  Boss              B-005         Round   \n",
      "1       C-0009            CP-018  Boss              B-004         Round   \n",
      "2       C-0020            CP-018  Boss              B-005         Round   \n",
      "3       C-0054            CP-018  Boss              B-005         Round   \n",
      "4       C-0071            CP-018  Boss              B-005         Round   \n",
      "\n",
      "     base_type  height_over_tube  bolt_pattern_long  bolt_pattern_wide groove  \\\n",
      "0  Flat Bottom              17.0                NaN                NaN     No   \n",
      "1  Flat Bottom              13.0                NaN                NaN     No   \n",
      "2       Saddle              28.4                NaN                NaN     No   \n",
      "3       Saddle              27.1                NaN                NaN     No   \n",
      "4     Shoulder              20.0                NaN                NaN     No   \n",
      "\n",
      "   base_diameter  shoulder_diameter unique_feature orientation  weight  \n",
      "0           22.0                NaN            Yes         Yes   0.032  \n",
      "1           25.0                NaN             No         Yes   0.033  \n",
      "2           35.0                NaN            Yes         Yes   0.070  \n",
      "3            NaN                NaN            Yes         Yes   0.180  \n",
      "4           30.0               23.0            Yes         Yes   0.080  \n",
      "\n",
      "comp_elbow\n",
      "  component_id component_type_id  bolt_pattern_long  bolt_pattern_wide  \\\n",
      "0       C-0013            CP-008              152.4              92.08   \n",
      "1       C-0016            CP-009               57.2              27.80   \n",
      "2       C-0017            CP-009               57.2              27.80   \n",
      "3       C-0018            CP-009               66.6              31.80   \n",
      "4       C-0021            CP-010               75.0                NaN   \n",
      "\n",
      "   extension_length  overall_length  thickness  drop_length  elbow_angle  \\\n",
      "0             105.0           185.0      113.0         75.0         90.0   \n",
      "1              42.0            69.0       44.0         24.0         90.0   \n",
      "2              42.0            69.0       47.0         26.0         90.0   \n",
      "3              50.0            80.0       57.0         31.5         90.0   \n",
      "4              31.5            70.0       25.0         12.5         90.0   \n",
      "\n",
      "  mj_class_code mj_plug_class_code  plug_diameter groove unique_feature  \\\n",
      "0           NaN                NaN            NaN    Yes             No   \n",
      "1           NaN                NaN            NaN     No             No   \n",
      "2           NaN                NaN            NaN    Yes             No   \n",
      "3           NaN                NaN            NaN    Yes             No   \n",
      "4           NaN                NaN            NaN     No            Yes   \n",
      "\n",
      "  orientation  weight  \n",
      "0         Yes   8.890  \n",
      "1         Yes   1.172  \n",
      "2         Yes   1.245  \n",
      "3         Yes   1.863  \n",
      "4         Yes   0.903  \n",
      "\n",
      "comp_float\n",
      "  component_id component_type_id  bolt_pattern_long  bolt_pattern_wide  \\\n",
      "0       C-0027            CP-021             148.00              96.00   \n",
      "1       C-0454            CP-022              58.72              30.18   \n",
      "2       C-0455            CP-022              58.72              30.18   \n",
      "3       C-0494            CP-022              52.40              26.20   \n",
      "4       C-0496            CP-022              58.80              30.20   \n",
      "\n",
      "   thickness orientation  weight  \n",
      "0      18.00         Yes   2.230  \n",
      "1      28.00          No   0.590  \n",
      "2      28.00          No   0.525  \n",
      "3      15.85          No   0.230  \n",
      "4      14.20          No   0.284  \n",
      "\n",
      "comp_hfl\n",
      "  component_id component_type_id  hose_diameter corresponding_shell  \\\n",
      "0       C-0872            CP-023            4.8              C-0855   \n",
      "1       C-0873            CP-023            4.8              C-0856   \n",
      "2       C-0874            CP-023            4.8              C-0857   \n",
      "3       C-1039            CP-023           15.9              C-1040   \n",
      "4       C-1041            CP-023           15.9              C-1042   \n",
      "\n",
      "  coupling_class material plating orientation  weight  \n",
      "0        SP-0098  SP-0016     Yes          No   0.010  \n",
      "1        SP-0098  SP-0016     Yes          No   0.010  \n",
      "2        SP-0098  SP-0038     Yes          No   0.001  \n",
      "3        SP-0097  SP-0095      No          No   0.052  \n",
      "4        SP-0099  SP-0095      No          No   0.065  \n",
      "\n",
      "comp_nut\n",
      "  component_id component_type_id  hex_nut_size  seat_angle  length  \\\n",
      "0       C-1621            CP-025         20.64         NaN    17.0   \n",
      "1       C-1624            CP-025         34.92         NaN    26.5   \n",
      "2       C-1623            CP-025         28.58         NaN    23.5   \n",
      "3       C-1622            CP-025         23.81         NaN    20.0   \n",
      "4       C-1625            CP-025         41.28         NaN    27.5   \n",
      "\n",
      "  thread_size  thread_pitch  diameter blind_hole orientation  weight  \n",
      "0        .687          16.0       NaN        NaN          No   0.015  \n",
      "1       1.187          12.0       NaN        NaN          No   0.035  \n",
      "2       1.000          14.0       NaN        NaN          No   0.044  \n",
      "3        .812          16.0       NaN        NaN          No   0.036  \n",
      "4       1.437          12.0       NaN        NaN          No   0.129  \n",
      "\n",
      "comp_other\n",
      "  component_id        part_name  weight\n",
      "0       C-1385       NUT-FLARED   0.014\n",
      "1       C-1386    SLEEVE-FLARED   0.005\n",
      "2       C-1369           COLLAR   0.003\n",
      "3       C-0422  WASHER-FUEL LIN   0.003\n",
      "4       C-1817      FITTING-NUT   0.014\n",
      "\n",
      "comp_sleeve\n",
      "  component_id component_type_id connection_type_id  length  \\\n",
      "0       C-0001            CP-024              B-001    17.3   \n",
      "1       C-0002            CP-024              B-001    11.2   \n",
      "2       C-0003            CP-024              B-001    19.3   \n",
      "3       C-0048            CP-024              B-002     9.5   \n",
      "4       C-0049            CP-024              B-002     9.5   \n",
      "\n",
      "   intended_nut_thread  intended_nut_pitch unique_feature plating orientation  \\\n",
      "0                1.062                  12             No      No          No   \n",
      "1                0.500                  20             No      No          No   \n",
      "2                1.187                  12             No      No          No   \n",
      "3                0.562                  18             No      No          No   \n",
      "4                0.812                  16             No      No          No   \n",
      "\n",
      "   weight  \n",
      "0   0.013  \n",
      "1   0.005  \n",
      "2   0.014  \n",
      "3   0.006  \n",
      "4   0.012  \n",
      "\n",
      "comp_straight\n",
      "  component_id component_type_id  bolt_pattern_long  bolt_pattern_wide  \\\n",
      "0       C-0012            CP-001              66.68              31.75   \n",
      "1       C-0014            CP-001              47.60              22.20   \n",
      "2       C-0015            CP-001              66.70              31.80   \n",
      "3       C-0019            CP-002              77.80              42.90   \n",
      "4       C-0029            CP-001              47.63              22.23   \n",
      "\n",
      "   head_diameter  overall_length  thickness mj_class_code groove  \\\n",
      "0            NaN            40.0       20.0           NaN     No   \n",
      "1            NaN            38.0       15.0           NaN    Yes   \n",
      "2            NaN            40.0       20.0           NaN    Yes   \n",
      "3            NaN             NaN       36.5        MJ-003     No   \n",
      "4            NaN             NaN       16.0           NaN    Yes   \n",
      "\n",
      "  unique_feature orientation  weight  \n",
      "0             No         Yes   0.788  \n",
      "1             No         Yes   0.339  \n",
      "2             No         Yes   0.788  \n",
      "3             No         Yes   1.533  \n",
      "4             No         Yes   0.286  \n",
      "\n",
      "comp_tee\n",
      "  component_id component_type_id  bolt_pattern_long  bolt_pattern_wide  \\\n",
      "0       C-0271             OTHER              58.70              30.20   \n",
      "1       C-1809             OTHER              58.72              30.18   \n",
      "2       C-1830             OTHER              52.40              26.20   \n",
      "3       C-1865             OTHER              58.70              30.20   \n",
      "\n",
      "   extension_length  overall_length  thickness  drop_length mj_class_code  \\\n",
      "0             57.10            93.0         57         28.5        MJ-003   \n",
      "1             57.09           108.0         57         28.5        MJ-003   \n",
      "2             43.50            78.5         51         25.5        MJ-003   \n",
      "3             57.10           107.0         57         28.5        MJ-003   \n",
      "\n",
      "  mj_plug_class_code groove unique_feature orientation  weight  \n",
      "0           Threaded     No             No         Yes   1.526  \n",
      "1             MJ-005     No             No         Yes   2.184  \n",
      "2           Threaded     No            Yes         Yes   1.135  \n",
      "3             MJ-005     No             No         Yes   1.953  \n",
      "\n",
      "comp_threaded\n",
      "  component_id component_type_id  adaptor_angle  overall_length  hex_size  \\\n",
      "0       C-0007            CP-014            NaN            24.4     12.70   \n",
      "1       C-0030            CP-015           90.0             NaN       NaN   \n",
      "2       C-0041            CP-014            NaN            28.0     32.00   \n",
      "3       C-0043            CP-014            NaN            38.0     27.00   \n",
      "4       C-0044            CP-014            NaN            30.5     41.28   \n",
      "\n",
      "  end_form_id_1 connection_type_id_1  length_1  thread_size_1  thread_pitch_1  \\\n",
      "0         A-001                B-001       NaN          0.437            20.0   \n",
      "1         A-003                  NaN      47.0            NaN             NaN   \n",
      "2         A-004                  NaN       NaN            NaN             NaN   \n",
      "3         A-003                  NaN       NaN            NaN             NaN   \n",
      "4         A-004                  NaN       NaN            NaN             NaN   \n",
      "\n",
      "  nominal_size_1 end_form_id_2 connection_type_id_2  length_2  thread_size_2  \\\n",
      "0            NaN         A-004                  NaN       NaN            NaN   \n",
      "1             42         A-003                  NaN      47.0            NaN   \n",
      "2           21.7         A-001                B-002       NaN          0.812   \n",
      "3           21.7         A-001                B-002       NaN          0.812   \n",
      "4             34         A-001                B-002       NaN          1.437   \n",
      "\n",
      "   thread_pitch_2  nominal_size_2 end_form_id_3 connection_type_id_3  \\\n",
      "0             NaN            6.35           NaN                  NaN   \n",
      "1             NaN           42.00           NaN                  NaN   \n",
      "2            16.0             NaN           NaN                  NaN   \n",
      "3            16.0             NaN           NaN                  NaN   \n",
      "4            12.0             NaN           NaN                  NaN   \n",
      "\n",
      "   length_3  thread_size_3  thread_pitch_3  nominal_size_3 end_form_id_4  \\\n",
      "0       NaN            NaN             NaN             NaN           NaN   \n",
      "1       NaN            NaN             NaN             NaN           NaN   \n",
      "2       NaN            NaN             NaN             NaN           NaN   \n",
      "3       NaN            NaN             NaN             NaN           NaN   \n",
      "4       NaN            NaN             NaN             NaN           NaN   \n",
      "\n",
      "  connection_type_id_4  length_4  thread_size_4  thread_pitch_4  \\\n",
      "0                  NaN       NaN            NaN             NaN   \n",
      "1                  NaN       NaN            NaN             NaN   \n",
      "2                  NaN       NaN            NaN             NaN   \n",
      "3                  NaN       NaN            NaN             NaN   \n",
      "4                  NaN       NaN            NaN             NaN   \n",
      "\n",
      "   nominal_size_4 unique_feature orientation  weight  \n",
      "0             NaN             No          No   0.028  \n",
      "1             NaN             No         Yes   0.914  \n",
      "2             NaN             No          No   0.120  \n",
      "3             NaN             No          No   0.090  \n",
      "4             NaN             No          No   0.182  \n",
      "\n",
      "specs\n",
      "  tube_assembly_id spec1 spec2 spec3 spec4 spec5 spec6 spec7 spec8 spec9  \\\n",
      "0         TA-00001   NaN   NaN   NaN   NaN   NaN   NaN   NaN   NaN   NaN   \n",
      "1         TA-00002   NaN   NaN   NaN   NaN   NaN   NaN   NaN   NaN   NaN   \n",
      "2         TA-00003   NaN   NaN   NaN   NaN   NaN   NaN   NaN   NaN   NaN   \n",
      "3         TA-00004   NaN   NaN   NaN   NaN   NaN   NaN   NaN   NaN   NaN   \n",
      "4         TA-00005   NaN   NaN   NaN   NaN   NaN   NaN   NaN   NaN   NaN   \n",
      "\n",
      "  spec10  \n",
      "0    NaN  \n",
      "1    NaN  \n",
      "2    NaN  \n",
      "3    NaN  \n",
      "4    NaN  \n",
      "\n",
      "test_set\n",
      "   id tube_assembly_id supplier  quote_date  annual_usage  min_order_quantity  \\\n",
      "0   1         TA-00001   S-0066  2013-06-23             0                   0   \n",
      "1   2         TA-00001   S-0066  2013-06-23             0                   0   \n",
      "2   3         TA-00001   S-0066  2013-06-23             0                   0   \n",
      "3   4         TA-00001   S-0066  2013-06-23             0                   0   \n",
      "4   5         TA-00001   S-0066  2013-06-23             0                   0   \n",
      "\n",
      "  bracket_pricing  quantity  \n",
      "0             Yes         1  \n",
      "1             Yes         2  \n",
      "2             Yes         5  \n",
      "3             Yes        10  \n",
      "4             Yes        25  \n",
      "\n",
      "train_set\n",
      "  tube_assembly_id supplier  quote_date  annual_usage  min_order_quantity  \\\n",
      "0         TA-00002   S-0066  2013-07-07             0                   0   \n",
      "1         TA-00002   S-0066  2013-07-07             0                   0   \n",
      "2         TA-00002   S-0066  2013-07-07             0                   0   \n",
      "3         TA-00002   S-0066  2013-07-07             0                   0   \n",
      "4         TA-00002   S-0066  2013-07-07             0                   0   \n",
      "\n",
      "  bracket_pricing  quantity       cost  \n",
      "0             Yes         1  21.905933  \n",
      "1             Yes         2  12.341214  \n",
      "2             Yes         5   6.601826  \n",
      "3             Yes        10   4.687770  \n",
      "4             Yes        25   3.541561  \n",
      "\n",
      "tube\n",
      "  tube_assembly_id material_id  diameter  wall  length  num_bends  \\\n",
      "0         TA-00001     SP-0035     12.70  1.65   164.0          5   \n",
      "1         TA-00002     SP-0019      6.35  0.71   137.0          8   \n",
      "2         TA-00003     SP-0019      6.35  0.71   127.0          7   \n",
      "3         TA-00004     SP-0019      6.35  0.71   137.0          9   \n",
      "4         TA-00005     SP-0029     19.05  1.24   109.0          4   \n",
      "\n",
      "   bend_radius end_a_1x end_a_2x end_x_1x end_x_2x   end_a   end_x  num_boss  \\\n",
      "0        38.10        N        N        N        N  EF-003  EF-003         0   \n",
      "1        19.05        N        N        N        N  EF-008  EF-008         0   \n",
      "2        19.05        N        N        N        N  EF-008  EF-008         0   \n",
      "3        19.05        N        N        N        N  EF-008  EF-008         0   \n",
      "4        50.80        N        N        N        N  EF-003  EF-003         0   \n",
      "\n",
      "   num_bracket  other  \n",
      "0            0      0  \n",
      "1            0      0  \n",
      "2            0      0  \n",
      "3            0      0  \n",
      "4            0      0  \n",
      "\n",
      "tube_end_form\n",
      "  end_form_id forming\n",
      "0      EF-001     Yes\n",
      "1      EF-002      No\n",
      "2      EF-003      No\n",
      "3      EF-004      No\n",
      "4      EF-005     Yes\n",
      "\n",
      "type_component\n",
      "  component_type_id                        name\n",
      "0            CP-001         4-bolt Tig Straight\n",
      "1            CP-002          4-bolt MJ Straight\n",
      "2            CP-003  4-bolt Braze/Weld Straight\n",
      "3            CP-004  2-bolt Braze/Weld Straight\n",
      "4            CP-005          2-bolt MJ Straight\n",
      "\n",
      "type_connection\n",
      "  connection_type_id                   name\n",
      "0              B-001  37 deg Flare-SAE J514\n",
      "1              B-002         ORFS-SAE J1453\n",
      "2              B-003                Hi-Duty\n",
      "3              B-004     NPTF-SAE J476/J514\n",
      "4              B-005     SAE STOR-SAE J1926\n",
      "\n",
      "type_end_form\n",
      "  end_form_id               name\n",
      "0       A-001        Male (Stud)\n",
      "1       A-002      Male (Swivel)\n",
      "2       A-003    Braze-Weld Boss\n",
      "3       A-004  Braze-Weld Socket\n",
      "4       A-005         Swivel Nut\n",
      "\n"
     ]
    }
   ],
   "source": [
    "for name, frame in data.items():\n",
    "    print(name)\n",
    "    print(frame.head())\n",
    "    print()\n"
   ]
  },
  {
   "cell_type": "code",
   "execution_count": 58,
   "metadata": {
    "collapsed": false,
    "pycharm": {
     "is_executing": false,
     "name": "#%%\n"
    }
   },
   "outputs": [
    {
     "data": {
      "text/html": [
       "<div>\n",
       "<style scoped>\n",
       "    .dataframe tbody tr th:only-of-type {\n",
       "        vertical-align: middle;\n",
       "    }\n",
       "\n",
       "    .dataframe tbody tr th {\n",
       "        vertical-align: top;\n",
       "    }\n",
       "\n",
       "    .dataframe thead th {\n",
       "        text-align: right;\n",
       "    }\n",
       "</style>\n",
       "<table border=\"1\" class=\"dataframe\">\n",
       "  <thead>\n",
       "    <tr style=\"text-align: right;\">\n",
       "      <th></th>\n",
       "      <th>tube_assembly_id</th>\n",
       "      <th>material_id</th>\n",
       "      <th>diameter</th>\n",
       "      <th>wall</th>\n",
       "      <th>length</th>\n",
       "      <th>num_bends</th>\n",
       "      <th>bend_radius</th>\n",
       "      <th>end_a_1x</th>\n",
       "      <th>end_a_2x</th>\n",
       "      <th>end_x_1x</th>\n",
       "      <th>end_x_2x</th>\n",
       "      <th>end_a</th>\n",
       "      <th>end_x</th>\n",
       "      <th>num_boss</th>\n",
       "      <th>num_bracket</th>\n",
       "      <th>other</th>\n",
       "    </tr>\n",
       "  </thead>\n",
       "  <tbody>\n",
       "    <tr>\n",
       "      <th>0</th>\n",
       "      <td>TA-00001</td>\n",
       "      <td>SP-0035</td>\n",
       "      <td>12.70</td>\n",
       "      <td>1.65</td>\n",
       "      <td>164.0</td>\n",
       "      <td>5</td>\n",
       "      <td>38.10</td>\n",
       "      <td>N</td>\n",
       "      <td>N</td>\n",
       "      <td>N</td>\n",
       "      <td>N</td>\n",
       "      <td>EF-003</td>\n",
       "      <td>EF-003</td>\n",
       "      <td>0</td>\n",
       "      <td>0</td>\n",
       "      <td>0</td>\n",
       "    </tr>\n",
       "    <tr>\n",
       "      <th>1</th>\n",
       "      <td>TA-00002</td>\n",
       "      <td>SP-0019</td>\n",
       "      <td>6.35</td>\n",
       "      <td>0.71</td>\n",
       "      <td>137.0</td>\n",
       "      <td>8</td>\n",
       "      <td>19.05</td>\n",
       "      <td>N</td>\n",
       "      <td>N</td>\n",
       "      <td>N</td>\n",
       "      <td>N</td>\n",
       "      <td>EF-008</td>\n",
       "      <td>EF-008</td>\n",
       "      <td>0</td>\n",
       "      <td>0</td>\n",
       "      <td>0</td>\n",
       "    </tr>\n",
       "    <tr>\n",
       "      <th>2</th>\n",
       "      <td>TA-00003</td>\n",
       "      <td>SP-0019</td>\n",
       "      <td>6.35</td>\n",
       "      <td>0.71</td>\n",
       "      <td>127.0</td>\n",
       "      <td>7</td>\n",
       "      <td>19.05</td>\n",
       "      <td>N</td>\n",
       "      <td>N</td>\n",
       "      <td>N</td>\n",
       "      <td>N</td>\n",
       "      <td>EF-008</td>\n",
       "      <td>EF-008</td>\n",
       "      <td>0</td>\n",
       "      <td>0</td>\n",
       "      <td>0</td>\n",
       "    </tr>\n",
       "    <tr>\n",
       "      <th>3</th>\n",
       "      <td>TA-00004</td>\n",
       "      <td>SP-0019</td>\n",
       "      <td>6.35</td>\n",
       "      <td>0.71</td>\n",
       "      <td>137.0</td>\n",
       "      <td>9</td>\n",
       "      <td>19.05</td>\n",
       "      <td>N</td>\n",
       "      <td>N</td>\n",
       "      <td>N</td>\n",
       "      <td>N</td>\n",
       "      <td>EF-008</td>\n",
       "      <td>EF-008</td>\n",
       "      <td>0</td>\n",
       "      <td>0</td>\n",
       "      <td>0</td>\n",
       "    </tr>\n",
       "    <tr>\n",
       "      <th>4</th>\n",
       "      <td>TA-00005</td>\n",
       "      <td>SP-0029</td>\n",
       "      <td>19.05</td>\n",
       "      <td>1.24</td>\n",
       "      <td>109.0</td>\n",
       "      <td>4</td>\n",
       "      <td>50.80</td>\n",
       "      <td>N</td>\n",
       "      <td>N</td>\n",
       "      <td>N</td>\n",
       "      <td>N</td>\n",
       "      <td>EF-003</td>\n",
       "      <td>EF-003</td>\n",
       "      <td>0</td>\n",
       "      <td>0</td>\n",
       "      <td>0</td>\n",
       "    </tr>\n",
       "  </tbody>\n",
       "</table>\n",
       "</div>"
      ],
      "text/plain": [
       "  tube_assembly_id material_id  diameter  wall  length  num_bends  \\\n",
       "0         TA-00001     SP-0035     12.70  1.65   164.0          5   \n",
       "1         TA-00002     SP-0019      6.35  0.71   137.0          8   \n",
       "2         TA-00003     SP-0019      6.35  0.71   127.0          7   \n",
       "3         TA-00004     SP-0019      6.35  0.71   137.0          9   \n",
       "4         TA-00005     SP-0029     19.05  1.24   109.0          4   \n",
       "\n",
       "   bend_radius end_a_1x end_a_2x end_x_1x end_x_2x   end_a   end_x  num_boss  \\\n",
       "0        38.10        N        N        N        N  EF-003  EF-003         0   \n",
       "1        19.05        N        N        N        N  EF-008  EF-008         0   \n",
       "2        19.05        N        N        N        N  EF-008  EF-008         0   \n",
       "3        19.05        N        N        N        N  EF-008  EF-008         0   \n",
       "4        50.80        N        N        N        N  EF-003  EF-003         0   \n",
       "\n",
       "   num_bracket  other  \n",
       "0            0      0  \n",
       "1            0      0  \n",
       "2            0      0  \n",
       "3            0      0  \n",
       "4            0      0  "
      ]
     },
     "execution_count": 58,
     "metadata": {},
     "output_type": "execute_result"
    }
   ],
   "source": [
    "data['tube'].head()\n",
    "# We can left join this with our current data for more features.\n"
   ]
  },
  {
   "cell_type": "code",
   "execution_count": 59,
   "metadata": {
    "collapsed": false,
    "pycharm": {
     "is_executing": false,
     "name": "#%%\n"
    }
   },
   "outputs": [
    {
     "data": {
      "text/html": [
       "<div>\n",
       "<style scoped>\n",
       "    .dataframe tbody tr th:only-of-type {\n",
       "        vertical-align: middle;\n",
       "    }\n",
       "\n",
       "    .dataframe tbody tr th {\n",
       "        vertical-align: top;\n",
       "    }\n",
       "\n",
       "    .dataframe thead th {\n",
       "        text-align: right;\n",
       "    }\n",
       "</style>\n",
       "<table border=\"1\" class=\"dataframe\">\n",
       "  <thead>\n",
       "    <tr style=\"text-align: right;\">\n",
       "      <th></th>\n",
       "      <th>tube_assembly_id</th>\n",
       "      <th>supplier</th>\n",
       "      <th>quote_date</th>\n",
       "      <th>annual_usage</th>\n",
       "      <th>min_order_quantity</th>\n",
       "      <th>bracket_pricing</th>\n",
       "      <th>quantity</th>\n",
       "      <th>cost</th>\n",
       "      <th>material_id</th>\n",
       "      <th>diameter</th>\n",
       "      <th>wall</th>\n",
       "      <th>length</th>\n",
       "      <th>num_bends</th>\n",
       "      <th>bend_radius</th>\n",
       "      <th>end_a_1x</th>\n",
       "      <th>end_a_2x</th>\n",
       "      <th>end_x_1x</th>\n",
       "      <th>end_x_2x</th>\n",
       "      <th>end_a</th>\n",
       "      <th>end_x</th>\n",
       "      <th>num_boss</th>\n",
       "      <th>num_bracket</th>\n",
       "      <th>other</th>\n",
       "    </tr>\n",
       "  </thead>\n",
       "  <tbody>\n",
       "    <tr>\n",
       "      <th>0</th>\n",
       "      <td>TA-00004</td>\n",
       "      <td>S-0066</td>\n",
       "      <td>2013-07-07</td>\n",
       "      <td>0</td>\n",
       "      <td>0</td>\n",
       "      <td>Yes</td>\n",
       "      <td>1</td>\n",
       "      <td>21.972702</td>\n",
       "      <td>SP-0019</td>\n",
       "      <td>6.35</td>\n",
       "      <td>0.71</td>\n",
       "      <td>137.0</td>\n",
       "      <td>9</td>\n",
       "      <td>19.05</td>\n",
       "      <td>N</td>\n",
       "      <td>N</td>\n",
       "      <td>N</td>\n",
       "      <td>N</td>\n",
       "      <td>EF-008</td>\n",
       "      <td>EF-008</td>\n",
       "      <td>0</td>\n",
       "      <td>0</td>\n",
       "      <td>0</td>\n",
       "    </tr>\n",
       "    <tr>\n",
       "      <th>1</th>\n",
       "      <td>TA-00004</td>\n",
       "      <td>S-0066</td>\n",
       "      <td>2013-07-07</td>\n",
       "      <td>0</td>\n",
       "      <td>0</td>\n",
       "      <td>Yes</td>\n",
       "      <td>2</td>\n",
       "      <td>12.407983</td>\n",
       "      <td>SP-0019</td>\n",
       "      <td>6.35</td>\n",
       "      <td>0.71</td>\n",
       "      <td>137.0</td>\n",
       "      <td>9</td>\n",
       "      <td>19.05</td>\n",
       "      <td>N</td>\n",
       "      <td>N</td>\n",
       "      <td>N</td>\n",
       "      <td>N</td>\n",
       "      <td>EF-008</td>\n",
       "      <td>EF-008</td>\n",
       "      <td>0</td>\n",
       "      <td>0</td>\n",
       "      <td>0</td>\n",
       "    </tr>\n",
       "    <tr>\n",
       "      <th>2</th>\n",
       "      <td>TA-00004</td>\n",
       "      <td>S-0066</td>\n",
       "      <td>2013-07-07</td>\n",
       "      <td>0</td>\n",
       "      <td>0</td>\n",
       "      <td>Yes</td>\n",
       "      <td>5</td>\n",
       "      <td>6.668596</td>\n",
       "      <td>SP-0019</td>\n",
       "      <td>6.35</td>\n",
       "      <td>0.71</td>\n",
       "      <td>137.0</td>\n",
       "      <td>9</td>\n",
       "      <td>19.05</td>\n",
       "      <td>N</td>\n",
       "      <td>N</td>\n",
       "      <td>N</td>\n",
       "      <td>N</td>\n",
       "      <td>EF-008</td>\n",
       "      <td>EF-008</td>\n",
       "      <td>0</td>\n",
       "      <td>0</td>\n",
       "      <td>0</td>\n",
       "    </tr>\n",
       "    <tr>\n",
       "      <th>3</th>\n",
       "      <td>TA-00004</td>\n",
       "      <td>S-0066</td>\n",
       "      <td>2013-07-07</td>\n",
       "      <td>0</td>\n",
       "      <td>0</td>\n",
       "      <td>Yes</td>\n",
       "      <td>10</td>\n",
       "      <td>4.754539</td>\n",
       "      <td>SP-0019</td>\n",
       "      <td>6.35</td>\n",
       "      <td>0.71</td>\n",
       "      <td>137.0</td>\n",
       "      <td>9</td>\n",
       "      <td>19.05</td>\n",
       "      <td>N</td>\n",
       "      <td>N</td>\n",
       "      <td>N</td>\n",
       "      <td>N</td>\n",
       "      <td>EF-008</td>\n",
       "      <td>EF-008</td>\n",
       "      <td>0</td>\n",
       "      <td>0</td>\n",
       "      <td>0</td>\n",
       "    </tr>\n",
       "    <tr>\n",
       "      <th>4</th>\n",
       "      <td>TA-00004</td>\n",
       "      <td>S-0066</td>\n",
       "      <td>2013-07-07</td>\n",
       "      <td>0</td>\n",
       "      <td>0</td>\n",
       "      <td>Yes</td>\n",
       "      <td>25</td>\n",
       "      <td>3.608331</td>\n",
       "      <td>SP-0019</td>\n",
       "      <td>6.35</td>\n",
       "      <td>0.71</td>\n",
       "      <td>137.0</td>\n",
       "      <td>9</td>\n",
       "      <td>19.05</td>\n",
       "      <td>N</td>\n",
       "      <td>N</td>\n",
       "      <td>N</td>\n",
       "      <td>N</td>\n",
       "      <td>EF-008</td>\n",
       "      <td>EF-008</td>\n",
       "      <td>0</td>\n",
       "      <td>0</td>\n",
       "      <td>0</td>\n",
       "    </tr>\n",
       "  </tbody>\n",
       "</table>\n",
       "</div>"
      ],
      "text/plain": [
       "  tube_assembly_id supplier quote_date  annual_usage  min_order_quantity  \\\n",
       "0         TA-00004   S-0066 2013-07-07             0                   0   \n",
       "1         TA-00004   S-0066 2013-07-07             0                   0   \n",
       "2         TA-00004   S-0066 2013-07-07             0                   0   \n",
       "3         TA-00004   S-0066 2013-07-07             0                   0   \n",
       "4         TA-00004   S-0066 2013-07-07             0                   0   \n",
       "\n",
       "  bracket_pricing  quantity       cost material_id  diameter  wall  length  \\\n",
       "0             Yes         1  21.972702     SP-0019      6.35  0.71   137.0   \n",
       "1             Yes         2  12.407983     SP-0019      6.35  0.71   137.0   \n",
       "2             Yes         5   6.668596     SP-0019      6.35  0.71   137.0   \n",
       "3             Yes        10   4.754539     SP-0019      6.35  0.71   137.0   \n",
       "4             Yes        25   3.608331     SP-0019      6.35  0.71   137.0   \n",
       "\n",
       "   num_bends  bend_radius end_a_1x end_a_2x end_x_1x end_x_2x   end_a   end_x  \\\n",
       "0          9        19.05        N        N        N        N  EF-008  EF-008   \n",
       "1          9        19.05        N        N        N        N  EF-008  EF-008   \n",
       "2          9        19.05        N        N        N        N  EF-008  EF-008   \n",
       "3          9        19.05        N        N        N        N  EF-008  EF-008   \n",
       "4          9        19.05        N        N        N        N  EF-008  EF-008   \n",
       "\n",
       "   num_boss  num_bracket  other  \n",
       "0         0            0      0  \n",
       "1         0            0      0  \n",
       "2         0            0      0  \n",
       "3         0            0      0  \n",
       "4         0            0      0  "
      ]
     },
     "execution_count": 59,
     "metadata": {},
     "output_type": "execute_result"
    }
   ],
   "source": [
    "train = train.merge(data['tube'], how='left')\n",
    "val = val.merge(data['tube'], how='left')\n",
    "train.head()\n"
   ]
  },
  {
   "cell_type": "code",
   "execution_count": 60,
   "metadata": {
    "collapsed": false,
    "pycharm": {
     "is_executing": false,
     "name": "#%%\n"
    }
   },
   "outputs": [],
   "source": [
    "train = clean(train)\n",
    "val = clean(val)\n",
    "\n",
    "features = train.columns.drop('cost')\n",
    "\n",
    "X_train = train[features]\n",
    "X_val = val[features]\n",
    "pipeline = make_pipeline(OrdinalEncoder(),\n",
    "                         RandomForestRegressor(n_estimators=10,\n",
    "                                               n_jobs=3,\n",
    "                                               random_state=42))\n",
    "pipeline.fit(X_train, y_train_log)\n",
    "y_pred_log = pipeline.predict(X_val)\n",
    "y_pred = np.expm1(y_pred_log)\n"
   ]
  },
  {
   "cell_type": "code",
   "execution_count": 61,
   "metadata": {
    "collapsed": false,
    "pycharm": {
     "is_executing": false,
     "name": "#%%\n"
    }
   },
   "outputs": [
    {
     "name": "stdout",
     "output_type": "stream",
     "text": [
      "RMSE with additional features: 0.35527038549127854\n"
     ]
    }
   ],
   "source": [
    "print(f'RMSE with additional features: {rmse(y_val_log, y_pred_log)}')\n"
   ]
  },
  {
   "cell_type": "code",
   "execution_count": 62,
   "metadata": {
    "collapsed": false,
    "pycharm": {
     "is_executing": false,
     "name": "#%%\n"
    }
   },
   "outputs": [],
   "source": [
    "train = train.merge(data['bill_of_materials'], on='tube_assembly_id', how='left')\n",
    "val = val.merge(data['bill_of_materials'], on='tube_assembly_id', how='left')\n"
   ]
  },
  {
   "cell_type": "code",
   "execution_count": 63,
   "metadata": {
    "collapsed": false,
    "pycharm": {
     "is_executing": false,
     "name": "#%%\n"
    }
   },
   "outputs": [
    {
     "name": "stdout",
     "output_type": "stream",
     "text": [
      "RMSE with even more features: 0.3274274247375385\n"
     ]
    }
   ],
   "source": [
    "# features = train.drop(columns=['tube_assembly_id', 'cost']).columns\n",
    "X_train = train[features]\n",
    "X_val = val[features]\n",
    "pipeline = make_pipeline(OrdinalEncoder(),\n",
    "                         RandomForestRegressor(n_estimators=100,\n",
    "                                               n_jobs=3,\n",
    "                                               random_state=42))\n",
    "pipeline.fit(X_train, y_train_log)\n",
    "y_pred_log = pipeline.predict(X_val)\n",
    "print(f'RMSE with even more features: {rmse(y_val_log, y_pred_log)}')\n"
   ]
  },
  {
   "cell_type": "code",
   "execution_count": 64,
   "metadata": {
    "collapsed": false,
    "pycharm": {
     "is_executing": true,
     "name": "#%%\n"
    }
   },
   "outputs": [
    {
     "data": {
      "text/html": [
       "<div>\n",
       "<style scoped>\n",
       "    .dataframe tbody tr th:only-of-type {\n",
       "        vertical-align: middle;\n",
       "    }\n",
       "\n",
       "    .dataframe tbody tr th {\n",
       "        vertical-align: top;\n",
       "    }\n",
       "\n",
       "    .dataframe thead th {\n",
       "        text-align: right;\n",
       "    }\n",
       "</style>\n",
       "<table border=\"1\" class=\"dataframe\">\n",
       "  <thead>\n",
       "    <tr style=\"text-align: right;\">\n",
       "      <th></th>\n",
       "      <th>tube_assembly_id</th>\n",
       "      <th>supplier</th>\n",
       "      <th>annual_usage</th>\n",
       "      <th>min_order_quantity</th>\n",
       "      <th>bracket_pricing</th>\n",
       "      <th>quantity</th>\n",
       "      <th>cost</th>\n",
       "      <th>material_id</th>\n",
       "      <th>diameter</th>\n",
       "      <th>wall</th>\n",
       "      <th>length</th>\n",
       "      <th>num_bends</th>\n",
       "      <th>bend_radius</th>\n",
       "      <th>end_a_1x</th>\n",
       "      <th>end_a_2x</th>\n",
       "      <th>end_x_1x</th>\n",
       "      <th>end_x_2x</th>\n",
       "      <th>end_a</th>\n",
       "      <th>end_x</th>\n",
       "      <th>num_boss</th>\n",
       "      <th>num_bracket</th>\n",
       "      <th>other</th>\n",
       "      <th>quote_year</th>\n",
       "      <th>quote_month</th>\n",
       "      <th>component_id_1</th>\n",
       "      <th>quantity_1</th>\n",
       "      <th>component_id_2</th>\n",
       "      <th>quantity_2</th>\n",
       "      <th>component_id_3</th>\n",
       "      <th>quantity_3</th>\n",
       "      <th>component_id_4</th>\n",
       "      <th>quantity_4</th>\n",
       "      <th>component_id_5</th>\n",
       "      <th>quantity_5</th>\n",
       "      <th>component_id_6</th>\n",
       "      <th>quantity_6</th>\n",
       "      <th>component_id_7</th>\n",
       "      <th>quantity_7</th>\n",
       "      <th>component_id_8</th>\n",
       "      <th>quantity_8</th>\n",
       "    </tr>\n",
       "  </thead>\n",
       "  <tbody>\n",
       "    <tr>\n",
       "      <th>0</th>\n",
       "      <td>TA-00004</td>\n",
       "      <td>S-0066</td>\n",
       "      <td>0</td>\n",
       "      <td>0</td>\n",
       "      <td>Yes</td>\n",
       "      <td>1</td>\n",
       "      <td>21.972702</td>\n",
       "      <td>SP-0019</td>\n",
       "      <td>6.35</td>\n",
       "      <td>0.71</td>\n",
       "      <td>137.0</td>\n",
       "      <td>9</td>\n",
       "      <td>19.05</td>\n",
       "      <td>N</td>\n",
       "      <td>N</td>\n",
       "      <td>N</td>\n",
       "      <td>N</td>\n",
       "      <td>EF-008</td>\n",
       "      <td>EF-008</td>\n",
       "      <td>0</td>\n",
       "      <td>0</td>\n",
       "      <td>0</td>\n",
       "      <td>2013</td>\n",
       "      <td>7</td>\n",
       "      <td>C-1312</td>\n",
       "      <td>2.0</td>\n",
       "      <td>NaN</td>\n",
       "      <td>NaN</td>\n",
       "      <td>NaN</td>\n",
       "      <td>NaN</td>\n",
       "      <td>NaN</td>\n",
       "      <td>NaN</td>\n",
       "      <td>NaN</td>\n",
       "      <td>NaN</td>\n",
       "      <td>NaN</td>\n",
       "      <td>NaN</td>\n",
       "      <td>NaN</td>\n",
       "      <td>NaN</td>\n",
       "      <td>NaN</td>\n",
       "      <td>NaN</td>\n",
       "    </tr>\n",
       "    <tr>\n",
       "      <th>1</th>\n",
       "      <td>TA-00004</td>\n",
       "      <td>S-0066</td>\n",
       "      <td>0</td>\n",
       "      <td>0</td>\n",
       "      <td>Yes</td>\n",
       "      <td>2</td>\n",
       "      <td>12.407983</td>\n",
       "      <td>SP-0019</td>\n",
       "      <td>6.35</td>\n",
       "      <td>0.71</td>\n",
       "      <td>137.0</td>\n",
       "      <td>9</td>\n",
       "      <td>19.05</td>\n",
       "      <td>N</td>\n",
       "      <td>N</td>\n",
       "      <td>N</td>\n",
       "      <td>N</td>\n",
       "      <td>EF-008</td>\n",
       "      <td>EF-008</td>\n",
       "      <td>0</td>\n",
       "      <td>0</td>\n",
       "      <td>0</td>\n",
       "      <td>2013</td>\n",
       "      <td>7</td>\n",
       "      <td>C-1312</td>\n",
       "      <td>2.0</td>\n",
       "      <td>NaN</td>\n",
       "      <td>NaN</td>\n",
       "      <td>NaN</td>\n",
       "      <td>NaN</td>\n",
       "      <td>NaN</td>\n",
       "      <td>NaN</td>\n",
       "      <td>NaN</td>\n",
       "      <td>NaN</td>\n",
       "      <td>NaN</td>\n",
       "      <td>NaN</td>\n",
       "      <td>NaN</td>\n",
       "      <td>NaN</td>\n",
       "      <td>NaN</td>\n",
       "      <td>NaN</td>\n",
       "    </tr>\n",
       "    <tr>\n",
       "      <th>2</th>\n",
       "      <td>TA-00004</td>\n",
       "      <td>S-0066</td>\n",
       "      <td>0</td>\n",
       "      <td>0</td>\n",
       "      <td>Yes</td>\n",
       "      <td>5</td>\n",
       "      <td>6.668596</td>\n",
       "      <td>SP-0019</td>\n",
       "      <td>6.35</td>\n",
       "      <td>0.71</td>\n",
       "      <td>137.0</td>\n",
       "      <td>9</td>\n",
       "      <td>19.05</td>\n",
       "      <td>N</td>\n",
       "      <td>N</td>\n",
       "      <td>N</td>\n",
       "      <td>N</td>\n",
       "      <td>EF-008</td>\n",
       "      <td>EF-008</td>\n",
       "      <td>0</td>\n",
       "      <td>0</td>\n",
       "      <td>0</td>\n",
       "      <td>2013</td>\n",
       "      <td>7</td>\n",
       "      <td>C-1312</td>\n",
       "      <td>2.0</td>\n",
       "      <td>NaN</td>\n",
       "      <td>NaN</td>\n",
       "      <td>NaN</td>\n",
       "      <td>NaN</td>\n",
       "      <td>NaN</td>\n",
       "      <td>NaN</td>\n",
       "      <td>NaN</td>\n",
       "      <td>NaN</td>\n",
       "      <td>NaN</td>\n",
       "      <td>NaN</td>\n",
       "      <td>NaN</td>\n",
       "      <td>NaN</td>\n",
       "      <td>NaN</td>\n",
       "      <td>NaN</td>\n",
       "    </tr>\n",
       "    <tr>\n",
       "      <th>3</th>\n",
       "      <td>TA-00004</td>\n",
       "      <td>S-0066</td>\n",
       "      <td>0</td>\n",
       "      <td>0</td>\n",
       "      <td>Yes</td>\n",
       "      <td>10</td>\n",
       "      <td>4.754539</td>\n",
       "      <td>SP-0019</td>\n",
       "      <td>6.35</td>\n",
       "      <td>0.71</td>\n",
       "      <td>137.0</td>\n",
       "      <td>9</td>\n",
       "      <td>19.05</td>\n",
       "      <td>N</td>\n",
       "      <td>N</td>\n",
       "      <td>N</td>\n",
       "      <td>N</td>\n",
       "      <td>EF-008</td>\n",
       "      <td>EF-008</td>\n",
       "      <td>0</td>\n",
       "      <td>0</td>\n",
       "      <td>0</td>\n",
       "      <td>2013</td>\n",
       "      <td>7</td>\n",
       "      <td>C-1312</td>\n",
       "      <td>2.0</td>\n",
       "      <td>NaN</td>\n",
       "      <td>NaN</td>\n",
       "      <td>NaN</td>\n",
       "      <td>NaN</td>\n",
       "      <td>NaN</td>\n",
       "      <td>NaN</td>\n",
       "      <td>NaN</td>\n",
       "      <td>NaN</td>\n",
       "      <td>NaN</td>\n",
       "      <td>NaN</td>\n",
       "      <td>NaN</td>\n",
       "      <td>NaN</td>\n",
       "      <td>NaN</td>\n",
       "      <td>NaN</td>\n",
       "    </tr>\n",
       "    <tr>\n",
       "      <th>4</th>\n",
       "      <td>TA-00004</td>\n",
       "      <td>S-0066</td>\n",
       "      <td>0</td>\n",
       "      <td>0</td>\n",
       "      <td>Yes</td>\n",
       "      <td>25</td>\n",
       "      <td>3.608331</td>\n",
       "      <td>SP-0019</td>\n",
       "      <td>6.35</td>\n",
       "      <td>0.71</td>\n",
       "      <td>137.0</td>\n",
       "      <td>9</td>\n",
       "      <td>19.05</td>\n",
       "      <td>N</td>\n",
       "      <td>N</td>\n",
       "      <td>N</td>\n",
       "      <td>N</td>\n",
       "      <td>EF-008</td>\n",
       "      <td>EF-008</td>\n",
       "      <td>0</td>\n",
       "      <td>0</td>\n",
       "      <td>0</td>\n",
       "      <td>2013</td>\n",
       "      <td>7</td>\n",
       "      <td>C-1312</td>\n",
       "      <td>2.0</td>\n",
       "      <td>NaN</td>\n",
       "      <td>NaN</td>\n",
       "      <td>NaN</td>\n",
       "      <td>NaN</td>\n",
       "      <td>NaN</td>\n",
       "      <td>NaN</td>\n",
       "      <td>NaN</td>\n",
       "      <td>NaN</td>\n",
       "      <td>NaN</td>\n",
       "      <td>NaN</td>\n",
       "      <td>NaN</td>\n",
       "      <td>NaN</td>\n",
       "      <td>NaN</td>\n",
       "      <td>NaN</td>\n",
       "    </tr>\n",
       "  </tbody>\n",
       "</table>\n",
       "</div>"
      ],
      "text/plain": [
       "  tube_assembly_id supplier  annual_usage  min_order_quantity bracket_pricing  \\\n",
       "0         TA-00004   S-0066             0                   0             Yes   \n",
       "1         TA-00004   S-0066             0                   0             Yes   \n",
       "2         TA-00004   S-0066             0                   0             Yes   \n",
       "3         TA-00004   S-0066             0                   0             Yes   \n",
       "4         TA-00004   S-0066             0                   0             Yes   \n",
       "\n",
       "   quantity       cost material_id  diameter  wall  length  num_bends  \\\n",
       "0         1  21.972702     SP-0019      6.35  0.71   137.0          9   \n",
       "1         2  12.407983     SP-0019      6.35  0.71   137.0          9   \n",
       "2         5   6.668596     SP-0019      6.35  0.71   137.0          9   \n",
       "3        10   4.754539     SP-0019      6.35  0.71   137.0          9   \n",
       "4        25   3.608331     SP-0019      6.35  0.71   137.0          9   \n",
       "\n",
       "   bend_radius end_a_1x end_a_2x end_x_1x end_x_2x   end_a   end_x  num_boss  \\\n",
       "0        19.05        N        N        N        N  EF-008  EF-008         0   \n",
       "1        19.05        N        N        N        N  EF-008  EF-008         0   \n",
       "2        19.05        N        N        N        N  EF-008  EF-008         0   \n",
       "3        19.05        N        N        N        N  EF-008  EF-008         0   \n",
       "4        19.05        N        N        N        N  EF-008  EF-008         0   \n",
       "\n",
       "   num_bracket  other  quote_year  quote_month component_id_1  quantity_1  \\\n",
       "0            0      0        2013            7         C-1312         2.0   \n",
       "1            0      0        2013            7         C-1312         2.0   \n",
       "2            0      0        2013            7         C-1312         2.0   \n",
       "3            0      0        2013            7         C-1312         2.0   \n",
       "4            0      0        2013            7         C-1312         2.0   \n",
       "\n",
       "  component_id_2  quantity_2 component_id_3  quantity_3 component_id_4  \\\n",
       "0            NaN         NaN            NaN         NaN            NaN   \n",
       "1            NaN         NaN            NaN         NaN            NaN   \n",
       "2            NaN         NaN            NaN         NaN            NaN   \n",
       "3            NaN         NaN            NaN         NaN            NaN   \n",
       "4            NaN         NaN            NaN         NaN            NaN   \n",
       "\n",
       "   quantity_4 component_id_5  quantity_5 component_id_6  quantity_6  \\\n",
       "0         NaN            NaN         NaN            NaN         NaN   \n",
       "1         NaN            NaN         NaN            NaN         NaN   \n",
       "2         NaN            NaN         NaN            NaN         NaN   \n",
       "3         NaN            NaN         NaN            NaN         NaN   \n",
       "4         NaN            NaN         NaN            NaN         NaN   \n",
       "\n",
       "  component_id_7  quantity_7 component_id_8  quantity_8  \n",
       "0            NaN         NaN            NaN         NaN  \n",
       "1            NaN         NaN            NaN         NaN  \n",
       "2            NaN         NaN            NaN         NaN  \n",
       "3            NaN         NaN            NaN         NaN  \n",
       "4            NaN         NaN            NaN         NaN  "
      ]
     },
     "execution_count": 64,
     "metadata": {},
     "output_type": "execute_result"
    }
   ],
   "source": [
    "train.head()\n"
   ]
  },
  {
   "cell_type": "code",
   "execution_count": 65,
   "metadata": {},
   "outputs": [],
   "source": [
    "comp_hfl = data['comp_hfl']\n",
    "comp_hfl['hfl_material'] = comp_hfl['component_id']"
   ]
  },
  {
   "cell_type": "code",
   "execution_count": null,
   "metadata": {},
   "outputs": [],
   "source": []
  }
 ],
 "metadata": {
  "kernelspec": {
   "display_name": "Python 3",
   "language": "python",
   "name": "python3"
  },
  "language_info": {
   "codemirror_mode": {
    "name": "ipython",
    "version": 3
   },
   "file_extension": ".py",
   "mimetype": "text/x-python",
   "name": "python",
   "nbconvert_exporter": "python",
   "pygments_lexer": "ipython3",
   "version": "3.6.8"
  },
  "pycharm": {
   "stem_cell": {
    "cell_type": "raw",
    "metadata": {
     "collapsed": false
    },
    "source": []
   }
  }
 },
 "nbformat": 4,
 "nbformat_minor": 2
}
