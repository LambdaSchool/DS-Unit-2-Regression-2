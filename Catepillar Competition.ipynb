{
 "cells": [
  {
   "cell_type": "markdown",
   "metadata": {},
   "source": [
    "# Predict the price a supplier will quote for a given tube assembly."
   ]
  },
  {
   "cell_type": "code",
   "execution_count": 1,
   "metadata": {},
   "outputs": [
    {
     "name": "stdout",
     "output_type": "stream",
     "text": [
      "Downloading sample_submission.csv to /Users/l/Work/Lambda/2_Unit/3_Sprint\n",
      "  0%|                                                | 0.00/225k [00:00<?, ?B/s]\n",
      "100%|████████████████████████████████████████| 225k/225k [00:00<00:00, 12.1MB/s]\n",
      "Downloading data.zip to /Users/l/Work/Lambda/2_Unit/3_Sprint\n",
      "  0%|                                                | 0.00/794k [00:00<?, ?B/s]\n",
      "100%|████████████████████████████████████████| 794k/794k [00:00<00:00, 14.9MB/s]\n"
     ]
    }
   ],
   "source": [
    "!kaggle competitions download -c caterpillar-tube-pricing"
   ]
  },
  {
   "cell_type": "code",
   "execution_count": 2,
   "metadata": {},
   "outputs": [
    {
     "name": "stdout",
     "output_type": "stream",
     "text": [
      "LICENSE                             \u001b[34mmodule2-gradient-boosting\u001b[m\u001b[m\r\n",
      "README.md                           \u001b[34mmodule3-hyperparameter-optimization\u001b[m\u001b[m\r\n",
      "Untitled.ipynb                      \u001b[34mmodule4-partial-dependence-plots\u001b[m\u001b[m\r\n",
      "data.zip                            sample_submission.csv\r\n",
      "\u001b[34mmodule1-log-linear-regression\u001b[m\u001b[m\r\n"
     ]
    }
   ],
   "source": [
    "!ls"
   ]
  },
  {
   "cell_type": "code",
   "execution_count": 3,
   "metadata": {},
   "outputs": [
    {
     "name": "stdout",
     "output_type": "stream",
     "text": [
      "data.zip\n",
      "Archive:  data.zip\n",
      "   creating: competition_data/\n",
      "  inflating: competition_data/bill_of_materials.csv  \n",
      "  inflating: competition_data/comp_adaptor.csv  \n",
      "  inflating: competition_data/comp_boss.csv  \n",
      "  inflating: competition_data/comp_elbow.csv  \n",
      "  inflating: competition_data/comp_float.csv  \n",
      "  inflating: competition_data/comp_hfl.csv  \n",
      "  inflating: competition_data/comp_nut.csv  \n",
      "  inflating: competition_data/comp_other.csv  \n",
      "  inflating: competition_data/comp_sleeve.csv  \n",
      "  inflating: competition_data/comp_straight.csv  \n",
      "  inflating: competition_data/comp_tee.csv  \n",
      "  inflating: competition_data/comp_threaded.csv  \n",
      "  inflating: competition_data/components.csv  \n",
      "  inflating: competition_data/specs.csv  \n",
      "  inflating: competition_data/test_set.csv  \n",
      "  inflating: competition_data/train_set.csv  \n",
      "  inflating: competition_data/tube.csv  \n",
      "  inflating: competition_data/tube_end_form.csv  \n",
      "  inflating: competition_data/type_component.csv  \n",
      "  inflating: competition_data/type_connection.csv  \n",
      "  inflating: competition_data/type_end_form.csv  \n"
     ]
    }
   ],
   "source": [
    "%%bash\n",
    "if ls *.zip\n",
    "then\n",
    "    for z in *.zip\n",
    "    do\n",
    "        unzip \"$z\"\n",
    "        rm \"$z\"\n",
    "    done\n",
    "    for c in *.csv\n",
    "    do\n",
    "        chmod +rwx \"$c\"\n",
    "    done\n",
    "    if ! test -d csvs\n",
    "    then\n",
    "        mkdir csvs\n",
    "    fi\n",
    "    mv *.csv csvs/\n",
    "fi"
   ]
  },
  {
   "cell_type": "code",
   "execution_count": 7,
   "metadata": {},
   "outputs": [
    {
     "name": "stdout",
     "output_type": "stream",
     "text": [
      "bill_of_materials.csv comp_other.csv        test_set.csv\r\n",
      "comp_adaptor.csv      comp_sleeve.csv       train_set.csv\r\n",
      "comp_boss.csv         comp_straight.csv     tube.csv\r\n",
      "comp_elbow.csv        comp_tee.csv          tube_end_form.csv\r\n",
      "comp_float.csv        comp_threaded.csv     type_component.csv\r\n",
      "comp_hfl.csv          components.csv        type_connection.csv\r\n",
      "comp_nut.csv          specs.csv             type_end_form.csv\r\n"
     ]
    }
   ],
   "source": [
    "!ls competition_data"
   ]
  },
  {
   "cell_type": "code",
   "execution_count": 8,
   "metadata": {},
   "outputs": [],
   "source": [
    "import pandas as pd"
   ]
  },
  {
   "cell_type": "code",
   "execution_count": 10,
   "metadata": {},
   "outputs": [],
   "source": [
    "test = pd.read_csv('competition_data/test_set.csv')\n",
    "train = pd.read_csv('competition_data/train_set.csv')"
   ]
  },
  {
   "cell_type": "code",
   "execution_count": 13,
   "metadata": {},
   "outputs": [
    {
     "data": {
      "text/plain": [
       "((30213, 8), (30235, 8))"
      ]
     },
     "execution_count": 13,
     "metadata": {},
     "output_type": "execute_result"
    }
   ],
   "source": [
    "train.shape, test.shape"
   ]
  },
  {
   "cell_type": "code",
   "execution_count": 15,
   "metadata": {},
   "outputs": [
    {
     "data": {
      "text/html": [
       "<div>\n",
       "<style scoped>\n",
       "    .dataframe tbody tr th:only-of-type {\n",
       "        vertical-align: middle;\n",
       "    }\n",
       "\n",
       "    .dataframe tbody tr th {\n",
       "        vertical-align: top;\n",
       "    }\n",
       "\n",
       "    .dataframe thead th {\n",
       "        text-align: right;\n",
       "    }\n",
       "</style>\n",
       "<table border=\"1\" class=\"dataframe\">\n",
       "  <thead>\n",
       "    <tr style=\"text-align: right;\">\n",
       "      <th></th>\n",
       "      <th>tube_assembly_id</th>\n",
       "      <th>supplier</th>\n",
       "      <th>quote_date</th>\n",
       "      <th>bracket_pricing</th>\n",
       "    </tr>\n",
       "  </thead>\n",
       "  <tbody>\n",
       "    <tr>\n",
       "      <th>count</th>\n",
       "      <td>30213</td>\n",
       "      <td>30213</td>\n",
       "      <td>30213</td>\n",
       "      <td>30213</td>\n",
       "    </tr>\n",
       "    <tr>\n",
       "      <th>unique</th>\n",
       "      <td>8855</td>\n",
       "      <td>57</td>\n",
       "      <td>1781</td>\n",
       "      <td>2</td>\n",
       "    </tr>\n",
       "    <tr>\n",
       "      <th>top</th>\n",
       "      <td>TA-04788</td>\n",
       "      <td>S-0066</td>\n",
       "      <td>2013-10-01</td>\n",
       "      <td>Yes</td>\n",
       "    </tr>\n",
       "    <tr>\n",
       "      <th>freq</th>\n",
       "      <td>14</td>\n",
       "      <td>20553</td>\n",
       "      <td>2877</td>\n",
       "      <td>26283</td>\n",
       "    </tr>\n",
       "  </tbody>\n",
       "</table>\n",
       "</div>"
      ],
      "text/plain": [
       "       tube_assembly_id supplier  quote_date bracket_pricing\n",
       "count             30213    30213       30213           30213\n",
       "unique             8855       57        1781               2\n",
       "top            TA-04788   S-0066  2013-10-01             Yes\n",
       "freq                 14    20553        2877           26283"
      ]
     },
     "execution_count": 15,
     "metadata": {},
     "output_type": "execute_result"
    }
   ],
   "source": [
    "train.describe(exclude='number')"
   ]
  },
  {
   "cell_type": "code",
   "execution_count": 16,
   "metadata": {},
   "outputs": [
    {
     "data": {
      "text/html": [
       "<div>\n",
       "<style scoped>\n",
       "    .dataframe tbody tr th:only-of-type {\n",
       "        vertical-align: middle;\n",
       "    }\n",
       "\n",
       "    .dataframe tbody tr th {\n",
       "        vertical-align: top;\n",
       "    }\n",
       "\n",
       "    .dataframe thead th {\n",
       "        text-align: right;\n",
       "    }\n",
       "</style>\n",
       "<table border=\"1\" class=\"dataframe\">\n",
       "  <thead>\n",
       "    <tr style=\"text-align: right;\">\n",
       "      <th></th>\n",
       "      <th>annual_usage</th>\n",
       "      <th>min_order_quantity</th>\n",
       "      <th>quantity</th>\n",
       "      <th>cost</th>\n",
       "    </tr>\n",
       "  </thead>\n",
       "  <tbody>\n",
       "    <tr>\n",
       "      <th>count</th>\n",
       "      <td>30213.000000</td>\n",
       "      <td>30213.000000</td>\n",
       "      <td>30213.000000</td>\n",
       "      <td>30213.000000</td>\n",
       "    </tr>\n",
       "    <tr>\n",
       "      <th>mean</th>\n",
       "      <td>120.369377</td>\n",
       "      <td>2.084699</td>\n",
       "      <td>38.389369</td>\n",
       "      <td>13.433317</td>\n",
       "    </tr>\n",
       "    <tr>\n",
       "      <th>std</th>\n",
       "      <td>1590.331872</td>\n",
       "      <td>12.742776</td>\n",
       "      <td>70.761392</td>\n",
       "      <td>28.663200</td>\n",
       "    </tr>\n",
       "    <tr>\n",
       "      <th>min</th>\n",
       "      <td>0.000000</td>\n",
       "      <td>0.000000</td>\n",
       "      <td>1.000000</td>\n",
       "      <td>0.503553</td>\n",
       "    </tr>\n",
       "    <tr>\n",
       "      <th>25%</th>\n",
       "      <td>0.000000</td>\n",
       "      <td>0.000000</td>\n",
       "      <td>2.000000</td>\n",
       "      <td>3.878190</td>\n",
       "    </tr>\n",
       "    <tr>\n",
       "      <th>50%</th>\n",
       "      <td>0.000000</td>\n",
       "      <td>0.000000</td>\n",
       "      <td>10.000000</td>\n",
       "      <td>6.521146</td>\n",
       "    </tr>\n",
       "    <tr>\n",
       "      <th>75%</th>\n",
       "      <td>2.000000</td>\n",
       "      <td>0.000000</td>\n",
       "      <td>40.000000</td>\n",
       "      <td>13.431781</td>\n",
       "    </tr>\n",
       "    <tr>\n",
       "      <th>max</th>\n",
       "      <td>150000.000000</td>\n",
       "      <td>535.000000</td>\n",
       "      <td>2500.000000</td>\n",
       "      <td>1000.000000</td>\n",
       "    </tr>\n",
       "  </tbody>\n",
       "</table>\n",
       "</div>"
      ],
      "text/plain": [
       "        annual_usage  min_order_quantity      quantity          cost\n",
       "count   30213.000000        30213.000000  30213.000000  30213.000000\n",
       "mean      120.369377            2.084699     38.389369     13.433317\n",
       "std      1590.331872           12.742776     70.761392     28.663200\n",
       "min         0.000000            0.000000      1.000000      0.503553\n",
       "25%         0.000000            0.000000      2.000000      3.878190\n",
       "50%         0.000000            0.000000     10.000000      6.521146\n",
       "75%         2.000000            0.000000     40.000000     13.431781\n",
       "max    150000.000000          535.000000   2500.000000   1000.000000"
      ]
     },
     "execution_count": 16,
     "metadata": {},
     "output_type": "execute_result"
    }
   ],
   "source": [
    "train.describe(include='number')"
   ]
  },
  {
   "cell_type": "code",
   "execution_count": 18,
   "metadata": {},
   "outputs": [],
   "source": [
    "given = 'tube_assembly_id'\n",
    "target = 'cost'"
   ]
  },
  {
   "cell_type": "code",
   "execution_count": 19,
   "metadata": {},
   "outputs": [
    {
     "data": {
      "text/plain": [
       "set()"
      ]
     },
     "execution_count": 19,
     "metadata": {},
     "output_type": "execute_result"
    }
   ],
   "source": [
    "trainTubes = train[given].unique()\n",
    "testTubes = test[given].unique()\n",
    "set(trainTubes) & set(testTubes)"
   ]
  },
  {
   "cell_type": "code",
   "execution_count": null,
   "metadata": {},
   "outputs": [],
   "source": []
  }
 ],
 "metadata": {
  "kernelspec": {
   "display_name": "Python 3",
   "language": "python",
   "name": "python3"
  },
  "language_info": {
   "codemirror_mode": {
    "name": "ipython",
    "version": 3
   },
   "file_extension": ".py",
   "mimetype": "text/x-python",
   "name": "python",
   "nbconvert_exporter": "python",
   "pygments_lexer": "ipython3",
   "version": "3.7.3"
  }
 },
 "nbformat": 4,
 "nbformat_minor": 2
}
