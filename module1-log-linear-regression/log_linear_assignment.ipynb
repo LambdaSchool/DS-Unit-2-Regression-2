{
 "cells": [
  {
   "cell_type": "markdown",
   "metadata": {},
   "source": [
    "# Assignment\n",
    "- Start a clean notebook.\n",
    "- Get the [Caterpillar data from Kaggle](https://www.kaggle.com/c/caterpillar-tube-pricing/data).\n",
    "- Do train/validate/test split.\n",
    "- Select features from `train_set.csv`, `tube.csv`, and at least one more file.\n",
    "- Fit a model.\n",
    "- Get your validation RMSLE (or RMSE with log-transformed targets).\n",
    "- [Submit](https://www.kaggle.com/c/caterpillar-tube-pricing/submit) your predictions to the Kaggle competition.\n",
    "- Commit your notebook to your fork of the GitHub repo.\n",
    "\n",
    "## Stretch Goals\n",
    "- Improve your scores on Kaggle.\n",
    "- Make visualizations and share on Slack.\n",
    "- Look at [Kaggle Kernels](https://www.kaggle.com/c/caterpillar-tube-pricing/kernels) for ideas about feature engineerng and visualization.\n",
    "\n",
    "Read [Better Explained](https://betterexplained.com/) Exponents & Logs series:\n",
    "\n",
    "1. [An Intuitive Guide To Exponential Functions & e](https://betterexplained.com/articles/an-intuitive-guide-to-exponential-functions-e/)\n",
    "2. [Demystifying the Natural Logarithm (ln)](https://betterexplained.com/articles/demystifying-the-natural-logarithm-ln/)\n",
    "3. [A Visual Guide to Simple, Compound and Continuous Interest Rates](https://betterexplained.com/articles/a-visual-guide-to-simple-compound-and-continuous-interest-rates/)\n",
    "4. [Common Definitions of e (Colorized)](https://betterexplained.com/articles/definitions-of-e-colorized/)\n",
    "5. [Understanding Exponents (Why does 0^0 = 1?)](https://betterexplained.com/articles/understanding-exponents-why-does-00-1/)\n",
    "6. [Using Logarithms in the Real World](https://betterexplained.com/articles/using-logs-in-the-real-world/)\n",
    "7. [How To Think With Exponents And Logarithms](https://betterexplained.com/articles/think-with-exponents/)\n",
    "8. [Understanding Discrete vs. Continuous Growth](https://betterexplained.com/articles/understanding-discrete-vs-continuous-growth/)\n",
    "9. [What does an exponent really mean?](https://betterexplained.com/articles/what-does-an-exponent-mean/)\n",
    "10. [Q: Why is e special? (2.718..., not 2, 3.7 or another number?)](https://betterexplained.com/articles/q-why-is-e-special-2-718-not-other-number/)"
   ]
  },
  {
   "cell_type": "code",
   "execution_count": 18,
   "metadata": {},
   "outputs": [
    {
     "name": "stdout",
     "output_type": "stream",
     "text": [
      "competition_data/comp_threaded.csv (194, 32)\n",
      "competition_data/comp_adaptor.csv (25, 20)\n",
      "competition_data/tube_end_form.csv (27, 2)\n",
      "competition_data/comp_straight.csv (361, 12)\n",
      "competition_data/comp_tee.csv (4, 14)\n",
      "competition_data/comp_boss.csv (147, 15)\n",
      "competition_data/components.csv (2048, 3)\n",
      "competition_data/comp_float.csv (16, 7)\n",
      "competition_data/bill_of_materials.csv (21198, 17)\n",
      "competition_data/comp_elbow.csv (178, 16)\n",
      "competition_data/type_connection.csv (14, 2)\n",
      "competition_data/train_set.csv (30213, 8)\n",
      "competition_data/comp_sleeve.csv (50, 10)\n",
      "competition_data/test_set.csv (30235, 8)\n",
      "competition_data/tube.csv (21198, 16)\n",
      "competition_data/comp_hfl.csv (6, 9)\n",
      "competition_data/type_end_form.csv (8, 2)\n",
      "competition_data/comp_other.csv (1001, 3)\n",
      "competition_data/type_component.csv (29, 2)\n",
      "competition_data/specs.csv (21198, 11)\n",
      "competition_data/comp_nut.csv (65, 11)\n"
     ]
    }
   ],
   "source": [
    "from glob import glob\n",
    "import pandas as pd\n",
    "\n",
    "for path in glob('competition_data/*.csv'):\n",
    "    df = pd.read_csv(path)\n",
    "    print(path, df.shape)"
   ]
  },
  {
   "cell_type": "code",
   "execution_count": 454,
   "metadata": {},
   "outputs": [],
   "source": [
    "train = pd.read_csv('competition_data/train_set.csv')\n",
    "test = pd.read_csv('competition_data/test_set.csv')\n",
    "tube = pd.read_csv('competition_data/tube.csv')\n",
    "mats = pd.read_csv('competition_data/bill_of_materials.csv')\n",
    "comps = pd.read_csv('competition_data/components.csv')\n",
    "specs = pd.read_csv('competition_data/specs.csv')\n",
    "end_form = pd.read_csv('competition_data/tube_end_form.csv')"
   ]
  },
  {
   "cell_type": "markdown",
   "metadata": {},
   "source": [
    "## Merging"
   ]
  },
  {
   "cell_type": "markdown",
   "metadata": {},
   "source": [
    "#### merging tube with end_form df"
   ]
  },
  {
   "cell_type": "code",
   "execution_count": 455,
   "metadata": {},
   "outputs": [],
   "source": [
    "# merging tube df with end_form df\n",
    "tube = tube.merge(end_form,how='left',left_on='end_a',right_on='end_form_id').merge(end_form,how='left',left_on='end_x',right_on='end_form_id')"
   ]
  },
  {
   "cell_type": "code",
   "execution_count": 456,
   "metadata": {},
   "outputs": [],
   "source": [
    "# drop duplicate ids\n",
    "tube = tube.drop(['end_form_id_x','end_form_id_y'],axis=1)\n",
    "# rename forming columns to match end_a and end_x\n",
    "tube = tube.rename({'forming_x':'forming_a','forming_y':'forming_x'},axis=1)"
   ]
  },
  {
   "cell_type": "markdown",
   "metadata": {},
   "source": [
    "#### merging comps onto mats.\n",
    "We are only going to use the first component"
   ]
  },
  {
   "cell_type": "code",
   "execution_count": 457,
   "metadata": {},
   "outputs": [],
   "source": [
    "# merging comps on mats but only on the first component\n",
    "mats = mats.merge(comps,left_on='component_id_1',right_on='component_id',how='left')"
   ]
  },
  {
   "cell_type": "code",
   "execution_count": 458,
   "metadata": {},
   "outputs": [],
   "source": [
    "# dropping redundant columns\n",
    "mats = mats.drop(['component_id','component_type_id'],axis=1)"
   ]
  },
  {
   "cell_type": "code",
   "execution_count": 459,
   "metadata": {
    "scrolled": true
   },
   "outputs": [],
   "source": [
    "train = train.merge(tube, left_on='tube_assembly_id',right_on='tube_assembly_id',how='left')\n",
    "test = test.merge(tube, left_on='tube_assembly_id',right_on='tube_assembly_id',how='left')"
   ]
  },
  {
   "cell_type": "code",
   "execution_count": 460,
   "metadata": {},
   "outputs": [],
   "source": [
    "train = train.merge(mats,left_on='tube_assembly_id',right_on='tube_assembly_id',how='left')\n",
    "test = test.merge(mats,left_on='tube_assembly_id',right_on='tube_assembly_id',how='left')"
   ]
  },
  {
   "cell_type": "markdown",
   "metadata": {},
   "source": [
    "### Exploring Features"
   ]
  },
  {
   "cell_type": "markdown",
   "metadata": {},
   "source": [
    "### Wrangle"
   ]
  },
  {
   "cell_type": "code",
   "execution_count": 461,
   "metadata": {},
   "outputs": [],
   "source": [
    "import seaborn as sns\n",
    "import numpy as np"
   ]
  },
  {
   "cell_type": "code",
   "execution_count": 462,
   "metadata": {},
   "outputs": [],
   "source": [
    "# transform skewed cols\n",
    "def transform_skewed_cols(df, skew_level=4):\n",
    "    skew_cols = list(train.skew()[train.skew() > skew_level].index)\n",
    "    for col in skew_cols:\n",
    "        df[col] = np.log1p(df[col])\n",
    "    return df"
   ]
  },
  {
   "cell_type": "code",
   "execution_count": 463,
   "metadata": {
    "scrolled": true
   },
   "outputs": [
    {
     "name": "stderr",
     "output_type": "stream",
     "text": [
      "/usr/local/anaconda3/lib/python3.7/site-packages/ipykernel_launcher.py:5: RuntimeWarning: invalid value encountered in log1p\n",
      "  \"\"\"\n"
     ]
    }
   ],
   "source": [
    "train = transform_skewed_cols(train)\n",
    "test = transform_skewed_cols(test)"
   ]
  },
  {
   "cell_type": "code",
   "execution_count": 464,
   "metadata": {},
   "outputs": [],
   "source": [
    "# remove quote date and replace by year and month cols\n",
    "def convert_add_dates(df):\n",
    "    df['quote_date'] = pd.to_datetime(df['quote_date'],infer_datetime_format=True)\n",
    "    df['month'] = df['quote_date'].dt.month\n",
    "    df['year'] = df['quote_date'].dt.year\n",
    "    df = df.drop('quote_date',axis=1)\n",
    "    return df"
   ]
  },
  {
   "cell_type": "code",
   "execution_count": 465,
   "metadata": {
    "scrolled": false
   },
   "outputs": [],
   "source": [
    "test = convert_add_dates(test)\n",
    "train = convert_add_dates(train)"
   ]
  },
  {
   "cell_type": "markdown",
   "metadata": {},
   "source": [
    "### Handle missing data"
   ]
  },
  {
   "cell_type": "code",
   "execution_count": 590,
   "metadata": {
    "scrolled": true
   },
   "outputs": [],
   "source": [
    "na_cols = list(test.isna().sum()[test.isna().sum().values > 9000].index)"
   ]
  },
  {
   "cell_type": "code",
   "execution_count": 591,
   "metadata": {},
   "outputs": [],
   "source": [
    "test = test.drop(na_cols,axis=1)\n",
    "train = train.drop(na_cols,axis=1)"
   ]
  },
  {
   "cell_type": "code",
   "execution_count": 592,
   "metadata": {},
   "outputs": [],
   "source": [
    "train = train.dropna()\n",
    "test = test.dropna()"
   ]
  },
  {
   "cell_type": "code",
   "execution_count": 593,
   "metadata": {},
   "outputs": [],
   "source": [
    "cat_features = train.describe(exclude='number').T.sort_values(by='unique')\n",
    "hot_encode_cols = list(cat_features.loc[cat_features['unique'] < 150].index)\n",
    "ordinal_cols = list(cat_features.loc[cat_features['unique'] > 150].index)\n",
    "numeric_features = list(train.describe().columns)\n",
    "features = hot_encode_cols + numeric_features + ordinal_cols"
   ]
  },
  {
   "cell_type": "markdown",
   "metadata": {},
   "source": [
    "## Train/Test Split"
   ]
  },
  {
   "cell_type": "code",
   "execution_count": 594,
   "metadata": {},
   "outputs": [],
   "source": [
    "from sklearn.model_selection import train_test_split"
   ]
  },
  {
   "cell_type": "code",
   "execution_count": 595,
   "metadata": {},
   "outputs": [
    {
     "name": "stdout",
     "output_type": "stream",
     "text": [
      "7460 7518\n"
     ]
    }
   ],
   "source": [
    "print(train['tube_assembly_id'].nunique(), test['tube_assembly_id'].nunique())\n",
    "unique_tubes = train['tube_assembly_id'].unique()"
   ]
  },
  {
   "cell_type": "code",
   "execution_count": 596,
   "metadata": {},
   "outputs": [],
   "source": [
    "tubes_train, tubes_val = train_test_split(unique_tubes,random_state=42)"
   ]
  },
  {
   "cell_type": "code",
   "execution_count": 597,
   "metadata": {},
   "outputs": [
    {
     "data": {
      "text/plain": [
       "array(['TA-06792', 'TA-19812', 'TA-08457', ..., 'TA-11964', 'TA-12724',\n",
       "       'TA-14090'], dtype=object)"
      ]
     },
     "execution_count": 597,
     "metadata": {},
     "output_type": "execute_result"
    }
   ],
   "source": [
    "tubes_val"
   ]
  },
  {
   "cell_type": "code",
   "execution_count": 598,
   "metadata": {
    "scrolled": true
   },
   "outputs": [
    {
     "data": {
      "text/plain": [
       "array(['TA-05734', 'TA-00850', 'TA-00870', ..., 'TA-15801', 'TA-02417',\n",
       "       'TA-20687'], dtype=object)"
      ]
     },
     "execution_count": 598,
     "metadata": {},
     "output_type": "execute_result"
    }
   ],
   "source": [
    "tubes_train"
   ]
  },
  {
   "cell_type": "code",
   "execution_count": 599,
   "metadata": {
    "scrolled": true
   },
   "outputs": [],
   "source": [
    "train_sub = train[train['tube_assembly_id'].isin(tubes_train)]"
   ]
  },
  {
   "cell_type": "code",
   "execution_count": 600,
   "metadata": {},
   "outputs": [],
   "source": [
    "train_val = train[train['tube_assembly_id'].isin(tubes_val)]"
   ]
  },
  {
   "cell_type": "code",
   "execution_count": 601,
   "metadata": {},
   "outputs": [
    {
     "data": {
      "text/plain": [
       "((20581, 29), (6990, 29), (27571, 29))"
      ]
     },
     "execution_count": 601,
     "metadata": {},
     "output_type": "execute_result"
    }
   ],
   "source": [
    "train_sub.shape, train_val.shape, train.shape"
   ]
  },
  {
   "cell_type": "markdown",
   "metadata": {},
   "source": [
    "### define features and target"
   ]
  },
  {
   "cell_type": "code",
   "execution_count": 602,
   "metadata": {},
   "outputs": [],
   "source": [
    "target = 'cost'\n",
    "features.remove('cost')"
   ]
  },
  {
   "cell_type": "code",
   "execution_count": 603,
   "metadata": {
    "scrolled": true
   },
   "outputs": [],
   "source": [
    "X_train = train_sub[features]\n",
    "y_train = train_sub[target]\n",
    "X_val = train_val[features]\n",
    "y_val = train_val[target]"
   ]
  },
  {
   "cell_type": "code",
   "execution_count": 604,
   "metadata": {
    "scrolled": true
   },
   "outputs": [
    {
     "data": {
      "text/plain": [
       "(20581, 28)"
      ]
     },
     "execution_count": 604,
     "metadata": {},
     "output_type": "execute_result"
    }
   ],
   "source": [
    "X_train.shape"
   ]
  },
  {
   "cell_type": "markdown",
   "metadata": {},
   "source": [
    "### make pipeline"
   ]
  },
  {
   "cell_type": "code",
   "execution_count": 605,
   "metadata": {},
   "outputs": [],
   "source": [
    "from sklearn.pipeline import Pipeline\n",
    "import category_encoders as ce\n",
    "from sklearn.ensemble import RandomForestRegressor"
   ]
  },
  {
   "cell_type": "code",
   "execution_count": 606,
   "metadata": {
    "scrolled": false
   },
   "outputs": [],
   "source": [
    "encoder_hot = ce.OneHotEncoder(cols=hot_encode_cols, use_cat_names=True)"
   ]
  },
  {
   "cell_type": "code",
   "execution_count": 607,
   "metadata": {},
   "outputs": [],
   "source": [
    "encoder_ord = ce.OrdinalEncoder(cols=ordinal_cols)"
   ]
  },
  {
   "cell_type": "code",
   "execution_count": 608,
   "metadata": {
    "scrolled": true
   },
   "outputs": [],
   "source": [
    "X_train = encoder_ord.fit_transform(X_train)\n",
    "X_val = encoder_ord.transform(X_val)"
   ]
  },
  {
   "cell_type": "code",
   "execution_count": 609,
   "metadata": {
    "scrolled": true
   },
   "outputs": [],
   "source": [
    "X_train = encoder_hot.fit_transform(X_train)\n",
    "X_val = encoder_hot.transform(X_val)"
   ]
  },
  {
   "cell_type": "markdown",
   "metadata": {},
   "source": [
    "### Random Forest"
   ]
  },
  {
   "cell_type": "code",
   "execution_count": 610,
   "metadata": {},
   "outputs": [],
   "source": [
    "model = RandomForestRegressor(n_estimators=100, max_depth=30, n_jobs=-1)"
   ]
  },
  {
   "cell_type": "code",
   "execution_count": 611,
   "metadata": {},
   "outputs": [
    {
     "data": {
      "text/plain": [
       "RandomForestRegressor(bootstrap=True, criterion='mse', max_depth=30,\n",
       "           max_features='auto', max_leaf_nodes=None,\n",
       "           min_impurity_decrease=0.0, min_impurity_split=None,\n",
       "           min_samples_leaf=1, min_samples_split=2,\n",
       "           min_weight_fraction_leaf=0.0, n_estimators=100, n_jobs=-1,\n",
       "           oob_score=False, random_state=None, verbose=0, warm_start=False)"
      ]
     },
     "execution_count": 611,
     "metadata": {},
     "output_type": "execute_result"
    }
   ],
   "source": [
    "model.fit(X_train,y_train)"
   ]
  },
  {
   "cell_type": "code",
   "execution_count": 612,
   "metadata": {},
   "outputs": [
    {
     "data": {
      "text/plain": [
       "0.9904374112791802"
      ]
     },
     "execution_count": 612,
     "metadata": {},
     "output_type": "execute_result"
    }
   ],
   "source": [
    "model.score(X_train,y_train)"
   ]
  },
  {
   "cell_type": "code",
   "execution_count": 613,
   "metadata": {},
   "outputs": [
    {
     "data": {
      "text/plain": [
       "0.8885119268209178"
      ]
     },
     "execution_count": 613,
     "metadata": {},
     "output_type": "execute_result"
    }
   ],
   "source": [
    "model.score(X_val,y_val)"
   ]
  },
  {
   "cell_type": "code",
   "execution_count": 614,
   "metadata": {},
   "outputs": [],
   "source": [
    "y_pred_log = model.predict(X_val)"
   ]
  },
  {
   "cell_type": "code",
   "execution_count": 615,
   "metadata": {},
   "outputs": [],
   "source": [
    "from sklearn.metrics import mean_squared_error\n",
    "def rmse(y_true, y_pred):\n",
    "    return np.sqrt(mean_squared_error(y_true, y_pred))"
   ]
  },
  {
   "cell_type": "code",
   "execution_count": 616,
   "metadata": {
    "scrolled": true
   },
   "outputs": [
    {
     "data": {
      "text/plain": [
       "0.2605352980272578"
      ]
     },
     "execution_count": 616,
     "metadata": {},
     "output_type": "execute_result"
    }
   ],
   "source": [
    "rmse(y_val, y_pred_log)"
   ]
  },
  {
   "cell_type": "code",
   "execution_count": 617,
   "metadata": {},
   "outputs": [
    {
     "data": {
      "text/plain": [
       "0        3.131396\n",
       "1        2.590858\n",
       "2        2.028389\n",
       "3        1.738318\n",
       "4        1.513271\n",
       "5        1.440879\n",
       "6        1.406715\n",
       "7        1.386059\n",
       "59       1.318429\n",
       "78       3.419672\n",
       "79       2.928495\n",
       "80       2.449534\n",
       "81       2.220274\n",
       "82       2.052613\n",
       "83       1.998674\n",
       "84       1.973089\n",
       "85       1.957497\n",
       "86       3.683552\n",
       "87       3.365905\n",
       "88       3.160954\n",
       "89       2.866506\n",
       "98       2.558433\n",
       "99       2.266610\n",
       "100      2.107517\n",
       "101      2.008428\n",
       "110      1.216656\n",
       "115      2.463606\n",
       "128      3.118192\n",
       "129      2.568079\n",
       "130      1.988061\n",
       "           ...   \n",
       "30050    0.968150\n",
       "30051    0.935939\n",
       "30052    5.378739\n",
       "30053    4.899534\n",
       "30054    4.670192\n",
       "30055    4.532210\n",
       "30056    3.128964\n",
       "30057    2.586679\n",
       "30058    2.021042\n",
       "30059    1.728487\n",
       "30060    1.500944\n",
       "30061    1.427620\n",
       "30062    1.392992\n",
       "30063    1.372048\n",
       "30080    3.457721\n",
       "30081    3.070555\n",
       "30082    2.736889\n",
       "30083    2.595435\n",
       "30084    2.499657\n",
       "30085    2.471391\n",
       "30086    2.458144\n",
       "30087    2.450255\n",
       "30109    1.487834\n",
       "30163    2.292234\n",
       "30176    1.368514\n",
       "30192    2.200444\n",
       "30198    1.940060\n",
       "30199    4.263768\n",
       "30200    4.295208\n",
       "30201    3.387290\n",
       "Name: cost, Length: 6990, dtype: float64"
      ]
     },
     "execution_count": 617,
     "metadata": {},
     "output_type": "execute_result"
    }
   ],
   "source": [
    "y_val"
   ]
  },
  {
   "cell_type": "code",
   "execution_count": null,
   "metadata": {},
   "outputs": [],
   "source": []
  }
 ],
 "metadata": {
  "kernelspec": {
   "display_name": "Python 3",
   "language": "python",
   "name": "python3"
  },
  "language_info": {
   "codemirror_mode": {
    "name": "ipython",
    "version": 3
   },
   "file_extension": ".py",
   "mimetype": "text/x-python",
   "name": "python",
   "nbconvert_exporter": "python",
   "pygments_lexer": "ipython3",
   "version": "3.7.3"
  },
  "varInspector": {
   "cols": {
    "lenName": 16,
    "lenType": 16,
    "lenVar": 40
   },
   "kernels_config": {
    "python": {
     "delete_cmd_postfix": "",
     "delete_cmd_prefix": "del ",
     "library": "var_list.py",
     "varRefreshCmd": "print(var_dic_list())"
    },
    "r": {
     "delete_cmd_postfix": ") ",
     "delete_cmd_prefix": "rm(",
     "library": "var_list.r",
     "varRefreshCmd": "cat(var_dic_list()) "
    }
   },
   "types_to_exclude": [
    "module",
    "function",
    "builtin_function_or_method",
    "instance",
    "_Feature"
   ],
   "window_display": false
  }
 },
 "nbformat": 4,
 "nbformat_minor": 2
}
