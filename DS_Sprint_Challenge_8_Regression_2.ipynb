{
  "nbformat": 4,
  "nbformat_minor": 0,
  "metadata": {
    "colab": {
      "name": "DS_Sprint_Challenge_8_Regression_2.ipynb",
      "version": "0.3.2",
      "provenance": [],
      "include_colab_link": true
    },
    "language_info": {
      "codemirror_mode": {
        "name": "ipython",
        "version": 3
      },
      "file_extension": ".py",
      "mimetype": "text/x-python",
      "name": "python",
      "nbconvert_exporter": "python",
      "pygments_lexer": "ipython3",
      "version": "3.7.1"
    },
    "kernelspec": {
      "display_name": "Python 3",
      "language": "python",
      "name": "python3"
    }
  },
  "cells": [
    {
      "cell_type": "markdown",
      "metadata": {
        "id": "view-in-github",
        "colab_type": "text"
      },
      "source": [
        "<a href=\"https://colab.research.google.com/github/LilySu/DS-Unit-2-Regression-2/blob/master/DS_Sprint_Challenge_8_Regression_2.ipynb\" target=\"_parent\"><img src=\"https://colab.research.google.com/assets/colab-badge.svg\" alt=\"Open In Colab\"/></a>"
      ]
    },
    {
      "cell_type": "markdown",
      "metadata": {
        "id": "rPh-uurrzprt",
        "colab_type": "text"
      },
      "source": [
        "_Lambda School Data Science, Unit 2_\n",
        " \n",
        "# Regression 2 Sprint Challenge: Predict drugstore sales 🏥\n",
        "\n",
        "For your Sprint Challenge, you'll use real-world sales data from a German drugstore chain, from Jan 2, 2013 — July 31, 2015.\n",
        "\n",
        "You are given three dataframes:\n",
        "\n",
        "- `train`: historical sales data for 100 stores\n",
        "- `test`: historical sales data for 100 different stores\n",
        "- `store`: supplemental information about the stores\n",
        "\n",
        "\n",
        "The train and test set do _not_ have different date ranges. But they _do_ have different store ids. Your task is _not_ to forecast future sales from past sales. **Your task is to predict sales at unknown stores, from sales at known stores.**"
      ]
    },
    {
      "cell_type": "code",
      "metadata": {
        "id": "cvzU0gtLCXOi",
        "colab_type": "code",
        "colab": {
          "base_uri": "https://localhost:8080/",
          "height": 240
        },
        "outputId": "b089df02-464e-4471-f640-6477f3f1bb14"
      },
      "source": [
        "!pip install eli5"
      ],
      "execution_count": 267,
      "outputs": [
        {
          "output_type": "stream",
          "text": [
            "Requirement already satisfied: eli5 in /usr/local/lib/python3.6/dist-packages (0.8.2)\n",
            "Requirement already satisfied: scikit-learn>=0.18 in /usr/local/lib/python3.6/dist-packages (from eli5) (0.21.2)\n",
            "Requirement already satisfied: scipy in /usr/local/lib/python3.6/dist-packages (from eli5) (1.3.0)\n",
            "Requirement already satisfied: typing in /usr/local/lib/python3.6/dist-packages (from eli5) (3.6.6)\n",
            "Requirement already satisfied: graphviz in /usr/local/lib/python3.6/dist-packages (from eli5) (0.10.1)\n",
            "Requirement already satisfied: tabulate>=0.7.7 in /usr/local/lib/python3.6/dist-packages (from eli5) (0.8.3)\n",
            "Requirement already satisfied: six in /usr/local/lib/python3.6/dist-packages (from eli5) (1.12.0)\n",
            "Requirement already satisfied: numpy>=1.9.0 in /usr/local/lib/python3.6/dist-packages (from eli5) (1.16.4)\n",
            "Requirement already satisfied: jinja2 in /usr/local/lib/python3.6/dist-packages (from eli5) (2.10.1)\n",
            "Requirement already satisfied: attrs>16.0.0 in /usr/local/lib/python3.6/dist-packages (from eli5) (19.1.0)\n",
            "Requirement already satisfied: joblib>=0.11 in /usr/local/lib/python3.6/dist-packages (from scikit-learn>=0.18->eli5) (0.13.2)\n",
            "Requirement already satisfied: MarkupSafe>=0.23 in /usr/local/lib/python3.6/dist-packages (from jinja2->eli5) (1.1.1)\n"
          ],
          "name": "stdout"
        }
      ]
    },
    {
      "cell_type": "code",
      "metadata": {
        "id": "ZpcPEZLtCXtB",
        "colab_type": "code",
        "colab": {
          "base_uri": "https://localhost:8080/",
          "height": 290
        },
        "outputId": "623e1355-1a27-4d67-8d44-ef2e717f6f09"
      },
      "source": [
        "!pip install pdpbox"
      ],
      "execution_count": 268,
      "outputs": [
        {
          "output_type": "stream",
          "text": [
            "Requirement already satisfied: pdpbox in /usr/local/lib/python3.6/dist-packages (0.2.0)\n",
            "Requirement already satisfied: numpy in /usr/local/lib/python3.6/dist-packages (from pdpbox) (1.16.4)\n",
            "Requirement already satisfied: scikit-learn in /usr/local/lib/python3.6/dist-packages (from pdpbox) (0.21.2)\n",
            "Requirement already satisfied: pandas in /usr/local/lib/python3.6/dist-packages (from pdpbox) (0.24.2)\n",
            "Requirement already satisfied: matplotlib>=2.1.2 in /usr/local/lib/python3.6/dist-packages (from pdpbox) (3.0.3)\n",
            "Requirement already satisfied: scipy in /usr/local/lib/python3.6/dist-packages (from pdpbox) (1.3.0)\n",
            "Requirement already satisfied: joblib in /usr/local/lib/python3.6/dist-packages (from pdpbox) (0.13.2)\n",
            "Requirement already satisfied: psutil in /usr/local/lib/python3.6/dist-packages (from pdpbox) (5.4.8)\n",
            "Requirement already satisfied: python-dateutil>=2.5.0 in /usr/local/lib/python3.6/dist-packages (from pandas->pdpbox) (2.5.3)\n",
            "Requirement already satisfied: pytz>=2011k in /usr/local/lib/python3.6/dist-packages (from pandas->pdpbox) (2018.9)\n",
            "Requirement already satisfied: kiwisolver>=1.0.1 in /usr/local/lib/python3.6/dist-packages (from matplotlib>=2.1.2->pdpbox) (1.1.0)\n",
            "Requirement already satisfied: cycler>=0.10 in /usr/local/lib/python3.6/dist-packages (from matplotlib>=2.1.2->pdpbox) (0.10.0)\n",
            "Requirement already satisfied: pyparsing!=2.0.4,!=2.1.2,!=2.1.6,>=2.0.1 in /usr/local/lib/python3.6/dist-packages (from matplotlib>=2.1.2->pdpbox) (2.4.0)\n",
            "Requirement already satisfied: six>=1.5 in /usr/local/lib/python3.6/dist-packages (from python-dateutil>=2.5.0->pandas->pdpbox) (1.12.0)\n",
            "Requirement already satisfied: setuptools in /usr/local/lib/python3.6/dist-packages (from kiwisolver>=1.0.1->matplotlib>=2.1.2->pdpbox) (41.0.1)\n"
          ],
          "name": "stdout"
        }
      ]
    },
    {
      "cell_type": "code",
      "metadata": {
        "id": "jKOFk_6nzpru",
        "colab_type": "code",
        "colab": {}
      },
      "source": [
        "import pandas as pd\n",
        "import numpy as np\n",
        "train = pd.read_csv('https://drive.google.com/uc?export=download&id=1E9rgiGf1f_WL2S4-V6gD7ZhB8r8Yb_lE')\n",
        "test = pd.read_csv('https://drive.google.com/uc?export=download&id=1vkaVptn4TTYC9-YPZvbvmfDNHVR8aUml')\n",
        "store = pd.read_csv('https://drive.google.com/uc?export=download&id=1rZD-V1mWydeytptQfr-NL7dBqre6lZMo')\n",
        "assert train.shape == (78400, 7)\n",
        "assert test.shape == (78400, 7)\n",
        "assert store.shape == (200, 10)"
      ],
      "execution_count": 0,
      "outputs": []
    },
    {
      "cell_type": "markdown",
      "metadata": {
        "id": "PrvIj4olzprv",
        "colab_type": "text"
      },
      "source": [
        "The dataframes have a variety of columns:\n",
        "\n",
        "- **Store** - a unique Id for each store\n",
        "- **DayOfWeek** - integer, 1-6\n",
        "- **Date** - the date, from Jan 2, 2013 — July 31, 2015.\n",
        "- **Sales** - the units of inventory sold on a given date (this is the target you are predicting)\n",
        "- **Customers** - the number of customers on a given date\n",
        "- **Promo** - indicates whether a store is running a promo on that day\n",
        "- **SchoolHoliday** - indicates the closure of public schools\n",
        "- **StoreType** - differentiates between 4 different store models: a, b, c, d\n",
        "- **Assortment** - describes an assortment level: a = basic, b = extra, c = extended\n",
        "- **CompetitionDistance** - distance in meters to the nearest competitor store\n",
        "- **CompetitionOpenSince[Month/Year]** - gives the approximate year and month of the time the nearest competitor was opened\n",
        "- **Promo2** - Promo2 is a continuing and consecutive promotion for some stores: 0 = store is not participating, 1 = store is participating\n",
        "- **Promo2Since[Year/Week]** - describes the year and calendar week when the store started participating in Promo2\n",
        "- **PromoInterval** - describes the consecutive intervals Promo2 is started, naming the months the promotion is started anew. E.g. \"Feb,May,Aug,Nov\" means each round starts in February, May, August, November of any given year for that store"
      ]
    },
    {
      "cell_type": "markdown",
      "metadata": {
        "id": "Txb785Qdzprw",
        "colab_type": "text"
      },
      "source": [
        "This Sprint Challenge has three parts. To demonstrate mastery on each part, do all the required instructions. To earn a score of \"3\" for the part, also do the stretch goals."
      ]
    },
    {
      "cell_type": "code",
      "metadata": {
        "id": "EaeKXlEMjcG5",
        "colab_type": "code",
        "colab": {
          "base_uri": "https://localhost:8080/",
          "height": 110
        },
        "outputId": "4c1de697-d57c-4838-d3e2-bc466a8f656e"
      },
      "source": [
        "train.head(2)"
      ],
      "execution_count": 270,
      "outputs": [
        {
          "output_type": "execute_result",
          "data": {
            "text/html": [
              "<div>\n",
              "<style scoped>\n",
              "    .dataframe tbody tr th:only-of-type {\n",
              "        vertical-align: middle;\n",
              "    }\n",
              "\n",
              "    .dataframe tbody tr th {\n",
              "        vertical-align: top;\n",
              "    }\n",
              "\n",
              "    .dataframe thead th {\n",
              "        text-align: right;\n",
              "    }\n",
              "</style>\n",
              "<table border=\"1\" class=\"dataframe\">\n",
              "  <thead>\n",
              "    <tr style=\"text-align: right;\">\n",
              "      <th></th>\n",
              "      <th>Store</th>\n",
              "      <th>DayOfWeek</th>\n",
              "      <th>Date</th>\n",
              "      <th>Sales</th>\n",
              "      <th>Customers</th>\n",
              "      <th>Promo</th>\n",
              "      <th>SchoolHoliday</th>\n",
              "    </tr>\n",
              "  </thead>\n",
              "  <tbody>\n",
              "    <tr>\n",
              "      <th>0</th>\n",
              "      <td>4</td>\n",
              "      <td>5</td>\n",
              "      <td>2015-07-31</td>\n",
              "      <td>13995</td>\n",
              "      <td>1498</td>\n",
              "      <td>1</td>\n",
              "      <td>1</td>\n",
              "    </tr>\n",
              "    <tr>\n",
              "      <th>1</th>\n",
              "      <td>8</td>\n",
              "      <td>5</td>\n",
              "      <td>2015-07-31</td>\n",
              "      <td>8492</td>\n",
              "      <td>833</td>\n",
              "      <td>1</td>\n",
              "      <td>1</td>\n",
              "    </tr>\n",
              "  </tbody>\n",
              "</table>\n",
              "</div>"
            ],
            "text/plain": [
              "   Store  DayOfWeek        Date  Sales  Customers  Promo  SchoolHoliday\n",
              "0      4          5  2015-07-31  13995       1498      1              1\n",
              "1      8          5  2015-07-31   8492        833      1              1"
            ]
          },
          "metadata": {
            "tags": []
          },
          "execution_count": 270
        }
      ]
    },
    {
      "cell_type": "code",
      "metadata": {
        "id": "iif42vGbjcFp",
        "colab_type": "code",
        "colab": {
          "base_uri": "https://localhost:8080/",
          "height": 110
        },
        "outputId": "6a869a77-4ca8-4a45-b17f-f4e6ac8d11d0"
      },
      "source": [
        "test.head(2)"
      ],
      "execution_count": 271,
      "outputs": [
        {
          "output_type": "execute_result",
          "data": {
            "text/html": [
              "<div>\n",
              "<style scoped>\n",
              "    .dataframe tbody tr th:only-of-type {\n",
              "        vertical-align: middle;\n",
              "    }\n",
              "\n",
              "    .dataframe tbody tr th {\n",
              "        vertical-align: top;\n",
              "    }\n",
              "\n",
              "    .dataframe thead th {\n",
              "        text-align: right;\n",
              "    }\n",
              "</style>\n",
              "<table border=\"1\" class=\"dataframe\">\n",
              "  <thead>\n",
              "    <tr style=\"text-align: right;\">\n",
              "      <th></th>\n",
              "      <th>Store</th>\n",
              "      <th>DayOfWeek</th>\n",
              "      <th>Date</th>\n",
              "      <th>Sales</th>\n",
              "      <th>Customers</th>\n",
              "      <th>Promo</th>\n",
              "      <th>SchoolHoliday</th>\n",
              "    </tr>\n",
              "  </thead>\n",
              "  <tbody>\n",
              "    <tr>\n",
              "      <th>0</th>\n",
              "      <td>10</td>\n",
              "      <td>5</td>\n",
              "      <td>2015-07-31</td>\n",
              "      <td>7185</td>\n",
              "      <td>681</td>\n",
              "      <td>1</td>\n",
              "      <td>1</td>\n",
              "    </tr>\n",
              "    <tr>\n",
              "      <th>1</th>\n",
              "      <td>15</td>\n",
              "      <td>5</td>\n",
              "      <td>2015-07-31</td>\n",
              "      <td>9191</td>\n",
              "      <td>766</td>\n",
              "      <td>1</td>\n",
              "      <td>1</td>\n",
              "    </tr>\n",
              "  </tbody>\n",
              "</table>\n",
              "</div>"
            ],
            "text/plain": [
              "   Store  DayOfWeek        Date  Sales  Customers  Promo  SchoolHoliday\n",
              "0     10          5  2015-07-31   7185        681      1              1\n",
              "1     15          5  2015-07-31   9191        766      1              1"
            ]
          },
          "metadata": {
            "tags": []
          },
          "execution_count": 271
        }
      ]
    },
    {
      "cell_type": "code",
      "metadata": {
        "id": "2B-n5nNFjh_v",
        "colab_type": "code",
        "colab": {
          "base_uri": "https://localhost:8080/",
          "height": 130
        },
        "outputId": "203213f8-9ede-481e-86f2-9d817289f362"
      },
      "source": [
        "store.head(2)"
      ],
      "execution_count": 272,
      "outputs": [
        {
          "output_type": "execute_result",
          "data": {
            "text/html": [
              "<div>\n",
              "<style scoped>\n",
              "    .dataframe tbody tr th:only-of-type {\n",
              "        vertical-align: middle;\n",
              "    }\n",
              "\n",
              "    .dataframe tbody tr th {\n",
              "        vertical-align: top;\n",
              "    }\n",
              "\n",
              "    .dataframe thead th {\n",
              "        text-align: right;\n",
              "    }\n",
              "</style>\n",
              "<table border=\"1\" class=\"dataframe\">\n",
              "  <thead>\n",
              "    <tr style=\"text-align: right;\">\n",
              "      <th></th>\n",
              "      <th>Store</th>\n",
              "      <th>StoreType</th>\n",
              "      <th>Assortment</th>\n",
              "      <th>CompetitionDistance</th>\n",
              "      <th>CompetitionOpenSinceMonth</th>\n",
              "      <th>CompetitionOpenSinceYear</th>\n",
              "      <th>Promo2</th>\n",
              "      <th>Promo2SinceWeek</th>\n",
              "      <th>Promo2SinceYear</th>\n",
              "      <th>PromoInterval</th>\n",
              "    </tr>\n",
              "  </thead>\n",
              "  <tbody>\n",
              "    <tr>\n",
              "      <th>0</th>\n",
              "      <td>4</td>\n",
              "      <td>c</td>\n",
              "      <td>c</td>\n",
              "      <td>620.0</td>\n",
              "      <td>9.0</td>\n",
              "      <td>2009.0</td>\n",
              "      <td>0</td>\n",
              "      <td>NaN</td>\n",
              "      <td>NaN</td>\n",
              "      <td>NaN</td>\n",
              "    </tr>\n",
              "    <tr>\n",
              "      <th>1</th>\n",
              "      <td>8</td>\n",
              "      <td>a</td>\n",
              "      <td>a</td>\n",
              "      <td>7520.0</td>\n",
              "      <td>10.0</td>\n",
              "      <td>2014.0</td>\n",
              "      <td>0</td>\n",
              "      <td>NaN</td>\n",
              "      <td>NaN</td>\n",
              "      <td>NaN</td>\n",
              "    </tr>\n",
              "  </tbody>\n",
              "</table>\n",
              "</div>"
            ],
            "text/plain": [
              "   Store StoreType Assortment  ...  Promo2SinceWeek  Promo2SinceYear  PromoInterval\n",
              "0      4         c          c  ...              NaN              NaN            NaN\n",
              "1      8         a          a  ...              NaN              NaN            NaN\n",
              "\n",
              "[2 rows x 10 columns]"
            ]
          },
          "metadata": {
            "tags": []
          },
          "execution_count": 272
        }
      ]
    },
    {
      "cell_type": "code",
      "metadata": {
        "id": "YxFQRCwzj6ep",
        "colab_type": "code",
        "colab": {
          "base_uri": "https://localhost:8080/",
          "height": 34
        },
        "outputId": "685f76e6-8234-418a-961a-e75d7d016adb"
      },
      "source": [
        "set(train.columns) & set(store.columns)#are there shared columns, print file name \n"
      ],
      "execution_count": 273,
      "outputs": [
        {
          "output_type": "execute_result",
          "data": {
            "text/plain": [
              "{'Store'}"
            ]
          },
          "metadata": {
            "tags": []
          },
          "execution_count": 273
        }
      ]
    },
    {
      "cell_type": "markdown",
      "metadata": {
        "id": "B9NV3COuzprw",
        "colab_type": "text"
      },
      "source": [
        "## 1. Wrangle relational data, Log-transform the target\n",
        "- Merge the `store` dataframe with the `train` and `test` dataframes. \n",
        "- Arrange the X matrix and y vector for the train and test sets.\n",
        "- Log-transform the target for the train and test set.\n",
        "- Plot the target's distribution for the train set, before and after the transformation.\n",
        "\n",
        "#### Stretch goals\n",
        "- Engineer 3+ more features."
      ]
    },
    {
      "cell_type": "code",
      "metadata": {
        "id": "zns1V7zXktL_",
        "colab_type": "code",
        "colab": {
          "base_uri": "https://localhost:8080/",
          "height": 164
        },
        "outputId": "e25fd1e4-8685-4898-ecca-be08a91d0f6c"
      },
      "source": [
        "train_store = pd.merge(train, store, on = ['Store'], how='outer')\n",
        "train_store.drop_duplicates(['Store'],inplace=True)\n",
        "train_store.head(2)"
      ],
      "execution_count": 274,
      "outputs": [
        {
          "output_type": "execute_result",
          "data": {
            "text/html": [
              "<div>\n",
              "<style scoped>\n",
              "    .dataframe tbody tr th:only-of-type {\n",
              "        vertical-align: middle;\n",
              "    }\n",
              "\n",
              "    .dataframe tbody tr th {\n",
              "        vertical-align: top;\n",
              "    }\n",
              "\n",
              "    .dataframe thead th {\n",
              "        text-align: right;\n",
              "    }\n",
              "</style>\n",
              "<table border=\"1\" class=\"dataframe\">\n",
              "  <thead>\n",
              "    <tr style=\"text-align: right;\">\n",
              "      <th></th>\n",
              "      <th>Store</th>\n",
              "      <th>DayOfWeek</th>\n",
              "      <th>Date</th>\n",
              "      <th>Sales</th>\n",
              "      <th>Customers</th>\n",
              "      <th>Promo</th>\n",
              "      <th>SchoolHoliday</th>\n",
              "      <th>StoreType</th>\n",
              "      <th>Assortment</th>\n",
              "      <th>CompetitionDistance</th>\n",
              "      <th>CompetitionOpenSinceMonth</th>\n",
              "      <th>CompetitionOpenSinceYear</th>\n",
              "      <th>Promo2</th>\n",
              "      <th>Promo2SinceWeek</th>\n",
              "      <th>Promo2SinceYear</th>\n",
              "      <th>PromoInterval</th>\n",
              "    </tr>\n",
              "  </thead>\n",
              "  <tbody>\n",
              "    <tr>\n",
              "      <th>0</th>\n",
              "      <td>4</td>\n",
              "      <td>5.0</td>\n",
              "      <td>2015-07-31</td>\n",
              "      <td>13995.0</td>\n",
              "      <td>1498.0</td>\n",
              "      <td>1.0</td>\n",
              "      <td>1.0</td>\n",
              "      <td>c</td>\n",
              "      <td>c</td>\n",
              "      <td>620.0</td>\n",
              "      <td>9.0</td>\n",
              "      <td>2009.0</td>\n",
              "      <td>0</td>\n",
              "      <td>NaN</td>\n",
              "      <td>NaN</td>\n",
              "      <td>NaN</td>\n",
              "    </tr>\n",
              "    <tr>\n",
              "      <th>784</th>\n",
              "      <td>8</td>\n",
              "      <td>5.0</td>\n",
              "      <td>2015-07-31</td>\n",
              "      <td>8492.0</td>\n",
              "      <td>833.0</td>\n",
              "      <td>1.0</td>\n",
              "      <td>1.0</td>\n",
              "      <td>a</td>\n",
              "      <td>a</td>\n",
              "      <td>7520.0</td>\n",
              "      <td>10.0</td>\n",
              "      <td>2014.0</td>\n",
              "      <td>0</td>\n",
              "      <td>NaN</td>\n",
              "      <td>NaN</td>\n",
              "      <td>NaN</td>\n",
              "    </tr>\n",
              "  </tbody>\n",
              "</table>\n",
              "</div>"
            ],
            "text/plain": [
              "     Store  DayOfWeek  ... Promo2SinceYear  PromoInterval\n",
              "0        4        5.0  ...             NaN            NaN\n",
              "784      8        5.0  ...             NaN            NaN\n",
              "\n",
              "[2 rows x 16 columns]"
            ]
          },
          "metadata": {
            "tags": []
          },
          "execution_count": 274
        }
      ]
    },
    {
      "cell_type": "code",
      "metadata": {
        "id": "XDc8YhIHmA4c",
        "colab_type": "code",
        "colab": {
          "base_uri": "https://localhost:8080/",
          "height": 164
        },
        "outputId": "6b6c0041-33e3-4a18-efd2-a4ffa58546f5"
      },
      "source": [
        "test_store = pd.merge(test, store, on = ['Store'], how='outer')\n",
        "test_store.drop_duplicates(['Store'],inplace=True)\n",
        "test_store.head(2)"
      ],
      "execution_count": 275,
      "outputs": [
        {
          "output_type": "execute_result",
          "data": {
            "text/html": [
              "<div>\n",
              "<style scoped>\n",
              "    .dataframe tbody tr th:only-of-type {\n",
              "        vertical-align: middle;\n",
              "    }\n",
              "\n",
              "    .dataframe tbody tr th {\n",
              "        vertical-align: top;\n",
              "    }\n",
              "\n",
              "    .dataframe thead th {\n",
              "        text-align: right;\n",
              "    }\n",
              "</style>\n",
              "<table border=\"1\" class=\"dataframe\">\n",
              "  <thead>\n",
              "    <tr style=\"text-align: right;\">\n",
              "      <th></th>\n",
              "      <th>Store</th>\n",
              "      <th>DayOfWeek</th>\n",
              "      <th>Date</th>\n",
              "      <th>Sales</th>\n",
              "      <th>Customers</th>\n",
              "      <th>Promo</th>\n",
              "      <th>SchoolHoliday</th>\n",
              "      <th>StoreType</th>\n",
              "      <th>Assortment</th>\n",
              "      <th>CompetitionDistance</th>\n",
              "      <th>CompetitionOpenSinceMonth</th>\n",
              "      <th>CompetitionOpenSinceYear</th>\n",
              "      <th>Promo2</th>\n",
              "      <th>Promo2SinceWeek</th>\n",
              "      <th>Promo2SinceYear</th>\n",
              "      <th>PromoInterval</th>\n",
              "    </tr>\n",
              "  </thead>\n",
              "  <tbody>\n",
              "    <tr>\n",
              "      <th>0</th>\n",
              "      <td>10</td>\n",
              "      <td>5.0</td>\n",
              "      <td>2015-07-31</td>\n",
              "      <td>7185.0</td>\n",
              "      <td>681.0</td>\n",
              "      <td>1.0</td>\n",
              "      <td>1.0</td>\n",
              "      <td>a</td>\n",
              "      <td>a</td>\n",
              "      <td>3160.0</td>\n",
              "      <td>9.0</td>\n",
              "      <td>2009.0</td>\n",
              "      <td>0</td>\n",
              "      <td>NaN</td>\n",
              "      <td>NaN</td>\n",
              "      <td>NaN</td>\n",
              "    </tr>\n",
              "    <tr>\n",
              "      <th>784</th>\n",
              "      <td>15</td>\n",
              "      <td>5.0</td>\n",
              "      <td>2015-07-31</td>\n",
              "      <td>9191.0</td>\n",
              "      <td>766.0</td>\n",
              "      <td>1.0</td>\n",
              "      <td>1.0</td>\n",
              "      <td>d</td>\n",
              "      <td>c</td>\n",
              "      <td>4110.0</td>\n",
              "      <td>3.0</td>\n",
              "      <td>2010.0</td>\n",
              "      <td>1</td>\n",
              "      <td>14.0</td>\n",
              "      <td>2011.0</td>\n",
              "      <td>Jan,Apr,Jul,Oct</td>\n",
              "    </tr>\n",
              "  </tbody>\n",
              "</table>\n",
              "</div>"
            ],
            "text/plain": [
              "     Store  DayOfWeek  ... Promo2SinceYear    PromoInterval\n",
              "0       10        5.0  ...             NaN              NaN\n",
              "784     15        5.0  ...          2011.0  Jan,Apr,Jul,Oct\n",
              "\n",
              "[2 rows x 16 columns]"
            ]
          },
          "metadata": {
            "tags": []
          },
          "execution_count": 275
        }
      ]
    },
    {
      "cell_type": "code",
      "metadata": {
        "id": "zs-EgTfT0uVD",
        "colab_type": "code",
        "colab": {
          "base_uri": "https://localhost:8080/",
          "height": 130
        },
        "outputId": "f1d29849-4e10-4fb4-eea1-9b1de08a38e7"
      },
      "source": [
        "from datetime import datetime, timedelta\n",
        "\n",
        "train_store['Date'] = pd.to_datetime(train_store['Date'], format='%Y-%m-%d')\n",
        "test_store['Date'] = pd.to_datetime(test_store['Date'], format='%Y-%m-%d')\n",
        "train_store['Year'] = train_store['Date'].dt.year\n",
        "test_store['Year'] = test_store['Date'].dt.year\n",
        "train_store['Month'] = train_store['Date'].dt.month\n",
        "test_store['Month'] = test_store['Date'].dt.month\n",
        "train_store['Day'] = train_store['Date'].dt.day\n",
        "test_store['Day'] = test_store['Date'].dt.day\n",
        "\n",
        "train_store = train_store.drop(columns = ['Date', 'SchoolHoliday', 'Promo'])\n",
        "test_store = test_store.drop(columns = ['Date', 'SchoolHoliday', 'Promo'])\n",
        "\n",
        "\n",
        "train_store.head(2)"
      ],
      "execution_count": 288,
      "outputs": [
        {
          "output_type": "execute_result",
          "data": {
            "text/html": [
              "<div>\n",
              "<style scoped>\n",
              "    .dataframe tbody tr th:only-of-type {\n",
              "        vertical-align: middle;\n",
              "    }\n",
              "\n",
              "    .dataframe tbody tr th {\n",
              "        vertical-align: top;\n",
              "    }\n",
              "\n",
              "    .dataframe thead th {\n",
              "        text-align: right;\n",
              "    }\n",
              "</style>\n",
              "<table border=\"1\" class=\"dataframe\">\n",
              "  <thead>\n",
              "    <tr style=\"text-align: right;\">\n",
              "      <th></th>\n",
              "      <th>Store</th>\n",
              "      <th>DayOfWeek</th>\n",
              "      <th>Sales</th>\n",
              "      <th>Customers</th>\n",
              "      <th>StoreType</th>\n",
              "      <th>Assortment</th>\n",
              "      <th>CompetitionDistance</th>\n",
              "      <th>CompetitionOpenSinceMonth</th>\n",
              "      <th>CompetitionOpenSinceYear</th>\n",
              "      <th>Promo2</th>\n",
              "      <th>Promo2SinceWeek</th>\n",
              "      <th>Promo2SinceYear</th>\n",
              "      <th>PromoInterval</th>\n",
              "      <th>Year</th>\n",
              "      <th>Month</th>\n",
              "      <th>Day</th>\n",
              "    </tr>\n",
              "  </thead>\n",
              "  <tbody>\n",
              "    <tr>\n",
              "      <th>0</th>\n",
              "      <td>4</td>\n",
              "      <td>5.0</td>\n",
              "      <td>13995.0</td>\n",
              "      <td>1498.0</td>\n",
              "      <td>c</td>\n",
              "      <td>c</td>\n",
              "      <td>620.0</td>\n",
              "      <td>9.0</td>\n",
              "      <td>2009.0</td>\n",
              "      <td>0</td>\n",
              "      <td>53.0</td>\n",
              "      <td>2009.0</td>\n",
              "      <td>NaN</td>\n",
              "      <td>2015</td>\n",
              "      <td>7</td>\n",
              "      <td>31</td>\n",
              "    </tr>\n",
              "    <tr>\n",
              "      <th>784</th>\n",
              "      <td>8</td>\n",
              "      <td>5.0</td>\n",
              "      <td>8492.0</td>\n",
              "      <td>833.0</td>\n",
              "      <td>a</td>\n",
              "      <td>a</td>\n",
              "      <td>7520.0</td>\n",
              "      <td>10.0</td>\n",
              "      <td>2014.0</td>\n",
              "      <td>0</td>\n",
              "      <td>53.0</td>\n",
              "      <td>2009.0</td>\n",
              "      <td>NaN</td>\n",
              "      <td>2015</td>\n",
              "      <td>7</td>\n",
              "      <td>31</td>\n",
              "    </tr>\n",
              "  </tbody>\n",
              "</table>\n",
              "</div>"
            ],
            "text/plain": [
              "     Store  DayOfWeek    Sales  Customers  ... PromoInterval  Year  Month  Day\n",
              "0        4        5.0  13995.0     1498.0  ...           NaN  2015      7   31\n",
              "784      8        5.0   8492.0      833.0  ...           NaN  2015      7   31\n",
              "\n",
              "[2 rows x 16 columns]"
            ]
          },
          "metadata": {
            "tags": []
          },
          "execution_count": 288
        }
      ]
    },
    {
      "cell_type": "code",
      "metadata": {
        "id": "zqtQ73bH3I9U",
        "colab_type": "code",
        "colab": {
          "base_uri": "https://localhost:8080/",
          "height": 220
        },
        "outputId": "0f7c2f97-5c9b-4bab-8b86-9a6c9a31e60d"
      },
      "source": [
        "train_store['Promo2SinceWeek'].value_counts()"
      ],
      "execution_count": 289,
      "outputs": [
        {
          "output_type": "execute_result",
          "data": {
            "text/plain": [
              "53.0    80\n",
              "35.0     4\n",
              "40.0     3\n",
              "22.0     3\n",
              "18.0     2\n",
              "14.0     2\n",
              "1.0      2\n",
              "31.0     1\n",
              "48.0     1\n",
              "5.0      1\n",
              "13.0     1\n",
              "Name: Promo2SinceWeek, dtype: int64"
            ]
          },
          "metadata": {
            "tags": []
          },
          "execution_count": 289
        }
      ]
    },
    {
      "cell_type": "code",
      "metadata": {
        "id": "Nb-a5P7C68-y",
        "colab_type": "code",
        "colab": {
          "base_uri": "https://localhost:8080/",
          "height": 693
        },
        "outputId": "223ff88e-f878-46a4-8e26-96b0ea149832"
      },
      "source": [
        "train_store['SchoolHoliday'].value_counts()"
      ],
      "execution_count": 290,
      "outputs": [
        {
          "output_type": "error",
          "ename": "KeyError",
          "evalue": "ignored",
          "traceback": [
            "\u001b[0;31m---------------------------------------------------------------------------\u001b[0m",
            "\u001b[0;31mKeyError\u001b[0m                                  Traceback (most recent call last)",
            "\u001b[0;32m/usr/local/lib/python3.6/dist-packages/pandas/core/indexes/base.py\u001b[0m in \u001b[0;36mget_loc\u001b[0;34m(self, key, method, tolerance)\u001b[0m\n\u001b[1;32m   2656\u001b[0m             \u001b[0;32mtry\u001b[0m\u001b[0;34m:\u001b[0m\u001b[0;34m\u001b[0m\u001b[0;34m\u001b[0m\u001b[0m\n\u001b[0;32m-> 2657\u001b[0;31m                 \u001b[0;32mreturn\u001b[0m \u001b[0mself\u001b[0m\u001b[0;34m.\u001b[0m\u001b[0m_engine\u001b[0m\u001b[0;34m.\u001b[0m\u001b[0mget_loc\u001b[0m\u001b[0;34m(\u001b[0m\u001b[0mkey\u001b[0m\u001b[0;34m)\u001b[0m\u001b[0;34m\u001b[0m\u001b[0;34m\u001b[0m\u001b[0m\n\u001b[0m\u001b[1;32m   2658\u001b[0m             \u001b[0;32mexcept\u001b[0m \u001b[0mKeyError\u001b[0m\u001b[0;34m:\u001b[0m\u001b[0;34m\u001b[0m\u001b[0;34m\u001b[0m\u001b[0m\n",
            "\u001b[0;32mpandas/_libs/index.pyx\u001b[0m in \u001b[0;36mpandas._libs.index.IndexEngine.get_loc\u001b[0;34m()\u001b[0m\n",
            "\u001b[0;32mpandas/_libs/index.pyx\u001b[0m in \u001b[0;36mpandas._libs.index.IndexEngine.get_loc\u001b[0;34m()\u001b[0m\n",
            "\u001b[0;32mpandas/_libs/hashtable_class_helper.pxi\u001b[0m in \u001b[0;36mpandas._libs.hashtable.PyObjectHashTable.get_item\u001b[0;34m()\u001b[0m\n",
            "\u001b[0;32mpandas/_libs/hashtable_class_helper.pxi\u001b[0m in \u001b[0;36mpandas._libs.hashtable.PyObjectHashTable.get_item\u001b[0;34m()\u001b[0m\n",
            "\u001b[0;31mKeyError\u001b[0m: 'SchoolHoliday'",
            "\nDuring handling of the above exception, another exception occurred:\n",
            "\u001b[0;31mKeyError\u001b[0m                                  Traceback (most recent call last)",
            "\u001b[0;32m<ipython-input-290-9f7700d00e11>\u001b[0m in \u001b[0;36m<module>\u001b[0;34m()\u001b[0m\n\u001b[0;32m----> 1\u001b[0;31m \u001b[0mtrain_store\u001b[0m\u001b[0;34m[\u001b[0m\u001b[0;34m'SchoolHoliday'\u001b[0m\u001b[0;34m]\u001b[0m\u001b[0;34m.\u001b[0m\u001b[0mvalue_counts\u001b[0m\u001b[0;34m(\u001b[0m\u001b[0;34m)\u001b[0m\u001b[0;34m\u001b[0m\u001b[0;34m\u001b[0m\u001b[0m\n\u001b[0m",
            "\u001b[0;32m/usr/local/lib/python3.6/dist-packages/pandas/core/frame.py\u001b[0m in \u001b[0;36m__getitem__\u001b[0;34m(self, key)\u001b[0m\n\u001b[1;32m   2925\u001b[0m             \u001b[0;32mif\u001b[0m \u001b[0mself\u001b[0m\u001b[0;34m.\u001b[0m\u001b[0mcolumns\u001b[0m\u001b[0;34m.\u001b[0m\u001b[0mnlevels\u001b[0m \u001b[0;34m>\u001b[0m \u001b[0;36m1\u001b[0m\u001b[0;34m:\u001b[0m\u001b[0;34m\u001b[0m\u001b[0;34m\u001b[0m\u001b[0m\n\u001b[1;32m   2926\u001b[0m                 \u001b[0;32mreturn\u001b[0m \u001b[0mself\u001b[0m\u001b[0;34m.\u001b[0m\u001b[0m_getitem_multilevel\u001b[0m\u001b[0;34m(\u001b[0m\u001b[0mkey\u001b[0m\u001b[0;34m)\u001b[0m\u001b[0;34m\u001b[0m\u001b[0;34m\u001b[0m\u001b[0m\n\u001b[0;32m-> 2927\u001b[0;31m             \u001b[0mindexer\u001b[0m \u001b[0;34m=\u001b[0m \u001b[0mself\u001b[0m\u001b[0;34m.\u001b[0m\u001b[0mcolumns\u001b[0m\u001b[0;34m.\u001b[0m\u001b[0mget_loc\u001b[0m\u001b[0;34m(\u001b[0m\u001b[0mkey\u001b[0m\u001b[0;34m)\u001b[0m\u001b[0;34m\u001b[0m\u001b[0;34m\u001b[0m\u001b[0m\n\u001b[0m\u001b[1;32m   2928\u001b[0m             \u001b[0;32mif\u001b[0m \u001b[0mis_integer\u001b[0m\u001b[0;34m(\u001b[0m\u001b[0mindexer\u001b[0m\u001b[0;34m)\u001b[0m\u001b[0;34m:\u001b[0m\u001b[0;34m\u001b[0m\u001b[0;34m\u001b[0m\u001b[0m\n\u001b[1;32m   2929\u001b[0m                 \u001b[0mindexer\u001b[0m \u001b[0;34m=\u001b[0m \u001b[0;34m[\u001b[0m\u001b[0mindexer\u001b[0m\u001b[0;34m]\u001b[0m\u001b[0;34m\u001b[0m\u001b[0;34m\u001b[0m\u001b[0m\n",
            "\u001b[0;32m/usr/local/lib/python3.6/dist-packages/pandas/core/indexes/base.py\u001b[0m in \u001b[0;36mget_loc\u001b[0;34m(self, key, method, tolerance)\u001b[0m\n\u001b[1;32m   2657\u001b[0m                 \u001b[0;32mreturn\u001b[0m \u001b[0mself\u001b[0m\u001b[0;34m.\u001b[0m\u001b[0m_engine\u001b[0m\u001b[0;34m.\u001b[0m\u001b[0mget_loc\u001b[0m\u001b[0;34m(\u001b[0m\u001b[0mkey\u001b[0m\u001b[0;34m)\u001b[0m\u001b[0;34m\u001b[0m\u001b[0;34m\u001b[0m\u001b[0m\n\u001b[1;32m   2658\u001b[0m             \u001b[0;32mexcept\u001b[0m \u001b[0mKeyError\u001b[0m\u001b[0;34m:\u001b[0m\u001b[0;34m\u001b[0m\u001b[0;34m\u001b[0m\u001b[0m\n\u001b[0;32m-> 2659\u001b[0;31m                 \u001b[0;32mreturn\u001b[0m \u001b[0mself\u001b[0m\u001b[0;34m.\u001b[0m\u001b[0m_engine\u001b[0m\u001b[0;34m.\u001b[0m\u001b[0mget_loc\u001b[0m\u001b[0;34m(\u001b[0m\u001b[0mself\u001b[0m\u001b[0;34m.\u001b[0m\u001b[0m_maybe_cast_indexer\u001b[0m\u001b[0;34m(\u001b[0m\u001b[0mkey\u001b[0m\u001b[0;34m)\u001b[0m\u001b[0;34m)\u001b[0m\u001b[0;34m\u001b[0m\u001b[0;34m\u001b[0m\u001b[0m\n\u001b[0m\u001b[1;32m   2660\u001b[0m         \u001b[0mindexer\u001b[0m \u001b[0;34m=\u001b[0m \u001b[0mself\u001b[0m\u001b[0;34m.\u001b[0m\u001b[0mget_indexer\u001b[0m\u001b[0;34m(\u001b[0m\u001b[0;34m[\u001b[0m\u001b[0mkey\u001b[0m\u001b[0;34m]\u001b[0m\u001b[0;34m,\u001b[0m \u001b[0mmethod\u001b[0m\u001b[0;34m=\u001b[0m\u001b[0mmethod\u001b[0m\u001b[0;34m,\u001b[0m \u001b[0mtolerance\u001b[0m\u001b[0;34m=\u001b[0m\u001b[0mtolerance\u001b[0m\u001b[0;34m)\u001b[0m\u001b[0;34m\u001b[0m\u001b[0;34m\u001b[0m\u001b[0m\n\u001b[1;32m   2661\u001b[0m         \u001b[0;32mif\u001b[0m \u001b[0mindexer\u001b[0m\u001b[0;34m.\u001b[0m\u001b[0mndim\u001b[0m \u001b[0;34m>\u001b[0m \u001b[0;36m1\u001b[0m \u001b[0;32mor\u001b[0m \u001b[0mindexer\u001b[0m\u001b[0;34m.\u001b[0m\u001b[0msize\u001b[0m \u001b[0;34m>\u001b[0m \u001b[0;36m1\u001b[0m\u001b[0;34m:\u001b[0m\u001b[0;34m\u001b[0m\u001b[0;34m\u001b[0m\u001b[0m\n",
            "\u001b[0;32mpandas/_libs/index.pyx\u001b[0m in \u001b[0;36mpandas._libs.index.IndexEngine.get_loc\u001b[0;34m()\u001b[0m\n",
            "\u001b[0;32mpandas/_libs/index.pyx\u001b[0m in \u001b[0;36mpandas._libs.index.IndexEngine.get_loc\u001b[0;34m()\u001b[0m\n",
            "\u001b[0;32mpandas/_libs/hashtable_class_helper.pxi\u001b[0m in \u001b[0;36mpandas._libs.hashtable.PyObjectHashTable.get_item\u001b[0;34m()\u001b[0m\n",
            "\u001b[0;32mpandas/_libs/hashtable_class_helper.pxi\u001b[0m in \u001b[0;36mpandas._libs.hashtable.PyObjectHashTable.get_item\u001b[0;34m()\u001b[0m\n",
            "\u001b[0;31mKeyError\u001b[0m: 'SchoolHoliday'"
          ]
        }
      ]
    },
    {
      "cell_type": "code",
      "metadata": {
        "id": "Q4jFqsNI8IhK",
        "colab_type": "code",
        "colab": {
          "base_uri": "https://localhost:8080/",
          "height": 118
        },
        "outputId": "6d254f56-5db4-4fa0-a7ec-7c277c2fa7cb"
      },
      "source": [
        "train_store['Promo2SinceYear'].value_counts()"
      ],
      "execution_count": 291,
      "outputs": [
        {
          "output_type": "execute_result",
          "data": {
            "text/plain": [
              "2009.0    80\n",
              "2012.0    10\n",
              "2010.0     4\n",
              "2013.0     3\n",
              "2011.0     3\n",
              "Name: Promo2SinceYear, dtype: int64"
            ]
          },
          "metadata": {
            "tags": []
          },
          "execution_count": 291
        }
      ]
    },
    {
      "cell_type": "code",
      "metadata": {
        "id": "5aE3bgD372di",
        "colab_type": "code",
        "colab": {}
      },
      "source": [
        "train_store[['Promo2SinceWeek']] = train_store[['Promo2SinceWeek']].fillna(value = 53)\n",
        "test_store[['Promo2SinceWeek']] = test_store[['Promo2SinceWeek']].fillna(value = 53)\n",
        "train_store[['Promo2SinceYear']] = train_store[['Promo2SinceYear']].fillna(value = 2009)\n",
        "test_store[['Promo2SinceYear']] = test_store[['Promo2SinceYear']].fillna(value = 2009)"
      ],
      "execution_count": 0,
      "outputs": []
    },
    {
      "cell_type": "code",
      "metadata": {
        "id": "ob77Htf_u9XM",
        "colab_type": "code",
        "colab": {
          "base_uri": "https://localhost:8080/",
          "height": 34
        },
        "outputId": "5081759a-2b64-41be-c405-1b50ae61549b"
      },
      "source": [
        "null_test = test_store[test_store['Sales'].isnull() == True]\n",
        "null_train = train_store[train_store['Sales'].isnull() == True]\n",
        "train_store = train_store[train_store['Sales'].isnull() == False]\n",
        "test_store = test_store[test_store['Sales'].isnull() == False]\n",
        "\n",
        "null_train.shape, train_store.shape, null_test.shape, test_store.shape"
      ],
      "execution_count": 293,
      "outputs": [
        {
          "output_type": "execute_result",
          "data": {
            "text/plain": [
              "((0, 16), (100, 16), (0, 16), (100, 16))"
            ]
          },
          "metadata": {
            "tags": []
          },
          "execution_count": 293
        }
      ]
    },
    {
      "cell_type": "code",
      "metadata": {
        "id": "qjvBbl78zprx",
        "colab_type": "code",
        "colab": {
          "base_uri": "https://localhost:8080/",
          "height": 283
        },
        "outputId": "0ee2702d-88ec-4ef1-cb50-4a10cff1080b"
      },
      "source": [
        "from sklearn.model_selection import train_test_split\n",
        "import seaborn as sns\n",
        "\n",
        "target = 'Sales'\n",
        "y = train_store[target]\n",
        "X = train_store.drop(columns=['Sales'])\n",
        "\n",
        "sns.distplot(y);"
      ],
      "execution_count": 294,
      "outputs": [
        {
          "output_type": "display_data",
          "data": {
            "image/png": "[encoded data removed]",
            "text/plain": [
              "<Figure size 432x288 with 1 Axes>"
            ]
          },
          "metadata": {
            "tags": []
          }
        }
      ]
    },
    {
      "cell_type": "code",
      "metadata": {
        "id": "rdEyLse1qcDH",
        "colab_type": "code",
        "colab": {
          "base_uri": "https://localhost:8080/",
          "height": 283
        },
        "outputId": "f0cf8627-72a0-48a5-a6b9-8b362ca3702e"
      },
      "source": [
        "y_log = np.log1p(y)\n",
        "\n",
        "import numpy as np\n",
        "sns.distplot(y_log);"
      ],
      "execution_count": 295,
      "outputs": [
        {
          "output_type": "display_data",
          "data": {
            "image/png": "[encoded data removed]",
            "text/plain": [
              "<Figure size 432x288 with 1 Axes>"
            ]
          },
          "metadata": {
            "tags": []
          }
        }
      ]
    },
    {
      "cell_type": "code",
      "metadata": {
        "id": "hiiYJgIpqCGy",
        "colab_type": "code",
        "colab": {
          "base_uri": "https://localhost:8080/",
          "height": 34
        },
        "outputId": "402e24eb-1cfa-4724-a7d9-21934982689b"
      },
      "source": [
        "X_train, X_val, y_train, y_val = train_test_split(X,y_log,train_size=.60,test_size=.40,random_state=42)\n",
        "\n",
        "y_train_log = np.log1p(y_train)\n",
        "y_val_log = np.log1p(y_val)\n",
        "\n",
        "X_test = test_store.drop(columns=['Sales'])\n",
        "y_test = test_store['Sales']\n",
        "X_train.shape, X_val.shape, X_test.shape"
      ],
      "execution_count": 296,
      "outputs": [
        {
          "output_type": "execute_result",
          "data": {
            "text/plain": [
              "((60, 15), (40, 15), (100, 15))"
            ]
          },
          "metadata": {
            "tags": []
          },
          "execution_count": 296
        }
      ]
    },
    {
      "cell_type": "markdown",
      "metadata": {
        "id": "xiljXNuKzprz",
        "colab_type": "text"
      },
      "source": [
        "## 2. Fit and validate your model\n",
        "- **Use Gradient Boosting** or any type of regression model.\n",
        "- **Beat the baseline:** The estimated baseline Root Mean Squared Logarithmic Error is 0.90, if we guessed the mean sales for every prediction. Remember that RMSE with the log-transformed target is equivalent to RMSLE with the original target. Try to get your error below 0.20.\n",
        "- **To validate your model, choose any one of these options:**\n",
        "  - Split the train dataframe into train and validation sets. Put all dates for a given store into the same set. Use xgboost `early_stopping_rounds` with the validation set. \n",
        "  - Or, use scikit-learn `cross_val_score`. Put all dates for a given store into the same fold.\n",
        "  - Or, use scikit-learn `RandomizedSearchCV` for hyperparameter optimization. Put all dates for a given store into the same fold.\n",
        "- **Get the Validation Error** (multiple times if you try multiple iterations) **and Test Error** (one time, at the end).\n",
        "  \n",
        "#### Stretch goal\n",
        "- Optimize 3+ hyperparameters by searching 10+ \"candidates\" (possible combinations of hyperparameters). "
      ]
    },
    {
      "cell_type": "code",
      "metadata": {
        "id": "WWNccxI5zprz",
        "colab_type": "code",
        "colab": {
          "base_uri": "https://localhost:8080/",
          "height": 2554
        },
        "outputId": "7ef1aae1-99ce-41e0-897a-377eda786867"
      },
      "source": [
        "import category_encoders as ce\n",
        "from xgboost import XGBRegressor\n",
        "import warnings\n",
        "warnings.simplefilter(action='ignore', category=FutureWarning)\n",
        "\n",
        "\n",
        "\n",
        "encoder = ce.OrdinalEncoder()\n",
        "X_train_encoded = encoder.fit_transform(X_train)\n",
        "X_val_encoded = encoder.transform(X_val)\n",
        "eval_set = [(X_train_encoded, y_train_log), \n",
        "            (X_val_encoded, y_val_log)]\n",
        "model = XGBRegressor(n_estimators=2000, n_jobs=-1)\n",
        "model.fit(X_train_encoded, y_train_log, \n",
        "          eval_set=eval_set, eval_metric='rmse', early_stopping_rounds=50)"
      ],
      "execution_count": 297,
      "outputs": [
        {
          "output_type": "stream",
          "text": [
            "[17:42:44] WARNING: /workspace/src/objective/regression_obj.cu:152: reg:linear is now deprecated in favor of reg:squarederror.\n",
            "[0]\tvalidation_0-rmse:1.63368\tvalidation_1-rmse:1.62892\n",
            "Multiple eval metrics have been passed: 'validation_1-rmse' will be used for early stopping.\n",
            "\n",
            "Will train until validation_1-rmse hasn't improved in 50 rounds.\n",
            "[1]\tvalidation_0-rmse:1.47307\tvalidation_1-rmse:1.4683\n",
            "[2]\tvalidation_0-rmse:1.32827\tvalidation_1-rmse:1.32348\n",
            "[3]\tvalidation_0-rmse:1.19772\tvalidation_1-rmse:1.19291\n",
            "[4]\tvalidation_0-rmse:1.08002\tvalidation_1-rmse:1.07519\n",
            "[5]\tvalidation_0-rmse:0.973913\tvalidation_1-rmse:0.969054\n",
            "[6]\tvalidation_0-rmse:0.878255\tvalidation_1-rmse:0.873367\n",
            "[7]\tvalidation_0-rmse:0.792021\tvalidation_1-rmse:0.787101\n",
            "[8]\tvalidation_0-rmse:0.714286\tvalidation_1-rmse:0.709331\n",
            "[9]\tvalidation_0-rmse:0.644215\tvalidation_1-rmse:0.639221\n",
            "[10]\tvalidation_0-rmse:0.581056\tvalidation_1-rmse:0.576019\n",
            "[11]\tvalidation_0-rmse:0.524133\tvalidation_1-rmse:0.519047\n",
            "[12]\tvalidation_0-rmse:0.472833\tvalidation_1-rmse:0.467695\n",
            "[13]\tvalidation_0-rmse:0.426607\tvalidation_1-rmse:0.42141\n",
            "[14]\tvalidation_0-rmse:0.384958\tvalidation_1-rmse:0.379697\n",
            "[15]\tvalidation_0-rmse:0.347439\tvalidation_1-rmse:0.342107\n",
            "[16]\tvalidation_0-rmse:0.313648\tvalidation_1-rmse:0.308238\n",
            "[17]\tvalidation_0-rmse:0.283222\tvalidation_1-rmse:0.277727\n",
            "[18]\tvalidation_0-rmse:0.255834\tvalidation_1-rmse:0.250244\n",
            "[19]\tvalidation_0-rmse:0.231191\tvalidation_1-rmse:0.225497\n",
            "[20]\tvalidation_0-rmse:0.208976\tvalidation_1-rmse:0.203313\n",
            "[21]\tvalidation_0-rmse:0.188951\tvalidation_1-rmse:0.18309\n",
            "[22]\tvalidation_0-rmse:0.170878\tvalidation_1-rmse:0.165228\n",
            "[23]\tvalidation_0-rmse:0.154576\tvalidation_1-rmse:0.148973\n",
            "[24]\tvalidation_0-rmse:0.139849\tvalidation_1-rmse:0.134444\n",
            "[25]\tvalidation_0-rmse:0.126571\tvalidation_1-rmse:0.121349\n",
            "[26]\tvalidation_0-rmse:0.114596\tvalidation_1-rmse:0.109621\n",
            "[27]\tvalidation_0-rmse:0.103776\tvalidation_1-rmse:0.099224\n",
            "[28]\tvalidation_0-rmse:0.094028\tvalidation_1-rmse:0.089423\n",
            "[29]\tvalidation_0-rmse:0.085215\tvalidation_1-rmse:0.081042\n",
            "[30]\tvalidation_0-rmse:0.077276\tvalidation_1-rmse:0.073508\n",
            "[31]\tvalidation_0-rmse:0.070123\tvalidation_1-rmse:0.066725\n",
            "[32]\tvalidation_0-rmse:0.063673\tvalidation_1-rmse:0.060725\n",
            "[33]\tvalidation_0-rmse:0.057867\tvalidation_1-rmse:0.055065\n",
            "[34]\tvalidation_0-rmse:0.052639\tvalidation_1-rmse:0.050267\n",
            "[35]\tvalidation_0-rmse:0.047925\tvalidation_1-rmse:0.04608\n",
            "[36]\tvalidation_0-rmse:0.043669\tvalidation_1-rmse:0.042176\n",
            "[37]\tvalidation_0-rmse:0.039836\tvalidation_1-rmse:0.038784\n",
            "[38]\tvalidation_0-rmse:0.036379\tvalidation_1-rmse:0.035786\n",
            "[39]\tvalidation_0-rmse:0.033273\tvalidation_1-rmse:0.033062\n",
            "[40]\tvalidation_0-rmse:0.030479\tvalidation_1-rmse:0.030739\n",
            "[41]\tvalidation_0-rmse:0.027959\tvalidation_1-rmse:0.028666\n",
            "[42]\tvalidation_0-rmse:0.025691\tvalidation_1-rmse:0.026877\n",
            "[43]\tvalidation_0-rmse:0.023638\tvalidation_1-rmse:0.025278\n",
            "[44]\tvalidation_0-rmse:0.021789\tvalidation_1-rmse:0.023886\n",
            "[45]\tvalidation_0-rmse:0.020119\tvalidation_1-rmse:0.022665\n",
            "[46]\tvalidation_0-rmse:0.018619\tvalidation_1-rmse:0.021623\n",
            "[47]\tvalidation_0-rmse:0.017267\tvalidation_1-rmse:0.020713\n",
            "[48]\tvalidation_0-rmse:0.016057\tvalidation_1-rmse:0.019949\n",
            "[49]\tvalidation_0-rmse:0.014946\tvalidation_1-rmse:0.019146\n",
            "[50]\tvalidation_0-rmse:0.013973\tvalidation_1-rmse:0.018585\n",
            "[51]\tvalidation_0-rmse:0.013102\tvalidation_1-rmse:0.018129\n",
            "[52]\tvalidation_0-rmse:0.012325\tvalidation_1-rmse:0.017732\n",
            "[53]\tvalidation_0-rmse:0.011633\tvalidation_1-rmse:0.017416\n",
            "[54]\tvalidation_0-rmse:0.01102\tvalidation_1-rmse:0.01714\n",
            "[55]\tvalidation_0-rmse:0.010476\tvalidation_1-rmse:0.016927\n",
            "[56]\tvalidation_0-rmse:0.009955\tvalidation_1-rmse:0.016589\n",
            "[57]\tvalidation_0-rmse:0.009387\tvalidation_1-rmse:0.016249\n",
            "[58]\tvalidation_0-rmse:0.008997\tvalidation_1-rmse:0.016129\n",
            "[59]\tvalidation_0-rmse:0.008651\tvalidation_1-rmse:0.01605\n",
            "[60]\tvalidation_0-rmse:0.00824\tvalidation_1-rmse:0.015879\n",
            "[61]\tvalidation_0-rmse:0.007964\tvalidation_1-rmse:0.015819\n",
            "[62]\tvalidation_0-rmse:0.007723\tvalidation_1-rmse:0.015736\n",
            "[63]\tvalidation_0-rmse:0.007351\tvalidation_1-rmse:0.015569\n",
            "[64]\tvalidation_0-rmse:0.007086\tvalidation_1-rmse:0.015533\n",
            "[65]\tvalidation_0-rmse:0.00691\tvalidation_1-rmse:0.015518\n",
            "[66]\tvalidation_0-rmse:0.006754\tvalidation_1-rmse:0.015515\n",
            "[67]\tvalidation_0-rmse:0.006535\tvalidation_1-rmse:0.015527\n",
            "[68]\tvalidation_0-rmse:0.006409\tvalidation_1-rmse:0.015529\n",
            "[69]\tvalidation_0-rmse:0.006258\tvalidation_1-rmse:0.015454\n",
            "[70]\tvalidation_0-rmse:0.006103\tvalidation_1-rmse:0.015443\n",
            "[71]\tvalidation_0-rmse:0.006009\tvalidation_1-rmse:0.015447\n",
            "[72]\tvalidation_0-rmse:0.005821\tvalidation_1-rmse:0.015367\n",
            "[73]\tvalidation_0-rmse:0.005697\tvalidation_1-rmse:0.015362\n",
            "[74]\tvalidation_0-rmse:0.005626\tvalidation_1-rmse:0.015352\n",
            "[75]\tvalidation_0-rmse:0.00547\tvalidation_1-rmse:0.015315\n",
            "[76]\tvalidation_0-rmse:0.005362\tvalidation_1-rmse:0.015341\n",
            "[77]\tvalidation_0-rmse:0.005282\tvalidation_1-rmse:0.015288\n",
            "[78]\tvalidation_0-rmse:0.005172\tvalidation_1-rmse:0.015308\n",
            "[79]\tvalidation_0-rmse:0.005116\tvalidation_1-rmse:0.015331\n",
            "[80]\tvalidation_0-rmse:0.004944\tvalidation_1-rmse:0.015273\n",
            "[81]\tvalidation_0-rmse:0.004847\tvalidation_1-rmse:0.015256\n",
            "[82]\tvalidation_0-rmse:0.004728\tvalidation_1-rmse:0.015261\n",
            "[83]\tvalidation_0-rmse:0.004645\tvalidation_1-rmse:0.015232\n",
            "[84]\tvalidation_0-rmse:0.004585\tvalidation_1-rmse:0.015189\n",
            "[85]\tvalidation_0-rmse:0.00449\tvalidation_1-rmse:0.015208\n",
            "[86]\tvalidation_0-rmse:0.004414\tvalidation_1-rmse:0.015273\n",
            "[87]\tvalidation_0-rmse:0.004381\tvalidation_1-rmse:0.015285\n",
            "[88]\tvalidation_0-rmse:0.004345\tvalidation_1-rmse:0.015283\n",
            "[89]\tvalidation_0-rmse:0.004261\tvalidation_1-rmse:0.015305\n",
            "[90]\tvalidation_0-rmse:0.004205\tvalidation_1-rmse:0.015303\n",
            "[91]\tvalidation_0-rmse:0.004173\tvalidation_1-rmse:0.015304\n",
            "[92]\tvalidation_0-rmse:0.00411\tvalidation_1-rmse:0.015367\n",
            "[93]\tvalidation_0-rmse:0.004034\tvalidation_1-rmse:0.015388\n",
            "[94]\tvalidation_0-rmse:0.003988\tvalidation_1-rmse:0.015389\n",
            "[95]\tvalidation_0-rmse:0.003959\tvalidation_1-rmse:0.015388\n",
            "[96]\tvalidation_0-rmse:0.003892\tvalidation_1-rmse:0.015408\n",
            "[97]\tvalidation_0-rmse:0.003838\tvalidation_1-rmse:0.015467\n",
            "[98]\tvalidation_0-rmse:0.003782\tvalidation_1-rmse:0.015458\n",
            "[99]\tvalidation_0-rmse:0.003755\tvalidation_1-rmse:0.01546\n",
            "[100]\tvalidation_0-rmse:0.003716\tvalidation_1-rmse:0.015478\n",
            "[101]\tvalidation_0-rmse:0.003655\tvalidation_1-rmse:0.015499\n",
            "[102]\tvalidation_0-rmse:0.00356\tvalidation_1-rmse:0.015463\n",
            "[103]\tvalidation_0-rmse:0.003536\tvalidation_1-rmse:0.015462\n",
            "[104]\tvalidation_0-rmse:0.00349\tvalidation_1-rmse:0.015456\n",
            "[105]\tvalidation_0-rmse:0.003454\tvalidation_1-rmse:0.015459\n",
            "[106]\tvalidation_0-rmse:0.003435\tvalidation_1-rmse:0.015463\n",
            "[107]\tvalidation_0-rmse:0.003395\tvalidation_1-rmse:0.015459\n",
            "[108]\tvalidation_0-rmse:0.003357\tvalidation_1-rmse:0.015459\n",
            "[109]\tvalidation_0-rmse:0.003326\tvalidation_1-rmse:0.015476\n",
            "[110]\tvalidation_0-rmse:0.003291\tvalidation_1-rmse:0.015474\n",
            "[111]\tvalidation_0-rmse:0.003263\tvalidation_1-rmse:0.015455\n",
            "[112]\tvalidation_0-rmse:0.003223\tvalidation_1-rmse:0.015467\n",
            "[113]\tvalidation_0-rmse:0.003193\tvalidation_1-rmse:0.015471\n",
            "[114]\tvalidation_0-rmse:0.003148\tvalidation_1-rmse:0.015484\n",
            "[115]\tvalidation_0-rmse:0.003061\tvalidation_1-rmse:0.015496\n",
            "[116]\tvalidation_0-rmse:0.003027\tvalidation_1-rmse:0.015507\n",
            "[117]\tvalidation_0-rmse:0.00298\tvalidation_1-rmse:0.015486\n",
            "[118]\tvalidation_0-rmse:0.002954\tvalidation_1-rmse:0.01549\n",
            "[119]\tvalidation_0-rmse:0.002926\tvalidation_1-rmse:0.015488\n",
            "[120]\tvalidation_0-rmse:0.002897\tvalidation_1-rmse:0.015478\n",
            "[121]\tvalidation_0-rmse:0.002873\tvalidation_1-rmse:0.015493\n",
            "[122]\tvalidation_0-rmse:0.00285\tvalidation_1-rmse:0.015493\n",
            "[123]\tvalidation_0-rmse:0.00283\tvalidation_1-rmse:0.015485\n",
            "[124]\tvalidation_0-rmse:0.002805\tvalidation_1-rmse:0.015494\n",
            "[125]\tvalidation_0-rmse:0.002783\tvalidation_1-rmse:0.015497\n",
            "[126]\tvalidation_0-rmse:0.002761\tvalidation_1-rmse:0.015505\n",
            "[127]\tvalidation_0-rmse:0.002742\tvalidation_1-rmse:0.015504\n",
            "[128]\tvalidation_0-rmse:0.002693\tvalidation_1-rmse:0.015514\n",
            "[129]\tvalidation_0-rmse:0.002674\tvalidation_1-rmse:0.015513\n",
            "[130]\tvalidation_0-rmse:0.002652\tvalidation_1-rmse:0.015517\n",
            "[131]\tvalidation_0-rmse:0.002593\tvalidation_1-rmse:0.01551\n",
            "[132]\tvalidation_0-rmse:0.00253\tvalidation_1-rmse:0.015487\n",
            "[133]\tvalidation_0-rmse:0.002504\tvalidation_1-rmse:0.015488\n",
            "[134]\tvalidation_0-rmse:0.002463\tvalidation_1-rmse:0.015482\n",
            "Stopping. Best iteration:\n",
            "[84]\tvalidation_0-rmse:0.004585\tvalidation_1-rmse:0.015189\n",
            "\n"
          ],
          "name": "stdout"
        },
        {
          "output_type": "execute_result",
          "data": {
            "text/plain": [
              "XGBRegressor(base_score=0.5, booster='gbtree', colsample_bylevel=1,\n",
              "             colsample_bynode=1, colsample_bytree=1, gamma=0,\n",
              "             importance_type='gain', learning_rate=0.1, max_delta_step=0,\n",
              "             max_depth=3, min_child_weight=1, missing=None, n_estimators=2000,\n",
              "             n_jobs=-1, nthread=None, objective='reg:linear', random_state=0,\n",
              "             reg_alpha=0, reg_lambda=1, scale_pos_weight=1, seed=None,\n",
              "             silent=None, subsample=1, verbosity=1)"
            ]
          },
          "metadata": {
            "tags": []
          },
          "execution_count": 297
        }
      ]
    },
    {
      "cell_type": "code",
      "metadata": {
        "id": "Ge_9aP88A1Tc",
        "colab_type": "code",
        "colab": {}
      },
      "source": [
        "y_train_log.fillna(0,inplace=True)\n",
        "y_val_log.fillna(0,inplace=True)\n",
        "\n",
        "X_test.fillna(0,inplace=True)\n",
        "y_test.fillna(0,inplace=True)\n",
        "X_train.fillna(0,inplace=True)\n",
        "X_val.fillna(0,inplace=True)\n",
        "X_val_encoded.fillna(0,inplace=True)\n",
        "X_train_encoded.fillna(0,inplace=True)"
      ],
      "execution_count": 0,
      "outputs": []
    },
    {
      "cell_type": "code",
      "metadata": {
        "id": "dWmSwWr8Fx3y",
        "colab_type": "code",
        "colab": {
          "base_uri": "https://localhost:8080/",
          "height": 510
        },
        "outputId": "903a8e4f-c31e-4e5e-96e1-29f95d76868f"
      },
      "source": [
        "from scipy.stats import randint, uniform\n",
        "from sklearn.model_selection import RandomizedSearchCV\n",
        "from sklearn.ensemble import RandomForestRegressor\n",
        "\n",
        "pipeline = make_pipeline(\n",
        "    ce.OrdinalEncoder(),\n",
        "    RandomForestRegressor(random_state=42)\n",
        ")\n",
        "\n",
        "param_distributions = {\n",
        "    'randomforestregressor__n_estimators': randint(50, 500),\n",
        "    'randomforestregressor__max_features': uniform(),\n",
        "    'randomforestregressor__min_samples_leaf': [1, 10, 100]\n",
        "}\n",
        "\n",
        "search = RandomizedSearchCV(\n",
        "    pipeline,\n",
        "    param_distributions=param_distributions,\n",
        "    n_iter=5,\n",
        "    cv=2,\n",
        "    scoring='neg_mean_squared_error',\n",
        "    verbose=10,\n",
        "    return_train_score=True,\n",
        "    n_jobs=-1\n",
        ")\n",
        "\n",
        "search.fit(X_train, y_train_log)"
      ],
      "execution_count": 303,
      "outputs": [
        {
          "output_type": "stream",
          "text": [
            "Fitting 2 folds for each of 5 candidates, totalling 10 fits\n"
          ],
          "name": "stdout"
        },
        {
          "output_type": "stream",
          "text": [
            "[Parallel(n_jobs=-1)]: Using backend LokyBackend with 2 concurrent workers.\n",
            "[Parallel(n_jobs=-1)]: Done   1 tasks      | elapsed:    1.5s\n",
            "[Parallel(n_jobs=-1)]: Done   4 tasks      | elapsed:    1.7s\n",
            "[Parallel(n_jobs=-1)]: Done  10 out of  10 | elapsed:    2.5s finished\n"
          ],
          "name": "stderr"
        },
        {
          "output_type": "execute_result",
          "data": {
            "text/plain": [
              "RandomizedSearchCV(cv=2, error_score='raise-deprecating',\n",
              "                   estimator=Pipeline(memory=None,\n",
              "                                      steps=[('ordinalencoder',\n",
              "                                              OrdinalEncoder(cols=None,\n",
              "                                                             drop_invariant=False,\n",
              "                                                             handle_missing='value',\n",
              "                                                             handle_unknown='value',\n",
              "                                                             mapping=None,\n",
              "                                                             return_df=True,\n",
              "                                                             verbose=0)),\n",
              "                                             ('randomforestregressor',\n",
              "                                              RandomForestRegressor(bootstrap=True,\n",
              "                                                                    criterion='mse',\n",
              "                                                                    max_depth=None,\n",
              "                                                                    max_features=...\n",
              "                   param_distributions={'randomforestregressor__max_features': <scipy.stats._distn_infrastructure.rv_frozen object at 0x7f4d70189b38>,\n",
              "                                        'randomforestregressor__min_samples_leaf': [1,\n",
              "                                                                                    10,\n",
              "                                                                                    100],\n",
              "                                        'randomforestregressor__n_estimators': <scipy.stats._distn_infrastructure.rv_frozen object at 0x7f4d70189c50>},\n",
              "                   pre_dispatch='2*n_jobs', random_state=None, refit=True,\n",
              "                   return_train_score=True, scoring='neg_mean_squared_error',\n",
              "                   verbose=10)"
            ]
          },
          "metadata": {
            "tags": []
          },
          "execution_count": 303
        }
      ]
    },
    {
      "cell_type": "code",
      "metadata": {
        "id": "RvHzXiq7GPrK",
        "colab_type": "code",
        "colab": {
          "base_uri": "https://localhost:8080/",
          "height": 71
        },
        "outputId": "3cb597aa-81bd-4740-e1cb-ceceebfda3ca"
      },
      "source": [
        "print('Best hyperparameters', search.best_params_)\n",
        "print('Cross-validation RMSLE', np.sqrt(-search.best_score_))"
      ],
      "execution_count": 304,
      "outputs": [
        {
          "output_type": "stream",
          "text": [
            "Best hyperparameters {'randomforestregressor__max_features': 0.8980898169604131, 'randomforestregressor__min_samples_leaf': 1, 'randomforestregressor__n_estimators': 241}\n",
            "Cross-validation RMSLE 0.016446233168759563\n"
          ],
          "name": "stdout"
        }
      ]
    },
    {
      "cell_type": "code",
      "metadata": {
        "id": "uQcZa_KkFr-1",
        "colab_type": "code",
        "colab": {
          "base_uri": "https://localhost:8080/",
          "height": 306
        },
        "outputId": "0d12f04e-05db-4682-8c9d-5ed4138fc949"
      },
      "source": [
        "results_df = pd.DataFrame(search.cv_results_)\n",
        "results_df.head()"
      ],
      "execution_count": 305,
      "outputs": [
        {
          "output_type": "execute_result",
          "data": {
            "text/html": [
              "<div>\n",
              "<style scoped>\n",
              "    .dataframe tbody tr th:only-of-type {\n",
              "        vertical-align: middle;\n",
              "    }\n",
              "\n",
              "    .dataframe tbody tr th {\n",
              "        vertical-align: top;\n",
              "    }\n",
              "\n",
              "    .dataframe thead th {\n",
              "        text-align: right;\n",
              "    }\n",
              "</style>\n",
              "<table border=\"1\" class=\"dataframe\">\n",
              "  <thead>\n",
              "    <tr style=\"text-align: right;\">\n",
              "      <th></th>\n",
              "      <th>mean_fit_time</th>\n",
              "      <th>std_fit_time</th>\n",
              "      <th>mean_score_time</th>\n",
              "      <th>std_score_time</th>\n",
              "      <th>param_randomforestregressor__max_features</th>\n",
              "      <th>param_randomforestregressor__min_samples_leaf</th>\n",
              "      <th>param_randomforestregressor__n_estimators</th>\n",
              "      <th>params</th>\n",
              "      <th>split0_test_score</th>\n",
              "      <th>split1_test_score</th>\n",
              "      <th>mean_test_score</th>\n",
              "      <th>std_test_score</th>\n",
              "      <th>rank_test_score</th>\n",
              "      <th>split0_train_score</th>\n",
              "      <th>split1_train_score</th>\n",
              "      <th>mean_train_score</th>\n",
              "      <th>std_train_score</th>\n",
              "    </tr>\n",
              "  </thead>\n",
              "  <tbody>\n",
              "    <tr>\n",
              "      <th>0</th>\n",
              "      <td>0.185970</td>\n",
              "      <td>0.001153</td>\n",
              "      <td>0.020510</td>\n",
              "      <td>0.000101</td>\n",
              "      <td>0.89809</td>\n",
              "      <td>1</td>\n",
              "      <td>241</td>\n",
              "      <td>{'randomforestregressor__max_features': 0.8980...</td>\n",
              "      <td>-0.000337</td>\n",
              "      <td>-0.000204</td>\n",
              "      <td>-0.000270</td>\n",
              "      <td>0.000066</td>\n",
              "      <td>1</td>\n",
              "      <td>-0.000033</td>\n",
              "      <td>-0.000036</td>\n",
              "      <td>-0.000034</td>\n",
              "      <td>1.585700e-06</td>\n",
              "    </tr>\n",
              "    <tr>\n",
              "      <th>1</th>\n",
              "      <td>0.092028</td>\n",
              "      <td>0.000272</td>\n",
              "      <td>0.012537</td>\n",
              "      <td>0.000092</td>\n",
              "      <td>0.494158</td>\n",
              "      <td>1</td>\n",
              "      <td>113</td>\n",
              "      <td>{'randomforestregressor__max_features': 0.4941...</td>\n",
              "      <td>-0.000449</td>\n",
              "      <td>-0.000304</td>\n",
              "      <td>-0.000377</td>\n",
              "      <td>0.000073</td>\n",
              "      <td>2</td>\n",
              "      <td>-0.000056</td>\n",
              "      <td>-0.000061</td>\n",
              "      <td>-0.000058</td>\n",
              "      <td>2.442420e-06</td>\n",
              "    </tr>\n",
              "    <tr>\n",
              "      <th>2</th>\n",
              "      <td>0.274427</td>\n",
              "      <td>0.000772</td>\n",
              "      <td>0.028016</td>\n",
              "      <td>0.000335</td>\n",
              "      <td>0.377274</td>\n",
              "      <td>10</td>\n",
              "      <td>415</td>\n",
              "      <td>{'randomforestregressor__max_features': 0.3772...</td>\n",
              "      <td>-0.001152</td>\n",
              "      <td>-0.000985</td>\n",
              "      <td>-0.001069</td>\n",
              "      <td>0.000083</td>\n",
              "      <td>4</td>\n",
              "      <td>-0.000933</td>\n",
              "      <td>-0.001139</td>\n",
              "      <td>-0.001036</td>\n",
              "      <td>1.032155e-04</td>\n",
              "    </tr>\n",
              "    <tr>\n",
              "      <th>3</th>\n",
              "      <td>0.202213</td>\n",
              "      <td>0.000671</td>\n",
              "      <td>0.023823</td>\n",
              "      <td>0.001366</td>\n",
              "      <td>0.0318258</td>\n",
              "      <td>1</td>\n",
              "      <td>296</td>\n",
              "      <td>{'randomforestregressor__max_features': 0.0318...</td>\n",
              "      <td>-0.000788</td>\n",
              "      <td>-0.000577</td>\n",
              "      <td>-0.000683</td>\n",
              "      <td>0.000106</td>\n",
              "      <td>3</td>\n",
              "      <td>-0.000109</td>\n",
              "      <td>-0.000108</td>\n",
              "      <td>-0.000109</td>\n",
              "      <td>5.976898e-07</td>\n",
              "    </tr>\n",
              "    <tr>\n",
              "      <th>4</th>\n",
              "      <td>0.215766</td>\n",
              "      <td>0.003985</td>\n",
              "      <td>0.027961</td>\n",
              "      <td>0.000362</td>\n",
              "      <td>0.133837</td>\n",
              "      <td>100</td>\n",
              "      <td>179</td>\n",
              "      <td>{'randomforestregressor__max_features': 0.1338...</td>\n",
              "      <td>-0.001388</td>\n",
              "      <td>-0.001207</td>\n",
              "      <td>-0.001298</td>\n",
              "      <td>0.000090</td>\n",
              "      <td>5</td>\n",
              "      <td>-0.001192</td>\n",
              "      <td>-0.001371</td>\n",
              "      <td>-0.001281</td>\n",
              "      <td>8.946779e-05</td>\n",
              "    </tr>\n",
              "  </tbody>\n",
              "</table>\n",
              "</div>"
            ],
            "text/plain": [
              "   mean_fit_time  std_fit_time  ...  mean_train_score  std_train_score\n",
              "0       0.185970      0.001153  ...         -0.000034     1.585700e-06\n",
              "1       0.092028      0.000272  ...         -0.000058     2.442420e-06\n",
              "2       0.274427      0.000772  ...         -0.001036     1.032155e-04\n",
              "3       0.202213      0.000671  ...         -0.000109     5.976898e-07\n",
              "4       0.215766      0.003985  ...         -0.001281     8.946779e-05\n",
              "\n",
              "[5 rows x 17 columns]"
            ]
          },
          "metadata": {
            "tags": []
          },
          "execution_count": 305
        }
      ]
    },
    {
      "cell_type": "code",
      "metadata": {
        "id": "QLi8nX1vGWT4",
        "colab_type": "code",
        "colab": {
          "base_uri": "https://localhost:8080/",
          "height": 306
        },
        "outputId": "4da21506-b6ea-4e64-8c3b-66a94425ec78"
      },
      "source": [
        "results_df.sort_values(by='rank_test_score')"
      ],
      "execution_count": 306,
      "outputs": [
        {
          "output_type": "execute_result",
          "data": {
            "text/html": [
              "<div>\n",
              "<style scoped>\n",
              "    .dataframe tbody tr th:only-of-type {\n",
              "        vertical-align: middle;\n",
              "    }\n",
              "\n",
              "    .dataframe tbody tr th {\n",
              "        vertical-align: top;\n",
              "    }\n",
              "\n",
              "    .dataframe thead th {\n",
              "        text-align: right;\n",
              "    }\n",
              "</style>\n",
              "<table border=\"1\" class=\"dataframe\">\n",
              "  <thead>\n",
              "    <tr style=\"text-align: right;\">\n",
              "      <th></th>\n",
              "      <th>mean_fit_time</th>\n",
              "      <th>std_fit_time</th>\n",
              "      <th>mean_score_time</th>\n",
              "      <th>std_score_time</th>\n",
              "      <th>param_randomforestregressor__max_features</th>\n",
              "      <th>param_randomforestregressor__min_samples_leaf</th>\n",
              "      <th>param_randomforestregressor__n_estimators</th>\n",
              "      <th>params</th>\n",
              "      <th>split0_test_score</th>\n",
              "      <th>split1_test_score</th>\n",
              "      <th>mean_test_score</th>\n",
              "      <th>std_test_score</th>\n",
              "      <th>rank_test_score</th>\n",
              "      <th>split0_train_score</th>\n",
              "      <th>split1_train_score</th>\n",
              "      <th>mean_train_score</th>\n",
              "      <th>std_train_score</th>\n",
              "    </tr>\n",
              "  </thead>\n",
              "  <tbody>\n",
              "    <tr>\n",
              "      <th>0</th>\n",
              "      <td>0.185970</td>\n",
              "      <td>0.001153</td>\n",
              "      <td>0.020510</td>\n",
              "      <td>0.000101</td>\n",
              "      <td>0.89809</td>\n",
              "      <td>1</td>\n",
              "      <td>241</td>\n",
              "      <td>{'randomforestregressor__max_features': 0.8980...</td>\n",
              "      <td>-0.000337</td>\n",
              "      <td>-0.000204</td>\n",
              "      <td>-0.000270</td>\n",
              "      <td>0.000066</td>\n",
              "      <td>1</td>\n",
              "      <td>-0.000033</td>\n",
              "      <td>-0.000036</td>\n",
              "      <td>-0.000034</td>\n",
              "      <td>1.585700e-06</td>\n",
              "    </tr>\n",
              "    <tr>\n",
              "      <th>1</th>\n",
              "      <td>0.092028</td>\n",
              "      <td>0.000272</td>\n",
              "      <td>0.012537</td>\n",
              "      <td>0.000092</td>\n",
              "      <td>0.494158</td>\n",
              "      <td>1</td>\n",
              "      <td>113</td>\n",
              "      <td>{'randomforestregressor__max_features': 0.4941...</td>\n",
              "      <td>-0.000449</td>\n",
              "      <td>-0.000304</td>\n",
              "      <td>-0.000377</td>\n",
              "      <td>0.000073</td>\n",
              "      <td>2</td>\n",
              "      <td>-0.000056</td>\n",
              "      <td>-0.000061</td>\n",
              "      <td>-0.000058</td>\n",
              "      <td>2.442420e-06</td>\n",
              "    </tr>\n",
              "    <tr>\n",
              "      <th>3</th>\n",
              "      <td>0.202213</td>\n",
              "      <td>0.000671</td>\n",
              "      <td>0.023823</td>\n",
              "      <td>0.001366</td>\n",
              "      <td>0.0318258</td>\n",
              "      <td>1</td>\n",
              "      <td>296</td>\n",
              "      <td>{'randomforestregressor__max_features': 0.0318...</td>\n",
              "      <td>-0.000788</td>\n",
              "      <td>-0.000577</td>\n",
              "      <td>-0.000683</td>\n",
              "      <td>0.000106</td>\n",
              "      <td>3</td>\n",
              "      <td>-0.000109</td>\n",
              "      <td>-0.000108</td>\n",
              "      <td>-0.000109</td>\n",
              "      <td>5.976898e-07</td>\n",
              "    </tr>\n",
              "    <tr>\n",
              "      <th>2</th>\n",
              "      <td>0.274427</td>\n",
              "      <td>0.000772</td>\n",
              "      <td>0.028016</td>\n",
              "      <td>0.000335</td>\n",
              "      <td>0.377274</td>\n",
              "      <td>10</td>\n",
              "      <td>415</td>\n",
              "      <td>{'randomforestregressor__max_features': 0.3772...</td>\n",
              "      <td>-0.001152</td>\n",
              "      <td>-0.000985</td>\n",
              "      <td>-0.001069</td>\n",
              "      <td>0.000083</td>\n",
              "      <td>4</td>\n",
              "      <td>-0.000933</td>\n",
              "      <td>-0.001139</td>\n",
              "      <td>-0.001036</td>\n",
              "      <td>1.032155e-04</td>\n",
              "    </tr>\n",
              "    <tr>\n",
              "      <th>4</th>\n",
              "      <td>0.215766</td>\n",
              "      <td>0.003985</td>\n",
              "      <td>0.027961</td>\n",
              "      <td>0.000362</td>\n",
              "      <td>0.133837</td>\n",
              "      <td>100</td>\n",
              "      <td>179</td>\n",
              "      <td>{'randomforestregressor__max_features': 0.1338...</td>\n",
              "      <td>-0.001388</td>\n",
              "      <td>-0.001207</td>\n",
              "      <td>-0.001298</td>\n",
              "      <td>0.000090</td>\n",
              "      <td>5</td>\n",
              "      <td>-0.001192</td>\n",
              "      <td>-0.001371</td>\n",
              "      <td>-0.001281</td>\n",
              "      <td>8.946779e-05</td>\n",
              "    </tr>\n",
              "  </tbody>\n",
              "</table>\n",
              "</div>"
            ],
            "text/plain": [
              "   mean_fit_time  std_fit_time  ...  mean_train_score  std_train_score\n",
              "0       0.185970      0.001153  ...         -0.000034     1.585700e-06\n",
              "1       0.092028      0.000272  ...         -0.000058     2.442420e-06\n",
              "3       0.202213      0.000671  ...         -0.000109     5.976898e-07\n",
              "2       0.274427      0.000772  ...         -0.001036     1.032155e-04\n",
              "4       0.215766      0.003985  ...         -0.001281     8.946779e-05\n",
              "\n",
              "[5 rows x 17 columns]"
            ]
          },
          "metadata": {
            "tags": []
          },
          "execution_count": 306
        }
      ]
    },
    {
      "cell_type": "markdown",
      "metadata": {
        "id": "JGqeEpRmzpr1",
        "colab_type": "text"
      },
      "source": [
        "## 3. Plot model interpretation visualizations\n",
        "- Choose any one of these options:\n",
        "  - Permutation Importances plot\n",
        "  - Partial Dependency Plot, 1 feature isolation\n",
        "  - Partial Dependency Plot, 2 feature interaction\n",
        "  \n",
        "#### Stretch goals\n",
        "- Plot 2+ visualizations.\n",
        "- Use permutation importances for feature selection. "
      ]
    },
    {
      "cell_type": "code",
      "metadata": {
        "id": "ZeOJFJJZzpr1",
        "colab_type": "code",
        "colab": {
          "base_uri": "https://localhost:8080/",
          "height": 304
        },
        "outputId": "9d55281c-c157-48af-a416-66998f1eb364"
      },
      "source": [
        "import eli5\n",
        "from eli5.sklearn import PermutationImportance\n",
        "\n",
        "permuter = PermutationImportance(model, scoring='neg_mean_squared_error', \n",
        "                                 cv='prefit', n_iter=2, random_state=42)\n",
        "\n",
        "permuter.fit(X_val_encoded, y_val_log)\n",
        "feature_names = X_val_encoded.columns.tolist()\n",
        "eli5.show_weights(permuter, top=None, feature_names=feature_names)"
      ],
      "execution_count": 262,
      "outputs": [
        {
          "output_type": "execute_result",
          "data": {
            "text/html": [
              "\n",
              "    <style>\n",
              "    table.eli5-weights tr:hover {\n",
              "        filter: brightness(85%);\n",
              "    }\n",
              "</style>\n",
              "\n",
              "\n",
              "\n",
              "    \n",
              "\n",
              "    \n",
              "\n",
              "    \n",
              "\n",
              "    \n",
              "\n",
              "    \n",
              "\n",
              "    \n",
              "\n",
              "\n",
              "    \n",
              "\n",
              "    \n",
              "\n",
              "    \n",
              "\n",
              "    \n",
              "\n",
              "    \n",
              "\n",
              "    \n",
              "\n",
              "\n",
              "    \n",
              "\n",
              "    \n",
              "\n",
              "    \n",
              "\n",
              "    \n",
              "\n",
              "    \n",
              "        <table class=\"eli5-weights eli5-feature-importances\" style=\"border-collapse: collapse; border: none; margin-top: 0em; table-layout: auto;\">\n",
              "    <thead>\n",
              "    <tr style=\"border: none;\">\n",
              "        <th style=\"padding: 0 1em 0 0.5em; text-align: right; border: none;\">Weight</th>\n",
              "        <th style=\"padding: 0 0.5em 0 0.5em; text-align: left; border: none;\">Feature</th>\n",
              "    </tr>\n",
              "    </thead>\n",
              "    <tbody>\n",
              "    \n",
              "        <tr style=\"background-color: hsl(120, 100.00%, 80.00%); border: none;\">\n",
              "            <td style=\"padding: 0 1em 0 0.5em; text-align: right; border: none;\">\n",
              "                0.0014\n",
              "                \n",
              "                    &plusmn; 0.0001\n",
              "                \n",
              "            </td>\n",
              "            <td style=\"padding: 0 0.5em 0 0.5em; text-align: left; border: none;\">\n",
              "                Customers\n",
              "            </td>\n",
              "        </tr>\n",
              "    \n",
              "        <tr style=\"background-color: hsl(120, 100.00%, 99.04%); border: none;\">\n",
              "            <td style=\"padding: 0 1em 0 0.5em; text-align: right; border: none;\">\n",
              "                0.0000\n",
              "                \n",
              "                    &plusmn; 0.0000\n",
              "                \n",
              "            </td>\n",
              "            <td style=\"padding: 0 0.5em 0 0.5em; text-align: left; border: none;\">\n",
              "                Assortment\n",
              "            </td>\n",
              "        </tr>\n",
              "    \n",
              "        <tr style=\"background-color: hsl(120, 100.00%, 99.36%); border: none;\">\n",
              "            <td style=\"padding: 0 1em 0 0.5em; text-align: right; border: none;\">\n",
              "                0.0000\n",
              "                \n",
              "                    &plusmn; 0.0000\n",
              "                \n",
              "            </td>\n",
              "            <td style=\"padding: 0 0.5em 0 0.5em; text-align: left; border: none;\">\n",
              "                Store\n",
              "            </td>\n",
              "        </tr>\n",
              "    \n",
              "        <tr style=\"background-color: hsl(120, 100.00%, 99.70%); border: none;\">\n",
              "            <td style=\"padding: 0 1em 0 0.5em; text-align: right; border: none;\">\n",
              "                0.0000\n",
              "                \n",
              "                    &plusmn; 0.0000\n",
              "                \n",
              "            </td>\n",
              "            <td style=\"padding: 0 0.5em 0 0.5em; text-align: left; border: none;\">\n",
              "                StoreType\n",
              "            </td>\n",
              "        </tr>\n",
              "    \n",
              "        <tr style=\"background-color: hsl(120, 100.00%, 99.94%); border: none;\">\n",
              "            <td style=\"padding: 0 1em 0 0.5em; text-align: right; border: none;\">\n",
              "                0.0000\n",
              "                \n",
              "                    &plusmn; 0.0000\n",
              "                \n",
              "            </td>\n",
              "            <td style=\"padding: 0 0.5em 0 0.5em; text-align: left; border: none;\">\n",
              "                Promo2SinceWeek\n",
              "            </td>\n",
              "        </tr>\n",
              "    \n",
              "        <tr style=\"background-color: hsl(0, 100.00%, 100.00%); border: none;\">\n",
              "            <td style=\"padding: 0 1em 0 0.5em; text-align: right; border: none;\">\n",
              "                0\n",
              "                \n",
              "                    &plusmn; 0.0000\n",
              "                \n",
              "            </td>\n",
              "            <td style=\"padding: 0 0.5em 0 0.5em; text-align: left; border: none;\">\n",
              "                Day\n",
              "            </td>\n",
              "        </tr>\n",
              "    \n",
              "        <tr style=\"background-color: hsl(0, 100.00%, 100.00%); border: none;\">\n",
              "            <td style=\"padding: 0 1em 0 0.5em; text-align: right; border: none;\">\n",
              "                0\n",
              "                \n",
              "                    &plusmn; 0.0000\n",
              "                \n",
              "            </td>\n",
              "            <td style=\"padding: 0 0.5em 0 0.5em; text-align: left; border: none;\">\n",
              "                Month\n",
              "            </td>\n",
              "        </tr>\n",
              "    \n",
              "        <tr style=\"background-color: hsl(0, 100.00%, 100.00%); border: none;\">\n",
              "            <td style=\"padding: 0 1em 0 0.5em; text-align: right; border: none;\">\n",
              "                0\n",
              "                \n",
              "                    &plusmn; 0.0000\n",
              "                \n",
              "            </td>\n",
              "            <td style=\"padding: 0 0.5em 0 0.5em; text-align: left; border: none;\">\n",
              "                Year\n",
              "            </td>\n",
              "        </tr>\n",
              "    \n",
              "        <tr style=\"background-color: hsl(0, 100.00%, 100.00%); border: none;\">\n",
              "            <td style=\"padding: 0 1em 0 0.5em; text-align: right; border: none;\">\n",
              "                0\n",
              "                \n",
              "                    &plusmn; 0.0000\n",
              "                \n",
              "            </td>\n",
              "            <td style=\"padding: 0 0.5em 0 0.5em; text-align: left; border: none;\">\n",
              "                PromoInterval\n",
              "            </td>\n",
              "        </tr>\n",
              "    \n",
              "        <tr style=\"background-color: hsl(0, 100.00%, 100.00%); border: none;\">\n",
              "            <td style=\"padding: 0 1em 0 0.5em; text-align: right; border: none;\">\n",
              "                0\n",
              "                \n",
              "                    &plusmn; 0.0000\n",
              "                \n",
              "            </td>\n",
              "            <td style=\"padding: 0 0.5em 0 0.5em; text-align: left; border: none;\">\n",
              "                Promo2SinceYear\n",
              "            </td>\n",
              "        </tr>\n",
              "    \n",
              "        <tr style=\"background-color: hsl(0, 100.00%, 100.00%); border: none;\">\n",
              "            <td style=\"padding: 0 1em 0 0.5em; text-align: right; border: none;\">\n",
              "                0\n",
              "                \n",
              "                    &plusmn; 0.0000\n",
              "                \n",
              "            </td>\n",
              "            <td style=\"padding: 0 0.5em 0 0.5em; text-align: left; border: none;\">\n",
              "                Promo2\n",
              "            </td>\n",
              "        </tr>\n",
              "    \n",
              "        <tr style=\"background-color: hsl(0, 100.00%, 100.00%); border: none;\">\n",
              "            <td style=\"padding: 0 1em 0 0.5em; text-align: right; border: none;\">\n",
              "                0\n",
              "                \n",
              "                    &plusmn; 0.0000\n",
              "                \n",
              "            </td>\n",
              "            <td style=\"padding: 0 0.5em 0 0.5em; text-align: left; border: none;\">\n",
              "                Promo\n",
              "            </td>\n",
              "        </tr>\n",
              "    \n",
              "        <tr style=\"background-color: hsl(0, 100.00%, 100.00%); border: none;\">\n",
              "            <td style=\"padding: 0 1em 0 0.5em; text-align: right; border: none;\">\n",
              "                0\n",
              "                \n",
              "                    &plusmn; 0.0000\n",
              "                \n",
              "            </td>\n",
              "            <td style=\"padding: 0 0.5em 0 0.5em; text-align: left; border: none;\">\n",
              "                DayOfWeek\n",
              "            </td>\n",
              "        </tr>\n",
              "    \n",
              "        <tr style=\"background-color: hsl(0, 100.00%, 99.68%); border: none;\">\n",
              "            <td style=\"padding: 0 1em 0 0.5em; text-align: right; border: none;\">\n",
              "                -0.0000\n",
              "                \n",
              "                    &plusmn; 0.0000\n",
              "                \n",
              "            </td>\n",
              "            <td style=\"padding: 0 0.5em 0 0.5em; text-align: left; border: none;\">\n",
              "                CompetitionOpenSinceYear\n",
              "            </td>\n",
              "        </tr>\n",
              "    \n",
              "        <tr style=\"background-color: hsl(0, 100.00%, 99.59%); border: none;\">\n",
              "            <td style=\"padding: 0 1em 0 0.5em; text-align: right; border: none;\">\n",
              "                -0.0000\n",
              "                \n",
              "                    &plusmn; 0.0000\n",
              "                \n",
              "            </td>\n",
              "            <td style=\"padding: 0 0.5em 0 0.5em; text-align: left; border: none;\">\n",
              "                CompetitionOpenSinceMonth\n",
              "            </td>\n",
              "        </tr>\n",
              "    \n",
              "        <tr style=\"background-color: hsl(0, 100.00%, 99.55%); border: none;\">\n",
              "            <td style=\"padding: 0 1em 0 0.5em; text-align: right; border: none;\">\n",
              "                -0.0000\n",
              "                \n",
              "                    &plusmn; 0.0001\n",
              "                \n",
              "            </td>\n",
              "            <td style=\"padding: 0 0.5em 0 0.5em; text-align: left; border: none;\">\n",
              "                CompetitionDistance\n",
              "            </td>\n",
              "        </tr>\n",
              "    \n",
              "    \n",
              "    </tbody>\n",
              "</table>\n",
              "    \n",
              "\n",
              "    \n",
              "\n",
              "\n",
              "    \n",
              "\n",
              "    \n",
              "\n",
              "    \n",
              "\n",
              "    \n",
              "\n",
              "    \n",
              "\n",
              "    \n",
              "\n",
              "\n",
              "\n"
            ],
            "text/plain": [
              "<IPython.core.display.HTML object>"
            ]
          },
          "metadata": {
            "tags": []
          },
          "execution_count": 262
        }
      ]
    },
    {
      "cell_type": "code",
      "metadata": {
        "id": "CDMD4Mjj_amf",
        "colab_type": "code",
        "colab": {
          "base_uri": "https://localhost:8080/",
          "height": 34
        },
        "outputId": "e37c3b00-e809-4d0c-8cc1-fa4ad5d1aa8c"
      },
      "source": [
        "mask = permuter.feature_importances_ > 0.0#select columns where feature_importances_ is greater than 0\n",
        "features = X_train.columns[mask]\n",
        "X_train = X_train[features]\n",
        "print('Shape after removing features:', X_train.shape)\n",
        "X_val = X_val[features]"
      ],
      "execution_count": 263,
      "outputs": [
        {
          "output_type": "stream",
          "text": [
            "Shape after removing features: (60, 5)\n"
          ],
          "name": "stdout"
        }
      ]
    },
    {
      "cell_type": "code",
      "metadata": {
        "id": "pOinDL35CKV-",
        "colab_type": "code",
        "colab": {
          "base_uri": "https://localhost:8080/",
          "height": 602
        },
        "outputId": "a74065dd-1058-44b4-a170-beec057ec5fd"
      },
      "source": [
        "from pdpbox.pdp import pdp_isolate, pdp_plot\n",
        "\n",
        "feature = 'CompetitionDistance'\n",
        "\n",
        "isolated = pdp_isolate(\n",
        "    model=model, \n",
        "    dataset=X_val_encoded, \n",
        "    model_features=X_val_encoded.columns, \n",
        "    feature=feature\n",
        ")\n",
        "\n",
        "pdp_plot(isolated, feature_name=feature);"
      ],
      "execution_count": 266,
      "outputs": [
        {
          "output_type": "display_data",
          "data": {
            "image/png": "[encoded data removed]",
            "text/plain": [
              "<Figure size 1080x684 with 2 Axes>"
            ]
          },
          "metadata": {
            "tags": []
          }
        }
      ]
    },
    {
      "cell_type": "code",
      "metadata": {
        "id": "1iqOAvTdBveP",
        "colab_type": "code",
        "colab": {
          "base_uri": "https://localhost:8080/",
          "height": 585
        },
        "outputId": "62c7cb27-606d-407f-9984-fef3c1681547"
      },
      "source": [
        "from pdpbox.pdp import pdp_interact, pdp_interact_plot\n",
        "\n",
        "features = ['Customers', 'CompetitionDistance']\n",
        "\n",
        "interaction = pdp_interact(\n",
        "    model=model, \n",
        "    dataset=X_val_encoded, \n",
        "    model_features=X_val_encoded.columns, \n",
        "    features=features\n",
        ")\n",
        "\n",
        "pdp_interact_plot(interaction, plot_type='grid', feature_names=features);"
      ],
      "execution_count": 265,
      "outputs": [
        {
          "output_type": "display_data",
          "data": {
            "image/png": "[encoded data removed]",
            "text/plain": [
              "<Figure size 540x684 with 3 Axes>"
            ]
          },
          "metadata": {
            "tags": []
          }
        }
      ]
    },
    {
      "cell_type": "code",
      "metadata": {
        "id": "b-RW8AESB5PI",
        "colab_type": "code",
        "colab": {}
      },
      "source": [
        ""
      ],
      "execution_count": 0,
      "outputs": []
    }
  ]
}