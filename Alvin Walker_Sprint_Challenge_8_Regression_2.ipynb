{
  "nbformat": 4,
  "nbformat_minor": 0,
  "metadata": {
    "colab": {
      "name": "DS_Sprint_Challenge_8_Regression_2.ipynb",
      "version": "0.3.2",
      "provenance": [],
      "include_colab_link": true
    },
    "language_info": {
      "codemirror_mode": {
        "name": "ipython",
        "version": 3
      },
      "file_extension": ".py",
      "mimetype": "text/x-python",
      "name": "python",
      "nbconvert_exporter": "python",
      "pygments_lexer": "ipython3",
      "version": "3.7.1"
    },
    "kernelspec": {
      "display_name": "Python 3",
      "language": "python",
      "name": "python3"
    }
  },
  "cells": [
    {
      "cell_type": "markdown",
      "metadata": {
        "id": "view-in-github",
        "colab_type": "text"
      },
      "source": [
        "<a href=\"https://colab.research.google.com/github/alvinwalker314/DS-Unit-2-Regression-2/blob/master/Alvin%20Walker_Sprint_Challenge_8_Regression_2.ipynb\" target=\"_parent\"><img src=\"https://colab.research.google.com/assets/colab-badge.svg\" alt=\"Open In Colab\"/></a>"
      ]
    },
    {
      "cell_type": "markdown",
      "metadata": {
        "id": "rPh-uurrzprt",
        "colab_type": "text"
      },
      "source": [
        "_Lambda School Data Science, Unit 2_\n",
        " \n",
        "# Regression 2 Sprint Challenge: Predict drugstore sales 🏥\n",
        "\n",
        "For your Sprint Challenge, you'll use real-world sales data from a German drugstore chain, from Jan 2, 2013 — July 31, 2015.\n",
        "\n",
        "You are given three dataframes:\n",
        "\n",
        "- `train`: historical sales data for 100 stores\n",
        "- `test`: historical sales data for 100 different stores\n",
        "- `store`: supplemental information about the stores\n",
        "\n",
        "\n",
        "The train and test set do _not_ have different date ranges. But they _do_ have different store ids. Your task is _not_ to forecast future sales from past sales. **Your task is to predict sales at unknown stores, from sales at known stores.**"
      ]
    },
    {
      "cell_type": "code",
      "metadata": {
        "id": "alrIklCslHzG",
        "colab_type": "code",
        "colab": {}
      },
      "source": [
        "!pip install pdpbox"
      ],
      "execution_count": 0,
      "outputs": []
    },
    {
      "cell_type": "code",
      "metadata": {
        "id": "vfnT_bj5ojaz",
        "colab_type": "code",
        "colab": {}
      },
      "source": [
        "!pip install category_encoders"
      ],
      "execution_count": 0,
      "outputs": []
    },
    {
      "cell_type": "code",
      "metadata": {
        "id": "5upfQ-tL6sK6",
        "colab_type": "code",
        "colab": {}
      },
      "source": [
        "!pip install eli5"
      ],
      "execution_count": 0,
      "outputs": []
    },
    {
      "cell_type": "code",
      "metadata": {
        "id": "qbBX5IrakCk7",
        "colab_type": "code",
        "colab": {}
      },
      "source": [
        "import pandas as pd \n",
        "from xgboost import XGBRegressor\n",
        "from pdpbox.pdp import pdp_isolate, pdp_plot, pdp_interact, pdp_interact_plot\n",
        "from sklearn.pipeline import make_pipeline\n",
        "from sklearn.model_selection import train_test_split, cross_val_score, RandomizedSearchCV\n",
        "from sklearn.metrics import mean_squared_error, mean_squared_log_error, r2_score\n",
        "import numpy as np\n",
        "from scipy.stats import randint, uniform\n",
        "import category_encoders as ce\n",
        "from eli5.sklearn import PermutationImportance\n",
        "import eli5\n",
        "import seaborn as sns"
      ],
      "execution_count": 0,
      "outputs": []
    },
    {
      "cell_type": "code",
      "metadata": {
        "id": "jKOFk_6nzpru",
        "colab_type": "code",
        "colab": {}
      },
      "source": [
        "train = pd.read_csv('https://drive.google.com/uc?export=download&id=1E9rgiGf1f_WL2S4-V6gD7ZhB8r8Yb_lE')\n",
        "test = pd.read_csv('https://drive.google.com/uc?export=download&id=1vkaVptn4TTYC9-YPZvbvmfDNHVR8aUml')\n",
        "store = pd.read_csv('https://drive.google.com/uc?export=download&id=1rZD-V1mWydeytptQfr-NL7dBqre6lZMo')\n",
        "assert train.shape == (78400, 7)\n",
        "assert test.shape == (78400, 7)\n",
        "assert store.shape == (200, 10)"
      ],
      "execution_count": 0,
      "outputs": []
    },
    {
      "cell_type": "markdown",
      "metadata": {
        "id": "PrvIj4olzprv",
        "colab_type": "text"
      },
      "source": [
        "The dataframes have a variety of columns:\n",
        "\n",
        "- **Store** - a unique Id for each store\n",
        "- **DayOfWeek** - integer, 1-6\n",
        "- **Date** - the date, from Jan 2, 2013 — July 31, 2015.\n",
        "- **Sales** - the units of inventory sold on a given date (this is the target you are predicting)\n",
        "- **Customers** - the number of customers on a given date\n",
        "- **Promo** - indicates whether a store is running a promo on that day\n",
        "- **SchoolHoliday** - indicates the closure of public schools\n",
        "- **StoreType** - differentiates between 4 different store models: a, b, c, d\n",
        "- **Assortment** - describes an assortment level: a = basic, b = extra, c = extended\n",
        "- **CompetitionDistance** - distance in meters to the nearest competitor store\n",
        "- **CompetitionOpenSince[Month/Year]** - gives the approximate year and month of the time the nearest competitor was opened\n",
        "- **Promo2** - Promo2 is a continuing and consecutive promotion for some stores: 0 = store is not participating, 1 = store is participating\n",
        "- **Promo2Since[Year/Week]** - describes the year and calendar week when the store started participating in Promo2\n",
        "- **PromoInterval** - describes the consecutive intervals Promo2 is started, naming the months the promotion is started anew. E.g. \"Feb,May,Aug,Nov\" means each round starts in February, May, August, November of any given year for that store"
      ]
    },
    {
      "cell_type": "markdown",
      "metadata": {
        "id": "Txb785Qdzprw",
        "colab_type": "text"
      },
      "source": [
        "This Sprint Challenge has three parts. To demonstrate mastery on each part, do all the required instructions. To earn a score of \"3\" for the part, also do the stretch goals."
      ]
    },
    {
      "cell_type": "markdown",
      "metadata": {
        "id": "B9NV3COuzprw",
        "colab_type": "text"
      },
      "source": [
        "## 1. Wrangle relational data, Log-transform the target\n",
        "- Merge the `store` dataframe with the `train` and `test` dataframes. \n",
        "- Arrange the X matrix and y vector for the train and test sets.\n",
        "- Log-transform the target for the train and test set.\n",
        "- Plot the target's distribution for the train set, before and after the transformation.\n",
        "\n",
        "#### Stretch goals\n",
        "- Engineer 3+ more features."
      ]
    },
    {
      "cell_type": "code",
      "metadata": {
        "id": "Y09dXexkppmM",
        "colab_type": "code",
        "colab": {
          "base_uri": "https://localhost:8080/",
          "height": 195
        },
        "outputId": "3adf072f-cd27-477d-f790-77c1a1db9763"
      },
      "source": [
        "train.head()"
      ],
      "execution_count": 5,
      "outputs": [
        {
          "output_type": "execute_result",
          "data": {
            "text/html": [
              "<div>\n",
              "<style scoped>\n",
              "    .dataframe tbody tr th:only-of-type {\n",
              "        vertical-align: middle;\n",
              "    }\n",
              "\n",
              "    .dataframe tbody tr th {\n",
              "        vertical-align: top;\n",
              "    }\n",
              "\n",
              "    .dataframe thead th {\n",
              "        text-align: right;\n",
              "    }\n",
              "</style>\n",
              "<table border=\"1\" class=\"dataframe\">\n",
              "  <thead>\n",
              "    <tr style=\"text-align: right;\">\n",
              "      <th></th>\n",
              "      <th>Store</th>\n",
              "      <th>DayOfWeek</th>\n",
              "      <th>Date</th>\n",
              "      <th>Sales</th>\n",
              "      <th>Customers</th>\n",
              "      <th>Promo</th>\n",
              "      <th>SchoolHoliday</th>\n",
              "    </tr>\n",
              "  </thead>\n",
              "  <tbody>\n",
              "    <tr>\n",
              "      <th>0</th>\n",
              "      <td>4</td>\n",
              "      <td>5</td>\n",
              "      <td>2015-07-31</td>\n",
              "      <td>13995</td>\n",
              "      <td>1498</td>\n",
              "      <td>1</td>\n",
              "      <td>1</td>\n",
              "    </tr>\n",
              "    <tr>\n",
              "      <th>1</th>\n",
              "      <td>8</td>\n",
              "      <td>5</td>\n",
              "      <td>2015-07-31</td>\n",
              "      <td>8492</td>\n",
              "      <td>833</td>\n",
              "      <td>1</td>\n",
              "      <td>1</td>\n",
              "    </tr>\n",
              "    <tr>\n",
              "      <th>2</th>\n",
              "      <td>11</td>\n",
              "      <td>5</td>\n",
              "      <td>2015-07-31</td>\n",
              "      <td>10457</td>\n",
              "      <td>1236</td>\n",
              "      <td>1</td>\n",
              "      <td>1</td>\n",
              "    </tr>\n",
              "    <tr>\n",
              "      <th>3</th>\n",
              "      <td>12</td>\n",
              "      <td>5</td>\n",
              "      <td>2015-07-31</td>\n",
              "      <td>8959</td>\n",
              "      <td>962</td>\n",
              "      <td>1</td>\n",
              "      <td>1</td>\n",
              "    </tr>\n",
              "    <tr>\n",
              "      <th>4</th>\n",
              "      <td>34</td>\n",
              "      <td>5</td>\n",
              "      <td>2015-07-31</td>\n",
              "      <td>11144</td>\n",
              "      <td>1162</td>\n",
              "      <td>1</td>\n",
              "      <td>1</td>\n",
              "    </tr>\n",
              "  </tbody>\n",
              "</table>\n",
              "</div>"
            ],
            "text/plain": [
              "   Store  DayOfWeek        Date  Sales  Customers  Promo  SchoolHoliday\n",
              "0      4          5  2015-07-31  13995       1498      1              1\n",
              "1      8          5  2015-07-31   8492        833      1              1\n",
              "2     11          5  2015-07-31  10457       1236      1              1\n",
              "3     12          5  2015-07-31   8959        962      1              1\n",
              "4     34          5  2015-07-31  11144       1162      1              1"
            ]
          },
          "metadata": {
            "tags": []
          },
          "execution_count": 5
        }
      ]
    },
    {
      "cell_type": "code",
      "metadata": {
        "id": "gQjfDcDb81dB",
        "colab_type": "code",
        "colab": {
          "base_uri": "https://localhost:8080/",
          "height": 195
        },
        "outputId": "9dbde14a-376a-47c5-a367-a6d51d3209fe"
      },
      "source": [
        "store.head()"
      ],
      "execution_count": 6,
      "outputs": [
        {
          "output_type": "execute_result",
          "data": {
            "text/html": [
              "<div>\n",
              "<style scoped>\n",
              "    .dataframe tbody tr th:only-of-type {\n",
              "        vertical-align: middle;\n",
              "    }\n",
              "\n",
              "    .dataframe tbody tr th {\n",
              "        vertical-align: top;\n",
              "    }\n",
              "\n",
              "    .dataframe thead th {\n",
              "        text-align: right;\n",
              "    }\n",
              "</style>\n",
              "<table border=\"1\" class=\"dataframe\">\n",
              "  <thead>\n",
              "    <tr style=\"text-align: right;\">\n",
              "      <th></th>\n",
              "      <th>Store</th>\n",
              "      <th>StoreType</th>\n",
              "      <th>Assortment</th>\n",
              "      <th>CompetitionDistance</th>\n",
              "      <th>CompetitionOpenSinceMonth</th>\n",
              "      <th>CompetitionOpenSinceYear</th>\n",
              "      <th>Promo2</th>\n",
              "      <th>Promo2SinceWeek</th>\n",
              "      <th>Promo2SinceYear</th>\n",
              "      <th>PromoInterval</th>\n",
              "    </tr>\n",
              "  </thead>\n",
              "  <tbody>\n",
              "    <tr>\n",
              "      <th>0</th>\n",
              "      <td>4</td>\n",
              "      <td>c</td>\n",
              "      <td>c</td>\n",
              "      <td>620.0</td>\n",
              "      <td>9.0</td>\n",
              "      <td>2009.0</td>\n",
              "      <td>0</td>\n",
              "      <td>NaN</td>\n",
              "      <td>NaN</td>\n",
              "      <td>NaN</td>\n",
              "    </tr>\n",
              "    <tr>\n",
              "      <th>1</th>\n",
              "      <td>8</td>\n",
              "      <td>a</td>\n",
              "      <td>a</td>\n",
              "      <td>7520.0</td>\n",
              "      <td>10.0</td>\n",
              "      <td>2014.0</td>\n",
              "      <td>0</td>\n",
              "      <td>NaN</td>\n",
              "      <td>NaN</td>\n",
              "      <td>NaN</td>\n",
              "    </tr>\n",
              "    <tr>\n",
              "      <th>2</th>\n",
              "      <td>10</td>\n",
              "      <td>a</td>\n",
              "      <td>a</td>\n",
              "      <td>3160.0</td>\n",
              "      <td>9.0</td>\n",
              "      <td>2009.0</td>\n",
              "      <td>0</td>\n",
              "      <td>NaN</td>\n",
              "      <td>NaN</td>\n",
              "      <td>NaN</td>\n",
              "    </tr>\n",
              "    <tr>\n",
              "      <th>3</th>\n",
              "      <td>11</td>\n",
              "      <td>a</td>\n",
              "      <td>c</td>\n",
              "      <td>960.0</td>\n",
              "      <td>11.0</td>\n",
              "      <td>2011.0</td>\n",
              "      <td>1</td>\n",
              "      <td>1.0</td>\n",
              "      <td>2012.0</td>\n",
              "      <td>Jan,Apr,Jul,Oct</td>\n",
              "    </tr>\n",
              "    <tr>\n",
              "      <th>4</th>\n",
              "      <td>12</td>\n",
              "      <td>a</td>\n",
              "      <td>c</td>\n",
              "      <td>1070.0</td>\n",
              "      <td>NaN</td>\n",
              "      <td>NaN</td>\n",
              "      <td>1</td>\n",
              "      <td>13.0</td>\n",
              "      <td>2010.0</td>\n",
              "      <td>Jan,Apr,Jul,Oct</td>\n",
              "    </tr>\n",
              "  </tbody>\n",
              "</table>\n",
              "</div>"
            ],
            "text/plain": [
              "   Store StoreType  ... Promo2SinceYear    PromoInterval\n",
              "0      4         c  ...             NaN              NaN\n",
              "1      8         a  ...             NaN              NaN\n",
              "2     10         a  ...             NaN              NaN\n",
              "3     11         a  ...          2012.0  Jan,Apr,Jul,Oct\n",
              "4     12         a  ...          2010.0  Jan,Apr,Jul,Oct\n",
              "\n",
              "[5 rows x 10 columns]"
            ]
          },
          "metadata": {
            "tags": []
          },
          "execution_count": 6
        }
      ]
    },
    {
      "cell_type": "code",
      "metadata": {
        "id": "b7ZszVIH9E4X",
        "colab_type": "code",
        "colab": {
          "base_uri": "https://localhost:8080/",
          "height": 34
        },
        "outputId": "22be0e8e-d48f-4417-afcf-5dd846699d41"
      },
      "source": [
        "train.shape, test.shape, store.shape"
      ],
      "execution_count": 7,
      "outputs": [
        {
          "output_type": "execute_result",
          "data": {
            "text/plain": [
              "((78400, 7), (78400, 7), (200, 10))"
            ]
          },
          "metadata": {
            "tags": []
          },
          "execution_count": 7
        }
      ]
    },
    {
      "cell_type": "code",
      "metadata": {
        "id": "8RIphED8jKU3",
        "colab_type": "code",
        "colab": {}
      },
      "source": [
        "train_set= pd.merge(train, store)\n",
        "\n",
        "test_set= pd.merge(test, store)"
      ],
      "execution_count": 0,
      "outputs": []
    },
    {
      "cell_type": "code",
      "metadata": {
        "id": "nFofxV0_89RY",
        "colab_type": "code",
        "colab": {
          "base_uri": "https://localhost:8080/",
          "height": 34
        },
        "outputId": "f8ac9667-f9fa-42f4-ce6b-95c2a34bead0"
      },
      "source": [
        "train_set.shape, test_set.shape"
      ],
      "execution_count": 63,
      "outputs": [
        {
          "output_type": "execute_result",
          "data": {
            "text/plain": [
              "((78400, 16), (78400, 16))"
            ]
          },
          "metadata": {
            "tags": []
          },
          "execution_count": 63
        }
      ]
    },
    {
      "cell_type": "markdown",
      "metadata": {
        "id": "4b7uO6BdIsLn",
        "colab_type": "text"
      },
      "source": [
        "# Distribution before logging target"
      ]
    },
    {
      "cell_type": "code",
      "metadata": {
        "id": "gxfC-Md4ICQg",
        "colab_type": "code",
        "colab": {
          "base_uri": "https://localhost:8080/",
          "height": 283
        },
        "outputId": "0fe9ca70-aeba-4545-beec-a08c04178ca2"
      },
      "source": [
        "ax= sns.distplot(train_set['Sales'])"
      ],
      "execution_count": 66,
      "outputs": [
        {
          "output_type": "display_data",
          "data": {
            "image/png": "[encoded data removed]",
            "text/plain": [
              "<Figure size 432x288 with 1 Axes>"
            ]
          },
          "metadata": {
            "tags": []
          }
        }
      ]
    },
    {
      "cell_type": "code",
      "metadata": {
        "id": "WtKXZCLPIR96",
        "colab_type": "code",
        "colab": {}
      },
      "source": [
        "train_set['Sales']= np.log1p(train_set['Sales'])\n",
        "test_set['Sales']= np.log1p(test_set['Sales'])"
      ],
      "execution_count": 0,
      "outputs": []
    },
    {
      "cell_type": "markdown",
      "metadata": {
        "id": "rxMw8yUGIyZ3",
        "colab_type": "text"
      },
      "source": [
        "# Distribution after logging target"
      ]
    },
    {
      "cell_type": "code",
      "metadata": {
        "id": "TL-nnH2YIk8l",
        "colab_type": "code",
        "colab": {
          "base_uri": "https://localhost:8080/",
          "height": 283
        },
        "outputId": "210175c7-7a5b-4feb-db25-c5997be85993"
      },
      "source": [
        "ax= sns.distplot(train_set['Sales'])"
      ],
      "execution_count": 69,
      "outputs": [
        {
          "output_type": "display_data",
          "data": {
            "image/png": "[encoded data removed]",
            "text/plain": [
              "<Figure size 432x288 with 1 Axes>"
            ]
          },
          "metadata": {
            "tags": []
          }
        }
      ]
    },
    {
      "cell_type": "code",
      "metadata": {
        "id": "EK9b3jTQp2b1",
        "colab_type": "code",
        "colab": {}
      },
      "source": [
        "train_set=train_set.fillna(0)\n",
        "test_set= test_set.fillna(0)"
      ],
      "execution_count": 0,
      "outputs": []
    },
    {
      "cell_type": "code",
      "metadata": {
        "id": "DK2jJO2rletc",
        "colab_type": "code",
        "colab": {}
      },
      "source": [
        "stores= train_set['Store'].unique()"
      ],
      "execution_count": 0,
      "outputs": []
    },
    {
      "cell_type": "code",
      "metadata": {
        "id": "Bb6Tl4k2mGBP",
        "colab_type": "code",
        "colab": {}
      },
      "source": [
        "train_stores, val_stores= train_test_split(stores, train_size=0.8, test_size= 0.2)"
      ],
      "execution_count": 0,
      "outputs": []
    },
    {
      "cell_type": "code",
      "metadata": {
        "id": "hRuHKDu-9KUz",
        "colab_type": "code",
        "colab": {
          "base_uri": "https://localhost:8080/",
          "height": 34
        },
        "outputId": "be4b199b-b36e-44b2-ada6-2753236cba16"
      },
      "source": [
        "train_stores.shape, val_stores.shape"
      ],
      "execution_count": 13,
      "outputs": [
        {
          "output_type": "execute_result",
          "data": {
            "text/plain": [
              "((80,), (20,))"
            ]
          },
          "metadata": {
            "tags": []
          },
          "execution_count": 13
        }
      ]
    },
    {
      "cell_type": "code",
      "metadata": {
        "id": "hszTqhcVmTSJ",
        "colab_type": "code",
        "colab": {}
      },
      "source": [
        "train= train_set[train_set['Store'].isin(train_stores)]\n",
        "\n",
        "val= train_set[train_set['Store'].isin(val_stores)]"
      ],
      "execution_count": 0,
      "outputs": []
    },
    {
      "cell_type": "code",
      "metadata": {
        "id": "YLF8Nj6nmw8B",
        "colab_type": "code",
        "colab": {
          "base_uri": "https://localhost:8080/",
          "height": 34
        },
        "outputId": "ae1142de-1750-49b4-dab5-c837e02491b0"
      },
      "source": [
        "train.shape, val.shape"
      ],
      "execution_count": 15,
      "outputs": [
        {
          "output_type": "execute_result",
          "data": {
            "text/plain": [
              "((62720, 16), (15680, 16))"
            ]
          },
          "metadata": {
            "tags": []
          },
          "execution_count": 15
        }
      ]
    },
    {
      "cell_type": "code",
      "metadata": {
        "id": "E5h-ARCDno0N",
        "colab_type": "code",
        "colab": {}
      },
      "source": [
        "target= 'Sales'\n",
        "\n",
        "train_target= train[target]\n",
        "train_features= train.drop(columns=['Store', 'Sales'])\n",
        "\n",
        "val_target= val[target]\n",
        "val_features= val.drop(columns=['Store', 'Sales'])"
      ],
      "execution_count": 0,
      "outputs": []
    },
    {
      "cell_type": "code",
      "metadata": {
        "id": "TQEl98DU9PIE",
        "colab_type": "code",
        "colab": {
          "base_uri": "https://localhost:8080/",
          "height": 34
        },
        "outputId": "c8da8f70-175d-4390-a25f-fdded345007f"
      },
      "source": [
        "train_features.shape, train_target.shape, val_features.shape, val_target.shape"
      ],
      "execution_count": 17,
      "outputs": [
        {
          "output_type": "execute_result",
          "data": {
            "text/plain": [
              "((62720, 14), (62720,), (15680, 14), (15680,))"
            ]
          },
          "metadata": {
            "tags": []
          },
          "execution_count": 17
        }
      ]
    },
    {
      "cell_type": "code",
      "metadata": {
        "id": "eNwZU3qFpD71",
        "colab_type": "code",
        "colab": {}
      },
      "source": [
        "test_target= test_set[target]\n",
        "\n",
        "test_features= test_set.drop(columns=['Store', 'Sales'])"
      ],
      "execution_count": 0,
      "outputs": []
    },
    {
      "cell_type": "code",
      "metadata": {
        "id": "cwfKfP5R9ee9",
        "colab_type": "code",
        "colab": {
          "base_uri": "https://localhost:8080/",
          "height": 34
        },
        "outputId": "830c90a0-1015-4f4d-c84d-b1e53328574f"
      },
      "source": [
        "test_features.shape, test_target.shape"
      ],
      "execution_count": 19,
      "outputs": [
        {
          "output_type": "execute_result",
          "data": {
            "text/plain": [
              "((78400, 14), (78400,))"
            ]
          },
          "metadata": {
            "tags": []
          },
          "execution_count": 19
        }
      ]
    },
    {
      "cell_type": "markdown",
      "metadata": {
        "id": "xiljXNuKzprz",
        "colab_type": "text"
      },
      "source": [
        "## 2. Fit and validate your model\n",
        "- **Use Gradient Boosting** or any type of regression model.\n",
        "- **Beat the baseline:** The estimated baseline Root Mean Squared Logarithmic Error is 0.90, if we guessed the mean sales for every prediction. Remember that RMSE with the log-transformed target is equivalent to RMSLE with the original target. Try to get your error below 0.20.\n",
        "- **To validate your model, choose any one of these options:**\n",
        "  - Split the train dataframe into train and validation sets. Put all dates for a given store into the same set. Use xgboost `early_stopping_rounds` with the validation set. \n",
        "  - Or, use scikit-learn `cross_val_score`. Put all dates for a given store into the same fold.\n",
        "  - Or, use scikit-learn `RandomizedSearchCV` for hyperparameter optimization. Put all dates for a given store into the same fold.\n",
        "- **Get the Validation Error** (multiple times if you try multiple iterations) **and Test Error** (one time, at the end).\n",
        "  \n",
        "#### Stretch goal\n",
        "- Optimize 3+ hyperparameters by searching 10+ \"candidates\" (possible combinations of hyperparameters). "
      ]
    },
    {
      "cell_type": "markdown",
      "metadata": {
        "id": "g3Pjw-JT_H_3",
        "colab_type": "text"
      },
      "source": [
        "# Model before hyperparameter optimization and feature reduction"
      ]
    },
    {
      "cell_type": "code",
      "metadata": {
        "id": "AvDWjtfmotnp",
        "colab_type": "code",
        "colab": {}
      },
      "source": [
        "encoder= ce.OrdinalEncoder()\n",
        "\n",
        "train_encoded= encoder.fit_transform(train_features)\n",
        "\n",
        "val_encoded= encoder.transform(val_features)\n",
        "\n",
        "test_encoded= encoder.transform(test_features)"
      ],
      "execution_count": 0,
      "outputs": []
    },
    {
      "cell_type": "code",
      "metadata": {
        "id": "xO4qENYM9ic4",
        "colab_type": "code",
        "colab": {
          "base_uri": "https://localhost:8080/",
          "height": 34
        },
        "outputId": "c6bcf65d-cd32-429f-a882-96dd27ec3d04"
      },
      "source": [
        "train_encoded.shape, val_encoded.shape, test_encoded.shape"
      ],
      "execution_count": 21,
      "outputs": [
        {
          "output_type": "execute_result",
          "data": {
            "text/plain": [
              "((62720, 14), (15680, 14), (78400, 14))"
            ]
          },
          "metadata": {
            "tags": []
          },
          "execution_count": 21
        }
      ]
    },
    {
      "cell_type": "code",
      "metadata": {
        "id": "WWNccxI5zprz",
        "colab_type": "code",
        "colab": {}
      },
      "source": [
        "model= XGBRegressor(num_estimators=1000, random_state=42, n_jobs=-1)"
      ],
      "execution_count": 0,
      "outputs": []
    },
    {
      "cell_type": "code",
      "metadata": {
        "id": "4ht-DyY6njEW",
        "colab_type": "code",
        "colab": {
          "base_uri": "https://localhost:8080/",
          "height": 175
        },
        "outputId": "f29284b0-e92c-4809-da3e-ec327da6f8a2"
      },
      "source": [
        "model.fit(train_encoded, train_target)"
      ],
      "execution_count": 33,
      "outputs": [
        {
          "output_type": "stream",
          "text": [
            "[17:41:45] WARNING: /workspace/src/objective/regression_obj.cu:152: reg:linear is now deprecated in favor of reg:squarederror.\n"
          ],
          "name": "stdout"
        },
        {
          "output_type": "execute_result",
          "data": {
            "text/plain": [
              "XGBRegressor(base_score=0.5, booster='gbtree', colsample_bylevel=1,\n",
              "             colsample_bynode=1, colsample_bytree=1, gamma=0,\n",
              "             importance_type='gain', learning_rate=0.1, max_delta_step=0,\n",
              "             max_depth=3, min_child_weight=1, missing=None, n_estimators=100,\n",
              "             n_jobs=-1, nthread=None, num_estimators=1000,\n",
              "             objective='reg:linear', random_state=42, reg_alpha=0, reg_lambda=1,\n",
              "             scale_pos_weight=1, seed=None, silent=None, subsample=1,\n",
              "             verbosity=1)"
            ]
          },
          "metadata": {
            "tags": []
          },
          "execution_count": 33
        }
      ]
    },
    {
      "cell_type": "code",
      "metadata": {
        "id": "UkngD8hyq3-P",
        "colab_type": "code",
        "colab": {}
      },
      "source": [
        "val_pred= model.predict(val_encoded)"
      ],
      "execution_count": 0,
      "outputs": []
    },
    {
      "cell_type": "code",
      "metadata": {
        "id": "v4Iwf4lgrqHu",
        "colab_type": "code",
        "colab": {
          "base_uri": "https://localhost:8080/",
          "height": 34
        },
        "outputId": "a8f5a73a-e4db-459f-afdd-cc905cae121c"
      },
      "source": [
        "val_features.shape, val_target.shape, val_pred.shape"
      ],
      "execution_count": 35,
      "outputs": [
        {
          "output_type": "execute_result",
          "data": {
            "text/plain": [
              "((15680, 14), (15680,), (15680,))"
            ]
          },
          "metadata": {
            "tags": []
          },
          "execution_count": 35
        }
      ]
    },
    {
      "cell_type": "code",
      "metadata": {
        "id": "lNQUbMNNrNm9",
        "colab_type": "code",
        "colab": {
          "base_uri": "https://localhost:8080/",
          "height": 52
        },
        "outputId": "815b2ee6-46f4-4f2c-e3ee-0b4a2e0507d1"
      },
      "source": [
        "rsmle= np.sqrt(mean_squared_error(val_target, val_pred))\n",
        "\n",
        "r_squared= r2_score(val_target, val_pred)\n",
        "\n",
        "print(f'RMSLE: {rsmle}\\nR2 score:{r_squared}')"
      ],
      "execution_count": 36,
      "outputs": [
        {
          "output_type": "stream",
          "text": [
            "RMSLE: 0.18326244119648497\n",
            "R2 score:0.7694980162058731\n"
          ],
          "name": "stdout"
        }
      ]
    },
    {
      "cell_type": "code",
      "metadata": {
        "id": "gdoBUjnIvBZd",
        "colab_type": "code",
        "colab": {
          "base_uri": "https://localhost:8080/",
          "height": 386
        },
        "outputId": "7f56b44f-fd31-4db7-85be-66afe246de70"
      },
      "source": [
        "param_distributions = {\n",
        "    'XGBRegressor__n_estimators': randint(100, 1000),\n",
        "    'XGBRegressor__booster': ['gbtree', 'gblinear', 'dart'],\n",
        "    'XGBRegressor__max_depth': randint(3, 10)\n",
        "}\n",
        "\n",
        "search = RandomizedSearchCV(\n",
        "    model,\n",
        "    param_distributions=param_distributions,\n",
        "    n_iter=3,\n",
        "    cv=3,\n",
        "    scoring='neg_mean_squared_error',\n",
        "    return_train_score=True,\n",
        "    n_jobs=-1\n",
        ")\n",
        "\n",
        "groups= train_encoded['Date']\n",
        "search.fit(train_encoded, train_target , groups=groups)"
      ],
      "execution_count": 37,
      "outputs": [
        {
          "output_type": "stream",
          "text": [
            "[17:42:18] WARNING: /workspace/src/objective/regression_obj.cu:152: reg:linear is now deprecated in favor of reg:squarederror.\n"
          ],
          "name": "stdout"
        },
        {
          "output_type": "execute_result",
          "data": {
            "text/plain": [
              "RandomizedSearchCV(cv=3, error_score='raise-deprecating',\n",
              "                   estimator=XGBRegressor(base_score=0.5, booster='gbtree',\n",
              "                                          colsample_bylevel=1,\n",
              "                                          colsample_bynode=1,\n",
              "                                          colsample_bytree=1, gamma=0,\n",
              "                                          importance_type='gain',\n",
              "                                          learning_rate=0.1, max_delta_step=0,\n",
              "                                          max_depth=3, min_child_weight=1,\n",
              "                                          missing=None, n_estimators=100,\n",
              "                                          n_jobs=-1, nthread=None,\n",
              "                                          num_estimators=1000,\n",
              "                                          objective='...\n",
              "                   param_distributions={'XGBRegressor__booster': ['gbtree',\n",
              "                                                                  'gblinear',\n",
              "                                                                  'dart'],\n",
              "                                        'XGBRegressor__max_depth': <scipy.stats._distn_infrastructure.rv_frozen object at 0x7f4026e7a6d8>,\n",
              "                                        'XGBRegressor__n_estimators': <scipy.stats._distn_infrastructure.rv_frozen object at 0x7f4026e7a518>},\n",
              "                   pre_dispatch='2*n_jobs', random_state=None, refit=True,\n",
              "                   return_train_score=True, scoring='neg_mean_squared_error',\n",
              "                   verbose=0)"
            ]
          },
          "metadata": {
            "tags": []
          },
          "execution_count": 37
        }
      ]
    },
    {
      "cell_type": "code",
      "metadata": {
        "id": "KQqcMiA6xAjj",
        "colab_type": "code",
        "colab": {
          "base_uri": "https://localhost:8080/",
          "height": 52
        },
        "outputId": "2a9afffd-2009-472a-929e-f17d9d860a16"
      },
      "source": [
        "print('Best hyperparameters', search.best_params_)\n",
        "print('Cross-validation RMSLE', np.sqrt(-search.best_score_))"
      ],
      "execution_count": 38,
      "outputs": [
        {
          "output_type": "stream",
          "text": [
            "Best hyperparameters {'XGBRegressor__booster': 'dart', 'XGBRegressor__max_depth': 6, 'XGBRegressor__n_estimators': 187}\n",
            "Cross-validation RMSLE 0.15298606625442807\n"
          ],
          "name": "stdout"
        }
      ]
    },
    {
      "cell_type": "markdown",
      "metadata": {
        "id": "qonTSJdSAoq6",
        "colab_type": "text"
      },
      "source": [
        "# Model After Hyper parameter optimization "
      ]
    },
    {
      "cell_type": "code",
      "metadata": {
        "id": "cBX56e7kxOmg",
        "colab_type": "code",
        "colab": {}
      },
      "source": [
        "model= XGBRegressor(booster= 'dart', max_depth= 6, n_estimators= 187, random_state= 42)"
      ],
      "execution_count": 0,
      "outputs": []
    },
    {
      "cell_type": "code",
      "metadata": {
        "id": "EsM1-VR0xY7A",
        "colab_type": "code",
        "colab": {
          "base_uri": "https://localhost:8080/",
          "height": 158
        },
        "outputId": "86f2304f-d867-4af9-8cb2-b9807cf3c73d"
      },
      "source": [
        "model.fit(train_encoded, train_target)"
      ],
      "execution_count": 40,
      "outputs": [
        {
          "output_type": "stream",
          "text": [
            "[17:42:44] WARNING: /workspace/src/objective/regression_obj.cu:152: reg:linear is now deprecated in favor of reg:squarederror.\n"
          ],
          "name": "stdout"
        },
        {
          "output_type": "execute_result",
          "data": {
            "text/plain": [
              "XGBRegressor(base_score=0.5, booster='dart', colsample_bylevel=1,\n",
              "             colsample_bynode=1, colsample_bytree=1, gamma=0,\n",
              "             importance_type='gain', learning_rate=0.1, max_delta_step=0,\n",
              "             max_depth=6, min_child_weight=1, missing=None, n_estimators=187,\n",
              "             n_jobs=1, nthread=None, objective='reg:linear', random_state=42,\n",
              "             reg_alpha=0, reg_lambda=1, scale_pos_weight=1, seed=None,\n",
              "             silent=None, subsample=1, verbosity=1)"
            ]
          },
          "metadata": {
            "tags": []
          },
          "execution_count": 40
        }
      ]
    },
    {
      "cell_type": "code",
      "metadata": {
        "id": "lxXvbaEaxdR8",
        "colab_type": "code",
        "colab": {}
      },
      "source": [
        "val_pred= model.predict(val_encoded)"
      ],
      "execution_count": 0,
      "outputs": []
    },
    {
      "cell_type": "code",
      "metadata": {
        "id": "e6v_xmyExgJf",
        "colab_type": "code",
        "colab": {
          "base_uri": "https://localhost:8080/",
          "height": 52
        },
        "outputId": "0ee3edd1-c69b-465e-f673-302a4346e526"
      },
      "source": [
        "rsmle= np.sqrt(mean_squared_error(val_target, val_pred))\n",
        "\n",
        "r_squared= r2_score(val_target, val_pred)\n",
        "\n",
        "print(f'RMSLE: {rsmle}\\nR2 score:{r_squared}')"
      ],
      "execution_count": 42,
      "outputs": [
        {
          "output_type": "stream",
          "text": [
            "RMSLE: 0.1732343379786498\n",
            "R2 score:0.7940339244347796\n"
          ],
          "name": "stdout"
        }
      ]
    },
    {
      "cell_type": "markdown",
      "metadata": {
        "id": "JGqeEpRmzpr1",
        "colab_type": "text"
      },
      "source": [
        "## 3. Plot model interpretation visualizations\n",
        "- Choose any one of these options:\n",
        "  - Permutation Importances plot\n",
        "  - Partial Dependency Plot, 1 feature isolation\n",
        "  - Partial Dependency Plot, 2 feature interaction\n",
        "  \n",
        "#### Stretch goals\n",
        "- Plot 2+ visualizations.\n",
        "- Use permutation importances for feature selection. "
      ]
    },
    {
      "cell_type": "code",
      "metadata": {
        "id": "r4Sldt4y6yLe",
        "colab_type": "code",
        "colab": {
          "base_uri": "https://localhost:8080/",
          "height": 334
        },
        "outputId": "d4c3683f-2d7c-4a04-b4e2-0bd2c5031fb0"
      },
      "source": [
        "permuter = PermutationImportance(model, scoring='neg_mean_squared_error', \n",
        "                                 cv='prefit', n_iter=6, random_state=42)\n",
        "\n",
        "permuter.fit(val_encoded, val_target)"
      ],
      "execution_count": 43,
      "outputs": [
        {
          "output_type": "execute_result",
          "data": {
            "text/plain": [
              "PermutationImportance(cv='prefit',\n",
              "                      estimator=XGBRegressor(base_score=0.5, booster='dart',\n",
              "                                             colsample_bylevel=1,\n",
              "                                             colsample_bynode=1,\n",
              "                                             colsample_bytree=1, gamma=0,\n",
              "                                             importance_type='gain',\n",
              "                                             learning_rate=0.1,\n",
              "                                             max_delta_step=0, max_depth=6,\n",
              "                                             min_child_weight=1, missing=None,\n",
              "                                             n_estimators=187, n_jobs=1,\n",
              "                                             nthread=None,\n",
              "                                             objective='reg:linear',\n",
              "                                             random_state=42, reg_alpha=0,\n",
              "                                             reg_lambda=1, scale_pos_weight=1,\n",
              "                                             seed=None, silent=None,\n",
              "                                             subsample=1, verbosity=1),\n",
              "                      n_iter=6, random_state=42, refit=True,\n",
              "                      scoring='neg_mean_squared_error')"
            ]
          },
          "metadata": {
            "tags": []
          },
          "execution_count": 43
        }
      ]
    },
    {
      "cell_type": "code",
      "metadata": {
        "id": "3LnJiuty78Vq",
        "colab_type": "code",
        "colab": {
          "base_uri": "https://localhost:8080/",
          "height": 269
        },
        "outputId": "af2add17-4c39-4488-d0cf-c39b7790253f"
      },
      "source": [
        "feature_names = val_encoded.columns.tolist()\n",
        "eli5.show_weights(permuter, top=None, feature_names=feature_names)"
      ],
      "execution_count": 44,
      "outputs": [
        {
          "output_type": "execute_result",
          "data": {
            "text/html": [
              "\n",
              "    <style>\n",
              "    table.eli5-weights tr:hover {\n",
              "        filter: brightness(85%);\n",
              "    }\n",
              "</style>\n",
              "\n",
              "\n",
              "\n",
              "    \n",
              "\n",
              "    \n",
              "\n",
              "    \n",
              "\n",
              "    \n",
              "\n",
              "    \n",
              "\n",
              "    \n",
              "\n",
              "\n",
              "    \n",
              "\n",
              "    \n",
              "\n",
              "    \n",
              "\n",
              "    \n",
              "\n",
              "    \n",
              "\n",
              "    \n",
              "\n",
              "\n",
              "    \n",
              "\n",
              "    \n",
              "\n",
              "    \n",
              "\n",
              "    \n",
              "\n",
              "    \n",
              "        <table class=\"eli5-weights eli5-feature-importances\" style=\"border-collapse: collapse; border: none; margin-top: 0em; table-layout: auto;\">\n",
              "    <thead>\n",
              "    <tr style=\"border: none;\">\n",
              "        <th style=\"padding: 0 1em 0 0.5em; text-align: right; border: none;\">Weight</th>\n",
              "        <th style=\"padding: 0 0.5em 0 0.5em; text-align: left; border: none;\">Feature</th>\n",
              "    </tr>\n",
              "    </thead>\n",
              "    <tbody>\n",
              "    \n",
              "        <tr style=\"background-color: hsl(120, 100.00%, 80.00%); border: none;\">\n",
              "            <td style=\"padding: 0 1em 0 0.5em; text-align: right; border: none;\">\n",
              "                0.2577\n",
              "                \n",
              "                    &plusmn; 0.0048\n",
              "                \n",
              "            </td>\n",
              "            <td style=\"padding: 0 0.5em 0 0.5em; text-align: left; border: none;\">\n",
              "                Customers\n",
              "            </td>\n",
              "        </tr>\n",
              "    \n",
              "        <tr style=\"background-color: hsl(120, 100.00%, 97.19%); border: none;\">\n",
              "            <td style=\"padding: 0 1em 0 0.5em; text-align: right; border: none;\">\n",
              "                0.0156\n",
              "                \n",
              "                    &plusmn; 0.0004\n",
              "                \n",
              "            </td>\n",
              "            <td style=\"padding: 0 0.5em 0 0.5em; text-align: left; border: none;\">\n",
              "                CompetitionDistance\n",
              "            </td>\n",
              "        </tr>\n",
              "    \n",
              "        <tr style=\"background-color: hsl(120, 100.00%, 98.13%); border: none;\">\n",
              "            <td style=\"padding: 0 1em 0 0.5em; text-align: right; border: none;\">\n",
              "                0.0087\n",
              "                \n",
              "                    &plusmn; 0.0005\n",
              "                \n",
              "            </td>\n",
              "            <td style=\"padding: 0 0.5em 0 0.5em; text-align: left; border: none;\">\n",
              "                Promo\n",
              "            </td>\n",
              "        </tr>\n",
              "    \n",
              "        <tr style=\"background-color: hsl(120, 100.00%, 98.71%); border: none;\">\n",
              "            <td style=\"padding: 0 1em 0 0.5em; text-align: right; border: none;\">\n",
              "                0.0051\n",
              "                \n",
              "                    &plusmn; 0.0003\n",
              "                \n",
              "            </td>\n",
              "            <td style=\"padding: 0 0.5em 0 0.5em; text-align: left; border: none;\">\n",
              "                StoreType\n",
              "            </td>\n",
              "        </tr>\n",
              "    \n",
              "        <tr style=\"background-color: hsl(120, 100.00%, 99.23%); border: none;\">\n",
              "            <td style=\"padding: 0 1em 0 0.5em; text-align: right; border: none;\">\n",
              "                0.0025\n",
              "                \n",
              "                    &plusmn; 0.0001\n",
              "                \n",
              "            </td>\n",
              "            <td style=\"padding: 0 0.5em 0 0.5em; text-align: left; border: none;\">\n",
              "                Date\n",
              "            </td>\n",
              "        </tr>\n",
              "    \n",
              "        <tr style=\"background-color: hsl(120, 100.00%, 99.46%); border: none;\">\n",
              "            <td style=\"padding: 0 1em 0 0.5em; text-align: right; border: none;\">\n",
              "                0.0015\n",
              "                \n",
              "                    &plusmn; 0.0001\n",
              "                \n",
              "            </td>\n",
              "            <td style=\"padding: 0 0.5em 0 0.5em; text-align: left; border: none;\">\n",
              "                DayOfWeek\n",
              "            </td>\n",
              "        </tr>\n",
              "    \n",
              "        <tr style=\"background-color: hsl(120, 100.00%, 99.75%); border: none;\">\n",
              "            <td style=\"padding: 0 1em 0 0.5em; text-align: right; border: none;\">\n",
              "                0.0005\n",
              "                \n",
              "                    &plusmn; 0.0001\n",
              "                \n",
              "            </td>\n",
              "            <td style=\"padding: 0 0.5em 0 0.5em; text-align: left; border: none;\">\n",
              "                CompetitionOpenSinceMonth\n",
              "            </td>\n",
              "        </tr>\n",
              "    \n",
              "        <tr style=\"background-color: hsl(120, 100.00%, 99.81%); border: none;\">\n",
              "            <td style=\"padding: 0 1em 0 0.5em; text-align: right; border: none;\">\n",
              "                0.0003\n",
              "                \n",
              "                    &plusmn; 0.0000\n",
              "                \n",
              "            </td>\n",
              "            <td style=\"padding: 0 0.5em 0 0.5em; text-align: left; border: none;\">\n",
              "                Promo2SinceYear\n",
              "            </td>\n",
              "        </tr>\n",
              "    \n",
              "        <tr style=\"background-color: hsl(120, 100.00%, 99.82%); border: none;\">\n",
              "            <td style=\"padding: 0 1em 0 0.5em; text-align: right; border: none;\">\n",
              "                0.0003\n",
              "                \n",
              "                    &plusmn; 0.0001\n",
              "                \n",
              "            </td>\n",
              "            <td style=\"padding: 0 0.5em 0 0.5em; text-align: left; border: none;\">\n",
              "                Assortment\n",
              "            </td>\n",
              "        </tr>\n",
              "    \n",
              "        <tr style=\"background-color: hsl(120, 100.00%, 99.86%); border: none;\">\n",
              "            <td style=\"padding: 0 1em 0 0.5em; text-align: right; border: none;\">\n",
              "                0.0002\n",
              "                \n",
              "                    &plusmn; 0.0000\n",
              "                \n",
              "            </td>\n",
              "            <td style=\"padding: 0 0.5em 0 0.5em; text-align: left; border: none;\">\n",
              "                SchoolHoliday\n",
              "            </td>\n",
              "        </tr>\n",
              "    \n",
              "        <tr style=\"background-color: hsl(0, 100.00%, 99.77%); border: none;\">\n",
              "            <td style=\"padding: 0 1em 0 0.5em; text-align: right; border: none;\">\n",
              "                -0.0004\n",
              "                \n",
              "                    &plusmn; 0.0000\n",
              "                \n",
              "            </td>\n",
              "            <td style=\"padding: 0 0.5em 0 0.5em; text-align: left; border: none;\">\n",
              "                Promo2\n",
              "            </td>\n",
              "        </tr>\n",
              "    \n",
              "        <tr style=\"background-color: hsl(0, 100.00%, 99.77%); border: none;\">\n",
              "            <td style=\"padding: 0 1em 0 0.5em; text-align: right; border: none;\">\n",
              "                -0.0004\n",
              "                \n",
              "                    &plusmn; 0.0001\n",
              "                \n",
              "            </td>\n",
              "            <td style=\"padding: 0 0.5em 0 0.5em; text-align: left; border: none;\">\n",
              "                PromoInterval\n",
              "            </td>\n",
              "        </tr>\n",
              "    \n",
              "        <tr style=\"background-color: hsl(0, 100.00%, 99.44%); border: none;\">\n",
              "            <td style=\"padding: 0 1em 0 0.5em; text-align: right; border: none;\">\n",
              "                -0.0016\n",
              "                \n",
              "                    &plusmn; 0.0001\n",
              "                \n",
              "            </td>\n",
              "            <td style=\"padding: 0 0.5em 0 0.5em; text-align: left; border: none;\">\n",
              "                Promo2SinceWeek\n",
              "            </td>\n",
              "        </tr>\n",
              "    \n",
              "        <tr style=\"background-color: hsl(0, 100.00%, 99.26%); border: none;\">\n",
              "            <td style=\"padding: 0 1em 0 0.5em; text-align: right; border: none;\">\n",
              "                -0.0023\n",
              "                \n",
              "                    &plusmn; 0.0001\n",
              "                \n",
              "            </td>\n",
              "            <td style=\"padding: 0 0.5em 0 0.5em; text-align: left; border: none;\">\n",
              "                CompetitionOpenSinceYear\n",
              "            </td>\n",
              "        </tr>\n",
              "    \n",
              "    \n",
              "    </tbody>\n",
              "</table>\n",
              "    \n",
              "\n",
              "    \n",
              "\n",
              "\n",
              "    \n",
              "\n",
              "    \n",
              "\n",
              "    \n",
              "\n",
              "    \n",
              "\n",
              "    \n",
              "\n",
              "    \n",
              "\n",
              "\n",
              "\n"
            ],
            "text/plain": [
              "<IPython.core.display.HTML object>"
            ]
          },
          "metadata": {
            "tags": []
          },
          "execution_count": 44
        }
      ]
    },
    {
      "cell_type": "code",
      "metadata": {
        "id": "_J2CqewC-DSd",
        "colab_type": "code",
        "colab": {
          "base_uri": "https://localhost:8080/",
          "height": 34
        },
        "outputId": "afc94a85-0b2a-4e8a-e414-4f56944f07b4"
      },
      "source": [
        "train_encoded.shape, val_encoded.shape, test_encoded.shape"
      ],
      "execution_count": 45,
      "outputs": [
        {
          "output_type": "execute_result",
          "data": {
            "text/plain": [
              "((62720, 14), (15680, 14), (78400, 14))"
            ]
          },
          "metadata": {
            "tags": []
          },
          "execution_count": 45
        }
      ]
    },
    {
      "cell_type": "code",
      "metadata": {
        "id": "ZeOJFJJZzpr1",
        "colab_type": "code",
        "colab": {}
      },
      "source": [
        "locator = permuter.feature_importances_ > 0\n",
        "features = train_encoded.columns[locator]\n",
        "\n",
        "train_encoded = train_encoded[features]\n",
        "val_encoded = val_encoded[features]\n",
        "test_encoded= test_encoded[features]\n"
      ],
      "execution_count": 0,
      "outputs": []
    },
    {
      "cell_type": "code",
      "metadata": {
        "id": "RCyJJbyr8cQ3",
        "colab_type": "code",
        "colab": {
          "base_uri": "https://localhost:8080/",
          "height": 34
        },
        "outputId": "e569cdc9-6cb1-4e37-e6d6-c206a4b16f22"
      },
      "source": [
        "train_encoded.shape, val_encoded.shape, test_encoded.shape"
      ],
      "execution_count": 47,
      "outputs": [
        {
          "output_type": "execute_result",
          "data": {
            "text/plain": [
              "((62720, 10), (15680, 10), (78400, 10))"
            ]
          },
          "metadata": {
            "tags": []
          },
          "execution_count": 47
        }
      ]
    },
    {
      "cell_type": "markdown",
      "metadata": {
        "id": "rWEMiByYBZAo",
        "colab_type": "text"
      },
      "source": [
        "# Model After feature selection"
      ]
    },
    {
      "cell_type": "code",
      "metadata": {
        "id": "GCqGNp6BBTHY",
        "colab_type": "code",
        "colab": {}
      },
      "source": [
        "model= XGBRegressor(n_estimators=1000, random_state=42)"
      ],
      "execution_count": 0,
      "outputs": []
    },
    {
      "cell_type": "code",
      "metadata": {
        "id": "O9LGtRw3BeYQ",
        "colab_type": "code",
        "colab": {
          "base_uri": "https://localhost:8080/",
          "height": 158
        },
        "outputId": "8b0c19f7-ba35-4775-a4df-5e44e4d8e047"
      },
      "source": [
        "model.fit(train_encoded, train_target)"
      ],
      "execution_count": 49,
      "outputs": [
        {
          "output_type": "stream",
          "text": [
            "[17:44:55] WARNING: /workspace/src/objective/regression_obj.cu:152: reg:linear is now deprecated in favor of reg:squarederror.\n"
          ],
          "name": "stdout"
        },
        {
          "output_type": "execute_result",
          "data": {
            "text/plain": [
              "XGBRegressor(base_score=0.5, booster='gbtree', colsample_bylevel=1,\n",
              "             colsample_bynode=1, colsample_bytree=1, gamma=0,\n",
              "             importance_type='gain', learning_rate=0.1, max_delta_step=0,\n",
              "             max_depth=3, min_child_weight=1, missing=None, n_estimators=1000,\n",
              "             n_jobs=1, nthread=None, objective='reg:linear', random_state=42,\n",
              "             reg_alpha=0, reg_lambda=1, scale_pos_weight=1, seed=None,\n",
              "             silent=None, subsample=1, verbosity=1)"
            ]
          },
          "metadata": {
            "tags": []
          },
          "execution_count": 49
        }
      ]
    },
    {
      "cell_type": "code",
      "metadata": {
        "id": "ySz3jvoABh8i",
        "colab_type": "code",
        "colab": {}
      },
      "source": [
        "val_pred= model.predict(val_encoded)"
      ],
      "execution_count": 0,
      "outputs": []
    },
    {
      "cell_type": "code",
      "metadata": {
        "id": "1TCuZRIqBnJp",
        "colab_type": "code",
        "colab": {
          "base_uri": "https://localhost:8080/",
          "height": 52
        },
        "outputId": "be845385-97db-4f02-a8b8-a1483431595d"
      },
      "source": [
        "rsmle= np.sqrt(mean_squared_error(val_target, val_pred))\n",
        "\n",
        "r_squared= r2_score(val_target, val_pred)\n",
        "\n",
        "print(f'RMSLE: {rsmle}\\nR2 score:{r_squared}')"
      ],
      "execution_count": 51,
      "outputs": [
        {
          "output_type": "stream",
          "text": [
            "RMSLE: 0.16329211834847815\n",
            "R2 score:0.8169970128378483\n"
          ],
          "name": "stdout"
        }
      ]
    },
    {
      "cell_type": "markdown",
      "metadata": {
        "id": "DxTeMgZLBwhF",
        "colab_type": "text"
      },
      "source": [
        "# Model After Hyper parameter optimization and feature selection"
      ]
    },
    {
      "cell_type": "code",
      "metadata": {
        "id": "TMzJOfx3B6IW",
        "colab_type": "code",
        "colab": {}
      },
      "source": [
        "model= XGBRegressor(booster= 'dart', max_depth= 6, n_estimators= 187, random_state= 42)"
      ],
      "execution_count": 0,
      "outputs": []
    },
    {
      "cell_type": "code",
      "metadata": {
        "id": "heXU-DxnCEG0",
        "colab_type": "code",
        "colab": {
          "base_uri": "https://localhost:8080/",
          "height": 158
        },
        "outputId": "eb316dc2-161f-4326-8fc4-95f7039c8e4e"
      },
      "source": [
        "model.fit(train_encoded, train_target)"
      ],
      "execution_count": 55,
      "outputs": [
        {
          "output_type": "stream",
          "text": [
            "[17:48:48] WARNING: /workspace/src/objective/regression_obj.cu:152: reg:linear is now deprecated in favor of reg:squarederror.\n"
          ],
          "name": "stdout"
        },
        {
          "output_type": "execute_result",
          "data": {
            "text/plain": [
              "XGBRegressor(base_score=0.5, booster='dart', colsample_bylevel=1,\n",
              "             colsample_bynode=1, colsample_bytree=1, gamma=0,\n",
              "             importance_type='gain', learning_rate=0.1, max_delta_step=0,\n",
              "             max_depth=6, min_child_weight=1, missing=None, n_estimators=187,\n",
              "             n_jobs=1, nthread=None, objective='reg:linear', random_state=42,\n",
              "             reg_alpha=0, reg_lambda=1, scale_pos_weight=1, seed=None,\n",
              "             silent=None, subsample=1, verbosity=1)"
            ]
          },
          "metadata": {
            "tags": []
          },
          "execution_count": 55
        }
      ]
    },
    {
      "cell_type": "code",
      "metadata": {
        "id": "CYUkSCPOCK8E",
        "colab_type": "code",
        "colab": {}
      },
      "source": [
        "val_pred= model.predict(val_encoded)"
      ],
      "execution_count": 0,
      "outputs": []
    },
    {
      "cell_type": "code",
      "metadata": {
        "id": "fqelICCRCutU",
        "colab_type": "code",
        "colab": {
          "base_uri": "https://localhost:8080/",
          "height": 52
        },
        "outputId": "e1a7bd4a-1c1f-4e19-a710-7a571031b74c"
      },
      "source": [
        "rsmle= np.sqrt(mean_squared_error(val_target, val_pred))\n",
        "\n",
        "r_squared= r2_score(val_target, val_pred)\n",
        "\n",
        "print(f'RMSLE: {rsmle}\\nR2 score:{r_squared}')"
      ],
      "execution_count": 57,
      "outputs": [
        {
          "output_type": "stream",
          "text": [
            "RMSLE: 0.16679163539970332\n",
            "R2 score:0.8090690793838342\n"
          ],
          "name": "stdout"
        }
      ]
    },
    {
      "cell_type": "code",
      "metadata": {
        "id": "v2MYITmrDS07",
        "colab_type": "code",
        "colab": {}
      },
      "source": [
        "test_pred= model.predict(test_encoded)"
      ],
      "execution_count": 0,
      "outputs": []
    },
    {
      "cell_type": "code",
      "metadata": {
        "id": "jG493OIlDI0j",
        "colab_type": "code",
        "colab": {
          "base_uri": "https://localhost:8080/",
          "height": 52
        },
        "outputId": "932976f8-3baa-45a2-ddae-2b32580d86a7"
      },
      "source": [
        "rsmle= np.sqrt(mean_squared_error(test_target, test_pred))\n",
        "\n",
        "r_squared= r2_score(test_target, test_pred)\n",
        "\n",
        "print(f'RMSLE: {rsmle}\\nR2 score:{r_squared}')"
      ],
      "execution_count": 59,
      "outputs": [
        {
          "output_type": "stream",
          "text": [
            "RMSLE: 0.15038749656023245\n",
            "R2 score:0.8537338287991256\n"
          ],
          "name": "stdout"
        }
      ]
    }
  ]
}